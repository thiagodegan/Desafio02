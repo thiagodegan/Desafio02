{
 "cells": [
  {
   "cell_type": "markdown",
   "metadata": {
    "colab_type": "text",
    "id": "ER4CvxvT6TFT"
   },
   "source": [
    "# Notebook para usarmos no Desafio 2!\n"
   ]
  },
  {
   "cell_type": "markdown",
   "metadata": {
    "colab_type": "text",
    "id": "fuXN2T_qloQn"
   },
   "source": [
    "Podemos começar a trabalhar de vez daqui para baixo. Segue a definição dos datasets:\n",
    "\n",
    "In this competition, you’ll gain access to two similar datasets that include passenger information like name, age, gender, socio-economic class, etc. One dataset is titled `train.csv` and the other is titled `test.csv`.\n",
    "\n",
    "Train.csv will contain the details of a subset of the passengers on board (891 to be exact) and importantly, will reveal whether they survived or not, also known as the “ground truth”.\n",
    "\n",
    "The `test.csv` dataset contains similar information but does not disclose the “ground truth” for each passenger. It’s your job to predict these outcomes.\n",
    "\n",
    "Using the patterns you find in the train.csv data, predict whether the other 418 passengers on board (found in test.csv) survived. **bold text**"
   ]
  },
  {
   "cell_type": "markdown",
   "metadata": {
    "colab_type": "text",
    "id": "c74vH-ladcAU"
   },
   "source": [
    "## Importação de Bibliotecas e Banco de dados"
   ]
  },
  {
   "cell_type": "code",
   "execution_count": 1,
   "metadata": {},
   "outputs": [],
   "source": [
    "#! pip install pyjanitor\n",
    "#! pip install plotly_express\n",
    "#! pip install imblearn"
   ]
  },
  {
   "cell_type": "code",
   "execution_count": 2,
   "metadata": {},
   "outputs": [],
   "source": [
    "import janitor\n",
    "import pandas as pd\n",
    "import pandas_profiling as prf\n",
    "import matplotlib.pyplot as plt\n",
    "import plotly_express as px\n",
    "import numpy as np\n",
    "import statsmodels.api as sm\n",
    "import statsmodels.formula.api as smf\n",
    "import seaborn as sns\n",
    "import scipy\n",
    "from scipy import stats\n",
    "import seaborn as sns\n",
    "import statsmodels\n",
    "import statsmodels.stats.api as sms\n",
    "from sklearn.model_selection import train_test_split\n",
    "import math \n",
    "from sklearn.metrics import accuracy_score, precision_score, recall_score,confusion_matrix, precision_recall_curve\n",
    "from imblearn.over_sampling import SMOTE\n",
    "from sklearn import preprocessing\n",
    "from sklearn.linear_model import LogisticRegression\n",
    "\n",
    "le = preprocessing.LabelBinarizer()\n",
    "pd.set_option('display.max_columns', None)  \n",
    "\n",
    "##Alterando alguns valores do Matplot\n",
    "params = {'legend.fontsize': 'x-large',\n",
    "          'figure.figsize': (20, 8),\n",
    "          'axes.labelsize': 'x-large',\n",
    "          'axes.titlesize':'x-large',\n",
    "          'xtick.labelsize':'x-large',\n",
    "          'ytick.labelsize':'x-large'}\n",
    "\n",
    "%matplotlib inline\n",
    "plt.rcParams.update(params)"
   ]
  },
  {
   "cell_type": "code",
   "execution_count": 3,
   "metadata": {},
   "outputs": [
    {
     "data": {
      "text/html": "<div>\n<style scoped>\n    .dataframe tbody tr th:only-of-type {\n        vertical-align: middle;\n    }\n\n    .dataframe tbody tr th {\n        vertical-align: top;\n    }\n\n    .dataframe thead th {\n        text-align: right;\n    }\n</style>\n<table border=\"1\" class=\"dataframe\">\n  <thead>\n    <tr style=\"text-align: right;\">\n      <th></th>\n      <th>PassengerId</th>\n      <th>Survived</th>\n      <th>Pclass</th>\n      <th>Name</th>\n      <th>Sex</th>\n      <th>Age</th>\n      <th>SibSp</th>\n      <th>Parch</th>\n      <th>Ticket</th>\n      <th>Fare</th>\n      <th>Cabin</th>\n      <th>Embarked</th>\n    </tr>\n  </thead>\n  <tbody>\n    <tr>\n      <th>0</th>\n      <td>1</td>\n      <td>0</td>\n      <td>3</td>\n      <td>Braund, Mr. Owen Harris</td>\n      <td>male</td>\n      <td>22.0</td>\n      <td>1</td>\n      <td>0</td>\n      <td>A/5 21171</td>\n      <td>7.2500</td>\n      <td>NaN</td>\n      <td>S</td>\n    </tr>\n    <tr>\n      <th>1</th>\n      <td>2</td>\n      <td>1</td>\n      <td>1</td>\n      <td>Cumings, Mrs. John Bradley (Florence Briggs Th...</td>\n      <td>female</td>\n      <td>38.0</td>\n      <td>1</td>\n      <td>0</td>\n      <td>PC 17599</td>\n      <td>71.2833</td>\n      <td>C85</td>\n      <td>C</td>\n    </tr>\n    <tr>\n      <th>2</th>\n      <td>3</td>\n      <td>1</td>\n      <td>3</td>\n      <td>Heikkinen, Miss. Laina</td>\n      <td>female</td>\n      <td>26.0</td>\n      <td>0</td>\n      <td>0</td>\n      <td>STON/O2. 3101282</td>\n      <td>7.9250</td>\n      <td>NaN</td>\n      <td>S</td>\n    </tr>\n    <tr>\n      <th>3</th>\n      <td>4</td>\n      <td>1</td>\n      <td>1</td>\n      <td>Futrelle, Mrs. Jacques Heath (Lily May Peel)</td>\n      <td>female</td>\n      <td>35.0</td>\n      <td>1</td>\n      <td>0</td>\n      <td>113803</td>\n      <td>53.1000</td>\n      <td>C123</td>\n      <td>S</td>\n    </tr>\n    <tr>\n      <th>4</th>\n      <td>5</td>\n      <td>0</td>\n      <td>3</td>\n      <td>Allen, Mr. William Henry</td>\n      <td>male</td>\n      <td>35.0</td>\n      <td>0</td>\n      <td>0</td>\n      <td>373450</td>\n      <td>8.0500</td>\n      <td>NaN</td>\n      <td>S</td>\n    </tr>\n  </tbody>\n</table>\n</div>",
      "text/plain": "   PassengerId  Survived  Pclass  \\\n0            1         0       3   \n1            2         1       1   \n2            3         1       3   \n3            4         1       1   \n4            5         0       3   \n\n                                                Name     Sex   Age  SibSp  \\\n0                            Braund, Mr. Owen Harris    male  22.0      1   \n1  Cumings, Mrs. John Bradley (Florence Briggs Th...  female  38.0      1   \n2                             Heikkinen, Miss. Laina  female  26.0      0   \n3       Futrelle, Mrs. Jacques Heath (Lily May Peel)  female  35.0      1   \n4                           Allen, Mr. William Henry    male  35.0      0   \n\n   Parch            Ticket     Fare Cabin Embarked  \n0      0         A/5 21171   7.2500   NaN        S  \n1      0          PC 17599  71.2833   C85        C  \n2      0  STON/O2. 3101282   7.9250   NaN        S  \n3      0            113803  53.1000  C123        S  \n4      0            373450   8.0500   NaN        S  "
     },
     "execution_count": 3,
     "metadata": {},
     "output_type": "execute_result"
    }
   ],
   "source": [
    "df = pd.read_csv(r'train.csv')\n",
    "df.head() "
   ]
  },
  {
   "cell_type": "markdown",
   "metadata": {},
   "source": [
    "## Análise exploratória"
   ]
  },
  {
   "cell_type": "code",
   "execution_count": 4,
   "metadata": {},
   "outputs": [
    {
     "data": {
      "text/html": "<div>\n<style scoped>\n    .dataframe tbody tr th:only-of-type {\n        vertical-align: middle;\n    }\n\n    .dataframe tbody tr th {\n        vertical-align: top;\n    }\n\n    .dataframe thead th {\n        text-align: right;\n    }\n</style>\n<table border=\"1\" class=\"dataframe\">\n  <thead>\n    <tr style=\"text-align: right;\">\n      <th></th>\n      <th>PassengerId</th>\n      <th>Survived</th>\n      <th>Pclass</th>\n      <th>Age</th>\n      <th>SibSp</th>\n      <th>Parch</th>\n      <th>Fare</th>\n    </tr>\n  </thead>\n  <tbody>\n    <tr>\n      <th>count</th>\n      <td>891.000000</td>\n      <td>891.000000</td>\n      <td>891.000000</td>\n      <td>714.000000</td>\n      <td>891.000000</td>\n      <td>891.000000</td>\n      <td>891.000000</td>\n    </tr>\n    <tr>\n      <th>mean</th>\n      <td>446.000000</td>\n      <td>0.383838</td>\n      <td>2.308642</td>\n      <td>29.699118</td>\n      <td>0.523008</td>\n      <td>0.381594</td>\n      <td>32.204208</td>\n    </tr>\n    <tr>\n      <th>std</th>\n      <td>257.353842</td>\n      <td>0.486592</td>\n      <td>0.836071</td>\n      <td>14.526497</td>\n      <td>1.102743</td>\n      <td>0.806057</td>\n      <td>49.693429</td>\n    </tr>\n    <tr>\n      <th>min</th>\n      <td>1.000000</td>\n      <td>0.000000</td>\n      <td>1.000000</td>\n      <td>0.420000</td>\n      <td>0.000000</td>\n      <td>0.000000</td>\n      <td>0.000000</td>\n    </tr>\n    <tr>\n      <th>25%</th>\n      <td>223.500000</td>\n      <td>0.000000</td>\n      <td>2.000000</td>\n      <td>20.125000</td>\n      <td>0.000000</td>\n      <td>0.000000</td>\n      <td>7.910400</td>\n    </tr>\n    <tr>\n      <th>50%</th>\n      <td>446.000000</td>\n      <td>0.000000</td>\n      <td>3.000000</td>\n      <td>28.000000</td>\n      <td>0.000000</td>\n      <td>0.000000</td>\n      <td>14.454200</td>\n    </tr>\n    <tr>\n      <th>75%</th>\n      <td>668.500000</td>\n      <td>1.000000</td>\n      <td>3.000000</td>\n      <td>38.000000</td>\n      <td>1.000000</td>\n      <td>0.000000</td>\n      <td>31.000000</td>\n    </tr>\n    <tr>\n      <th>max</th>\n      <td>891.000000</td>\n      <td>1.000000</td>\n      <td>3.000000</td>\n      <td>80.000000</td>\n      <td>8.000000</td>\n      <td>6.000000</td>\n      <td>512.329200</td>\n    </tr>\n  </tbody>\n</table>\n</div>",
      "text/plain": "       PassengerId    Survived      Pclass         Age       SibSp  \\\ncount   891.000000  891.000000  891.000000  714.000000  891.000000   \nmean    446.000000    0.383838    2.308642   29.699118    0.523008   \nstd     257.353842    0.486592    0.836071   14.526497    1.102743   \nmin       1.000000    0.000000    1.000000    0.420000    0.000000   \n25%     223.500000    0.000000    2.000000   20.125000    0.000000   \n50%     446.000000    0.000000    3.000000   28.000000    0.000000   \n75%     668.500000    1.000000    3.000000   38.000000    1.000000   \nmax     891.000000    1.000000    3.000000   80.000000    8.000000   \n\n            Parch        Fare  \ncount  891.000000  891.000000  \nmean     0.381594   32.204208  \nstd      0.806057   49.693429  \nmin      0.000000    0.000000  \n25%      0.000000    7.910400  \n50%      0.000000   14.454200  \n75%      0.000000   31.000000  \nmax      6.000000  512.329200  "
     },
     "execution_count": 4,
     "metadata": {},
     "output_type": "execute_result"
    }
   ],
   "source": [
    "df.describe()"
   ]
  },
  {
   "cell_type": "code",
   "execution_count": 5,
   "metadata": {},
   "outputs": [
    {
     "name": "stderr",
     "output_type": "stream",
     "text": "C:\\ProgramData\\Anaconda3\\lib\\site-packages\\numpy\\lib\\histograms.py:824: RuntimeWarning:\n\ninvalid value encountered in greater_equal\n\nC:\\ProgramData\\Anaconda3\\lib\\site-packages\\numpy\\lib\\histograms.py:825: RuntimeWarning:\n\ninvalid value encountered in less_equal\n\nC:\\ProgramData\\Anaconda3\\lib\\site-packages\\statsmodels\\nonparametric\\kde.py:447: RuntimeWarning:\n\ninvalid value encountered in greater\n\nC:\\ProgramData\\Anaconda3\\lib\\site-packages\\statsmodels\\nonparametric\\kde.py:447: RuntimeWarning:\n\ninvalid value encountered in less\n\n"
    },
    {
     "data": {
      "image/png": "[encoded data removed]",
      "image/svg+xml": "<?xml version=\"1.0\" encoding=\"utf-8\" standalone=\"no\"?>\r\n<!DOCTYPE svg PUBLIC \"-//W3C//DTD SVG 1.1//EN\"\r\n  \"http://www.w3.org/Graphics/SVG/1.1/DTD/svg11.dtd\">\r\n<!-- Created with matplotlib (https://matplotlib.org/) -->\r\n<svg height=\"397.88125pt\" version=\"1.1\" viewBox=\"0 0 1168.92375 397.88125\" width=\"1168.92375pt\" xmlns=\"http://www.w3.org/2000/svg\" xmlns:xlink=\"http://www.w3.org/1999/xlink\">\r\n <defs>\r\n  <style type=\"text/css\">\r\n*{stroke-linecap:butt;stroke-linejoin:round;white-space:pre;}\r\n  </style>\r\n </defs>\r\n <g id=\"figure_1\">\r\n  <g id=\"patch_1\">\r\n   <path d=\"M 0 397.88125 \r\nL 1168.92375 397.88125 \r\nL 1168.92375 0 \r\nL 0 0 \r\nz\r\n\" style=\"fill:none;\"/>\r\n  </g>\r\n  <g id=\"axes_1\">\r\n   <g id=\"patch_2\">\r\n    <path d=\"M 45.72375 105.22275 \r\nL 492.12375 105.22275 \r\nL 492.12375 23.68275 \r\nL 45.72375 23.68275 \r\nz\r\n\" style=\"fill:#eaeaf2;\"/>\r\n   </g>\r\n   <g id=\"matplotlib.axis_1\">\r\n    <g id=\"xtick_1\">\r\n     <g id=\"line2d_1\">\r\n      <path clip-path=\"url(#p801b03faad)\" d=\"M 99.339341 105.22275 \r\nL 99.339341 23.68275 \r\n\" style=\"fill:none;stroke:#ffffff;stroke-linecap:round;\"/>\r\n     </g>\r\n     <g id=\"line2d_2\">\r\n      <defs>\r\n       <path d=\"M 0 0 \r\nL 0 3.5 \r\n\" id=\"m2400a2dcea\" style=\"stroke:#262626;\"/>\r\n      </defs>\r\n      <g>\r\n       <use style=\"fill:#262626;stroke:#262626;\" x=\"99.339341\" xlink:href=\"#m2400a2dcea\" y=\"105.22275\"/>\r\n      </g>\r\n     </g>\r\n     <g id=\"text_1\">\r\n      <!-- −0.25 -->\r\n      <defs>\r\n       <path d=\"M 52.828125 31.203125 \r\nL 5.5625 31.203125 \r\nL 5.5625 39.40625 \r\nL 52.828125 39.40625 \r\nz\r\n\" id=\"ArialMT-8722\"/>\r\n       <path d=\"M 4.15625 35.296875 \r\nQ 4.15625 48 6.765625 55.734375 \r\nQ 9.375 63.484375 14.515625 67.671875 \r\nQ 19.671875 71.875 27.484375 71.875 \r\nQ 33.25 71.875 37.59375 69.546875 \r\nQ 41.9375 67.234375 44.765625 62.859375 \r\nQ 47.609375 58.5 49.21875 52.21875 \r\nQ 50.828125 45.953125 50.828125 35.296875 \r\nQ 50.828125 22.703125 48.234375 14.96875 \r\nQ 45.65625 7.234375 40.5 3 \r\nQ 35.359375 -1.21875 27.484375 -1.21875 \r\nQ 17.140625 -1.21875 11.234375 6.203125 \r\nQ 4.15625 15.140625 4.15625 35.296875 \r\nz\r\nM 13.1875 35.296875 \r\nQ 13.1875 17.671875 17.3125 11.828125 \r\nQ 21.4375 6 27.484375 6 \r\nQ 33.546875 6 37.671875 11.859375 \r\nQ 41.796875 17.71875 41.796875 35.296875 \r\nQ 41.796875 52.984375 37.671875 58.78125 \r\nQ 33.546875 64.59375 27.390625 64.59375 \r\nQ 21.34375 64.59375 17.71875 59.46875 \r\nQ 13.1875 52.9375 13.1875 35.296875 \r\nz\r\n\" id=\"ArialMT-48\"/>\r\n       <path d=\"M 9.078125 0 \r\nL 9.078125 10.015625 \r\nL 19.09375 10.015625 \r\nL 19.09375 0 \r\nz\r\n\" id=\"ArialMT-46\"/>\r\n       <path d=\"M 50.34375 8.453125 \r\nL 50.34375 0 \r\nL 3.03125 0 \r\nQ 2.9375 3.171875 4.046875 6.109375 \r\nQ 5.859375 10.9375 9.828125 15.625 \r\nQ 13.8125 20.3125 21.34375 26.46875 \r\nQ 33.015625 36.03125 37.109375 41.625 \r\nQ 41.21875 47.21875 41.21875 52.203125 \r\nQ 41.21875 57.421875 37.46875 61 \r\nQ 33.734375 64.59375 27.734375 64.59375 \r\nQ 21.390625 64.59375 17.578125 60.78125 \r\nQ 13.765625 56.984375 13.71875 50.25 \r\nL 4.6875 51.171875 \r\nQ 5.609375 61.28125 11.65625 66.578125 \r\nQ 17.71875 71.875 27.9375 71.875 \r\nQ 38.234375 71.875 44.234375 66.15625 \r\nQ 50.25 60.453125 50.25 52 \r\nQ 50.25 47.703125 48.484375 43.546875 \r\nQ 46.734375 39.40625 42.65625 34.8125 \r\nQ 38.578125 30.21875 29.109375 22.21875 \r\nQ 21.1875 15.578125 18.9375 13.203125 \r\nQ 16.703125 10.84375 15.234375 8.453125 \r\nz\r\n\" id=\"ArialMT-50\"/>\r\n       <path d=\"M 4.15625 18.75 \r\nL 13.375 19.53125 \r\nQ 14.40625 12.796875 18.140625 9.390625 \r\nQ 21.875 6 27.15625 6 \r\nQ 33.5 6 37.890625 10.78125 \r\nQ 42.28125 15.578125 42.28125 23.484375 \r\nQ 42.28125 31 38.0625 35.34375 \r\nQ 33.84375 39.703125 27 39.703125 \r\nQ 22.75 39.703125 19.328125 37.765625 \r\nQ 15.921875 35.84375 13.96875 32.765625 \r\nL 5.71875 33.84375 \r\nL 12.640625 70.609375 \r\nL 48.25 70.609375 \r\nL 48.25 62.203125 \r\nL 19.671875 62.203125 \r\nL 15.828125 42.96875 \r\nQ 22.265625 47.46875 29.34375 47.46875 \r\nQ 38.71875 47.46875 45.15625 40.96875 \r\nQ 51.609375 34.46875 51.609375 24.265625 \r\nQ 51.609375 14.546875 45.953125 7.46875 \r\nQ 39.0625 -1.21875 27.15625 -1.21875 \r\nQ 17.390625 -1.21875 11.203125 4.25 \r\nQ 5.03125 9.71875 4.15625 18.75 \r\nz\r\n\" id=\"ArialMT-53\"/>\r\n      </defs>\r\n      <g style=\"fill:#262626;\" transform=\"translate(81.122216 126.03)scale(0.144 -0.144)\">\r\n       <use xlink:href=\"#ArialMT-8722\"/>\r\n       <use x=\"58.398438\" xlink:href=\"#ArialMT-48\"/>\r\n       <use x=\"114.013672\" xlink:href=\"#ArialMT-46\"/>\r\n       <use x=\"141.796875\" xlink:href=\"#ArialMT-50\"/>\r\n       <use x=\"197.412109\" xlink:href=\"#ArialMT-53\"/>\r\n      </g>\r\n     </g>\r\n    </g>\r\n    <g id=\"xtick_2\">\r\n     <g id=\"line2d_3\">\r\n      <path clip-path=\"url(#p801b03faad)\" d=\"M 155.867477 105.22275 \r\nL 155.867477 23.68275 \r\n\" style=\"fill:none;stroke:#ffffff;stroke-linecap:round;\"/>\r\n     </g>\r\n     <g id=\"line2d_4\">\r\n      <g>\r\n       <use style=\"fill:#262626;stroke:#262626;\" x=\"155.867477\" xlink:href=\"#m2400a2dcea\" y=\"105.22275\"/>\r\n      </g>\r\n     </g>\r\n     <g id=\"text_2\">\r\n      <!-- 0.00 -->\r\n      <g style=\"fill:#262626;\" transform=\"translate(141.855602 126.03)scale(0.144 -0.144)\">\r\n       <use xlink:href=\"#ArialMT-48\"/>\r\n       <use x=\"55.615234\" xlink:href=\"#ArialMT-46\"/>\r\n       <use x=\"83.398438\" xlink:href=\"#ArialMT-48\"/>\r\n       <use x=\"139.013672\" xlink:href=\"#ArialMT-48\"/>\r\n      </g>\r\n     </g>\r\n    </g>\r\n    <g id=\"xtick_3\">\r\n     <g id=\"line2d_5\">\r\n      <path clip-path=\"url(#p801b03faad)\" d=\"M 212.395614 105.22275 \r\nL 212.395614 23.68275 \r\n\" style=\"fill:none;stroke:#ffffff;stroke-linecap:round;\"/>\r\n     </g>\r\n     <g id=\"line2d_6\">\r\n      <g>\r\n       <use style=\"fill:#262626;stroke:#262626;\" x=\"212.395614\" xlink:href=\"#m2400a2dcea\" y=\"105.22275\"/>\r\n      </g>\r\n     </g>\r\n     <g id=\"text_3\">\r\n      <!-- 0.25 -->\r\n      <g style=\"fill:#262626;\" transform=\"translate(198.383739 126.03)scale(0.144 -0.144)\">\r\n       <use xlink:href=\"#ArialMT-48\"/>\r\n       <use x=\"55.615234\" xlink:href=\"#ArialMT-46\"/>\r\n       <use x=\"83.398438\" xlink:href=\"#ArialMT-50\"/>\r\n       <use x=\"139.013672\" xlink:href=\"#ArialMT-53\"/>\r\n      </g>\r\n     </g>\r\n    </g>\r\n    <g id=\"xtick_4\">\r\n     <g id=\"line2d_7\">\r\n      <path clip-path=\"url(#p801b03faad)\" d=\"M 268.92375 105.22275 \r\nL 268.92375 23.68275 \r\n\" style=\"fill:none;stroke:#ffffff;stroke-linecap:round;\"/>\r\n     </g>\r\n     <g id=\"line2d_8\">\r\n      <g>\r\n       <use style=\"fill:#262626;stroke:#262626;\" x=\"268.92375\" xlink:href=\"#m2400a2dcea\" y=\"105.22275\"/>\r\n      </g>\r\n     </g>\r\n     <g id=\"text_4\">\r\n      <!-- 0.50 -->\r\n      <g style=\"fill:#262626;\" transform=\"translate(254.911875 126.03)scale(0.144 -0.144)\">\r\n       <use xlink:href=\"#ArialMT-48\"/>\r\n       <use x=\"55.615234\" xlink:href=\"#ArialMT-46\"/>\r\n       <use x=\"83.398438\" xlink:href=\"#ArialMT-53\"/>\r\n       <use x=\"139.013672\" xlink:href=\"#ArialMT-48\"/>\r\n      </g>\r\n     </g>\r\n    </g>\r\n    <g id=\"xtick_5\">\r\n     <g id=\"line2d_9\">\r\n      <path clip-path=\"url(#p801b03faad)\" d=\"M 325.451886 105.22275 \r\nL 325.451886 23.68275 \r\n\" style=\"fill:none;stroke:#ffffff;stroke-linecap:round;\"/>\r\n     </g>\r\n     <g id=\"line2d_10\">\r\n      <g>\r\n       <use style=\"fill:#262626;stroke:#262626;\" x=\"325.451886\" xlink:href=\"#m2400a2dcea\" y=\"105.22275\"/>\r\n      </g>\r\n     </g>\r\n     <g id=\"text_5\">\r\n      <!-- 0.75 -->\r\n      <defs>\r\n       <path d=\"M 4.734375 62.203125 \r\nL 4.734375 70.65625 \r\nL 51.078125 70.65625 \r\nL 51.078125 63.8125 \r\nQ 44.234375 56.546875 37.515625 44.484375 \r\nQ 30.8125 32.421875 27.15625 19.671875 \r\nQ 24.515625 10.6875 23.78125 0 \r\nL 14.75 0 \r\nQ 14.890625 8.453125 18.0625 20.40625 \r\nQ 21.234375 32.375 27.171875 43.484375 \r\nQ 33.109375 54.59375 39.796875 62.203125 \r\nz\r\n\" id=\"ArialMT-55\"/>\r\n      </defs>\r\n      <g style=\"fill:#262626;\" transform=\"translate(311.440011 126.03)scale(0.144 -0.144)\">\r\n       <use xlink:href=\"#ArialMT-48\"/>\r\n       <use x=\"55.615234\" xlink:href=\"#ArialMT-46\"/>\r\n       <use x=\"83.398438\" xlink:href=\"#ArialMT-55\"/>\r\n       <use x=\"139.013672\" xlink:href=\"#ArialMT-53\"/>\r\n      </g>\r\n     </g>\r\n    </g>\r\n    <g id=\"xtick_6\">\r\n     <g id=\"line2d_11\">\r\n      <path clip-path=\"url(#p801b03faad)\" d=\"M 381.980023 105.22275 \r\nL 381.980023 23.68275 \r\n\" style=\"fill:none;stroke:#ffffff;stroke-linecap:round;\"/>\r\n     </g>\r\n     <g id=\"line2d_12\">\r\n      <g>\r\n       <use style=\"fill:#262626;stroke:#262626;\" x=\"381.980023\" xlink:href=\"#m2400a2dcea\" y=\"105.22275\"/>\r\n      </g>\r\n     </g>\r\n     <g id=\"text_6\">\r\n      <!-- 1.00 -->\r\n      <defs>\r\n       <path d=\"M 37.25 0 \r\nL 28.46875 0 \r\nL 28.46875 56 \r\nQ 25.296875 52.984375 20.140625 49.953125 \r\nQ 14.984375 46.921875 10.890625 45.40625 \r\nL 10.890625 53.90625 \r\nQ 18.265625 57.375 23.78125 62.296875 \r\nQ 29.296875 67.234375 31.59375 71.875 \r\nL 37.25 71.875 \r\nz\r\n\" id=\"ArialMT-49\"/>\r\n      </defs>\r\n      <g style=\"fill:#262626;\" transform=\"translate(367.968148 126.03)scale(0.144 -0.144)\">\r\n       <use xlink:href=\"#ArialMT-49\"/>\r\n       <use x=\"55.615234\" xlink:href=\"#ArialMT-46\"/>\r\n       <use x=\"83.398438\" xlink:href=\"#ArialMT-48\"/>\r\n       <use x=\"139.013672\" xlink:href=\"#ArialMT-48\"/>\r\n      </g>\r\n     </g>\r\n    </g>\r\n    <g id=\"xtick_7\">\r\n     <g id=\"line2d_13\">\r\n      <path clip-path=\"url(#p801b03faad)\" d=\"M 438.508159 105.22275 \r\nL 438.508159 23.68275 \r\n\" style=\"fill:none;stroke:#ffffff;stroke-linecap:round;\"/>\r\n     </g>\r\n     <g id=\"line2d_14\">\r\n      <g>\r\n       <use style=\"fill:#262626;stroke:#262626;\" x=\"438.508159\" xlink:href=\"#m2400a2dcea\" y=\"105.22275\"/>\r\n      </g>\r\n     </g>\r\n     <g id=\"text_7\">\r\n      <!-- 1.25 -->\r\n      <g style=\"fill:#262626;\" transform=\"translate(424.496284 126.03)scale(0.144 -0.144)\">\r\n       <use xlink:href=\"#ArialMT-49\"/>\r\n       <use x=\"55.615234\" xlink:href=\"#ArialMT-46\"/>\r\n       <use x=\"83.398438\" xlink:href=\"#ArialMT-50\"/>\r\n       <use x=\"139.013672\" xlink:href=\"#ArialMT-53\"/>\r\n      </g>\r\n     </g>\r\n    </g>\r\n    <g id=\"text_8\">\r\n     <!-- Survived -->\r\n     <defs>\r\n      <path d=\"M 4.5 23 \r\nL 13.421875 23.78125 \r\nQ 14.0625 18.40625 16.375 14.96875 \r\nQ 18.703125 11.53125 23.578125 9.40625 \r\nQ 28.46875 7.28125 34.578125 7.28125 \r\nQ 39.984375 7.28125 44.140625 8.890625 \r\nQ 48.296875 10.5 50.3125 13.296875 \r\nQ 52.34375 16.109375 52.34375 19.4375 \r\nQ 52.34375 22.796875 50.390625 25.3125 \r\nQ 48.4375 27.828125 43.953125 29.546875 \r\nQ 41.0625 30.671875 31.203125 33.03125 \r\nQ 21.34375 35.40625 17.390625 37.5 \r\nQ 12.25 40.1875 9.734375 44.15625 \r\nQ 7.234375 48.140625 7.234375 53.078125 \r\nQ 7.234375 58.5 10.296875 63.203125 \r\nQ 13.375 67.921875 19.28125 70.359375 \r\nQ 25.203125 72.796875 32.421875 72.796875 \r\nQ 40.375 72.796875 46.453125 70.234375 \r\nQ 52.546875 67.671875 55.8125 62.6875 \r\nQ 59.078125 57.71875 59.328125 51.421875 \r\nL 50.25 50.734375 \r\nQ 49.515625 57.515625 45.28125 60.984375 \r\nQ 41.0625 64.453125 32.8125 64.453125 \r\nQ 24.21875 64.453125 20.28125 61.296875 \r\nQ 16.359375 58.15625 16.359375 53.71875 \r\nQ 16.359375 49.859375 19.140625 47.359375 \r\nQ 21.875 44.875 33.421875 42.265625 \r\nQ 44.96875 39.65625 49.265625 37.703125 \r\nQ 55.515625 34.8125 58.484375 30.390625 \r\nQ 61.46875 25.984375 61.46875 20.21875 \r\nQ 61.46875 14.5 58.203125 9.4375 \r\nQ 54.9375 4.390625 48.796875 1.578125 \r\nQ 42.671875 -1.21875 35.015625 -1.21875 \r\nQ 25.296875 -1.21875 18.71875 1.609375 \r\nQ 12.15625 4.4375 8.421875 10.125 \r\nQ 4.6875 15.828125 4.5 23 \r\nz\r\n\" id=\"ArialMT-83\"/>\r\n      <path d=\"M 40.578125 0 \r\nL 40.578125 7.625 \r\nQ 34.515625 -1.171875 24.125 -1.171875 \r\nQ 19.53125 -1.171875 15.546875 0.578125 \r\nQ 11.578125 2.34375 9.640625 5 \r\nQ 7.71875 7.671875 6.9375 11.53125 \r\nQ 6.390625 14.109375 6.390625 19.734375 \r\nL 6.390625 51.859375 \r\nL 15.1875 51.859375 \r\nL 15.1875 23.09375 \r\nQ 15.1875 16.21875 15.71875 13.8125 \r\nQ 16.546875 10.359375 19.234375 8.375 \r\nQ 21.921875 6.390625 25.875 6.390625 \r\nQ 29.828125 6.390625 33.296875 8.421875 \r\nQ 36.765625 10.453125 38.203125 13.9375 \r\nQ 39.65625 17.4375 39.65625 24.078125 \r\nL 39.65625 51.859375 \r\nL 48.4375 51.859375 \r\nL 48.4375 0 \r\nz\r\n\" id=\"ArialMT-117\"/>\r\n      <path d=\"M 6.5 0 \r\nL 6.5 51.859375 \r\nL 14.40625 51.859375 \r\nL 14.40625 44 \r\nQ 17.4375 49.515625 20 51.265625 \r\nQ 22.5625 53.03125 25.640625 53.03125 \r\nQ 30.078125 53.03125 34.671875 50.203125 \r\nL 31.640625 42.046875 \r\nQ 28.421875 43.953125 25.203125 43.953125 \r\nQ 22.3125 43.953125 20.015625 42.21875 \r\nQ 17.71875 40.484375 16.75 37.40625 \r\nQ 15.28125 32.71875 15.28125 27.15625 \r\nL 15.28125 0 \r\nz\r\n\" id=\"ArialMT-114\"/>\r\n      <path d=\"M 21 0 \r\nL 1.265625 51.859375 \r\nL 10.546875 51.859375 \r\nL 21.6875 20.796875 \r\nQ 23.484375 15.765625 25 10.359375 \r\nQ 26.171875 14.453125 28.265625 20.21875 \r\nL 39.796875 51.859375 \r\nL 48.828125 51.859375 \r\nL 29.203125 0 \r\nz\r\n\" id=\"ArialMT-118\"/>\r\n      <path d=\"M 6.640625 61.46875 \r\nL 6.640625 71.578125 \r\nL 15.4375 71.578125 \r\nL 15.4375 61.46875 \r\nz\r\nM 6.640625 0 \r\nL 6.640625 51.859375 \r\nL 15.4375 51.859375 \r\nL 15.4375 0 \r\nz\r\n\" id=\"ArialMT-105\"/>\r\n      <path d=\"M 42.09375 16.703125 \r\nL 51.171875 15.578125 \r\nQ 49.03125 7.625 43.21875 3.21875 \r\nQ 37.40625 -1.171875 28.375 -1.171875 \r\nQ 17 -1.171875 10.328125 5.828125 \r\nQ 3.65625 12.84375 3.65625 25.484375 \r\nQ 3.65625 38.578125 10.390625 45.796875 \r\nQ 17.140625 53.03125 27.875 53.03125 \r\nQ 38.28125 53.03125 44.875 45.953125 \r\nQ 51.46875 38.875 51.46875 26.03125 \r\nQ 51.46875 25.25 51.421875 23.6875 \r\nL 12.75 23.6875 \r\nQ 13.234375 15.140625 17.578125 10.59375 \r\nQ 21.921875 6.0625 28.421875 6.0625 \r\nQ 33.25 6.0625 36.671875 8.59375 \r\nQ 40.09375 11.140625 42.09375 16.703125 \r\nz\r\nM 13.234375 30.90625 \r\nL 42.1875 30.90625 \r\nQ 41.609375 37.453125 38.875 40.71875 \r\nQ 34.671875 45.796875 27.984375 45.796875 \r\nQ 21.921875 45.796875 17.796875 41.75 \r\nQ 13.671875 37.703125 13.234375 30.90625 \r\nz\r\n\" id=\"ArialMT-101\"/>\r\n      <path d=\"M 40.234375 0 \r\nL 40.234375 6.546875 \r\nQ 35.296875 -1.171875 25.734375 -1.171875 \r\nQ 19.53125 -1.171875 14.328125 2.25 \r\nQ 9.125 5.671875 6.265625 11.796875 \r\nQ 3.421875 17.921875 3.421875 25.875 \r\nQ 3.421875 33.640625 6 39.96875 \r\nQ 8.59375 46.296875 13.765625 49.65625 \r\nQ 18.953125 53.03125 25.34375 53.03125 \r\nQ 30.03125 53.03125 33.6875 51.046875 \r\nQ 37.359375 49.078125 39.65625 45.90625 \r\nL 39.65625 71.578125 \r\nL 48.390625 71.578125 \r\nL 48.390625 0 \r\nz\r\nM 12.453125 25.875 \r\nQ 12.453125 15.921875 16.640625 10.984375 \r\nQ 20.84375 6.0625 26.5625 6.0625 \r\nQ 32.328125 6.0625 36.34375 10.765625 \r\nQ 40.375 15.484375 40.375 25.140625 \r\nQ 40.375 35.796875 36.265625 40.765625 \r\nQ 32.171875 45.75 26.171875 45.75 \r\nQ 20.3125 45.75 16.375 40.96875 \r\nQ 12.453125 36.1875 12.453125 25.875 \r\nz\r\n\" id=\"ArialMT-100\"/>\r\n     </defs>\r\n     <g style=\"fill:#262626;\" transform=\"translate(240.912375 143.19925)scale(0.144 -0.144)\">\r\n      <use xlink:href=\"#ArialMT-83\"/>\r\n      <use x=\"66.699219\" xlink:href=\"#ArialMT-117\"/>\r\n      <use x=\"122.314453\" xlink:href=\"#ArialMT-114\"/>\r\n      <use x=\"155.615234\" xlink:href=\"#ArialMT-118\"/>\r\n      <use x=\"205.615234\" xlink:href=\"#ArialMT-105\"/>\r\n      <use x=\"227.832031\" xlink:href=\"#ArialMT-118\"/>\r\n      <use x=\"277.832031\" xlink:href=\"#ArialMT-101\"/>\r\n      <use x=\"333.447266\" xlink:href=\"#ArialMT-100\"/>\r\n     </g>\r\n    </g>\r\n   </g>\r\n   <g id=\"matplotlib.axis_2\">\r\n    <g id=\"ytick_1\">\r\n     <g id=\"line2d_15\">\r\n      <path clip-path=\"url(#p801b03faad)\" d=\"M 45.72375 105.22275 \r\nL 492.12375 105.22275 \r\n\" style=\"fill:none;stroke:#ffffff;stroke-linecap:round;\"/>\r\n     </g>\r\n     <g id=\"line2d_16\">\r\n      <defs>\r\n       <path d=\"M 0 0 \r\nL -3.5 0 \r\n\" id=\"m9e559ed7c0\" style=\"stroke:#262626;\"/>\r\n      </defs>\r\n      <g>\r\n       <use style=\"fill:#262626;stroke:#262626;\" x=\"45.72375\" xlink:href=\"#m9e559ed7c0\" y=\"105.22275\"/>\r\n      </g>\r\n     </g>\r\n     <g id=\"text_9\">\r\n      <!-- 0 -->\r\n      <g style=\"fill:#262626;\" transform=\"translate(27.216 110.376375)scale(0.144 -0.144)\">\r\n       <use xlink:href=\"#ArialMT-48\"/>\r\n      </g>\r\n     </g>\r\n    </g>\r\n    <g id=\"ytick_2\">\r\n     <g id=\"line2d_17\">\r\n      <path clip-path=\"url(#p801b03faad)\" d=\"M 45.72375 42.205888 \r\nL 492.12375 42.205888 \r\n\" style=\"fill:none;stroke:#ffffff;stroke-linecap:round;\"/>\r\n     </g>\r\n     <g id=\"line2d_18\">\r\n      <g>\r\n       <use style=\"fill:#262626;stroke:#262626;\" x=\"45.72375\" xlink:href=\"#m9e559ed7c0\" y=\"42.205888\"/>\r\n      </g>\r\n     </g>\r\n     <g id=\"text_10\">\r\n      <!-- 10 -->\r\n      <g style=\"fill:#262626;\" transform=\"translate(19.20825 47.359513)scale(0.144 -0.144)\">\r\n       <use xlink:href=\"#ArialMT-49\"/>\r\n       <use x=\"55.615234\" xlink:href=\"#ArialMT-48\"/>\r\n      </g>\r\n     </g>\r\n    </g>\r\n   </g>\r\n   <g id=\"patch_3\">\r\n    <path clip-path=\"url(#p801b03faad)\" d=\"M 155.867477 105.22275 \r\nL 167.173105 105.22275 \r\nL 167.173105 27.565607 \r\nL 155.867477 27.565607 \r\nz\r\n\" style=\"fill:#8dd3c7;opacity:0.4;\"/>\r\n   </g>\r\n   <g id=\"patch_4\">\r\n    <path clip-path=\"url(#p801b03faad)\" d=\"M 167.173105 105.22275 \r\nL 178.478732 105.22275 \r\nL 178.478732 105.22275 \r\nL 167.173105 105.22275 \r\nz\r\n\" style=\"fill:#8dd3c7;opacity:0.4;\"/>\r\n   </g>\r\n   <g id=\"patch_5\">\r\n    <path clip-path=\"url(#p801b03faad)\" d=\"M 178.478732 105.22275 \r\nL 189.784359 105.22275 \r\nL 189.784359 105.22275 \r\nL 178.478732 105.22275 \r\nz\r\n\" style=\"fill:#8dd3c7;opacity:0.4;\"/>\r\n   </g>\r\n   <g id=\"patch_6\">\r\n    <path clip-path=\"url(#p801b03faad)\" d=\"M 189.784359 105.22275 \r\nL 201.089986 105.22275 \r\nL 201.089986 105.22275 \r\nL 189.784359 105.22275 \r\nz\r\n\" style=\"fill:#8dd3c7;opacity:0.4;\"/>\r\n   </g>\r\n   <g id=\"patch_7\">\r\n    <path clip-path=\"url(#p801b03faad)\" d=\"M 201.089986 105.22275 \r\nL 212.395614 105.22275 \r\nL 212.395614 105.22275 \r\nL 201.089986 105.22275 \r\nz\r\n\" style=\"fill:#8dd3c7;opacity:0.4;\"/>\r\n   </g>\r\n   <g id=\"patch_8\">\r\n    <path clip-path=\"url(#p801b03faad)\" d=\"M 212.395614 105.22275 \r\nL 223.701241 105.22275 \r\nL 223.701241 105.22275 \r\nL 212.395614 105.22275 \r\nz\r\n\" style=\"fill:#8dd3c7;opacity:0.4;\"/>\r\n   </g>\r\n   <g id=\"patch_9\">\r\n    <path clip-path=\"url(#p801b03faad)\" d=\"M 223.701241 105.22275 \r\nL 235.006868 105.22275 \r\nL 235.006868 105.22275 \r\nL 223.701241 105.22275 \r\nz\r\n\" style=\"fill:#8dd3c7;opacity:0.4;\"/>\r\n   </g>\r\n   <g id=\"patch_10\">\r\n    <path clip-path=\"url(#p801b03faad)\" d=\"M 235.006868 105.22275 \r\nL 246.312495 105.22275 \r\nL 246.312495 105.22275 \r\nL 235.006868 105.22275 \r\nz\r\n\" style=\"fill:#8dd3c7;opacity:0.4;\"/>\r\n   </g>\r\n   <g id=\"patch_11\">\r\n    <path clip-path=\"url(#p801b03faad)\" d=\"M 246.312495 105.22275 \r\nL 257.618123 105.22275 \r\nL 257.618123 105.22275 \r\nL 246.312495 105.22275 \r\nz\r\n\" style=\"fill:#8dd3c7;opacity:0.4;\"/>\r\n   </g>\r\n   <g id=\"patch_12\">\r\n    <path clip-path=\"url(#p801b03faad)\" d=\"M 257.618123 105.22275 \r\nL 268.92375 105.22275 \r\nL 268.92375 105.22275 \r\nL 257.618123 105.22275 \r\nz\r\n\" style=\"fill:#8dd3c7;opacity:0.4;\"/>\r\n   </g>\r\n   <g id=\"patch_13\">\r\n    <path clip-path=\"url(#p801b03faad)\" d=\"M 268.92375 105.22275 \r\nL 280.229377 105.22275 \r\nL 280.229377 105.22275 \r\nL 268.92375 105.22275 \r\nz\r\n\" style=\"fill:#8dd3c7;opacity:0.4;\"/>\r\n   </g>\r\n   <g id=\"patch_14\">\r\n    <path clip-path=\"url(#p801b03faad)\" d=\"M 280.229377 105.22275 \r\nL 291.535005 105.22275 \r\nL 291.535005 105.22275 \r\nL 280.229377 105.22275 \r\nz\r\n\" style=\"fill:#8dd3c7;opacity:0.4;\"/>\r\n   </g>\r\n   <g id=\"patch_15\">\r\n    <path clip-path=\"url(#p801b03faad)\" d=\"M 291.535005 105.22275 \r\nL 302.840632 105.22275 \r\nL 302.840632 105.22275 \r\nL 291.535005 105.22275 \r\nz\r\n\" style=\"fill:#8dd3c7;opacity:0.4;\"/>\r\n   </g>\r\n   <g id=\"patch_16\">\r\n    <path clip-path=\"url(#p801b03faad)\" d=\"M 302.840632 105.22275 \r\nL 314.146259 105.22275 \r\nL 314.146259 105.22275 \r\nL 302.840632 105.22275 \r\nz\r\n\" style=\"fill:#8dd3c7;opacity:0.4;\"/>\r\n   </g>\r\n   <g id=\"patch_17\">\r\n    <path clip-path=\"url(#p801b03faad)\" d=\"M 314.146259 105.22275 \r\nL 325.451886 105.22275 \r\nL 325.451886 105.22275 \r\nL 314.146259 105.22275 \r\nz\r\n\" style=\"fill:#8dd3c7;opacity:0.4;\"/>\r\n   </g>\r\n   <g id=\"patch_18\">\r\n    <path clip-path=\"url(#p801b03faad)\" d=\"M 325.451886 105.22275 \r\nL 336.757514 105.22275 \r\nL 336.757514 105.22275 \r\nL 325.451886 105.22275 \r\nz\r\n\" style=\"fill:#8dd3c7;opacity:0.4;\"/>\r\n   </g>\r\n   <g id=\"patch_19\">\r\n    <path clip-path=\"url(#p801b03faad)\" d=\"M 336.757514 105.22275 \r\nL 348.063141 105.22275 \r\nL 348.063141 105.22275 \r\nL 336.757514 105.22275 \r\nz\r\n\" style=\"fill:#8dd3c7;opacity:0.4;\"/>\r\n   </g>\r\n   <g id=\"patch_20\">\r\n    <path clip-path=\"url(#p801b03faad)\" d=\"M 348.063141 105.22275 \r\nL 359.368768 105.22275 \r\nL 359.368768 105.22275 \r\nL 348.063141 105.22275 \r\nz\r\n\" style=\"fill:#8dd3c7;opacity:0.4;\"/>\r\n   </g>\r\n   <g id=\"patch_21\">\r\n    <path clip-path=\"url(#p801b03faad)\" d=\"M 359.368768 105.22275 \r\nL 370.674395 105.22275 \r\nL 370.674395 105.22275 \r\nL 359.368768 105.22275 \r\nz\r\n\" style=\"fill:#8dd3c7;opacity:0.4;\"/>\r\n   </g>\r\n   <g id=\"patch_22\">\r\n    <path clip-path=\"url(#p801b03faad)\" d=\"M 370.674395 105.22275 \r\nL 381.980023 105.22275 \r\nL 381.980023 56.846169 \r\nL 370.674395 56.846169 \r\nz\r\n\" style=\"fill:#8dd3c7;opacity:0.4;\"/>\r\n   </g>\r\n   <g id=\"line2d_19\">\r\n    <path clip-path=\"url(#p801b03faad)\" d=\"M 66.014659 105.022619 \r\nL 75.600915 104.862995 \r\nL 85.187172 104.468457 \r\nL 91.578009 104.019794 \r\nL 97.968847 103.379259 \r\nL 104.359684 102.517841 \r\nL 110.750522 101.426546 \r\nL 117.141359 100.128137 \r\nL 139.50929 95.201553 \r\nL 145.900128 94.231784 \r\nL 149.095547 93.904245 \r\nL 152.290965 93.696915 \r\nL 155.486384 93.616661 \r\nL 158.681803 93.666162 \r\nL 161.877222 93.843763 \r\nL 165.07264 94.143564 \r\nL 171.463478 95.067104 \r\nL 177.854315 96.321949 \r\nL 203.417666 101.868908 \r\nL 209.808503 102.873765 \r\nL 216.199341 103.649698 \r\nL 222.590178 104.215511 \r\nL 232.176434 104.748261 \r\nL 241.762691 105.020557 \r\nL 257.739784 105.182321 \r\nL 286.498553 105.173304 \r\nL 302.475647 104.997791 \r\nL 312.061903 104.72902 \r\nL 321.648159 104.242814 \r\nL 331.234416 103.464423 \r\nL 340.820672 102.37053 \r\nL 353.602347 100.576242 \r\nL 363.188603 99.266721 \r\nL 369.579441 98.577731 \r\nL 375.970278 98.134201 \r\nL 382.361116 97.992727 \r\nL 388.751953 98.171878 \r\nL 395.142791 98.648192 \r\nL 401.533628 99.361227 \r\nL 414.315303 101.150249 \r\nL 423.90156 102.467653 \r\nL 433.487816 103.537183 \r\nL 443.074072 104.288073 \r\nL 452.660328 104.745814 \r\nL 462.246585 104.976798 \r\nL 471.832841 105.036887 \r\nL 471.832841 105.036887 \r\n\" style=\"fill:none;stroke:#8dd3c7;stroke-linecap:round;stroke-width:1.75;\"/>\r\n   </g>\r\n   <g id=\"patch_23\">\r\n    <path d=\"M 45.72375 105.22275 \r\nL 45.72375 23.68275 \r\n\" style=\"fill:none;\"/>\r\n   </g>\r\n   <g id=\"patch_24\">\r\n    <path d=\"M 492.12375 105.22275 \r\nL 492.12375 23.68275 \r\n\" style=\"fill:none;\"/>\r\n   </g>\r\n   <g id=\"patch_25\">\r\n    <path d=\"M 45.72375 105.22275 \r\nL 492.12375 105.22275 \r\n\" style=\"fill:none;\"/>\r\n   </g>\r\n   <g id=\"patch_26\">\r\n    <path d=\"M 45.72375 23.68275 \r\nL 492.12375 23.68275 \r\n\" style=\"fill:none;\"/>\r\n   </g>\r\n   <g id=\"text_11\">\r\n    <!-- Distplot of Survived -->\r\n    <defs>\r\n     <path d=\"M 7.71875 0 \r\nL 7.71875 71.578125 \r\nL 32.375 71.578125 \r\nQ 40.71875 71.578125 45.125 70.5625 \r\nQ 51.265625 69.140625 55.609375 65.4375 \r\nQ 61.28125 60.640625 64.078125 53.1875 \r\nQ 66.890625 45.75 66.890625 36.1875 \r\nQ 66.890625 28.03125 64.984375 21.734375 \r\nQ 63.09375 15.4375 60.109375 11.296875 \r\nQ 57.125 7.171875 53.578125 4.796875 \r\nQ 50.046875 2.4375 45.046875 1.21875 \r\nQ 40.046875 0 33.546875 0 \r\nz\r\nM 17.1875 8.453125 \r\nL 32.46875 8.453125 \r\nQ 39.546875 8.453125 43.578125 9.765625 \r\nQ 47.609375 11.078125 50 13.484375 \r\nQ 53.375 16.84375 55.25 22.53125 \r\nQ 57.125 28.21875 57.125 36.328125 \r\nQ 57.125 47.5625 53.4375 53.59375 \r\nQ 49.75 59.625 44.484375 61.671875 \r\nQ 40.671875 63.140625 32.234375 63.140625 \r\nL 17.1875 63.140625 \r\nz\r\n\" id=\"ArialMT-68\"/>\r\n     <path d=\"M 3.078125 15.484375 \r\nL 11.765625 16.84375 \r\nQ 12.5 11.625 15.84375 8.84375 \r\nQ 19.1875 6.0625 25.203125 6.0625 \r\nQ 31.25 6.0625 34.171875 8.515625 \r\nQ 37.109375 10.984375 37.109375 14.3125 \r\nQ 37.109375 17.28125 34.515625 19 \r\nQ 32.71875 20.171875 25.53125 21.96875 \r\nQ 15.875 24.421875 12.140625 26.203125 \r\nQ 8.40625 27.984375 6.46875 31.125 \r\nQ 4.546875 34.28125 4.546875 38.09375 \r\nQ 4.546875 41.546875 6.125 44.5 \r\nQ 7.71875 47.46875 10.453125 49.421875 \r\nQ 12.5 50.921875 16.03125 51.96875 \r\nQ 19.578125 53.03125 23.640625 53.03125 \r\nQ 29.734375 53.03125 34.34375 51.265625 \r\nQ 38.96875 49.515625 41.15625 46.5 \r\nQ 43.359375 43.5 44.1875 38.484375 \r\nL 35.59375 37.3125 \r\nQ 35.015625 41.3125 32.203125 43.546875 \r\nQ 29.390625 45.796875 24.265625 45.796875 \r\nQ 18.21875 45.796875 15.625 43.796875 \r\nQ 13.03125 41.796875 13.03125 39.109375 \r\nQ 13.03125 37.40625 14.109375 36.03125 \r\nQ 15.1875 34.625 17.484375 33.6875 \r\nQ 18.796875 33.203125 25.25 31.453125 \r\nQ 34.578125 28.953125 38.25 27.359375 \r\nQ 41.9375 25.78125 44.03125 22.75 \r\nQ 46.140625 19.734375 46.140625 15.234375 \r\nQ 46.140625 10.84375 43.578125 6.953125 \r\nQ 41.015625 3.078125 36.171875 0.953125 \r\nQ 31.34375 -1.171875 25.25 -1.171875 \r\nQ 15.140625 -1.171875 9.84375 3.03125 \r\nQ 4.546875 7.234375 3.078125 15.484375 \r\nz\r\n\" id=\"ArialMT-115\"/>\r\n     <path d=\"M 25.78125 7.859375 \r\nL 27.046875 0.09375 \r\nQ 23.34375 -0.6875 20.40625 -0.6875 \r\nQ 15.625 -0.6875 12.984375 0.828125 \r\nQ 10.359375 2.34375 9.28125 4.8125 \r\nQ 8.203125 7.28125 8.203125 15.1875 \r\nL 8.203125 45.015625 \r\nL 1.765625 45.015625 \r\nL 1.765625 51.859375 \r\nL 8.203125 51.859375 \r\nL 8.203125 64.703125 \r\nL 16.9375 69.96875 \r\nL 16.9375 51.859375 \r\nL 25.78125 51.859375 \r\nL 25.78125 45.015625 \r\nL 16.9375 45.015625 \r\nL 16.9375 14.703125 \r\nQ 16.9375 10.9375 17.40625 9.859375 \r\nQ 17.875 8.796875 18.921875 8.15625 \r\nQ 19.96875 7.515625 21.921875 7.515625 \r\nQ 23.390625 7.515625 25.78125 7.859375 \r\nz\r\n\" id=\"ArialMT-116\"/>\r\n     <path d=\"M 6.59375 -19.875 \r\nL 6.59375 51.859375 \r\nL 14.59375 51.859375 \r\nL 14.59375 45.125 \r\nQ 17.4375 49.078125 21 51.046875 \r\nQ 24.5625 53.03125 29.640625 53.03125 \r\nQ 36.28125 53.03125 41.359375 49.609375 \r\nQ 46.4375 46.1875 49.015625 39.953125 \r\nQ 51.609375 33.734375 51.609375 26.3125 \r\nQ 51.609375 18.359375 48.75 11.984375 \r\nQ 45.90625 5.609375 40.453125 2.21875 \r\nQ 35.015625 -1.171875 29 -1.171875 \r\nQ 24.609375 -1.171875 21.109375 0.6875 \r\nQ 17.625 2.546875 15.375 5.375 \r\nL 15.375 -19.875 \r\nz\r\nM 14.546875 25.640625 \r\nQ 14.546875 15.625 18.59375 10.84375 \r\nQ 22.65625 6.0625 28.421875 6.0625 \r\nQ 34.28125 6.0625 38.453125 11.015625 \r\nQ 42.625 15.96875 42.625 26.375 \r\nQ 42.625 36.28125 38.546875 41.203125 \r\nQ 34.46875 46.140625 28.8125 46.140625 \r\nQ 23.1875 46.140625 18.859375 40.890625 \r\nQ 14.546875 35.640625 14.546875 25.640625 \r\nz\r\n\" id=\"ArialMT-112\"/>\r\n     <path d=\"M 6.390625 0 \r\nL 6.390625 71.578125 \r\nL 15.1875 71.578125 \r\nL 15.1875 0 \r\nz\r\n\" id=\"ArialMT-108\"/>\r\n     <path d=\"M 3.328125 25.921875 \r\nQ 3.328125 40.328125 11.328125 47.265625 \r\nQ 18.015625 53.03125 27.640625 53.03125 \r\nQ 38.328125 53.03125 45.109375 46.015625 \r\nQ 51.90625 39.015625 51.90625 26.65625 \r\nQ 51.90625 16.65625 48.90625 10.90625 \r\nQ 45.90625 5.171875 40.15625 2 \r\nQ 34.421875 -1.171875 27.640625 -1.171875 \r\nQ 16.75 -1.171875 10.03125 5.8125 \r\nQ 3.328125 12.796875 3.328125 25.921875 \r\nz\r\nM 12.359375 25.921875 \r\nQ 12.359375 15.96875 16.703125 11.015625 \r\nQ 21.046875 6.0625 27.640625 6.0625 \r\nQ 34.1875 6.0625 38.53125 11.03125 \r\nQ 42.875 16.015625 42.875 26.21875 \r\nQ 42.875 35.84375 38.5 40.796875 \r\nQ 34.125 45.75 27.640625 45.75 \r\nQ 21.046875 45.75 16.703125 40.8125 \r\nQ 12.359375 35.890625 12.359375 25.921875 \r\nz\r\n\" id=\"ArialMT-111\"/>\r\n     <path id=\"ArialMT-32\"/>\r\n     <path d=\"M 8.6875 0 \r\nL 8.6875 45.015625 \r\nL 0.921875 45.015625 \r\nL 0.921875 51.859375 \r\nL 8.6875 51.859375 \r\nL 8.6875 57.375 \r\nQ 8.6875 62.59375 9.625 65.140625 \r\nQ 10.890625 68.5625 14.078125 70.671875 \r\nQ 17.28125 72.796875 23.046875 72.796875 \r\nQ 26.765625 72.796875 31.25 71.921875 \r\nL 29.9375 64.265625 \r\nQ 27.203125 64.75 24.75 64.75 \r\nQ 20.75 64.75 19.09375 63.03125 \r\nQ 17.4375 61.328125 17.4375 56.640625 \r\nL 17.4375 51.859375 \r\nL 27.546875 51.859375 \r\nL 27.546875 45.015625 \r\nL 17.4375 45.015625 \r\nL 17.4375 0 \r\nz\r\n\" id=\"ArialMT-102\"/>\r\n    </defs>\r\n    <g style=\"fill:#262626;\" transform=\"translate(206.90025 17.68275)scale(0.144 -0.144)\">\r\n     <use xlink:href=\"#ArialMT-68\"/>\r\n     <use x=\"72.216797\" xlink:href=\"#ArialMT-105\"/>\r\n     <use x=\"94.433594\" xlink:href=\"#ArialMT-115\"/>\r\n     <use x=\"144.433594\" xlink:href=\"#ArialMT-116\"/>\r\n     <use x=\"172.216797\" xlink:href=\"#ArialMT-112\"/>\r\n     <use x=\"227.832031\" xlink:href=\"#ArialMT-108\"/>\r\n     <use x=\"250.048828\" xlink:href=\"#ArialMT-111\"/>\r\n     <use x=\"305.664062\" xlink:href=\"#ArialMT-116\"/>\r\n     <use x=\"333.447266\" xlink:href=\"#ArialMT-32\"/>\r\n     <use x=\"361.230469\" xlink:href=\"#ArialMT-111\"/>\r\n     <use x=\"416.845703\" xlink:href=\"#ArialMT-102\"/>\r\n     <use x=\"444.628906\" xlink:href=\"#ArialMT-32\"/>\r\n     <use x=\"472.412109\" xlink:href=\"#ArialMT-83\"/>\r\n     <use x=\"539.111328\" xlink:href=\"#ArialMT-117\"/>\r\n     <use x=\"594.726562\" xlink:href=\"#ArialMT-114\"/>\r\n     <use x=\"628.027344\" xlink:href=\"#ArialMT-118\"/>\r\n     <use x=\"678.027344\" xlink:href=\"#ArialMT-105\"/>\r\n     <use x=\"700.244141\" xlink:href=\"#ArialMT-118\"/>\r\n     <use x=\"750.244141\" xlink:href=\"#ArialMT-101\"/>\r\n     <use x=\"805.859375\" xlink:href=\"#ArialMT-100\"/>\r\n    </g>\r\n   </g>\r\n  </g>\r\n  <g id=\"axes_2\">\r\n   <g id=\"patch_27\">\r\n    <path d=\"M 715.32375 105.22275 \r\nL 1161.72375 105.22275 \r\nL 1161.72375 23.68275 \r\nL 715.32375 23.68275 \r\nz\r\n\" style=\"fill:#eaeaf2;\"/>\r\n   </g>\r\n   <g id=\"matplotlib.axis_3\">\r\n    <g id=\"xtick_8\">\r\n     <g id=\"line2d_20\">\r\n      <path clip-path=\"url(#p87aaf5c19c)\" d=\"M 748.934245 105.22275 \r\nL 748.934245 23.68275 \r\n\" style=\"fill:none;stroke:#ffffff;stroke-linecap:round;\"/>\r\n     </g>\r\n     <g id=\"line2d_21\">\r\n      <g>\r\n       <use style=\"fill:#262626;stroke:#262626;\" x=\"748.934245\" xlink:href=\"#m2400a2dcea\" y=\"105.22275\"/>\r\n      </g>\r\n     </g>\r\n     <g id=\"text_12\">\r\n      <!-- 0.5 -->\r\n      <g style=\"fill:#262626;\" transform=\"translate(738.926245 126.03)scale(0.144 -0.144)\">\r\n       <use xlink:href=\"#ArialMT-48\"/>\r\n       <use x=\"55.615234\" xlink:href=\"#ArialMT-46\"/>\r\n       <use x=\"83.398438\" xlink:href=\"#ArialMT-53\"/>\r\n      </g>\r\n     </g>\r\n    </g>\r\n    <g id=\"xtick_9\">\r\n     <g id=\"line2d_22\">\r\n      <path clip-path=\"url(#p87aaf5c19c)\" d=\"M 812.130747 105.22275 \r\nL 812.130747 23.68275 \r\n\" style=\"fill:none;stroke:#ffffff;stroke-linecap:round;\"/>\r\n     </g>\r\n     <g id=\"line2d_23\">\r\n      <g>\r\n       <use style=\"fill:#262626;stroke:#262626;\" x=\"812.130747\" xlink:href=\"#m2400a2dcea\" y=\"105.22275\"/>\r\n      </g>\r\n     </g>\r\n     <g id=\"text_13\">\r\n      <!-- 1.0 -->\r\n      <g style=\"fill:#262626;\" transform=\"translate(802.122747 126.03)scale(0.144 -0.144)\">\r\n       <use xlink:href=\"#ArialMT-49\"/>\r\n       <use x=\"55.615234\" xlink:href=\"#ArialMT-46\"/>\r\n       <use x=\"83.398438\" xlink:href=\"#ArialMT-48\"/>\r\n      </g>\r\n     </g>\r\n    </g>\r\n    <g id=\"xtick_10\">\r\n     <g id=\"line2d_24\">\r\n      <path clip-path=\"url(#p87aaf5c19c)\" d=\"M 875.327248 105.22275 \r\nL 875.327248 23.68275 \r\n\" style=\"fill:none;stroke:#ffffff;stroke-linecap:round;\"/>\r\n     </g>\r\n     <g id=\"line2d_25\">\r\n      <g>\r\n       <use style=\"fill:#262626;stroke:#262626;\" x=\"875.327248\" xlink:href=\"#m2400a2dcea\" y=\"105.22275\"/>\r\n      </g>\r\n     </g>\r\n     <g id=\"text_14\">\r\n      <!-- 1.5 -->\r\n      <g style=\"fill:#262626;\" transform=\"translate(865.319248 126.03)scale(0.144 -0.144)\">\r\n       <use xlink:href=\"#ArialMT-49\"/>\r\n       <use x=\"55.615234\" xlink:href=\"#ArialMT-46\"/>\r\n       <use x=\"83.398438\" xlink:href=\"#ArialMT-53\"/>\r\n      </g>\r\n     </g>\r\n    </g>\r\n    <g id=\"xtick_11\">\r\n     <g id=\"line2d_26\">\r\n      <path clip-path=\"url(#p87aaf5c19c)\" d=\"M 938.52375 105.22275 \r\nL 938.52375 23.68275 \r\n\" style=\"fill:none;stroke:#ffffff;stroke-linecap:round;\"/>\r\n     </g>\r\n     <g id=\"line2d_27\">\r\n      <g>\r\n       <use style=\"fill:#262626;stroke:#262626;\" x=\"938.52375\" xlink:href=\"#m2400a2dcea\" y=\"105.22275\"/>\r\n      </g>\r\n     </g>\r\n     <g id=\"text_15\">\r\n      <!-- 2.0 -->\r\n      <g style=\"fill:#262626;\" transform=\"translate(928.51575 126.03)scale(0.144 -0.144)\">\r\n       <use xlink:href=\"#ArialMT-50\"/>\r\n       <use x=\"55.615234\" xlink:href=\"#ArialMT-46\"/>\r\n       <use x=\"83.398438\" xlink:href=\"#ArialMT-48\"/>\r\n      </g>\r\n     </g>\r\n    </g>\r\n    <g id=\"xtick_12\">\r\n     <g id=\"line2d_28\">\r\n      <path clip-path=\"url(#p87aaf5c19c)\" d=\"M 1001.720252 105.22275 \r\nL 1001.720252 23.68275 \r\n\" style=\"fill:none;stroke:#ffffff;stroke-linecap:round;\"/>\r\n     </g>\r\n     <g id=\"line2d_29\">\r\n      <g>\r\n       <use style=\"fill:#262626;stroke:#262626;\" x=\"1001.720252\" xlink:href=\"#m2400a2dcea\" y=\"105.22275\"/>\r\n      </g>\r\n     </g>\r\n     <g id=\"text_16\">\r\n      <!-- 2.5 -->\r\n      <g style=\"fill:#262626;\" transform=\"translate(991.712252 126.03)scale(0.144 -0.144)\">\r\n       <use xlink:href=\"#ArialMT-50\"/>\r\n       <use x=\"55.615234\" xlink:href=\"#ArialMT-46\"/>\r\n       <use x=\"83.398438\" xlink:href=\"#ArialMT-53\"/>\r\n      </g>\r\n     </g>\r\n    </g>\r\n    <g id=\"xtick_13\">\r\n     <g id=\"line2d_30\">\r\n      <path clip-path=\"url(#p87aaf5c19c)\" d=\"M 1064.916753 105.22275 \r\nL 1064.916753 23.68275 \r\n\" style=\"fill:none;stroke:#ffffff;stroke-linecap:round;\"/>\r\n     </g>\r\n     <g id=\"line2d_31\">\r\n      <g>\r\n       <use style=\"fill:#262626;stroke:#262626;\" x=\"1064.916753\" xlink:href=\"#m2400a2dcea\" y=\"105.22275\"/>\r\n      </g>\r\n     </g>\r\n     <g id=\"text_17\">\r\n      <!-- 3.0 -->\r\n      <defs>\r\n       <path d=\"M 4.203125 18.890625 \r\nL 12.984375 20.0625 \r\nQ 14.5 12.59375 18.140625 9.296875 \r\nQ 21.78125 6 27 6 \r\nQ 33.203125 6 37.46875 10.296875 \r\nQ 41.75 14.59375 41.75 20.953125 \r\nQ 41.75 27 37.796875 30.921875 \r\nQ 33.84375 34.859375 27.734375 34.859375 \r\nQ 25.25 34.859375 21.53125 33.890625 \r\nL 22.515625 41.609375 \r\nQ 23.390625 41.5 23.921875 41.5 \r\nQ 29.546875 41.5 34.03125 44.421875 \r\nQ 38.53125 47.359375 38.53125 53.46875 \r\nQ 38.53125 58.296875 35.25 61.46875 \r\nQ 31.984375 64.65625 26.8125 64.65625 \r\nQ 21.6875 64.65625 18.265625 61.421875 \r\nQ 14.84375 58.203125 13.875 51.765625 \r\nL 5.078125 53.328125 \r\nQ 6.6875 62.15625 12.390625 67.015625 \r\nQ 18.109375 71.875 26.609375 71.875 \r\nQ 32.46875 71.875 37.390625 69.359375 \r\nQ 42.328125 66.84375 44.9375 62.5 \r\nQ 47.5625 58.15625 47.5625 53.265625 \r\nQ 47.5625 48.640625 45.0625 44.828125 \r\nQ 42.578125 41.015625 37.703125 38.765625 \r\nQ 44.046875 37.3125 47.5625 32.6875 \r\nQ 51.078125 28.078125 51.078125 21.140625 \r\nQ 51.078125 11.765625 44.234375 5.25 \r\nQ 37.40625 -1.265625 26.953125 -1.265625 \r\nQ 17.53125 -1.265625 11.296875 4.34375 \r\nQ 5.078125 9.96875 4.203125 18.890625 \r\nz\r\n\" id=\"ArialMT-51\"/>\r\n      </defs>\r\n      <g style=\"fill:#262626;\" transform=\"translate(1054.908753 126.03)scale(0.144 -0.144)\">\r\n       <use xlink:href=\"#ArialMT-51\"/>\r\n       <use x=\"55.615234\" xlink:href=\"#ArialMT-46\"/>\r\n       <use x=\"83.398438\" xlink:href=\"#ArialMT-48\"/>\r\n      </g>\r\n     </g>\r\n    </g>\r\n    <g id=\"xtick_14\">\r\n     <g id=\"line2d_32\">\r\n      <path clip-path=\"url(#p87aaf5c19c)\" d=\"M 1128.113255 105.22275 \r\nL 1128.113255 23.68275 \r\n\" style=\"fill:none;stroke:#ffffff;stroke-linecap:round;\"/>\r\n     </g>\r\n     <g id=\"line2d_33\">\r\n      <g>\r\n       <use style=\"fill:#262626;stroke:#262626;\" x=\"1128.113255\" xlink:href=\"#m2400a2dcea\" y=\"105.22275\"/>\r\n      </g>\r\n     </g>\r\n     <g id=\"text_18\">\r\n      <!-- 3.5 -->\r\n      <g style=\"fill:#262626;\" transform=\"translate(1118.105255 126.03)scale(0.144 -0.144)\">\r\n       <use xlink:href=\"#ArialMT-51\"/>\r\n       <use x=\"55.615234\" xlink:href=\"#ArialMT-46\"/>\r\n       <use x=\"83.398438\" xlink:href=\"#ArialMT-53\"/>\r\n      </g>\r\n     </g>\r\n    </g>\r\n    <g id=\"text_19\">\r\n     <!-- Pclass -->\r\n     <defs>\r\n      <path d=\"M 7.71875 0 \r\nL 7.71875 71.578125 \r\nL 34.71875 71.578125 \r\nQ 41.84375 71.578125 45.609375 70.90625 \r\nQ 50.875 70.015625 54.4375 67.546875 \r\nQ 58.015625 65.09375 60.1875 60.640625 \r\nQ 62.359375 56.203125 62.359375 50.875 \r\nQ 62.359375 41.75 56.546875 35.421875 \r\nQ 50.734375 29.109375 35.546875 29.109375 \r\nL 17.1875 29.109375 \r\nL 17.1875 0 \r\nz\r\nM 17.1875 37.546875 \r\nL 35.6875 37.546875 \r\nQ 44.875 37.546875 48.734375 40.96875 \r\nQ 52.59375 44.390625 52.59375 50.59375 \r\nQ 52.59375 55.078125 50.3125 58.265625 \r\nQ 48.046875 61.46875 44.34375 62.5 \r\nQ 41.9375 63.140625 35.5 63.140625 \r\nL 17.1875 63.140625 \r\nz\r\n\" id=\"ArialMT-80\"/>\r\n      <path d=\"M 40.4375 19 \r\nL 49.078125 17.875 \r\nQ 47.65625 8.9375 41.8125 3.875 \r\nQ 35.984375 -1.171875 27.484375 -1.171875 \r\nQ 16.84375 -1.171875 10.375 5.78125 \r\nQ 3.90625 12.75 3.90625 25.734375 \r\nQ 3.90625 34.125 6.6875 40.421875 \r\nQ 9.46875 46.734375 15.15625 49.875 \r\nQ 20.84375 53.03125 27.546875 53.03125 \r\nQ 35.984375 53.03125 41.359375 48.75 \r\nQ 46.734375 44.484375 48.25 36.625 \r\nL 39.703125 35.296875 \r\nQ 38.484375 40.53125 35.375 43.15625 \r\nQ 32.28125 45.796875 27.875 45.796875 \r\nQ 21.234375 45.796875 17.078125 41.03125 \r\nQ 12.9375 36.28125 12.9375 25.984375 \r\nQ 12.9375 15.53125 16.9375 10.796875 \r\nQ 20.953125 6.0625 27.390625 6.0625 \r\nQ 32.5625 6.0625 36.03125 9.234375 \r\nQ 39.5 12.40625 40.4375 19 \r\nz\r\n\" id=\"ArialMT-99\"/>\r\n      <path d=\"M 40.4375 6.390625 \r\nQ 35.546875 2.25 31.03125 0.53125 \r\nQ 26.515625 -1.171875 21.34375 -1.171875 \r\nQ 12.796875 -1.171875 8.203125 3 \r\nQ 3.609375 7.171875 3.609375 13.671875 \r\nQ 3.609375 17.484375 5.34375 20.625 \r\nQ 7.078125 23.78125 9.890625 25.6875 \r\nQ 12.703125 27.59375 16.21875 28.5625 \r\nQ 18.796875 29.25 24.03125 29.890625 \r\nQ 34.671875 31.15625 39.703125 32.90625 \r\nQ 39.75 34.71875 39.75 35.203125 \r\nQ 39.75 40.578125 37.25 42.78125 \r\nQ 33.890625 45.75 27.25 45.75 \r\nQ 21.046875 45.75 18.09375 43.578125 \r\nQ 15.140625 41.40625 13.71875 35.890625 \r\nL 5.125 37.0625 \r\nQ 6.296875 42.578125 8.984375 45.96875 \r\nQ 11.671875 49.359375 16.75 51.1875 \r\nQ 21.828125 53.03125 28.515625 53.03125 \r\nQ 35.15625 53.03125 39.296875 51.46875 \r\nQ 43.453125 49.90625 45.40625 47.53125 \r\nQ 47.359375 45.171875 48.140625 41.546875 \r\nQ 48.578125 39.3125 48.578125 33.453125 \r\nL 48.578125 21.734375 \r\nQ 48.578125 9.46875 49.140625 6.21875 \r\nQ 49.703125 2.984375 51.375 0 \r\nL 42.1875 0 \r\nQ 40.828125 2.734375 40.4375 6.390625 \r\nz\r\nM 39.703125 26.03125 \r\nQ 34.90625 24.078125 25.34375 22.703125 \r\nQ 19.921875 21.921875 17.671875 20.9375 \r\nQ 15.4375 19.96875 14.203125 18.09375 \r\nQ 12.984375 16.21875 12.984375 13.921875 \r\nQ 12.984375 10.40625 15.640625 8.0625 \r\nQ 18.3125 5.71875 23.4375 5.71875 \r\nQ 28.515625 5.71875 32.46875 7.9375 \r\nQ 36.421875 10.15625 38.28125 14.015625 \r\nQ 39.703125 17 39.703125 22.796875 \r\nz\r\n\" id=\"ArialMT-97\"/>\r\n     </defs>\r\n     <g style=\"fill:#262626;\" transform=\"translate(917.3175 143.19925)scale(0.144 -0.144)\">\r\n      <use xlink:href=\"#ArialMT-80\"/>\r\n      <use x=\"66.699219\" xlink:href=\"#ArialMT-99\"/>\r\n      <use x=\"116.699219\" xlink:href=\"#ArialMT-108\"/>\r\n      <use x=\"138.916016\" xlink:href=\"#ArialMT-97\"/>\r\n      <use x=\"194.53125\" xlink:href=\"#ArialMT-115\"/>\r\n      <use x=\"244.53125\" xlink:href=\"#ArialMT-115\"/>\r\n     </g>\r\n    </g>\r\n   </g>\r\n   <g id=\"matplotlib.axis_4\">\r\n    <g id=\"ytick_3\">\r\n     <g id=\"line2d_34\">\r\n      <path clip-path=\"url(#p87aaf5c19c)\" d=\"M 715.32375 105.22275 \r\nL 1161.72375 105.22275 \r\n\" style=\"fill:none;stroke:#ffffff;stroke-linecap:round;\"/>\r\n     </g>\r\n     <g id=\"line2d_35\">\r\n      <g>\r\n       <use style=\"fill:#262626;stroke:#262626;\" x=\"715.32375\" xlink:href=\"#m9e559ed7c0\" y=\"105.22275\"/>\r\n      </g>\r\n     </g>\r\n     <g id=\"text_20\">\r\n      <!-- 0 -->\r\n      <g style=\"fill:#262626;\" transform=\"translate(696.816 110.376375)scale(0.144 -0.144)\">\r\n       <use xlink:href=\"#ArialMT-48\"/>\r\n      </g>\r\n     </g>\r\n    </g>\r\n    <g id=\"ytick_4\">\r\n     <g id=\"line2d_36\">\r\n      <path clip-path=\"url(#p87aaf5c19c)\" d=\"M 715.32375 34.761941 \r\nL 1161.72375 34.761941 \r\n\" style=\"fill:none;stroke:#ffffff;stroke-linecap:round;\"/>\r\n     </g>\r\n     <g id=\"line2d_37\">\r\n      <g>\r\n       <use style=\"fill:#262626;stroke:#262626;\" x=\"715.32375\" xlink:href=\"#m9e559ed7c0\" y=\"34.761941\"/>\r\n      </g>\r\n     </g>\r\n     <g id=\"text_21\">\r\n      <!-- 5 -->\r\n      <g style=\"fill:#262626;\" transform=\"translate(696.816 39.915566)scale(0.144 -0.144)\">\r\n       <use xlink:href=\"#ArialMT-53\"/>\r\n      </g>\r\n     </g>\r\n    </g>\r\n   </g>\r\n   <g id=\"patch_28\">\r\n    <path clip-path=\"url(#p87aaf5c19c)\" d=\"M 812.130747 105.22275 \r\nL 824.770047 105.22275 \r\nL 824.770047 71.059934 \r\nL 812.130747 71.059934 \r\nz\r\n\" style=\"fill:#8dd3c7;opacity:0.4;\"/>\r\n   </g>\r\n   <g id=\"patch_29\">\r\n    <path clip-path=\"url(#p87aaf5c19c)\" d=\"M 824.770047 105.22275 \r\nL 837.409348 105.22275 \r\nL 837.409348 105.22275 \r\nL 824.770047 105.22275 \r\nz\r\n\" style=\"fill:#8dd3c7;opacity:0.4;\"/>\r\n   </g>\r\n   <g id=\"patch_30\">\r\n    <path clip-path=\"url(#p87aaf5c19c)\" d=\"M 837.409348 105.22275 \r\nL 850.048648 105.22275 \r\nL 850.048648 105.22275 \r\nL 837.409348 105.22275 \r\nz\r\n\" style=\"fill:#8dd3c7;opacity:0.4;\"/>\r\n   </g>\r\n   <g id=\"patch_31\">\r\n    <path clip-path=\"url(#p87aaf5c19c)\" d=\"M 850.048648 105.22275 \r\nL 862.687948 105.22275 \r\nL 862.687948 105.22275 \r\nL 850.048648 105.22275 \r\nz\r\n\" style=\"fill:#8dd3c7;opacity:0.4;\"/>\r\n   </g>\r\n   <g id=\"patch_32\">\r\n    <path clip-path=\"url(#p87aaf5c19c)\" d=\"M 862.687948 105.22275 \r\nL 875.327248 105.22275 \r\nL 875.327248 105.22275 \r\nL 862.687948 105.22275 \r\nz\r\n\" style=\"fill:#8dd3c7;opacity:0.4;\"/>\r\n   </g>\r\n   <g id=\"patch_33\">\r\n    <path clip-path=\"url(#p87aaf5c19c)\" d=\"M 875.327248 105.22275 \r\nL 887.966549 105.22275 \r\nL 887.966549 105.22275 \r\nL 875.327248 105.22275 \r\nz\r\n\" style=\"fill:#8dd3c7;opacity:0.4;\"/>\r\n   </g>\r\n   <g id=\"patch_34\">\r\n    <path clip-path=\"url(#p87aaf5c19c)\" d=\"M 887.966549 105.22275 \r\nL 900.605849 105.22275 \r\nL 900.605849 105.22275 \r\nL 887.966549 105.22275 \r\nz\r\n\" style=\"fill:#8dd3c7;opacity:0.4;\"/>\r\n   </g>\r\n   <g id=\"patch_35\">\r\n    <path clip-path=\"url(#p87aaf5c19c)\" d=\"M 900.605849 105.22275 \r\nL 913.245149 105.22275 \r\nL 913.245149 105.22275 \r\nL 900.605849 105.22275 \r\nz\r\n\" style=\"fill:#8dd3c7;opacity:0.4;\"/>\r\n   </g>\r\n   <g id=\"patch_36\">\r\n    <path clip-path=\"url(#p87aaf5c19c)\" d=\"M 913.245149 105.22275 \r\nL 925.88445 105.22275 \r\nL 925.88445 105.22275 \r\nL 913.245149 105.22275 \r\nz\r\n\" style=\"fill:#8dd3c7;opacity:0.4;\"/>\r\n   </g>\r\n   <g id=\"patch_37\">\r\n    <path clip-path=\"url(#p87aaf5c19c)\" d=\"M 925.88445 105.22275 \r\nL 938.52375 105.22275 \r\nL 938.52375 105.22275 \r\nL 925.88445 105.22275 \r\nz\r\n\" style=\"fill:#8dd3c7;opacity:0.4;\"/>\r\n   </g>\r\n   <g id=\"patch_38\">\r\n    <path clip-path=\"url(#p87aaf5c19c)\" d=\"M 938.52375 105.22275 \r\nL 951.16305 105.22275 \r\nL 951.16305 76.121092 \r\nL 938.52375 76.121092 \r\nz\r\n\" style=\"fill:#8dd3c7;opacity:0.4;\"/>\r\n   </g>\r\n   <g id=\"patch_39\">\r\n    <path clip-path=\"url(#p87aaf5c19c)\" d=\"M 951.16305 105.22275 \r\nL 963.802351 105.22275 \r\nL 963.802351 105.22275 \r\nL 951.16305 105.22275 \r\nz\r\n\" style=\"fill:#8dd3c7;opacity:0.4;\"/>\r\n   </g>\r\n   <g id=\"patch_40\">\r\n    <path clip-path=\"url(#p87aaf5c19c)\" d=\"M 963.802351 105.22275 \r\nL 976.441651 105.22275 \r\nL 976.441651 105.22275 \r\nL 963.802351 105.22275 \r\nz\r\n\" style=\"fill:#8dd3c7;opacity:0.4;\"/>\r\n   </g>\r\n   <g id=\"patch_41\">\r\n    <path clip-path=\"url(#p87aaf5c19c)\" d=\"M 976.441651 105.22275 \r\nL 989.080951 105.22275 \r\nL 989.080951 105.22275 \r\nL 976.441651 105.22275 \r\nz\r\n\" style=\"fill:#8dd3c7;opacity:0.4;\"/>\r\n   </g>\r\n   <g id=\"patch_42\">\r\n    <path clip-path=\"url(#p87aaf5c19c)\" d=\"M 989.080951 105.22275 \r\nL 1001.720252 105.22275 \r\nL 1001.720252 105.22275 \r\nL 989.080951 105.22275 \r\nz\r\n\" style=\"fill:#8dd3c7;opacity:0.4;\"/>\r\n   </g>\r\n   <g id=\"patch_43\">\r\n    <path clip-path=\"url(#p87aaf5c19c)\" d=\"M 1001.720252 105.22275 \r\nL 1014.359552 105.22275 \r\nL 1014.359552 105.22275 \r\nL 1001.720252 105.22275 \r\nz\r\n\" style=\"fill:#8dd3c7;opacity:0.4;\"/>\r\n   </g>\r\n   <g id=\"patch_44\">\r\n    <path clip-path=\"url(#p87aaf5c19c)\" d=\"M 1014.359552 105.22275 \r\nL 1026.998852 105.22275 \r\nL 1026.998852 105.22275 \r\nL 1014.359552 105.22275 \r\nz\r\n\" style=\"fill:#8dd3c7;opacity:0.4;\"/>\r\n   </g>\r\n   <g id=\"patch_45\">\r\n    <path clip-path=\"url(#p87aaf5c19c)\" d=\"M 1026.998852 105.22275 \r\nL 1039.638152 105.22275 \r\nL 1039.638152 105.22275 \r\nL 1026.998852 105.22275 \r\nz\r\n\" style=\"fill:#8dd3c7;opacity:0.4;\"/>\r\n   </g>\r\n   <g id=\"patch_46\">\r\n    <path clip-path=\"url(#p87aaf5c19c)\" d=\"M 1039.638152 105.22275 \r\nL 1052.277453 105.22275 \r\nL 1052.277453 105.22275 \r\nL 1039.638152 105.22275 \r\nz\r\n\" style=\"fill:#8dd3c7;opacity:0.4;\"/>\r\n   </g>\r\n   <g id=\"patch_47\">\r\n    <path clip-path=\"url(#p87aaf5c19c)\" d=\"M 1052.277453 105.22275 \r\nL 1064.916753 105.22275 \r\nL 1064.916753 27.565607 \r\nL 1052.277453 27.565607 \r\nz\r\n\" style=\"fill:#8dd3c7;opacity:0.4;\"/>\r\n   </g>\r\n   <g id=\"line2d_38\">\r\n    <path clip-path=\"url(#p87aaf5c19c)\" d=\"M 735.614659 105.019949 \r\nL 745.200915 104.961701 \r\nL 754.787172 104.658807 \r\nL 761.178009 104.281982 \r\nL 767.568847 103.73277 \r\nL 773.959684 102.999663 \r\nL 783.54594 101.612411 \r\nL 796.327615 99.672484 \r\nL 802.718453 98.951314 \r\nL 809.10929 98.561879 \r\nL 815.500128 98.57298 \r\nL 821.890965 98.982559 \r\nL 828.281803 99.718218 \r\nL 837.868059 101.160424 \r\nL 847.454315 102.607037 \r\nL 853.845153 103.403931 \r\nL 860.235991 104.006452 \r\nL 866.626828 104.401895 \r\nL 873.017666 104.596182 \r\nL 879.408503 104.598986 \r\nL 885.799341 104.415022 \r\nL 892.190178 104.044316 \r\nL 898.581016 103.49092 \r\nL 908.167272 102.373392 \r\nL 924.144366 100.342747 \r\nL 930.535203 99.786445 \r\nL 936.926041 99.528928 \r\nL 943.316878 99.616009 \r\nL 949.707716 100.031903 \r\nL 956.098553 100.703662 \r\nL 978.466484 103.461341 \r\nL 984.857322 103.978045 \r\nL 991.248159 104.275458 \r\nL 997.638997 104.322722 \r\nL 1004.029834 104.082161 \r\nL 1010.420672 103.502929 \r\nL 1016.811509 102.528664 \r\nL 1023.202347 101.120504 \r\nL 1029.593185 99.290627 \r\nL 1035.984022 97.134794 \r\nL 1045.570278 93.741219 \r\nL 1051.961116 91.797281 \r\nL 1055.156535 91.038122 \r\nL 1058.351953 90.466166 \r\nL 1061.547372 90.106916 \r\nL 1064.742791 89.976737 \r\nL 1067.93821 90.081626 \r\nL 1071.133628 90.416758 \r\nL 1074.329047 90.966856 \r\nL 1077.524466 91.707347 \r\nL 1080.719885 92.606183 \r\nL 1087.110722 94.72735 \r\nL 1099.892397 99.190823 \r\nL 1106.283235 101.055253 \r\nL 1112.674072 102.5157 \r\nL 1119.06491 103.568389 \r\nL 1125.455747 104.268458 \r\nL 1131.846585 104.695661 \r\nL 1138.237422 104.926962 \r\nL 1141.432841 104.988142 \r\nL 1141.432841 104.988142 \r\n\" style=\"fill:none;stroke:#8dd3c7;stroke-linecap:round;stroke-width:1.75;\"/>\r\n   </g>\r\n   <g id=\"patch_48\">\r\n    <path d=\"M 715.32375 105.22275 \r\nL 715.32375 23.68275 \r\n\" style=\"fill:none;\"/>\r\n   </g>\r\n   <g id=\"patch_49\">\r\n    <path d=\"M 1161.72375 105.22275 \r\nL 1161.72375 23.68275 \r\n\" style=\"fill:none;\"/>\r\n   </g>\r\n   <g id=\"patch_50\">\r\n    <path d=\"M 715.32375 105.22275 \r\nL 1161.72375 105.22275 \r\n\" style=\"fill:none;\"/>\r\n   </g>\r\n   <g id=\"patch_51\">\r\n    <path d=\"M 715.32375 23.68275 \r\nL 1161.72375 23.68275 \r\n\" style=\"fill:none;\"/>\r\n   </g>\r\n   <g id=\"text_22\">\r\n    <!-- Distplot of Pclass -->\r\n    <g style=\"fill:#262626;\" transform=\"translate(883.305375 17.68275)scale(0.144 -0.144)\">\r\n     <use xlink:href=\"#ArialMT-68\"/>\r\n     <use x=\"72.216797\" xlink:href=\"#ArialMT-105\"/>\r\n     <use x=\"94.433594\" xlink:href=\"#ArialMT-115\"/>\r\n     <use x=\"144.433594\" xlink:href=\"#ArialMT-116\"/>\r\n     <use x=\"172.216797\" xlink:href=\"#ArialMT-112\"/>\r\n     <use x=\"227.832031\" xlink:href=\"#ArialMT-108\"/>\r\n     <use x=\"250.048828\" xlink:href=\"#ArialMT-111\"/>\r\n     <use x=\"305.664062\" xlink:href=\"#ArialMT-116\"/>\r\n     <use x=\"333.447266\" xlink:href=\"#ArialMT-32\"/>\r\n     <use x=\"361.230469\" xlink:href=\"#ArialMT-111\"/>\r\n     <use x=\"416.845703\" xlink:href=\"#ArialMT-102\"/>\r\n     <use x=\"444.628906\" xlink:href=\"#ArialMT-32\"/>\r\n     <use x=\"472.412109\" xlink:href=\"#ArialMT-80\"/>\r\n     <use x=\"539.111328\" xlink:href=\"#ArialMT-99\"/>\r\n     <use x=\"589.111328\" xlink:href=\"#ArialMT-108\"/>\r\n     <use x=\"611.328125\" xlink:href=\"#ArialMT-97\"/>\r\n     <use x=\"666.943359\" xlink:href=\"#ArialMT-115\"/>\r\n     <use x=\"716.943359\" xlink:href=\"#ArialMT-115\"/>\r\n    </g>\r\n   </g>\r\n  </g>\r\n  <g id=\"axes_3\">\r\n   <g id=\"patch_52\">\r\n    <path d=\"M 45.72375 227.53275 \r\nL 492.12375 227.53275 \r\nL 492.12375 145.99275 \r\nL 45.72375 145.99275 \r\nz\r\n\" style=\"fill:#eaeaf2;\"/>\r\n   </g>\r\n   <g id=\"matplotlib.axis_5\">\r\n    <g id=\"xtick_15\">\r\n     <g id=\"line2d_39\">\r\n      <path clip-path=\"url(#p3d79b531db)\" d=\"M 109.260922 227.53275 \r\nL 109.260922 145.99275 \r\n\" style=\"fill:none;stroke:#ffffff;stroke-linecap:round;\"/>\r\n     </g>\r\n     <g id=\"line2d_40\">\r\n      <g>\r\n       <use style=\"fill:#262626;stroke:#262626;\" x=\"109.260922\" xlink:href=\"#m2400a2dcea\" y=\"227.53275\"/>\r\n      </g>\r\n     </g>\r\n     <g id=\"text_23\">\r\n      <!-- 0 -->\r\n      <g style=\"fill:#262626;\" transform=\"translate(105.257047 248.34)scale(0.144 -0.144)\">\r\n       <use xlink:href=\"#ArialMT-48\"/>\r\n      </g>\r\n     </g>\r\n    </g>\r\n    <g id=\"xtick_16\">\r\n     <g id=\"line2d_41\">\r\n      <path clip-path=\"url(#p3d79b531db)\" d=\"M 188.67541 227.53275 \r\nL 188.67541 145.99275 \r\n\" style=\"fill:none;stroke:#ffffff;stroke-linecap:round;\"/>\r\n     </g>\r\n     <g id=\"line2d_42\">\r\n      <g>\r\n       <use style=\"fill:#262626;stroke:#262626;\" x=\"188.67541\" xlink:href=\"#m2400a2dcea\" y=\"227.53275\"/>\r\n      </g>\r\n     </g>\r\n     <g id=\"text_24\">\r\n      <!-- 20 -->\r\n      <g style=\"fill:#262626;\" transform=\"translate(180.66766 248.34)scale(0.144 -0.144)\">\r\n       <use xlink:href=\"#ArialMT-50\"/>\r\n       <use x=\"55.615234\" xlink:href=\"#ArialMT-48\"/>\r\n      </g>\r\n     </g>\r\n    </g>\r\n    <g id=\"xtick_17\">\r\n     <g id=\"line2d_43\">\r\n      <path clip-path=\"url(#p3d79b531db)\" d=\"M 268.089898 227.53275 \r\nL 268.089898 145.99275 \r\n\" style=\"fill:none;stroke:#ffffff;stroke-linecap:round;\"/>\r\n     </g>\r\n     <g id=\"line2d_44\">\r\n      <g>\r\n       <use style=\"fill:#262626;stroke:#262626;\" x=\"268.089898\" xlink:href=\"#m2400a2dcea\" y=\"227.53275\"/>\r\n      </g>\r\n     </g>\r\n     <g id=\"text_25\">\r\n      <!-- 40 -->\r\n      <defs>\r\n       <path d=\"M 32.328125 0 \r\nL 32.328125 17.140625 \r\nL 1.265625 17.140625 \r\nL 1.265625 25.203125 \r\nL 33.9375 71.578125 \r\nL 41.109375 71.578125 \r\nL 41.109375 25.203125 \r\nL 50.78125 25.203125 \r\nL 50.78125 17.140625 \r\nL 41.109375 17.140625 \r\nL 41.109375 0 \r\nz\r\nM 32.328125 25.203125 \r\nL 32.328125 57.46875 \r\nL 9.90625 25.203125 \r\nz\r\n\" id=\"ArialMT-52\"/>\r\n      </defs>\r\n      <g style=\"fill:#262626;\" transform=\"translate(260.082148 248.34)scale(0.144 -0.144)\">\r\n       <use xlink:href=\"#ArialMT-52\"/>\r\n       <use x=\"55.615234\" xlink:href=\"#ArialMT-48\"/>\r\n      </g>\r\n     </g>\r\n    </g>\r\n    <g id=\"xtick_18\">\r\n     <g id=\"line2d_45\">\r\n      <path clip-path=\"url(#p3d79b531db)\" d=\"M 347.504386 227.53275 \r\nL 347.504386 145.99275 \r\n\" style=\"fill:none;stroke:#ffffff;stroke-linecap:round;\"/>\r\n     </g>\r\n     <g id=\"line2d_46\">\r\n      <g>\r\n       <use style=\"fill:#262626;stroke:#262626;\" x=\"347.504386\" xlink:href=\"#m2400a2dcea\" y=\"227.53275\"/>\r\n      </g>\r\n     </g>\r\n     <g id=\"text_26\">\r\n      <!-- 60 -->\r\n      <defs>\r\n       <path d=\"M 49.75 54.046875 \r\nL 41.015625 53.375 \r\nQ 39.84375 58.546875 37.703125 60.890625 \r\nQ 34.125 64.65625 28.90625 64.65625 \r\nQ 24.703125 64.65625 21.53125 62.3125 \r\nQ 17.390625 59.28125 14.984375 53.46875 \r\nQ 12.59375 47.65625 12.5 36.921875 \r\nQ 15.671875 41.75 20.265625 44.09375 \r\nQ 24.859375 46.4375 29.890625 46.4375 \r\nQ 38.671875 46.4375 44.84375 39.96875 \r\nQ 51.03125 33.5 51.03125 23.25 \r\nQ 51.03125 16.5 48.125 10.71875 \r\nQ 45.21875 4.9375 40.140625 1.859375 \r\nQ 35.0625 -1.21875 28.609375 -1.21875 \r\nQ 17.625 -1.21875 10.6875 6.859375 \r\nQ 3.765625 14.9375 3.765625 33.5 \r\nQ 3.765625 54.25 11.421875 63.671875 \r\nQ 18.109375 71.875 29.4375 71.875 \r\nQ 37.890625 71.875 43.28125 67.140625 \r\nQ 48.6875 62.40625 49.75 54.046875 \r\nz\r\nM 13.875 23.1875 \r\nQ 13.875 18.65625 15.796875 14.5 \r\nQ 17.71875 10.359375 21.1875 8.171875 \r\nQ 24.65625 6 28.46875 6 \r\nQ 34.03125 6 38.03125 10.484375 \r\nQ 42.046875 14.984375 42.046875 22.703125 \r\nQ 42.046875 30.125 38.078125 34.390625 \r\nQ 34.125 38.671875 28.125 38.671875 \r\nQ 22.171875 38.671875 18.015625 34.390625 \r\nQ 13.875 30.125 13.875 23.1875 \r\nz\r\n\" id=\"ArialMT-54\"/>\r\n      </defs>\r\n      <g style=\"fill:#262626;\" transform=\"translate(339.496636 248.34)scale(0.144 -0.144)\">\r\n       <use xlink:href=\"#ArialMT-54\"/>\r\n       <use x=\"55.615234\" xlink:href=\"#ArialMT-48\"/>\r\n      </g>\r\n     </g>\r\n    </g>\r\n    <g id=\"xtick_19\">\r\n     <g id=\"line2d_47\">\r\n      <path clip-path=\"url(#p3d79b531db)\" d=\"M 426.918874 227.53275 \r\nL 426.918874 145.99275 \r\n\" style=\"fill:none;stroke:#ffffff;stroke-linecap:round;\"/>\r\n     </g>\r\n     <g id=\"line2d_48\">\r\n      <g>\r\n       <use style=\"fill:#262626;stroke:#262626;\" x=\"426.918874\" xlink:href=\"#m2400a2dcea\" y=\"227.53275\"/>\r\n      </g>\r\n     </g>\r\n     <g id=\"text_27\">\r\n      <!-- 80 -->\r\n      <defs>\r\n       <path d=\"M 17.671875 38.8125 \r\nQ 12.203125 40.828125 9.5625 44.53125 \r\nQ 6.9375 48.25 6.9375 53.421875 \r\nQ 6.9375 61.234375 12.546875 66.546875 \r\nQ 18.171875 71.875 27.484375 71.875 \r\nQ 36.859375 71.875 42.578125 66.421875 \r\nQ 48.296875 60.984375 48.296875 53.171875 \r\nQ 48.296875 48.1875 45.671875 44.5 \r\nQ 43.0625 40.828125 37.75 38.8125 \r\nQ 44.34375 36.671875 47.78125 31.875 \r\nQ 51.21875 27.09375 51.21875 20.453125 \r\nQ 51.21875 11.28125 44.71875 5.03125 \r\nQ 38.234375 -1.21875 27.640625 -1.21875 \r\nQ 17.046875 -1.21875 10.546875 5.046875 \r\nQ 4.046875 11.328125 4.046875 20.703125 \r\nQ 4.046875 27.6875 7.59375 32.390625 \r\nQ 11.140625 37.109375 17.671875 38.8125 \r\nz\r\nM 15.921875 53.71875 \r\nQ 15.921875 48.640625 19.1875 45.40625 \r\nQ 22.46875 42.1875 27.6875 42.1875 \r\nQ 32.765625 42.1875 36.015625 45.375 \r\nQ 39.265625 48.578125 39.265625 53.21875 \r\nQ 39.265625 58.0625 35.90625 61.359375 \r\nQ 32.5625 64.65625 27.59375 64.65625 \r\nQ 22.5625 64.65625 19.234375 61.421875 \r\nQ 15.921875 58.203125 15.921875 53.71875 \r\nz\r\nM 13.09375 20.65625 \r\nQ 13.09375 16.890625 14.875 13.375 \r\nQ 16.65625 9.859375 20.171875 7.921875 \r\nQ 23.6875 6 27.734375 6 \r\nQ 34.03125 6 38.125 10.046875 \r\nQ 42.234375 14.109375 42.234375 20.359375 \r\nQ 42.234375 26.703125 38.015625 30.859375 \r\nQ 33.796875 35.015625 27.4375 35.015625 \r\nQ 21.234375 35.015625 17.15625 30.90625 \r\nQ 13.09375 26.8125 13.09375 20.65625 \r\nz\r\n\" id=\"ArialMT-56\"/>\r\n      </defs>\r\n      <g style=\"fill:#262626;\" transform=\"translate(418.911124 248.34)scale(0.144 -0.144)\">\r\n       <use xlink:href=\"#ArialMT-56\"/>\r\n       <use x=\"55.615234\" xlink:href=\"#ArialMT-48\"/>\r\n      </g>\r\n     </g>\r\n    </g>\r\n    <g id=\"text_28\">\r\n     <!-- Age -->\r\n     <defs>\r\n      <path d=\"M -0.140625 0 \r\nL 27.34375 71.578125 \r\nL 37.546875 71.578125 \r\nL 66.84375 0 \r\nL 56.0625 0 \r\nL 47.703125 21.6875 \r\nL 17.78125 21.6875 \r\nL 9.90625 0 \r\nz\r\nM 20.515625 29.390625 \r\nL 44.78125 29.390625 \r\nL 37.3125 49.21875 \r\nQ 33.890625 58.25 32.234375 64.0625 \r\nQ 30.859375 57.171875 28.375 50.390625 \r\nz\r\n\" id=\"ArialMT-65\"/>\r\n      <path d=\"M 4.984375 -4.296875 \r\nL 13.53125 -5.5625 \r\nQ 14.0625 -9.515625 16.5 -11.328125 \r\nQ 19.78125 -13.765625 25.4375 -13.765625 \r\nQ 31.546875 -13.765625 34.859375 -11.328125 \r\nQ 38.1875 -8.890625 39.359375 -4.5 \r\nQ 40.046875 -1.8125 39.984375 6.78125 \r\nQ 34.234375 0 25.640625 0 \r\nQ 14.9375 0 9.078125 7.71875 \r\nQ 3.21875 15.4375 3.21875 26.21875 \r\nQ 3.21875 33.640625 5.90625 39.90625 \r\nQ 8.59375 46.1875 13.6875 49.609375 \r\nQ 18.796875 53.03125 25.6875 53.03125 \r\nQ 34.859375 53.03125 40.828125 45.609375 \r\nL 40.828125 51.859375 \r\nL 48.921875 51.859375 \r\nL 48.921875 7.03125 \r\nQ 48.921875 -5.078125 46.453125 -10.125 \r\nQ 44 -15.1875 38.640625 -18.109375 \r\nQ 33.296875 -21.046875 25.484375 -21.046875 \r\nQ 16.21875 -21.046875 10.5 -16.875 \r\nQ 4.78125 -12.703125 4.984375 -4.296875 \r\nz\r\nM 12.25 26.859375 \r\nQ 12.25 16.65625 16.296875 11.96875 \r\nQ 20.359375 7.28125 26.46875 7.28125 \r\nQ 32.515625 7.28125 36.609375 11.9375 \r\nQ 40.71875 16.609375 40.71875 26.5625 \r\nQ 40.71875 36.078125 36.5 40.90625 \r\nQ 32.28125 45.75 26.3125 45.75 \r\nQ 20.453125 45.75 16.34375 40.984375 \r\nQ 12.25 36.234375 12.25 26.859375 \r\nz\r\n\" id=\"ArialMT-103\"/>\r\n     </defs>\r\n     <g style=\"fill:#262626;\" transform=\"translate(256.113375 265.50925)scale(0.144 -0.144)\">\r\n      <use xlink:href=\"#ArialMT-65\"/>\r\n      <use x=\"66.699219\" xlink:href=\"#ArialMT-103\"/>\r\n      <use x=\"122.314453\" xlink:href=\"#ArialMT-101\"/>\r\n     </g>\r\n    </g>\r\n   </g>\r\n   <g id=\"matplotlib.axis_6\">\r\n    <g id=\"ytick_5\">\r\n     <g id=\"line2d_49\">\r\n      <path clip-path=\"url(#p3d79b531db)\" d=\"M 45.72375 227.53275 \r\nL 492.12375 227.53275 \r\n\" style=\"fill:none;stroke:#ffffff;stroke-linecap:round;\"/>\r\n     </g>\r\n     <g id=\"line2d_50\">\r\n      <g>\r\n       <use style=\"fill:#262626;stroke:#262626;\" x=\"45.72375\" xlink:href=\"#m9e559ed7c0\" y=\"227.53275\"/>\r\n      </g>\r\n     </g>\r\n     <g id=\"text_29\">\r\n      <!-- 0.00 -->\r\n      <g style=\"fill:#262626;\" transform=\"translate(7.2 232.686375)scale(0.144 -0.144)\">\r\n       <use xlink:href=\"#ArialMT-48\"/>\r\n       <use x=\"55.615234\" xlink:href=\"#ArialMT-46\"/>\r\n       <use x=\"83.398438\" xlink:href=\"#ArialMT-48\"/>\r\n       <use x=\"139.013672\" xlink:href=\"#ArialMT-48\"/>\r\n      </g>\r\n     </g>\r\n    </g>\r\n    <g id=\"ytick_6\">\r\n     <g id=\"line2d_51\">\r\n      <path clip-path=\"url(#p3d79b531db)\" d=\"M 45.72375 182.50736 \r\nL 492.12375 182.50736 \r\n\" style=\"fill:none;stroke:#ffffff;stroke-linecap:round;\"/>\r\n     </g>\r\n     <g id=\"line2d_52\">\r\n      <g>\r\n       <use style=\"fill:#262626;stroke:#262626;\" x=\"45.72375\" xlink:href=\"#m9e559ed7c0\" y=\"182.50736\"/>\r\n      </g>\r\n     </g>\r\n     <g id=\"text_30\">\r\n      <!-- 0.02 -->\r\n      <g style=\"fill:#262626;\" transform=\"translate(7.2 187.660985)scale(0.144 -0.144)\">\r\n       <use xlink:href=\"#ArialMT-48\"/>\r\n       <use x=\"55.615234\" xlink:href=\"#ArialMT-46\"/>\r\n       <use x=\"83.398438\" xlink:href=\"#ArialMT-48\"/>\r\n       <use x=\"139.013672\" xlink:href=\"#ArialMT-50\"/>\r\n      </g>\r\n     </g>\r\n    </g>\r\n   </g>\r\n   <g id=\"patch_53\">\r\n    <path clip-path=\"url(#p3d79b531db)\" d=\"M 110.928626 227.53275 \r\nL 126.728139 227.53275 \r\nL 126.728139 195.835957 \r\nL 110.928626 195.835957 \r\nz\r\n\" style=\"fill:#8dd3c7;opacity:0.4;\"/>\r\n   </g>\r\n   <g id=\"patch_54\">\r\n    <path clip-path=\"url(#p3d79b531db)\" d=\"M 126.728139 227.53275 \r\nL 142.527651 227.53275 \r\nL 142.527651 216.438872 \r\nL 126.728139 216.438872 \r\nz\r\n\" style=\"fill:#8dd3c7;opacity:0.4;\"/>\r\n   </g>\r\n   <g id=\"patch_55\">\r\n    <path clip-path=\"url(#p3d79b531db)\" d=\"M 142.527651 227.53275 \r\nL 158.327163 227.53275 \r\nL 158.327163 215.646453 \r\nL 142.527651 215.646453 \r\nz\r\n\" style=\"fill:#8dd3c7;opacity:0.4;\"/>\r\n   </g>\r\n   <g id=\"patch_56\">\r\n    <path clip-path=\"url(#p3d79b531db)\" d=\"M 158.327163 227.53275 \r\nL 174.126676 227.53275 \r\nL 174.126676 202.967735 \r\nL 158.327163 202.967735 \r\nz\r\n\" style=\"fill:#8dd3c7;opacity:0.4;\"/>\r\n   </g>\r\n   <g id=\"patch_57\">\r\n    <path clip-path=\"url(#p3d79b531db)\" d=\"M 174.126676 227.53275 \r\nL 189.926188 227.53275 \r\nL 189.926188 164.931584 \r\nL 174.126676 164.931584 \r\nz\r\n\" style=\"fill:#8dd3c7;opacity:0.4;\"/>\r\n   </g>\r\n   <g id=\"patch_58\">\r\n    <path clip-path=\"url(#p3d79b531db)\" d=\"M 189.926188 227.53275 \r\nL 205.725701 227.53275 \r\nL 205.725701 149.875607 \r\nL 189.926188 149.875607 \r\nz\r\n\" style=\"fill:#8dd3c7;opacity:0.4;\"/>\r\n   </g>\r\n   <g id=\"patch_59\">\r\n    <path clip-path=\"url(#p3d79b531db)\" d=\"M 205.725701 227.53275 \r\nL 221.525213 227.53275 \r\nL 221.525213 160.177065 \r\nL 205.725701 160.177065 \r\nz\r\n\" style=\"fill:#8dd3c7;opacity:0.4;\"/>\r\n   </g>\r\n   <g id=\"patch_60\">\r\n    <path clip-path=\"url(#p3d79b531db)\" d=\"M 221.525213 227.53275 \r\nL 237.324725 227.53275 \r\nL 237.324725 160.969485 \r\nL 221.525213 160.969485 \r\nz\r\n\" style=\"fill:#8dd3c7;opacity:0.4;\"/>\r\n   </g>\r\n   <g id=\"patch_61\">\r\n    <path clip-path=\"url(#p3d79b531db)\" d=\"M 237.324725 227.53275 \r\nL 253.124238 227.53275 \r\nL 253.124238 169.686103 \r\nL 237.324725 169.686103 \r\nz\r\n\" style=\"fill:#8dd3c7;opacity:0.4;\"/>\r\n   </g>\r\n   <g id=\"patch_62\">\r\n    <path clip-path=\"url(#p3d79b531db)\" d=\"M 253.124238 227.53275 \r\nL 268.92375 227.53275 \r\nL 268.92375 191.873858 \r\nL 253.124238 191.873858 \r\nz\r\n\" style=\"fill:#8dd3c7;opacity:0.4;\"/>\r\n   </g>\r\n   <g id=\"patch_63\">\r\n    <path clip-path=\"url(#p3d79b531db)\" d=\"M 268.92375 227.53275 \r\nL 284.723262 227.53275 \r\nL 284.723262 199.798056 \r\nL 268.92375 199.798056 \r\nz\r\n\" style=\"fill:#8dd3c7;opacity:0.4;\"/>\r\n   </g>\r\n   <g id=\"patch_64\">\r\n    <path clip-path=\"url(#p3d79b531db)\" d=\"M 284.723262 227.53275 \r\nL 300.522775 227.53275 \r\nL 300.522775 199.798056 \r\nL 284.723262 199.798056 \r\nz\r\n\" style=\"fill:#8dd3c7;opacity:0.4;\"/>\r\n   </g>\r\n   <g id=\"patch_65\">\r\n    <path clip-path=\"url(#p3d79b531db)\" d=\"M 300.522775 227.53275 \r\nL 316.322287 227.53275 \r\nL 316.322287 204.552575 \r\nL 300.522775 204.552575 \r\nz\r\n\" style=\"fill:#8dd3c7;opacity:0.4;\"/>\r\n   </g>\r\n   <g id=\"patch_66\">\r\n    <path clip-path=\"url(#p3d79b531db)\" d=\"M 316.322287 227.53275 \r\nL 332.121799 227.53275 \r\nL 332.121799 214.854033 \r\nL 316.322287 214.854033 \r\nz\r\n\" style=\"fill:#8dd3c7;opacity:0.4;\"/>\r\n   </g>\r\n   <g id=\"patch_67\">\r\n    <path clip-path=\"url(#p3d79b531db)\" d=\"M 332.121799 227.53275 \r\nL 347.921312 227.53275 \r\nL 347.921312 217.231292 \r\nL 332.121799 217.231292 \r\nz\r\n\" style=\"fill:#8dd3c7;opacity:0.4;\"/>\r\n   </g>\r\n   <g id=\"patch_68\">\r\n    <path clip-path=\"url(#p3d79b531db)\" d=\"M 347.921312 227.53275 \r\nL 363.720824 227.53275 \r\nL 363.720824 218.816132 \r\nL 347.921312 218.816132 \r\nz\r\n\" style=\"fill:#8dd3c7;opacity:0.4;\"/>\r\n   </g>\r\n   <g id=\"patch_69\">\r\n    <path clip-path=\"url(#p3d79b531db)\" d=\"M 363.720824 227.53275 \r\nL 379.520337 227.53275 \r\nL 379.520337 224.363071 \r\nL 363.720824 224.363071 \r\nz\r\n\" style=\"fill:#8dd3c7;opacity:0.4;\"/>\r\n   </g>\r\n   <g id=\"patch_70\">\r\n    <path clip-path=\"url(#p3d79b531db)\" d=\"M 379.520337 227.53275 \r\nL 395.319849 227.53275 \r\nL 395.319849 223.570651 \r\nL 379.520337 223.570651 \r\nz\r\n\" style=\"fill:#8dd3c7;opacity:0.4;\"/>\r\n   </g>\r\n   <g id=\"patch_71\">\r\n    <path clip-path=\"url(#p3d79b531db)\" d=\"M 395.319849 227.53275 \r\nL 411.119361 227.53275 \r\nL 411.119361 226.74033 \r\nL 395.319849 226.74033 \r\nz\r\n\" style=\"fill:#8dd3c7;opacity:0.4;\"/>\r\n   </g>\r\n   <g id=\"patch_72\">\r\n    <path clip-path=\"url(#p3d79b531db)\" d=\"M 411.119361 227.53275 \r\nL 426.918874 227.53275 \r\nL 426.918874 226.74033 \r\nL 411.119361 226.74033 \r\nz\r\n\" style=\"fill:#8dd3c7;opacity:0.4;\"/>\r\n   </g>\r\n   <g id=\"line2d_53\">\r\n    <path clip-path=\"url(#p3d79b531db)\" d=\"M 66.014659 227.477104 \r\nL 72.405497 227.340944 \r\nL 78.796334 226.955895 \r\nL 81.991753 226.59194 \r\nL 85.187172 226.060111 \r\nL 88.38259 225.319675 \r\nL 91.578009 224.338271 \r\nL 94.773428 223.101281 \r\nL 97.968847 221.62087 \r\nL 104.359684 218.143802 \r\nL 110.750522 214.626749 \r\nL 113.94594 213.144688 \r\nL 117.141359 211.979696 \r\nL 120.336778 211.187784 \r\nL 123.532197 210.778438 \r\nL 126.727615 210.714218 \r\nL 129.923034 210.917544 \r\nL 139.50929 211.990442 \r\nL 142.704709 212.07187 \r\nL 145.900128 211.799705 \r\nL 149.095547 211.054958 \r\nL 152.290965 209.734332 \r\nL 155.486384 207.760351 \r\nL 158.681803 205.093713 \r\nL 161.877222 201.745024 \r\nL 165.07264 197.782218 \r\nL 168.268059 193.330368 \r\nL 181.049734 174.403467 \r\nL 184.245153 170.359392 \r\nL 187.440572 166.874614 \r\nL 190.635991 164.007196 \r\nL 193.831409 161.767013 \r\nL 197.026828 160.12512 \r\nL 200.222247 159.026005 \r\nL 203.417666 158.400357 \r\nL 206.613084 158.176636 \r\nL 209.808503 158.290319 \r\nL 213.003922 158.69009 \r\nL 216.199341 159.340507 \r\nL 219.394759 160.221072 \r\nL 222.590178 161.322241 \r\nL 225.785597 162.639605 \r\nL 228.981016 164.167927 \r\nL 232.176434 165.896645 \r\nL 235.371853 167.807778 \r\nL 241.762691 172.071592 \r\nL 248.153528 176.708205 \r\nL 257.739784 183.758883 \r\nL 264.130622 188.140161 \r\nL 267.326041 190.152195 \r\nL 270.521459 192.019759 \r\nL 273.716878 193.732248 \r\nL 276.912297 195.286779 \r\nL 280.107716 196.688714 \r\nL 286.498553 199.098181 \r\nL 292.889391 201.16027 \r\nL 302.475647 204.174783 \r\nL 308.866484 206.400309 \r\nL 324.843578 212.223047 \r\nL 331.234416 214.127023 \r\nL 337.625253 215.654091 \r\nL 347.211509 217.511398 \r\nL 356.797766 219.362741 \r\nL 372.77486 222.59941 \r\nL 379.165697 223.594517 \r\nL 385.556535 224.346258 \r\nL 398.33821 225.497716 \r\nL 411.119885 226.439968 \r\nL 420.706141 226.864312 \r\nL 436.683235 227.223309 \r\nL 455.855747 227.479207 \r\nL 471.832841 227.50223 \r\nL 471.832841 227.50223 \r\n\" style=\"fill:none;stroke:#8dd3c7;stroke-linecap:round;stroke-width:1.75;\"/>\r\n   </g>\r\n   <g id=\"patch_73\">\r\n    <path d=\"M 45.72375 227.53275 \r\nL 45.72375 145.99275 \r\n\" style=\"fill:none;\"/>\r\n   </g>\r\n   <g id=\"patch_74\">\r\n    <path d=\"M 492.12375 227.53275 \r\nL 492.12375 145.99275 \r\n\" style=\"fill:none;\"/>\r\n   </g>\r\n   <g id=\"patch_75\">\r\n    <path d=\"M 45.72375 227.53275 \r\nL 492.12375 227.53275 \r\n\" style=\"fill:none;\"/>\r\n   </g>\r\n   <g id=\"patch_76\">\r\n    <path d=\"M 45.72375 145.99275 \r\nL 492.12375 145.99275 \r\n\" style=\"fill:none;\"/>\r\n   </g>\r\n   <g id=\"text_31\">\r\n    <!-- Distplot of Age -->\r\n    <g style=\"fill:#262626;\" transform=\"translate(222.106875 139.99275)scale(0.144 -0.144)\">\r\n     <use xlink:href=\"#ArialMT-68\"/>\r\n     <use x=\"72.216797\" xlink:href=\"#ArialMT-105\"/>\r\n     <use x=\"94.433594\" xlink:href=\"#ArialMT-115\"/>\r\n     <use x=\"144.433594\" xlink:href=\"#ArialMT-116\"/>\r\n     <use x=\"172.216797\" xlink:href=\"#ArialMT-112\"/>\r\n     <use x=\"227.832031\" xlink:href=\"#ArialMT-108\"/>\r\n     <use x=\"250.048828\" xlink:href=\"#ArialMT-111\"/>\r\n     <use x=\"305.664062\" xlink:href=\"#ArialMT-116\"/>\r\n     <use x=\"333.447266\" xlink:href=\"#ArialMT-32\"/>\r\n     <use x=\"361.230469\" xlink:href=\"#ArialMT-111\"/>\r\n     <use x=\"416.845703\" xlink:href=\"#ArialMT-102\"/>\r\n     <use x=\"444.628906\" xlink:href=\"#ArialMT-32\"/>\r\n     <use x=\"472.333984\" xlink:href=\"#ArialMT-65\"/>\r\n     <use x=\"539.033203\" xlink:href=\"#ArialMT-103\"/>\r\n     <use x=\"594.648438\" xlink:href=\"#ArialMT-101\"/>\r\n    </g>\r\n   </g>\r\n  </g>\r\n  <g id=\"axes_4\">\r\n   <g id=\"patch_77\">\r\n    <path d=\"M 715.32375 227.53275 \r\nL 1161.72375 227.53275 \r\nL 1161.72375 145.99275 \r\nL 715.32375 145.99275 \r\nz\r\n\" style=\"fill:#eaeaf2;\"/>\r\n   </g>\r\n   <g id=\"matplotlib.axis_7\">\r\n    <g id=\"xtick_20\">\r\n     <g id=\"line2d_54\">\r\n      <path clip-path=\"url(#pda35eaf60f)\" d=\"M 762.287271 227.53275 \r\nL 762.287271 145.99275 \r\n\" style=\"fill:none;stroke:#ffffff;stroke-linecap:round;\"/>\r\n     </g>\r\n     <g id=\"line2d_55\">\r\n      <g>\r\n       <use style=\"fill:#262626;stroke:#262626;\" x=\"762.287271\" xlink:href=\"#m2400a2dcea\" y=\"227.53275\"/>\r\n      </g>\r\n     </g>\r\n     <g id=\"text_32\">\r\n      <!-- 0 -->\r\n      <g style=\"fill:#262626;\" transform=\"translate(758.283396 248.34)scale(0.144 -0.144)\">\r\n       <use xlink:href=\"#ArialMT-48\"/>\r\n      </g>\r\n     </g>\r\n    </g>\r\n    <g id=\"xtick_21\">\r\n     <g id=\"line2d_56\">\r\n      <path clip-path=\"url(#pda35eaf60f)\" d=\"M 850.40551 227.53275 \r\nL 850.40551 145.99275 \r\n\" style=\"fill:none;stroke:#ffffff;stroke-linecap:round;\"/>\r\n     </g>\r\n     <g id=\"line2d_57\">\r\n      <g>\r\n       <use style=\"fill:#262626;stroke:#262626;\" x=\"850.40551\" xlink:href=\"#m2400a2dcea\" y=\"227.53275\"/>\r\n      </g>\r\n     </g>\r\n     <g id=\"text_33\">\r\n      <!-- 2 -->\r\n      <g style=\"fill:#262626;\" transform=\"translate(846.401635 248.34)scale(0.144 -0.144)\">\r\n       <use xlink:href=\"#ArialMT-50\"/>\r\n      </g>\r\n     </g>\r\n    </g>\r\n    <g id=\"xtick_22\">\r\n     <g id=\"line2d_58\">\r\n      <path clip-path=\"url(#pda35eaf60f)\" d=\"M 938.52375 227.53275 \r\nL 938.52375 145.99275 \r\n\" style=\"fill:none;stroke:#ffffff;stroke-linecap:round;\"/>\r\n     </g>\r\n     <g id=\"line2d_59\">\r\n      <g>\r\n       <use style=\"fill:#262626;stroke:#262626;\" x=\"938.52375\" xlink:href=\"#m2400a2dcea\" y=\"227.53275\"/>\r\n      </g>\r\n     </g>\r\n     <g id=\"text_34\">\r\n      <!-- 4 -->\r\n      <g style=\"fill:#262626;\" transform=\"translate(934.519875 248.34)scale(0.144 -0.144)\">\r\n       <use xlink:href=\"#ArialMT-52\"/>\r\n      </g>\r\n     </g>\r\n    </g>\r\n    <g id=\"xtick_23\">\r\n     <g id=\"line2d_60\">\r\n      <path clip-path=\"url(#pda35eaf60f)\" d=\"M 1026.64199 227.53275 \r\nL 1026.64199 145.99275 \r\n\" style=\"fill:none;stroke:#ffffff;stroke-linecap:round;\"/>\r\n     </g>\r\n     <g id=\"line2d_61\">\r\n      <g>\r\n       <use style=\"fill:#262626;stroke:#262626;\" x=\"1026.64199\" xlink:href=\"#m2400a2dcea\" y=\"227.53275\"/>\r\n      </g>\r\n     </g>\r\n     <g id=\"text_35\">\r\n      <!-- 6 -->\r\n      <g style=\"fill:#262626;\" transform=\"translate(1022.638115 248.34)scale(0.144 -0.144)\">\r\n       <use xlink:href=\"#ArialMT-54\"/>\r\n      </g>\r\n     </g>\r\n    </g>\r\n    <g id=\"xtick_24\">\r\n     <g id=\"line2d_62\">\r\n      <path clip-path=\"url(#pda35eaf60f)\" d=\"M 1114.760229 227.53275 \r\nL 1114.760229 145.99275 \r\n\" style=\"fill:none;stroke:#ffffff;stroke-linecap:round;\"/>\r\n     </g>\r\n     <g id=\"line2d_63\">\r\n      <g>\r\n       <use style=\"fill:#262626;stroke:#262626;\" x=\"1114.760229\" xlink:href=\"#m2400a2dcea\" y=\"227.53275\"/>\r\n      </g>\r\n     </g>\r\n     <g id=\"text_36\">\r\n      <!-- 8 -->\r\n      <g style=\"fill:#262626;\" transform=\"translate(1110.756354 248.34)scale(0.144 -0.144)\">\r\n       <use xlink:href=\"#ArialMT-56\"/>\r\n      </g>\r\n     </g>\r\n    </g>\r\n    <g id=\"text_37\">\r\n     <!-- SibSp -->\r\n     <defs>\r\n      <path d=\"M 14.703125 0 \r\nL 6.546875 0 \r\nL 6.546875 71.578125 \r\nL 15.328125 71.578125 \r\nL 15.328125 46.046875 \r\nQ 20.90625 53.03125 29.546875 53.03125 \r\nQ 34.328125 53.03125 38.59375 51.09375 \r\nQ 42.875 49.171875 45.625 45.671875 \r\nQ 48.390625 42.1875 49.953125 37.25 \r\nQ 51.515625 32.328125 51.515625 26.703125 \r\nQ 51.515625 13.375 44.921875 6.09375 \r\nQ 38.328125 -1.171875 29.109375 -1.171875 \r\nQ 19.921875 -1.171875 14.703125 6.5 \r\nz\r\nM 14.59375 26.3125 \r\nQ 14.59375 17 17.140625 12.84375 \r\nQ 21.296875 6.0625 28.375 6.0625 \r\nQ 34.125 6.0625 38.328125 11.0625 \r\nQ 42.53125 16.0625 42.53125 25.984375 \r\nQ 42.53125 36.140625 38.5 40.96875 \r\nQ 34.46875 45.796875 28.765625 45.796875 \r\nQ 23 45.796875 18.796875 40.796875 \r\nQ 14.59375 35.796875 14.59375 26.3125 \r\nz\r\n\" id=\"ArialMT-98\"/>\r\n     </defs>\r\n     <g style=\"fill:#262626;\" transform=\"translate(919.311 265.68475)scale(0.144 -0.144)\">\r\n      <use xlink:href=\"#ArialMT-83\"/>\r\n      <use x=\"66.699219\" xlink:href=\"#ArialMT-105\"/>\r\n      <use x=\"88.916016\" xlink:href=\"#ArialMT-98\"/>\r\n      <use x=\"144.53125\" xlink:href=\"#ArialMT-83\"/>\r\n      <use x=\"211.230469\" xlink:href=\"#ArialMT-112\"/>\r\n     </g>\r\n    </g>\r\n   </g>\r\n   <g id=\"matplotlib.axis_8\">\r\n    <g id=\"ytick_7\">\r\n     <g id=\"line2d_64\">\r\n      <path clip-path=\"url(#pda35eaf60f)\" d=\"M 715.32375 227.53275 \r\nL 1161.72375 227.53275 \r\n\" style=\"fill:none;stroke:#ffffff;stroke-linecap:round;\"/>\r\n     </g>\r\n     <g id=\"line2d_65\">\r\n      <g>\r\n       <use style=\"fill:#262626;stroke:#262626;\" x=\"715.32375\" xlink:href=\"#m9e559ed7c0\" y=\"227.53275\"/>\r\n      </g>\r\n     </g>\r\n     <g id=\"text_38\">\r\n      <!-- 0 -->\r\n      <g style=\"fill:#262626;\" transform=\"translate(696.816 232.686375)scale(0.144 -0.144)\">\r\n       <use xlink:href=\"#ArialMT-48\"/>\r\n      </g>\r\n     </g>\r\n    </g>\r\n    <g id=\"ytick_8\">\r\n     <g id=\"line2d_66\">\r\n      <path clip-path=\"url(#pda35eaf60f)\" d=\"M 715.32375 182.011359 \r\nL 1161.72375 182.011359 \r\n\" style=\"fill:none;stroke:#ffffff;stroke-linecap:round;\"/>\r\n     </g>\r\n     <g id=\"line2d_67\">\r\n      <g>\r\n       <use style=\"fill:#262626;stroke:#262626;\" x=\"715.32375\" xlink:href=\"#m9e559ed7c0\" y=\"182.011359\"/>\r\n      </g>\r\n     </g>\r\n     <g id=\"text_39\">\r\n      <!-- 1 -->\r\n      <g style=\"fill:#262626;\" transform=\"translate(696.816 187.164984)scale(0.144 -0.144)\">\r\n       <use xlink:href=\"#ArialMT-49\"/>\r\n      </g>\r\n     </g>\r\n    </g>\r\n   </g>\r\n   <g id=\"patch_78\">\r\n    <path clip-path=\"url(#pda35eaf60f)\" d=\"M 762.287271 227.53275 \r\nL 779.910919 227.53275 \r\nL 779.910919 149.875607 \r\nL 762.287271 149.875607 \r\nz\r\n\" style=\"fill:#8dd3c7;opacity:0.4;\"/>\r\n   </g>\r\n   <g id=\"patch_79\">\r\n    <path clip-path=\"url(#pda35eaf60f)\" d=\"M 779.910919 227.53275 \r\nL 797.534567 227.53275 \r\nL 797.534567 227.53275 \r\nL 779.910919 227.53275 \r\nz\r\n\" style=\"fill:#8dd3c7;opacity:0.4;\"/>\r\n   </g>\r\n   <g id=\"patch_80\">\r\n    <path clip-path=\"url(#pda35eaf60f)\" d=\"M 797.534567 227.53275 \r\nL 815.158214 227.53275 \r\nL 815.158214 200.838107 \r\nL 797.534567 200.838107 \r\nz\r\n\" style=\"fill:#8dd3c7;opacity:0.4;\"/>\r\n   </g>\r\n   <g id=\"patch_81\">\r\n    <path clip-path=\"url(#pda35eaf60f)\" d=\"M 815.158214 227.53275 \r\nL 832.781862 227.53275 \r\nL 832.781862 227.53275 \r\nL 815.158214 227.53275 \r\nz\r\n\" style=\"fill:#8dd3c7;opacity:0.4;\"/>\r\n   </g>\r\n   <g id=\"patch_82\">\r\n    <path clip-path=\"url(#pda35eaf60f)\" d=\"M 832.781862 227.53275 \r\nL 850.40551 227.53275 \r\nL 850.40551 227.53275 \r\nL 832.781862 227.53275 \r\nz\r\n\" style=\"fill:#8dd3c7;opacity:0.4;\"/>\r\n   </g>\r\n   <g id=\"patch_83\">\r\n    <path clip-path=\"url(#pda35eaf60f)\" d=\"M 850.40551 227.53275 \r\nL 868.029158 227.53275 \r\nL 868.029158 223.956434 \r\nL 850.40551 223.956434 \r\nz\r\n\" style=\"fill:#8dd3c7;opacity:0.4;\"/>\r\n   </g>\r\n   <g id=\"patch_84\">\r\n    <path clip-path=\"url(#pda35eaf60f)\" d=\"M 868.029158 227.53275 \r\nL 885.652806 227.53275 \r\nL 885.652806 227.53275 \r\nL 868.029158 227.53275 \r\nz\r\n\" style=\"fill:#8dd3c7;opacity:0.4;\"/>\r\n   </g>\r\n   <g id=\"patch_85\">\r\n    <path clip-path=\"url(#pda35eaf60f)\" d=\"M 885.652806 227.53275 \r\nL 903.276454 227.53275 \r\nL 903.276454 225.489141 \r\nL 885.652806 225.489141 \r\nz\r\n\" style=\"fill:#8dd3c7;opacity:0.4;\"/>\r\n   </g>\r\n   <g id=\"patch_86\">\r\n    <path clip-path=\"url(#pda35eaf60f)\" d=\"M 903.276454 227.53275 \r\nL 920.900102 227.53275 \r\nL 920.900102 227.53275 \r\nL 903.276454 227.53275 \r\nz\r\n\" style=\"fill:#8dd3c7;opacity:0.4;\"/>\r\n   </g>\r\n   <g id=\"patch_87\">\r\n    <path clip-path=\"url(#pda35eaf60f)\" d=\"M 920.900102 227.53275 \r\nL 938.52375 227.53275 \r\nL 938.52375 227.53275 \r\nL 920.900102 227.53275 \r\nz\r\n\" style=\"fill:#8dd3c7;opacity:0.4;\"/>\r\n   </g>\r\n   <g id=\"patch_88\">\r\n    <path clip-path=\"url(#pda35eaf60f)\" d=\"M 938.52375 227.53275 \r\nL 956.147398 227.53275 \r\nL 956.147398 225.23369 \r\nL 938.52375 225.23369 \r\nz\r\n\" style=\"fill:#8dd3c7;opacity:0.4;\"/>\r\n   </g>\r\n   <g id=\"patch_89\">\r\n    <path clip-path=\"url(#pda35eaf60f)\" d=\"M 956.147398 227.53275 \r\nL 973.771046 227.53275 \r\nL 973.771046 227.53275 \r\nL 956.147398 227.53275 \r\nz\r\n\" style=\"fill:#8dd3c7;opacity:0.4;\"/>\r\n   </g>\r\n   <g id=\"patch_90\">\r\n    <path clip-path=\"url(#pda35eaf60f)\" d=\"M 973.771046 227.53275 \r\nL 991.394694 227.53275 \r\nL 991.394694 226.894122 \r\nL 973.771046 226.894122 \r\nz\r\n\" style=\"fill:#8dd3c7;opacity:0.4;\"/>\r\n   </g>\r\n   <g id=\"patch_91\">\r\n    <path clip-path=\"url(#pda35eaf60f)\" d=\"M 991.394694 227.53275 \r\nL 1009.018342 227.53275 \r\nL 1009.018342 227.53275 \r\nL 991.394694 227.53275 \r\nz\r\n\" style=\"fill:#8dd3c7;opacity:0.4;\"/>\r\n   </g>\r\n   <g id=\"patch_92\">\r\n    <path clip-path=\"url(#pda35eaf60f)\" d=\"M 1009.018342 227.53275 \r\nL 1026.64199 227.53275 \r\nL 1026.64199 227.53275 \r\nL 1009.018342 227.53275 \r\nz\r\n\" style=\"fill:#8dd3c7;opacity:0.4;\"/>\r\n   </g>\r\n   <g id=\"patch_93\">\r\n    <path clip-path=\"url(#pda35eaf60f)\" d=\"M 1026.64199 227.53275 \r\nL 1044.265638 227.53275 \r\nL 1044.265638 227.53275 \r\nL 1026.64199 227.53275 \r\nz\r\n\" style=\"fill:#8dd3c7;opacity:0.4;\"/>\r\n   </g>\r\n   <g id=\"patch_94\">\r\n    <path clip-path=\"url(#pda35eaf60f)\" d=\"M 1044.265638 227.53275 \r\nL 1061.889286 227.53275 \r\nL 1061.889286 227.53275 \r\nL 1044.265638 227.53275 \r\nz\r\n\" style=\"fill:#8dd3c7;opacity:0.4;\"/>\r\n   </g>\r\n   <g id=\"patch_95\">\r\n    <path clip-path=\"url(#pda35eaf60f)\" d=\"M 1061.889286 227.53275 \r\nL 1079.512933 227.53275 \r\nL 1079.512933 227.53275 \r\nL 1061.889286 227.53275 \r\nz\r\n\" style=\"fill:#8dd3c7;opacity:0.4;\"/>\r\n   </g>\r\n   <g id=\"patch_96\">\r\n    <path clip-path=\"url(#pda35eaf60f)\" d=\"M 1079.512933 227.53275 \r\nL 1097.136581 227.53275 \r\nL 1097.136581 227.53275 \r\nL 1079.512933 227.53275 \r\nz\r\n\" style=\"fill:#8dd3c7;opacity:0.4;\"/>\r\n   </g>\r\n   <g id=\"patch_97\">\r\n    <path clip-path=\"url(#pda35eaf60f)\" d=\"M 1097.136581 227.53275 \r\nL 1114.760229 227.53275 \r\nL 1114.760229 226.638671 \r\nL 1097.136581 226.638671 \r\nz\r\n\" style=\"fill:#8dd3c7;opacity:0.4;\"/>\r\n   </g>\r\n   <g id=\"line2d_68\">\r\n    <path clip-path=\"url(#pda35eaf60f)\" d=\"M 735.614659 226.788629 \r\nL 738.810078 225.529123 \r\nL 742.005497 222.76735 \r\nL 745.200915 217.547442 \r\nL 748.396334 209.103041 \r\nL 751.591753 197.5685 \r\nL 754.787172 184.611956 \r\nL 757.98259 173.361334 \r\nL 761.178009 167.280335 \r\nL 764.373428 168.465268 \r\nL 767.568847 176.486029 \r\nL 770.764265 188.633055 \r\nL 773.959684 201.373823 \r\nL 777.155103 211.950698 \r\nL 780.350522 219.139714 \r\nL 783.54594 222.998541 \r\nL 786.741359 224.131295 \r\nL 789.936778 223.10506 \r\nL 793.132197 220.323442 \r\nL 796.327615 216.271379 \r\nL 799.523034 211.807565 \r\nL 802.718453 208.164267 \r\nL 805.913872 206.538261 \r\nL 809.10929 207.510503 \r\nL 812.304709 210.730166 \r\nL 818.695547 219.458502 \r\nL 821.890965 222.895458 \r\nL 825.086384 225.152358 \r\nL 828.281803 226.367499 \r\nL 831.477222 226.831637 \r\nL 834.67264 226.799785 \r\nL 837.868059 226.443055 \r\nL 847.454315 224.860312 \r\nL 850.649734 224.709521 \r\nL 853.845153 224.910445 \r\nL 857.040572 225.39157 \r\nL 863.431409 226.559646 \r\nL 866.626828 226.982344 \r\nL 869.822247 227.233632 \r\nL 873.017666 227.327791 \r\nL 876.213084 227.287251 \r\nL 882.603922 226.860505 \r\nL 888.994759 226.205082 \r\nL 892.190178 225.984314 \r\nL 895.385597 225.941123 \r\nL 898.581016 226.091232 \r\nL 911.362691 227.241343 \r\nL 917.753528 227.351828 \r\nL 920.948947 227.244661 \r\nL 927.339784 226.700474 \r\nL 933.730622 225.97516 \r\nL 936.926041 225.766485 \r\nL 940.121459 225.766497 \r\nL 943.316878 225.975235 \r\nL 956.098553 227.258761 \r\nL 962.489391 227.43982 \r\nL 968.880228 227.370391 \r\nL 981.661903 227.035356 \r\nL 988.052741 227.117927 \r\nL 1000.834416 227.469212 \r\nL 1016.811509 227.532388 \r\nL 1096.696978 227.439594 \r\nL 1106.283235 227.084977 \r\nL 1112.674072 226.8527 \r\nL 1119.06491 226.909063 \r\nL 1135.042003 227.460357 \r\nL 1138.237422 227.440332 \r\nL 1141.432841 227.282571 \r\nL 1141.432841 227.282571 \r\n\" style=\"fill:none;stroke:#8dd3c7;stroke-linecap:round;stroke-width:1.75;\"/>\r\n   </g>\r\n   <g id=\"patch_98\">\r\n    <path d=\"M 715.32375 227.53275 \r\nL 715.32375 145.99275 \r\n\" style=\"fill:none;\"/>\r\n   </g>\r\n   <g id=\"patch_99\">\r\n    <path d=\"M 1161.72375 227.53275 \r\nL 1161.72375 145.99275 \r\n\" style=\"fill:none;\"/>\r\n   </g>\r\n   <g id=\"patch_100\">\r\n    <path d=\"M 715.32375 227.53275 \r\nL 1161.72375 227.53275 \r\n\" style=\"fill:none;\"/>\r\n   </g>\r\n   <g id=\"patch_101\">\r\n    <path d=\"M 715.32375 145.99275 \r\nL 1161.72375 145.99275 \r\n\" style=\"fill:none;\"/>\r\n   </g>\r\n   <g id=\"text_40\">\r\n    <!-- Distplot of SibSp -->\r\n    <g style=\"fill:#262626;\" transform=\"translate(885.298875 139.99275)scale(0.144 -0.144)\">\r\n     <use xlink:href=\"#ArialMT-68\"/>\r\n     <use x=\"72.216797\" xlink:href=\"#ArialMT-105\"/>\r\n     <use x=\"94.433594\" xlink:href=\"#ArialMT-115\"/>\r\n     <use x=\"144.433594\" xlink:href=\"#ArialMT-116\"/>\r\n     <use x=\"172.216797\" xlink:href=\"#ArialMT-112\"/>\r\n     <use x=\"227.832031\" xlink:href=\"#ArialMT-108\"/>\r\n     <use x=\"250.048828\" xlink:href=\"#ArialMT-111\"/>\r\n     <use x=\"305.664062\" xlink:href=\"#ArialMT-116\"/>\r\n     <use x=\"333.447266\" xlink:href=\"#ArialMT-32\"/>\r\n     <use x=\"361.230469\" xlink:href=\"#ArialMT-111\"/>\r\n     <use x=\"416.845703\" xlink:href=\"#ArialMT-102\"/>\r\n     <use x=\"444.628906\" xlink:href=\"#ArialMT-32\"/>\r\n     <use x=\"472.412109\" xlink:href=\"#ArialMT-83\"/>\r\n     <use x=\"539.111328\" xlink:href=\"#ArialMT-105\"/>\r\n     <use x=\"561.328125\" xlink:href=\"#ArialMT-98\"/>\r\n     <use x=\"616.943359\" xlink:href=\"#ArialMT-83\"/>\r\n     <use x=\"683.642578\" xlink:href=\"#ArialMT-112\"/>\r\n    </g>\r\n   </g>\r\n  </g>\r\n  <g id=\"axes_5\">\r\n   <g id=\"patch_102\">\r\n    <path d=\"M 45.72375 349.84275 \r\nL 492.12375 349.84275 \r\nL 492.12375 268.30275 \r\nL 45.72375 268.30275 \r\nz\r\n\" style=\"fill:#eaeaf2;\"/>\r\n   </g>\r\n   <g id=\"matplotlib.axis_9\">\r\n    <g id=\"xtick_25\">\r\n     <g id=\"line2d_69\">\r\n      <path clip-path=\"url(#pe8db0cc3d3)\" d=\"M 66.014659 349.84275 \r\nL 66.014659 268.30275 \r\n\" style=\"fill:none;stroke:#ffffff;stroke-linecap:round;\"/>\r\n     </g>\r\n     <g id=\"line2d_70\">\r\n      <g>\r\n       <use style=\"fill:#262626;stroke:#262626;\" x=\"66.014659\" xlink:href=\"#m2400a2dcea\" y=\"349.84275\"/>\r\n      </g>\r\n     </g>\r\n     <g id=\"text_41\">\r\n      <!-- 0 -->\r\n      <g style=\"fill:#262626;\" transform=\"translate(62.010784 370.65)scale(0.144 -0.144)\">\r\n       <use xlink:href=\"#ArialMT-48\"/>\r\n      </g>\r\n     </g>\r\n    </g>\r\n    <g id=\"xtick_26\">\r\n     <g id=\"line2d_71\">\r\n      <path clip-path=\"url(#pe8db0cc3d3)\" d=\"M 133.651023 349.84275 \r\nL 133.651023 268.30275 \r\n\" style=\"fill:none;stroke:#ffffff;stroke-linecap:round;\"/>\r\n     </g>\r\n     <g id=\"line2d_72\">\r\n      <g>\r\n       <use style=\"fill:#262626;stroke:#262626;\" x=\"133.651023\" xlink:href=\"#m2400a2dcea\" y=\"349.84275\"/>\r\n      </g>\r\n     </g>\r\n     <g id=\"text_42\">\r\n      <!-- 1 -->\r\n      <g style=\"fill:#262626;\" transform=\"translate(129.647148 370.65)scale(0.144 -0.144)\">\r\n       <use xlink:href=\"#ArialMT-49\"/>\r\n      </g>\r\n     </g>\r\n    </g>\r\n    <g id=\"xtick_27\">\r\n     <g id=\"line2d_73\">\r\n      <path clip-path=\"url(#pe8db0cc3d3)\" d=\"M 201.287386 349.84275 \r\nL 201.287386 268.30275 \r\n\" style=\"fill:none;stroke:#ffffff;stroke-linecap:round;\"/>\r\n     </g>\r\n     <g id=\"line2d_74\">\r\n      <g>\r\n       <use style=\"fill:#262626;stroke:#262626;\" x=\"201.287386\" xlink:href=\"#m2400a2dcea\" y=\"349.84275\"/>\r\n      </g>\r\n     </g>\r\n     <g id=\"text_43\">\r\n      <!-- 2 -->\r\n      <g style=\"fill:#262626;\" transform=\"translate(197.283511 370.65)scale(0.144 -0.144)\">\r\n       <use xlink:href=\"#ArialMT-50\"/>\r\n      </g>\r\n     </g>\r\n    </g>\r\n    <g id=\"xtick_28\">\r\n     <g id=\"line2d_75\">\r\n      <path clip-path=\"url(#pe8db0cc3d3)\" d=\"M 268.92375 349.84275 \r\nL 268.92375 268.30275 \r\n\" style=\"fill:none;stroke:#ffffff;stroke-linecap:round;\"/>\r\n     </g>\r\n     <g id=\"line2d_76\">\r\n      <g>\r\n       <use style=\"fill:#262626;stroke:#262626;\" x=\"268.92375\" xlink:href=\"#m2400a2dcea\" y=\"349.84275\"/>\r\n      </g>\r\n     </g>\r\n     <g id=\"text_44\">\r\n      <!-- 3 -->\r\n      <g style=\"fill:#262626;\" transform=\"translate(264.919875 370.65)scale(0.144 -0.144)\">\r\n       <use xlink:href=\"#ArialMT-51\"/>\r\n      </g>\r\n     </g>\r\n    </g>\r\n    <g id=\"xtick_29\">\r\n     <g id=\"line2d_77\">\r\n      <path clip-path=\"url(#pe8db0cc3d3)\" d=\"M 336.560114 349.84275 \r\nL 336.560114 268.30275 \r\n\" style=\"fill:none;stroke:#ffffff;stroke-linecap:round;\"/>\r\n     </g>\r\n     <g id=\"line2d_78\">\r\n      <g>\r\n       <use style=\"fill:#262626;stroke:#262626;\" x=\"336.560114\" xlink:href=\"#m2400a2dcea\" y=\"349.84275\"/>\r\n      </g>\r\n     </g>\r\n     <g id=\"text_45\">\r\n      <!-- 4 -->\r\n      <g style=\"fill:#262626;\" transform=\"translate(332.556239 370.65)scale(0.144 -0.144)\">\r\n       <use xlink:href=\"#ArialMT-52\"/>\r\n      </g>\r\n     </g>\r\n    </g>\r\n    <g id=\"xtick_30\">\r\n     <g id=\"line2d_79\">\r\n      <path clip-path=\"url(#pe8db0cc3d3)\" d=\"M 404.196477 349.84275 \r\nL 404.196477 268.30275 \r\n\" style=\"fill:none;stroke:#ffffff;stroke-linecap:round;\"/>\r\n     </g>\r\n     <g id=\"line2d_80\">\r\n      <g>\r\n       <use style=\"fill:#262626;stroke:#262626;\" x=\"404.196477\" xlink:href=\"#m2400a2dcea\" y=\"349.84275\"/>\r\n      </g>\r\n     </g>\r\n     <g id=\"text_46\">\r\n      <!-- 5 -->\r\n      <g style=\"fill:#262626;\" transform=\"translate(400.192602 370.65)scale(0.144 -0.144)\">\r\n       <use xlink:href=\"#ArialMT-53\"/>\r\n      </g>\r\n     </g>\r\n    </g>\r\n    <g id=\"xtick_31\">\r\n     <g id=\"line2d_81\">\r\n      <path clip-path=\"url(#pe8db0cc3d3)\" d=\"M 471.832841 349.84275 \r\nL 471.832841 268.30275 \r\n\" style=\"fill:none;stroke:#ffffff;stroke-linecap:round;\"/>\r\n     </g>\r\n     <g id=\"line2d_82\">\r\n      <g>\r\n       <use style=\"fill:#262626;stroke:#262626;\" x=\"471.832841\" xlink:href=\"#m2400a2dcea\" y=\"349.84275\"/>\r\n      </g>\r\n     </g>\r\n     <g id=\"text_47\">\r\n      <!-- 6 -->\r\n      <g style=\"fill:#262626;\" transform=\"translate(467.828966 370.65)scale(0.144 -0.144)\">\r\n       <use xlink:href=\"#ArialMT-54\"/>\r\n      </g>\r\n     </g>\r\n    </g>\r\n    <g id=\"text_48\">\r\n     <!-- Parch -->\r\n     <defs>\r\n      <path d=\"M 6.59375 0 \r\nL 6.59375 71.578125 \r\nL 15.375 71.578125 \r\nL 15.375 45.90625 \r\nQ 21.53125 53.03125 30.90625 53.03125 \r\nQ 36.671875 53.03125 40.921875 50.75 \r\nQ 45.171875 48.484375 47 44.484375 \r\nQ 48.828125 40.484375 48.828125 32.859375 \r\nL 48.828125 0 \r\nL 40.046875 0 \r\nL 40.046875 32.859375 \r\nQ 40.046875 39.453125 37.1875 42.453125 \r\nQ 34.328125 45.453125 29.109375 45.453125 \r\nQ 25.203125 45.453125 21.75 43.421875 \r\nQ 18.3125 41.40625 16.84375 37.9375 \r\nQ 15.375 34.46875 15.375 28.375 \r\nL 15.375 0 \r\nz\r\n\" id=\"ArialMT-104\"/>\r\n     </defs>\r\n     <g style=\"fill:#262626;\" transform=\"translate(250.116 387.81925)scale(0.144 -0.144)\">\r\n      <use xlink:href=\"#ArialMT-80\"/>\r\n      <use x=\"66.699219\" xlink:href=\"#ArialMT-97\"/>\r\n      <use x=\"122.314453\" xlink:href=\"#ArialMT-114\"/>\r\n      <use x=\"155.615234\" xlink:href=\"#ArialMT-99\"/>\r\n      <use x=\"205.615234\" xlink:href=\"#ArialMT-104\"/>\r\n     </g>\r\n    </g>\r\n   </g>\r\n   <g id=\"matplotlib.axis_10\">\r\n    <g id=\"ytick_9\">\r\n     <g id=\"line2d_83\">\r\n      <path clip-path=\"url(#pe8db0cc3d3)\" d=\"M 45.72375 349.84275 \r\nL 492.12375 349.84275 \r\n\" style=\"fill:none;stroke:#ffffff;stroke-linecap:round;\"/>\r\n     </g>\r\n     <g id=\"line2d_84\">\r\n      <g>\r\n       <use style=\"fill:#262626;stroke:#262626;\" x=\"45.72375\" xlink:href=\"#m9e559ed7c0\" y=\"349.84275\"/>\r\n      </g>\r\n     </g>\r\n     <g id=\"text_49\">\r\n      <!-- 0 -->\r\n      <g style=\"fill:#262626;\" transform=\"translate(27.216 354.996375)scale(0.144 -0.144)\">\r\n       <use xlink:href=\"#ArialMT-48\"/>\r\n      </g>\r\n     </g>\r\n    </g>\r\n    <g id=\"ytick_10\">\r\n     <g id=\"line2d_85\">\r\n      <path clip-path=\"url(#pe8db0cc3d3)\" d=\"M 45.72375 307.224328 \r\nL 492.12375 307.224328 \r\n\" style=\"fill:none;stroke:#ffffff;stroke-linecap:round;\"/>\r\n     </g>\r\n     <g id=\"line2d_86\">\r\n      <g>\r\n       <use style=\"fill:#262626;stroke:#262626;\" x=\"45.72375\" xlink:href=\"#m9e559ed7c0\" y=\"307.224328\"/>\r\n      </g>\r\n     </g>\r\n     <g id=\"text_50\">\r\n      <!-- 2 -->\r\n      <g style=\"fill:#262626;\" transform=\"translate(27.216 312.377953)scale(0.144 -0.144)\">\r\n       <use xlink:href=\"#ArialMT-50\"/>\r\n      </g>\r\n     </g>\r\n    </g>\r\n   </g>\r\n   <g id=\"patch_103\">\r\n    <path clip-path=\"url(#pe8db0cc3d3)\" d=\"M 66.014659 349.84275 \r\nL 86.305568 349.84275 \r\nL 86.305568 295.792451 \r\nL 66.014659 295.792451 \r\nz\r\n\" style=\"fill:#8dd3c7;opacity:0.4;\"/>\r\n   </g>\r\n   <g id=\"patch_104\">\r\n    <path clip-path=\"url(#pe8db0cc3d3)\" d=\"M 86.305568 349.84275 \r\nL 106.596477 349.84275 \r\nL 106.596477 349.84275 \r\nL 86.305568 349.84275 \r\nz\r\n\" style=\"fill:#8dd3c7;opacity:0.4;\"/>\r\n   </g>\r\n   <g id=\"patch_105\">\r\n    <path clip-path=\"url(#pe8db0cc3d3)\" d=\"M 106.596477 349.84275 \r\nL 126.887386 349.84275 \r\nL 126.887386 349.84275 \r\nL 106.596477 349.84275 \r\nz\r\n\" style=\"fill:#8dd3c7;opacity:0.4;\"/>\r\n   </g>\r\n   <g id=\"patch_106\">\r\n    <path clip-path=\"url(#pe8db0cc3d3)\" d=\"M 126.887386 349.84275 \r\nL 147.178295 349.84275 \r\nL 147.178295 340.435766 \r\nL 126.887386 340.435766 \r\nz\r\n\" style=\"fill:#8dd3c7;opacity:0.4;\"/>\r\n   </g>\r\n   <g id=\"patch_107\">\r\n    <path clip-path=\"url(#pe8db0cc3d3)\" d=\"M 147.178295 349.84275 \r\nL 167.469205 349.84275 \r\nL 167.469205 349.84275 \r\nL 147.178295 349.84275 \r\nz\r\n\" style=\"fill:#8dd3c7;opacity:0.4;\"/>\r\n   </g>\r\n   <g id=\"patch_108\">\r\n    <path clip-path=\"url(#pe8db0cc3d3)\" d=\"M 167.469205 349.84275 \r\nL 187.760114 349.84275 \r\nL 187.760114 349.84275 \r\nL 167.469205 349.84275 \r\nz\r\n\" style=\"fill:#8dd3c7;opacity:0.4;\"/>\r\n   </g>\r\n   <g id=\"patch_109\">\r\n    <path clip-path=\"url(#pe8db0cc3d3)\" d=\"M 187.760114 349.84275 \r\nL 208.051023 349.84275 \r\nL 208.051023 343.465134 \r\nL 187.760114 343.465134 \r\nz\r\n\" style=\"fill:#8dd3c7;opacity:0.4;\"/>\r\n   </g>\r\n   <g id=\"patch_110\">\r\n    <path clip-path=\"url(#pe8db0cc3d3)\" d=\"M 208.051023 349.84275 \r\nL 228.341932 349.84275 \r\nL 228.341932 349.84275 \r\nL 208.051023 349.84275 \r\nz\r\n\" style=\"fill:#8dd3c7;opacity:0.4;\"/>\r\n   </g>\r\n   <g id=\"patch_111\">\r\n    <path clip-path=\"url(#pe8db0cc3d3)\" d=\"M 228.341932 349.84275 \r\nL 248.632841 349.84275 \r\nL 248.632841 349.84275 \r\nL 228.341932 349.84275 \r\nz\r\n\" style=\"fill:#8dd3c7;opacity:0.4;\"/>\r\n   </g>\r\n   <g id=\"patch_112\">\r\n    <path clip-path=\"url(#pe8db0cc3d3)\" d=\"M 248.632841 349.84275 \r\nL 268.92375 349.84275 \r\nL 268.92375 349.84275 \r\nL 248.632841 349.84275 \r\nz\r\n\" style=\"fill:#8dd3c7;opacity:0.4;\"/>\r\n   </g>\r\n   <g id=\"patch_113\">\r\n    <path clip-path=\"url(#pe8db0cc3d3)\" d=\"M 268.92375 349.84275 \r\nL 289.214659 349.84275 \r\nL 289.214659 349.444149 \r\nL 268.92375 349.444149 \r\nz\r\n\" style=\"fill:#8dd3c7;opacity:0.4;\"/>\r\n   </g>\r\n   <g id=\"patch_114\">\r\n    <path clip-path=\"url(#pe8db0cc3d3)\" d=\"M 289.214659 349.84275 \r\nL 309.505568 349.84275 \r\nL 309.505568 349.84275 \r\nL 289.214659 349.84275 \r\nz\r\n\" style=\"fill:#8dd3c7;opacity:0.4;\"/>\r\n   </g>\r\n   <g id=\"patch_115\">\r\n    <path clip-path=\"url(#pe8db0cc3d3)\" d=\"M 309.505568 349.84275 \r\nL 329.796477 349.84275 \r\nL 329.796477 349.84275 \r\nL 309.505568 349.84275 \r\nz\r\n\" style=\"fill:#8dd3c7;opacity:0.4;\"/>\r\n   </g>\r\n   <g id=\"patch_116\">\r\n    <path clip-path=\"url(#pe8db0cc3d3)\" d=\"M 329.796477 349.84275 \r\nL 350.087386 349.84275 \r\nL 350.087386 349.523869 \r\nL 329.796477 349.523869 \r\nz\r\n\" style=\"fill:#8dd3c7;opacity:0.4;\"/>\r\n   </g>\r\n   <g id=\"patch_117\">\r\n    <path clip-path=\"url(#pe8db0cc3d3)\" d=\"M 350.087386 349.84275 \r\nL 370.378295 349.84275 \r\nL 370.378295 349.84275 \r\nL 350.087386 349.84275 \r\nz\r\n\" style=\"fill:#8dd3c7;opacity:0.4;\"/>\r\n   </g>\r\n   <g id=\"patch_118\">\r\n    <path clip-path=\"url(#pe8db0cc3d3)\" d=\"M 370.378295 349.84275 \r\nL 390.669205 349.84275 \r\nL 390.669205 349.84275 \r\nL 370.378295 349.84275 \r\nz\r\n\" style=\"fill:#8dd3c7;opacity:0.4;\"/>\r\n   </g>\r\n   <g id=\"patch_119\">\r\n    <path clip-path=\"url(#pe8db0cc3d3)\" d=\"M 390.669205 349.84275 \r\nL 410.960114 349.84275 \r\nL 410.960114 349.444149 \r\nL 390.669205 349.444149 \r\nz\r\n\" style=\"fill:#8dd3c7;opacity:0.4;\"/>\r\n   </g>\r\n   <g id=\"patch_120\">\r\n    <path clip-path=\"url(#pe8db0cc3d3)\" d=\"M 410.960114 349.84275 \r\nL 431.251023 349.84275 \r\nL 431.251023 349.84275 \r\nL 410.960114 349.84275 \r\nz\r\n\" style=\"fill:#8dd3c7;opacity:0.4;\"/>\r\n   </g>\r\n   <g id=\"patch_121\">\r\n    <path clip-path=\"url(#pe8db0cc3d3)\" d=\"M 431.251023 349.84275 \r\nL 451.541932 349.84275 \r\nL 451.541932 349.84275 \r\nL 431.251023 349.84275 \r\nz\r\n\" style=\"fill:#8dd3c7;opacity:0.4;\"/>\r\n   </g>\r\n   <g id=\"patch_122\">\r\n    <path clip-path=\"url(#pe8db0cc3d3)\" d=\"M 451.541932 349.84275 \r\nL 471.832841 349.84275 \r\nL 471.832841 349.76303 \r\nL 451.541932 349.76303 \r\nz\r\n\" style=\"fill:#8dd3c7;opacity:0.4;\"/>\r\n   </g>\r\n   <g id=\"line2d_87\">\r\n    <path clip-path=\"url(#pe8db0cc3d3)\" d=\"M 66.014659 349.84275 \r\nL 69.210078 349.24419 \r\nL 72.405497 349.84275 \r\nL 75.600915 349.221813 \r\nL 78.796334 349.84275 \r\nL 81.991753 349.117195 \r\nL 85.187172 349.84275 \r\nL 88.38259 348.945846 \r\nL 91.578009 349.84275 \r\nL 94.773428 348.685358 \r\nL 97.968847 349.84275 \r\nL 101.164265 348.281763 \r\nL 104.359684 349.84275 \r\nL 107.555103 347.621113 \r\nL 110.750522 349.84275 \r\nL 113.94594 346.439629 \r\nL 117.141359 349.84275 \r\nL 120.336778 343.999709 \r\nL 123.532197 349.84275 \r\nL 126.727615 337.322519 \r\nL 129.923034 349.84275 \r\nL 133.118453 272.185607 \r\nL 136.313872 349.84275 \r\nL 139.50929 340.523342 \r\nL 142.704709 349.84275 \r\nL 145.900128 345.006538 \r\nL 149.095547 349.84275 \r\nL 152.290965 347.030172 \r\nL 155.486384 349.84275 \r\nL 158.681803 348.129746 \r\nL 161.877222 349.84275 \r\nL 165.07264 348.847447 \r\nL 168.268059 349.84275 \r\nL 171.463478 349.422669 \r\nL 174.658897 349.84275 \r\nL 177.854315 349.84275 \r\nL 181.049734 349.291812 \r\nL 184.245153 349.84275 \r\nL 187.440572 348.129867 \r\nL 190.635991 349.84275 \r\nL 193.831409 345.107959 \r\nL 197.026828 349.84275 \r\nL 200.222247 312.239981 \r\nL 203.417666 340.735318 \r\nL 206.613084 349.223265 \r\nL 209.808503 349.84275 \r\nL 213.003922 349.024855 \r\nL 216.199341 349.84275 \r\nL 219.394759 349.330977 \r\nL 222.590178 349.84275 \r\nL 225.785597 349.531264 \r\nL 228.981016 349.84275 \r\nL 232.176434 349.656187 \r\nL 235.371853 349.84275 \r\nL 238.567272 349.737617 \r\nL 241.762691 349.84275 \r\nL 248.153528 349.84275 \r\nL 257.739784 349.84275 \r\nL 260.935203 349.712896 \r\nL 264.130622 349.84275 \r\nL 267.326041 348.360682 \r\nL 270.521459 348.409415 \r\nL 273.716878 349.84275 \r\nL 276.912297 349.756637 \r\nL 283.303134 349.84275 \r\nL 299.280228 349.788548 \r\nL 302.475647 349.84275 \r\nL 305.671066 349.77773 \r\nL 308.866484 349.84275 \r\nL 312.061903 349.76642 \r\nL 315.257322 349.84275 \r\nL 318.452741 349.752211 \r\nL 321.648159 349.84275 \r\nL 324.843578 349.733141 \r\nL 328.038997 349.84275 \r\nL 331.234416 349.739455 \r\nL 334.429834 349.461507 \r\nL 337.625253 347.886643 \r\nL 340.820672 349.84275 \r\nL 344.016091 349.526188 \r\nL 347.211509 349.84275 \r\nL 350.406928 349.673061 \r\nL 353.602347 349.84275 \r\nL 356.797766 349.726383 \r\nL 359.993185 349.84275 \r\nL 363.188603 349.755089 \r\nL 366.384022 349.84275 \r\nL 369.579441 349.776649 \r\nL 375.970278 349.799367 \r\nL 385.556535 349.830685 \r\nL 395.142791 349.84275 \r\nL 398.33821 349.568865 \r\nL 401.533628 349.84275 \r\nL 404.729047 346.68206 \r\nL 407.924466 349.84275 \r\nL 411.119885 349.452559 \r\nL 414.315303 349.84275 \r\nL 417.510722 349.74791 \r\nL 423.90156 349.84275 \r\nL 427.096978 349.781784 \r\nL 430.292397 349.84275 \r\nL 433.487816 349.724844 \r\nL 436.683235 349.84275 \r\nL 439.878653 349.678149 \r\nL 443.074072 349.84275 \r\nL 446.269491 349.63223 \r\nL 449.46491 349.84275 \r\nL 452.660328 349.579456 \r\nL 455.855747 349.84275 \r\nL 459.051166 349.507997 \r\nL 462.246585 349.84275 \r\nL 465.442003 349.381211 \r\nL 468.637422 349.84275 \r\nL 471.832841 348.626004 \r\nL 471.832841 348.626004 \r\n\" style=\"fill:none;stroke:#8dd3c7;stroke-linecap:round;stroke-width:1.75;\"/>\r\n   </g>\r\n   <g id=\"patch_123\">\r\n    <path d=\"M 45.72375 349.84275 \r\nL 45.72375 268.30275 \r\n\" style=\"fill:none;\"/>\r\n   </g>\r\n   <g id=\"patch_124\">\r\n    <path d=\"M 492.12375 349.84275 \r\nL 492.12375 268.30275 \r\n\" style=\"fill:none;\"/>\r\n   </g>\r\n   <g id=\"patch_125\">\r\n    <path d=\"M 45.72375 349.84275 \r\nL 492.12375 349.84275 \r\n\" style=\"fill:none;\"/>\r\n   </g>\r\n   <g id=\"patch_126\">\r\n    <path d=\"M 45.72375 268.30275 \r\nL 492.12375 268.30275 \r\n\" style=\"fill:none;\"/>\r\n   </g>\r\n   <g id=\"text_51\">\r\n    <!-- Distplot of Parch -->\r\n    <g style=\"fill:#262626;\" transform=\"translate(216.103875 262.30275)scale(0.144 -0.144)\">\r\n     <use xlink:href=\"#ArialMT-68\"/>\r\n     <use x=\"72.216797\" xlink:href=\"#ArialMT-105\"/>\r\n     <use x=\"94.433594\" xlink:href=\"#ArialMT-115\"/>\r\n     <use x=\"144.433594\" xlink:href=\"#ArialMT-116\"/>\r\n     <use x=\"172.216797\" xlink:href=\"#ArialMT-112\"/>\r\n     <use x=\"227.832031\" xlink:href=\"#ArialMT-108\"/>\r\n     <use x=\"250.048828\" xlink:href=\"#ArialMT-111\"/>\r\n     <use x=\"305.664062\" xlink:href=\"#ArialMT-116\"/>\r\n     <use x=\"333.447266\" xlink:href=\"#ArialMT-32\"/>\r\n     <use x=\"361.230469\" xlink:href=\"#ArialMT-111\"/>\r\n     <use x=\"416.845703\" xlink:href=\"#ArialMT-102\"/>\r\n     <use x=\"444.628906\" xlink:href=\"#ArialMT-32\"/>\r\n     <use x=\"472.412109\" xlink:href=\"#ArialMT-80\"/>\r\n     <use x=\"539.111328\" xlink:href=\"#ArialMT-97\"/>\r\n     <use x=\"594.726562\" xlink:href=\"#ArialMT-114\"/>\r\n     <use x=\"628.027344\" xlink:href=\"#ArialMT-99\"/>\r\n     <use x=\"678.027344\" xlink:href=\"#ArialMT-104\"/>\r\n    </g>\r\n   </g>\r\n  </g>\r\n  <g id=\"axes_6\">\r\n   <g id=\"patch_127\">\r\n    <path d=\"M 715.32375 349.84275 \r\nL 1161.72375 349.84275 \r\nL 1161.72375 268.30275 \r\nL 715.32375 268.30275 \r\nz\r\n\" style=\"fill:#eaeaf2;\"/>\r\n   </g>\r\n   <g id=\"matplotlib.axis_11\">\r\n    <g id=\"xtick_32\">\r\n     <g id=\"line2d_88\">\r\n      <path clip-path=\"url(#p8c4f1a90ca)\" d=\"M 746.113818 349.84275 \r\nL 746.113818 268.30275 \r\n\" style=\"fill:none;stroke:#ffffff;stroke-linecap:round;\"/>\r\n     </g>\r\n     <g id=\"line2d_89\">\r\n      <g>\r\n       <use style=\"fill:#262626;stroke:#262626;\" x=\"746.113818\" xlink:href=\"#m2400a2dcea\" y=\"349.84275\"/>\r\n      </g>\r\n     </g>\r\n     <g id=\"text_52\">\r\n      <!-- 0 -->\r\n      <g style=\"fill:#262626;\" transform=\"translate(742.109943 370.65)scale(0.144 -0.144)\">\r\n       <use xlink:href=\"#ArialMT-48\"/>\r\n      </g>\r\n     </g>\r\n    </g>\r\n    <g id=\"xtick_33\">\r\n     <g id=\"line2d_90\">\r\n      <path clip-path=\"url(#p8c4f1a90ca)\" d=\"M 821.225653 349.84275 \r\nL 821.225653 268.30275 \r\n\" style=\"fill:none;stroke:#ffffff;stroke-linecap:round;\"/>\r\n     </g>\r\n     <g id=\"line2d_91\">\r\n      <g>\r\n       <use style=\"fill:#262626;stroke:#262626;\" x=\"821.225653\" xlink:href=\"#m2400a2dcea\" y=\"349.84275\"/>\r\n      </g>\r\n     </g>\r\n     <g id=\"text_53\">\r\n      <!-- 100 -->\r\n      <g style=\"fill:#262626;\" transform=\"translate(809.214028 370.65)scale(0.144 -0.144)\">\r\n       <use xlink:href=\"#ArialMT-49\"/>\r\n       <use x=\"55.615234\" xlink:href=\"#ArialMT-48\"/>\r\n       <use x=\"111.230469\" xlink:href=\"#ArialMT-48\"/>\r\n      </g>\r\n     </g>\r\n    </g>\r\n    <g id=\"xtick_34\">\r\n     <g id=\"line2d_92\">\r\n      <path clip-path=\"url(#p8c4f1a90ca)\" d=\"M 896.337488 349.84275 \r\nL 896.337488 268.30275 \r\n\" style=\"fill:none;stroke:#ffffff;stroke-linecap:round;\"/>\r\n     </g>\r\n     <g id=\"line2d_93\">\r\n      <g>\r\n       <use style=\"fill:#262626;stroke:#262626;\" x=\"896.337488\" xlink:href=\"#m2400a2dcea\" y=\"349.84275\"/>\r\n      </g>\r\n     </g>\r\n     <g id=\"text_54\">\r\n      <!-- 200 -->\r\n      <g style=\"fill:#262626;\" transform=\"translate(884.325863 370.65)scale(0.144 -0.144)\">\r\n       <use xlink:href=\"#ArialMT-50\"/>\r\n       <use x=\"55.615234\" xlink:href=\"#ArialMT-48\"/>\r\n       <use x=\"111.230469\" xlink:href=\"#ArialMT-48\"/>\r\n      </g>\r\n     </g>\r\n    </g>\r\n    <g id=\"xtick_35\">\r\n     <g id=\"line2d_94\">\r\n      <path clip-path=\"url(#p8c4f1a90ca)\" d=\"M 971.449323 349.84275 \r\nL 971.449323 268.30275 \r\n\" style=\"fill:none;stroke:#ffffff;stroke-linecap:round;\"/>\r\n     </g>\r\n     <g id=\"line2d_95\">\r\n      <g>\r\n       <use style=\"fill:#262626;stroke:#262626;\" x=\"971.449323\" xlink:href=\"#m2400a2dcea\" y=\"349.84275\"/>\r\n      </g>\r\n     </g>\r\n     <g id=\"text_55\">\r\n      <!-- 300 -->\r\n      <g style=\"fill:#262626;\" transform=\"translate(959.437698 370.65)scale(0.144 -0.144)\">\r\n       <use xlink:href=\"#ArialMT-51\"/>\r\n       <use x=\"55.615234\" xlink:href=\"#ArialMT-48\"/>\r\n       <use x=\"111.230469\" xlink:href=\"#ArialMT-48\"/>\r\n      </g>\r\n     </g>\r\n    </g>\r\n    <g id=\"xtick_36\">\r\n     <g id=\"line2d_96\">\r\n      <path clip-path=\"url(#p8c4f1a90ca)\" d=\"M 1046.561159 349.84275 \r\nL 1046.561159 268.30275 \r\n\" style=\"fill:none;stroke:#ffffff;stroke-linecap:round;\"/>\r\n     </g>\r\n     <g id=\"line2d_97\">\r\n      <g>\r\n       <use style=\"fill:#262626;stroke:#262626;\" x=\"1046.561159\" xlink:href=\"#m2400a2dcea\" y=\"349.84275\"/>\r\n      </g>\r\n     </g>\r\n     <g id=\"text_56\">\r\n      <!-- 400 -->\r\n      <g style=\"fill:#262626;\" transform=\"translate(1034.549534 370.65)scale(0.144 -0.144)\">\r\n       <use xlink:href=\"#ArialMT-52\"/>\r\n       <use x=\"55.615234\" xlink:href=\"#ArialMT-48\"/>\r\n       <use x=\"111.230469\" xlink:href=\"#ArialMT-48\"/>\r\n      </g>\r\n     </g>\r\n    </g>\r\n    <g id=\"xtick_37\">\r\n     <g id=\"line2d_98\">\r\n      <path clip-path=\"url(#p8c4f1a90ca)\" d=\"M 1121.672994 349.84275 \r\nL 1121.672994 268.30275 \r\n\" style=\"fill:none;stroke:#ffffff;stroke-linecap:round;\"/>\r\n     </g>\r\n     <g id=\"line2d_99\">\r\n      <g>\r\n       <use style=\"fill:#262626;stroke:#262626;\" x=\"1121.672994\" xlink:href=\"#m2400a2dcea\" y=\"349.84275\"/>\r\n      </g>\r\n     </g>\r\n     <g id=\"text_57\">\r\n      <!-- 500 -->\r\n      <g style=\"fill:#262626;\" transform=\"translate(1109.661369 370.65)scale(0.144 -0.144)\">\r\n       <use xlink:href=\"#ArialMT-53\"/>\r\n       <use x=\"55.615234\" xlink:href=\"#ArialMT-48\"/>\r\n       <use x=\"111.230469\" xlink:href=\"#ArialMT-48\"/>\r\n      </g>\r\n     </g>\r\n    </g>\r\n    <g id=\"text_58\">\r\n     <!-- Fare -->\r\n     <defs>\r\n      <path d=\"M 8.203125 0 \r\nL 8.203125 71.578125 \r\nL 56.5 71.578125 \r\nL 56.5 63.140625 \r\nL 17.671875 63.140625 \r\nL 17.671875 40.96875 \r\nL 51.265625 40.96875 \r\nL 51.265625 32.515625 \r\nL 17.671875 32.515625 \r\nL 17.671875 0 \r\nz\r\n\" id=\"ArialMT-70\"/>\r\n     </defs>\r\n     <g style=\"fill:#262626;\" transform=\"translate(923.721 387.81925)scale(0.144 -0.144)\">\r\n      <use xlink:href=\"#ArialMT-70\"/>\r\n      <use x=\"61.083984\" xlink:href=\"#ArialMT-97\"/>\r\n      <use x=\"116.699219\" xlink:href=\"#ArialMT-114\"/>\r\n      <use x=\"150\" xlink:href=\"#ArialMT-101\"/>\r\n     </g>\r\n    </g>\r\n   </g>\r\n   <g id=\"matplotlib.axis_12\">\r\n    <g id=\"ytick_11\">\r\n     <g id=\"line2d_100\">\r\n      <path clip-path=\"url(#p8c4f1a90ca)\" d=\"M 715.32375 349.84275 \r\nL 1161.72375 349.84275 \r\n\" style=\"fill:none;stroke:#ffffff;stroke-linecap:round;\"/>\r\n     </g>\r\n     <g id=\"line2d_101\">\r\n      <g>\r\n       <use style=\"fill:#262626;stroke:#262626;\" x=\"715.32375\" xlink:href=\"#m9e559ed7c0\" y=\"349.84275\"/>\r\n      </g>\r\n     </g>\r\n     <g id=\"text_59\">\r\n      <!-- 0.000 -->\r\n      <g style=\"fill:#262626;\" transform=\"translate(668.79225 354.996375)scale(0.144 -0.144)\">\r\n       <use xlink:href=\"#ArialMT-48\"/>\r\n       <use x=\"55.615234\" xlink:href=\"#ArialMT-46\"/>\r\n       <use x=\"83.398438\" xlink:href=\"#ArialMT-48\"/>\r\n       <use x=\"139.013672\" xlink:href=\"#ArialMT-48\"/>\r\n       <use x=\"194.628906\" xlink:href=\"#ArialMT-48\"/>\r\n      </g>\r\n     </g>\r\n    </g>\r\n    <g id=\"ytick_12\">\r\n     <g id=\"line2d_102\">\r\n      <path clip-path=\"url(#p8c4f1a90ca)\" d=\"M 715.32375 299.74476 \r\nL 1161.72375 299.74476 \r\n\" style=\"fill:none;stroke:#ffffff;stroke-linecap:round;\"/>\r\n     </g>\r\n     <g id=\"line2d_103\">\r\n      <g>\r\n       <use style=\"fill:#262626;stroke:#262626;\" x=\"715.32375\" xlink:href=\"#m9e559ed7c0\" y=\"299.74476\"/>\r\n      </g>\r\n     </g>\r\n     <g id=\"text_60\">\r\n      <!-- 0.025 -->\r\n      <g style=\"fill:#262626;\" transform=\"translate(668.79225 304.898385)scale(0.144 -0.144)\">\r\n       <use xlink:href=\"#ArialMT-48\"/>\r\n       <use x=\"55.615234\" xlink:href=\"#ArialMT-46\"/>\r\n       <use x=\"83.398438\" xlink:href=\"#ArialMT-48\"/>\r\n       <use x=\"139.013672\" xlink:href=\"#ArialMT-50\"/>\r\n       <use x=\"194.628906\" xlink:href=\"#ArialMT-53\"/>\r\n      </g>\r\n     </g>\r\n    </g>\r\n   </g>\r\n   <g id=\"patch_128\">\r\n    <path clip-path=\"url(#p8c4f1a90ca)\" d=\"M 746.113818 349.84275 \r\nL 765.354811 349.84275 \r\nL 765.354811 300.500405 \r\nL 746.113818 300.500405 \r\nz\r\n\" style=\"fill:#8dd3c7;opacity:0.4;\"/>\r\n   </g>\r\n   <g id=\"patch_129\">\r\n    <path clip-path=\"url(#p8c4f1a90ca)\" d=\"M 765.354811 349.84275 \r\nL 784.595804 349.84275 \r\nL 784.595804 334.917129 \r\nL 765.354811 334.917129 \r\nz\r\n\" style=\"fill:#8dd3c7;opacity:0.4;\"/>\r\n   </g>\r\n   <g id=\"patch_130\">\r\n    <path clip-path=\"url(#p8c4f1a90ca)\" d=\"M 784.595804 349.84275 \r\nL 803.836798 349.84275 \r\nL 803.836798 343.9603 \r\nL 784.595804 343.9603 \r\nz\r\n\" style=\"fill:#8dd3c7;opacity:0.4;\"/>\r\n   </g>\r\n   <g id=\"patch_131\">\r\n    <path clip-path=\"url(#p8c4f1a90ca)\" d=\"M 803.836798 349.84275 \r\nL 823.077791 349.84275 \r\nL 823.077791 346.418637 \r\nL 803.836798 346.418637 \r\nz\r\n\" style=\"fill:#8dd3c7;opacity:0.4;\"/>\r\n   </g>\r\n   <g id=\"patch_132\">\r\n    <path clip-path=\"url(#p8c4f1a90ca)\" d=\"M 823.077791 349.84275 \r\nL 842.318784 349.84275 \r\nL 842.318784 348.525783 \r\nL 823.077791 348.525783 \r\nz\r\n\" style=\"fill:#8dd3c7;opacity:0.4;\"/>\r\n   </g>\r\n   <g id=\"patch_133\">\r\n    <path clip-path=\"url(#p8c4f1a90ca)\" d=\"M 842.318784 349.84275 \r\nL 861.559777 349.84275 \r\nL 861.559777 348.437986 \r\nL 842.318784 348.437986 \r\nz\r\n\" style=\"fill:#8dd3c7;opacity:0.4;\"/>\r\n   </g>\r\n   <g id=\"patch_134\">\r\n    <path clip-path=\"url(#p8c4f1a90ca)\" d=\"M 861.559777 349.84275 \r\nL 880.80077 349.84275 \r\nL 880.80077 349.667154 \r\nL 861.559777 349.667154 \r\nz\r\n\" style=\"fill:#8dd3c7;opacity:0.4;\"/>\r\n   </g>\r\n   <g id=\"patch_135\">\r\n    <path clip-path=\"url(#p8c4f1a90ca)\" d=\"M 880.80077 349.84275 \r\nL 900.041764 349.84275 \r\nL 900.041764 349.84275 \r\nL 880.80077 349.84275 \r\nz\r\n\" style=\"fill:#8dd3c7;opacity:0.4;\"/>\r\n   </g>\r\n   <g id=\"patch_136\">\r\n    <path clip-path=\"url(#p8c4f1a90ca)\" d=\"M 900.041764 349.84275 \r\nL 919.282757 349.84275 \r\nL 919.282757 349.05257 \r\nL 900.041764 349.05257 \r\nz\r\n\" style=\"fill:#8dd3c7;opacity:0.4;\"/>\r\n   </g>\r\n   <g id=\"patch_137\">\r\n    <path clip-path=\"url(#p8c4f1a90ca)\" d=\"M 919.282757 349.84275 \r\nL 938.52375 349.84275 \r\nL 938.52375 349.667154 \r\nL 919.282757 349.667154 \r\nz\r\n\" style=\"fill:#8dd3c7;opacity:0.4;\"/>\r\n   </g>\r\n   <g id=\"patch_138\">\r\n    <path clip-path=\"url(#p8c4f1a90ca)\" d=\"M 938.52375 349.84275 \r\nL 957.764743 349.84275 \r\nL 957.764743 349.315963 \r\nL 938.52375 349.315963 \r\nz\r\n\" style=\"fill:#8dd3c7;opacity:0.4;\"/>\r\n   </g>\r\n   <g id=\"patch_139\">\r\n    <path clip-path=\"url(#p8c4f1a90ca)\" d=\"M 957.764743 349.84275 \r\nL 977.005736 349.84275 \r\nL 977.005736 349.84275 \r\nL 957.764743 349.84275 \r\nz\r\n\" style=\"fill:#8dd3c7;opacity:0.4;\"/>\r\n   </g>\r\n   <g id=\"patch_140\">\r\n    <path clip-path=\"url(#p8c4f1a90ca)\" d=\"M 977.005736 349.84275 \r\nL 996.24673 349.84275 \r\nL 996.24673 349.84275 \r\nL 977.005736 349.84275 \r\nz\r\n\" style=\"fill:#8dd3c7;opacity:0.4;\"/>\r\n   </g>\r\n   <g id=\"patch_141\">\r\n    <path clip-path=\"url(#p8c4f1a90ca)\" d=\"M 996.24673 349.84275 \r\nL 1015.487723 349.84275 \r\nL 1015.487723 349.84275 \r\nL 996.24673 349.84275 \r\nz\r\n\" style=\"fill:#8dd3c7;opacity:0.4;\"/>\r\n   </g>\r\n   <g id=\"patch_142\">\r\n    <path clip-path=\"url(#p8c4f1a90ca)\" d=\"M 1015.487723 349.84275 \r\nL 1034.728716 349.84275 \r\nL 1034.728716 349.84275 \r\nL 1015.487723 349.84275 \r\nz\r\n\" style=\"fill:#8dd3c7;opacity:0.4;\"/>\r\n   </g>\r\n   <g id=\"patch_143\">\r\n    <path clip-path=\"url(#p8c4f1a90ca)\" d=\"M 1034.728716 349.84275 \r\nL 1053.969709 349.84275 \r\nL 1053.969709 349.84275 \r\nL 1034.728716 349.84275 \r\nz\r\n\" style=\"fill:#8dd3c7;opacity:0.4;\"/>\r\n   </g>\r\n   <g id=\"patch_144\">\r\n    <path clip-path=\"url(#p8c4f1a90ca)\" d=\"M 1053.969709 349.84275 \r\nL 1073.210702 349.84275 \r\nL 1073.210702 349.84275 \r\nL 1053.969709 349.84275 \r\nz\r\n\" style=\"fill:#8dd3c7;opacity:0.4;\"/>\r\n   </g>\r\n   <g id=\"patch_145\">\r\n    <path clip-path=\"url(#p8c4f1a90ca)\" d=\"M 1073.210702 349.84275 \r\nL 1092.451696 349.84275 \r\nL 1092.451696 349.84275 \r\nL 1073.210702 349.84275 \r\nz\r\n\" style=\"fill:#8dd3c7;opacity:0.4;\"/>\r\n   </g>\r\n   <g id=\"patch_146\">\r\n    <path clip-path=\"url(#p8c4f1a90ca)\" d=\"M 1092.451696 349.84275 \r\nL 1111.692689 349.84275 \r\nL 1111.692689 349.84275 \r\nL 1092.451696 349.84275 \r\nz\r\n\" style=\"fill:#8dd3c7;opacity:0.4;\"/>\r\n   </g>\r\n   <g id=\"patch_147\">\r\n    <path clip-path=\"url(#p8c4f1a90ca)\" d=\"M 1111.692689 349.84275 \r\nL 1130.933682 349.84275 \r\nL 1130.933682 349.579357 \r\nL 1111.692689 349.579357 \r\nz\r\n\" style=\"fill:#8dd3c7;opacity:0.4;\"/>\r\n   </g>\r\n   <g id=\"line2d_104\">\r\n    <path clip-path=\"url(#p8c4f1a90ca)\" d=\"M 735.614659 349.787682 \r\nL 738.810078 349.481159 \r\nL 742.005497 347.315504 \r\nL 745.200915 337.775326 \r\nL 748.396334 307.511545 \r\nL 751.591753 272.185607 \r\nL 754.787172 276.845155 \r\nL 757.98259 302.73439 \r\nL 761.178009 318.083067 \r\nL 767.568847 322.866468 \r\nL 770.764265 331.259797 \r\nL 773.959684 339.03402 \r\nL 777.155103 343.108352 \r\nL 780.350522 344.224497 \r\nL 783.54594 343.058612 \r\nL 786.741359 342.314823 \r\nL 789.936778 343.825522 \r\nL 793.132197 345.662758 \r\nL 796.327615 345.780447 \r\nL 802.718453 343.693558 \r\nL 805.913872 343.450333 \r\nL 809.10929 344.821613 \r\nL 812.304709 346.388582 \r\nL 818.695547 348.807332 \r\nL 821.890965 349.224232 \r\nL 825.086384 348.675124 \r\nL 828.281803 347.953247 \r\nL 831.477222 347.950936 \r\nL 837.868059 348.99007 \r\nL 841.063478 349.244449 \r\nL 847.454315 348.462577 \r\nL 850.649734 348.848227 \r\nL 853.845153 349.089726 \r\nL 857.040572 348.623447 \r\nL 860.235991 348.294374 \r\nL 866.626828 349.287613 \r\nL 873.017666 349.579672 \r\nL 876.213084 349.773816 \r\nL 882.603922 349.841651 \r\nL 895.385597 349.826178 \r\nL 898.581016 349.711997 \r\nL 904.971853 348.997721 \r\nL 911.362691 349.341164 \r\nL 914.558109 349.086056 \r\nL 917.753528 349.015509 \r\nL 924.144366 349.711562 \r\nL 927.339784 349.668634 \r\nL 930.535203 349.502545 \r\nL 936.926041 349.515456 \r\nL 943.316878 348.632463 \r\nL 946.512297 349.054478 \r\nL 949.707716 349.623247 \r\nL 952.903134 349.811595 \r\nL 965.684809 349.84221 \r\nL 1122.260328 349.813484 \r\nL 1125.455747 349.665265 \r\nL 1128.651166 349.397807 \r\nL 1131.846585 349.28158 \r\nL 1138.237422 349.76468 \r\nL 1141.432841 349.84275 \r\nL 1141.432841 349.84275 \r\n\" style=\"fill:none;stroke:#8dd3c7;stroke-linecap:round;stroke-width:1.75;\"/>\r\n   </g>\r\n   <g id=\"patch_148\">\r\n    <path d=\"M 715.32375 349.84275 \r\nL 715.32375 268.30275 \r\n\" style=\"fill:none;\"/>\r\n   </g>\r\n   <g id=\"patch_149\">\r\n    <path d=\"M 1161.72375 349.84275 \r\nL 1161.72375 268.30275 \r\n\" style=\"fill:none;\"/>\r\n   </g>\r\n   <g id=\"patch_150\">\r\n    <path d=\"M 715.32375 349.84275 \r\nL 1161.72375 349.84275 \r\n\" style=\"fill:none;\"/>\r\n   </g>\r\n   <g id=\"patch_151\">\r\n    <path d=\"M 715.32375 268.30275 \r\nL 1161.72375 268.30275 \r\n\" style=\"fill:none;\"/>\r\n   </g>\r\n   <g id=\"text_61\">\r\n    <!-- Distplot of Fare -->\r\n    <g style=\"fill:#262626;\" transform=\"translate(889.708875 262.30275)scale(0.144 -0.144)\">\r\n     <use xlink:href=\"#ArialMT-68\"/>\r\n     <use x=\"72.216797\" xlink:href=\"#ArialMT-105\"/>\r\n     <use x=\"94.433594\" xlink:href=\"#ArialMT-115\"/>\r\n     <use x=\"144.433594\" xlink:href=\"#ArialMT-116\"/>\r\n     <use x=\"172.216797\" xlink:href=\"#ArialMT-112\"/>\r\n     <use x=\"227.832031\" xlink:href=\"#ArialMT-108\"/>\r\n     <use x=\"250.048828\" xlink:href=\"#ArialMT-111\"/>\r\n     <use x=\"305.664062\" xlink:href=\"#ArialMT-116\"/>\r\n     <use x=\"333.447266\" xlink:href=\"#ArialMT-32\"/>\r\n     <use x=\"361.230469\" xlink:href=\"#ArialMT-111\"/>\r\n     <use x=\"416.845703\" xlink:href=\"#ArialMT-102\"/>\r\n     <use x=\"444.628906\" xlink:href=\"#ArialMT-32\"/>\r\n     <use x=\"472.412109\" xlink:href=\"#ArialMT-70\"/>\r\n     <use x=\"533.496094\" xlink:href=\"#ArialMT-97\"/>\r\n     <use x=\"589.111328\" xlink:href=\"#ArialMT-114\"/>\r\n     <use x=\"622.412109\" xlink:href=\"#ArialMT-101\"/>\r\n    </g>\r\n   </g>\r\n  </g>\r\n </g>\r\n <defs>\r\n  <clipPath id=\"p801b03faad\">\r\n   <rect height=\"81.54\" width=\"446.4\" x=\"45.72375\" y=\"23.68275\"/>\r\n  </clipPath>\r\n  <clipPath id=\"p87aaf5c19c\">\r\n   <rect height=\"81.54\" width=\"446.4\" x=\"715.32375\" y=\"23.68275\"/>\r\n  </clipPath>\r\n  <clipPath id=\"p3d79b531db\">\r\n   <rect height=\"81.54\" width=\"446.4\" x=\"45.72375\" y=\"145.99275\"/>\r\n  </clipPath>\r\n  <clipPath id=\"pda35eaf60f\">\r\n   <rect height=\"81.54\" width=\"446.4\" x=\"715.32375\" y=\"145.99275\"/>\r\n  </clipPath>\r\n  <clipPath id=\"pe8db0cc3d3\">\r\n   <rect height=\"81.54\" width=\"446.4\" x=\"45.72375\" y=\"268.30275\"/>\r\n  </clipPath>\r\n  <clipPath id=\"p8c4f1a90ca\">\r\n   <rect height=\"81.54\" width=\"446.4\" x=\"715.32375\" y=\"268.30275\"/>\r\n  </clipPath>\r\n </defs>\r\n</svg>\r\n",
      "text/plain": "<Figure size 1440x432 with 6 Axes>"
     },
     "metadata": {
      "needs_background": "light"
     },
     "output_type": "display_data"
    }
   ],
   "source": [
    "plt.figure(1 , figsize = (20 , 6))\n",
    "n = 0 \n",
    "for x in ['Survived' , 'Pclass' ,'Age','SibSp','Parch','Fare']:\n",
    "    n += 1\n",
    "    plt.subplot(3 , 2 , n)\n",
    "    plt.subplots_adjust(hspace =0.5 , wspace = 0.5)\n",
    "    sns.distplot(df[x] , bins = 20)\n",
    "    plt.title('Distplot of {}'.format(x))\n",
    "plt.show()"
   ]
  },
  {
   "cell_type": "code",
   "execution_count": 6,
   "metadata": {},
   "outputs": [],
   "source": [
    "##Retira os dois passageiros que nao embarcaram \n",
    "df = df.loc[df['Embarked'].isnull()==False]"
   ]
  },
  {
   "cell_type": "code",
   "execution_count": 7,
   "metadata": {},
   "outputs": [
    {
     "data": {
      "text/plain": "<matplotlib.axes._subplots.AxesSubplot at 0x21bc247fd68>"
     },
     "execution_count": 7,
     "metadata": {},
     "output_type": "execute_result"
    },
    {
     "data": {
      "image/png": "[encoded data removed]",
      "image/svg+xml": "<?xml version=\"1.0\" encoding=\"utf-8\" standalone=\"no\"?>\r\n<!DOCTYPE svg PUBLIC \"-//W3C//DTD SVG 1.1//EN\"\r\n  \"http://www.w3.org/Graphics/SVG/1.1/DTD/svg11.dtd\">\r\n<!-- Created with matplotlib (https://matplotlib.org/) -->\r\n<svg height=\"473.12475pt\" version=\"1.1\" viewBox=\"0 0 735.5775 473.12475\" width=\"735.5775pt\" xmlns=\"http://www.w3.org/2000/svg\" xmlns:xlink=\"http://www.w3.org/1999/xlink\">\r\n <defs>\r\n  <style type=\"text/css\">\r\n*{stroke-linecap:butt;stroke-linejoin:round;white-space:pre;}\r\n  </style>\r\n </defs>\r\n <g id=\"figure_1\">\r\n  <g id=\"patch_1\">\r\n   <path d=\"M 0 473.12475 \r\nL 735.5775 473.12475 \r\nL 735.5775 0 \r\nL 0 0 \r\nz\r\n\" style=\"fill:none;\"/>\r\n  </g>\r\n  <g id=\"axes_1\">\r\n   <g id=\"patch_2\">\r\n    <path d=\"M 98.547 442.08 \r\nL 634.227 442.08 \r\nL 634.227 7.2 \r\nL 98.547 7.2 \r\nz\r\n\" style=\"fill:#eaeaf2;\"/>\r\n   </g>\r\n   <g id=\"matplotlib.axis_1\">\r\n    <g id=\"xtick_1\">\r\n     <g id=\"line2d_1\">\r\n      <defs>\r\n       <path d=\"M 0 0 \r\nL 0 3.5 \r\n\" id=\"m8a10a3b09f\" style=\"stroke:#262626;\"/>\r\n      </defs>\r\n      <g>\r\n       <use style=\"fill:#262626;stroke:#262626;\" x=\"136.809857\" xlink:href=\"#m8a10a3b09f\" y=\"442.08\"/>\r\n      </g>\r\n     </g>\r\n     <g id=\"text_1\">\r\n      <!-- PassengerId -->\r\n      <defs>\r\n       <path d=\"M 7.71875 0 \r\nL 7.71875 71.578125 \r\nL 34.71875 71.578125 \r\nQ 41.84375 71.578125 45.609375 70.90625 \r\nQ 50.875 70.015625 54.4375 67.546875 \r\nQ 58.015625 65.09375 60.1875 60.640625 \r\nQ 62.359375 56.203125 62.359375 50.875 \r\nQ 62.359375 41.75 56.546875 35.421875 \r\nQ 50.734375 29.109375 35.546875 29.109375 \r\nL 17.1875 29.109375 \r\nL 17.1875 0 \r\nz\r\nM 17.1875 37.546875 \r\nL 35.6875 37.546875 \r\nQ 44.875 37.546875 48.734375 40.96875 \r\nQ 52.59375 44.390625 52.59375 50.59375 \r\nQ 52.59375 55.078125 50.3125 58.265625 \r\nQ 48.046875 61.46875 44.34375 62.5 \r\nQ 41.9375 63.140625 35.5 63.140625 \r\nL 17.1875 63.140625 \r\nz\r\n\" id=\"ArialMT-80\"/>\r\n       <path d=\"M 40.4375 6.390625 \r\nQ 35.546875 2.25 31.03125 0.53125 \r\nQ 26.515625 -1.171875 21.34375 -1.171875 \r\nQ 12.796875 -1.171875 8.203125 3 \r\nQ 3.609375 7.171875 3.609375 13.671875 \r\nQ 3.609375 17.484375 5.34375 20.625 \r\nQ 7.078125 23.78125 9.890625 25.6875 \r\nQ 12.703125 27.59375 16.21875 28.5625 \r\nQ 18.796875 29.25 24.03125 29.890625 \r\nQ 34.671875 31.15625 39.703125 32.90625 \r\nQ 39.75 34.71875 39.75 35.203125 \r\nQ 39.75 40.578125 37.25 42.78125 \r\nQ 33.890625 45.75 27.25 45.75 \r\nQ 21.046875 45.75 18.09375 43.578125 \r\nQ 15.140625 41.40625 13.71875 35.890625 \r\nL 5.125 37.0625 \r\nQ 6.296875 42.578125 8.984375 45.96875 \r\nQ 11.671875 49.359375 16.75 51.1875 \r\nQ 21.828125 53.03125 28.515625 53.03125 \r\nQ 35.15625 53.03125 39.296875 51.46875 \r\nQ 43.453125 49.90625 45.40625 47.53125 \r\nQ 47.359375 45.171875 48.140625 41.546875 \r\nQ 48.578125 39.3125 48.578125 33.453125 \r\nL 48.578125 21.734375 \r\nQ 48.578125 9.46875 49.140625 6.21875 \r\nQ 49.703125 2.984375 51.375 0 \r\nL 42.1875 0 \r\nQ 40.828125 2.734375 40.4375 6.390625 \r\nz\r\nM 39.703125 26.03125 \r\nQ 34.90625 24.078125 25.34375 22.703125 \r\nQ 19.921875 21.921875 17.671875 20.9375 \r\nQ 15.4375 19.96875 14.203125 18.09375 \r\nQ 12.984375 16.21875 12.984375 13.921875 \r\nQ 12.984375 10.40625 15.640625 8.0625 \r\nQ 18.3125 5.71875 23.4375 5.71875 \r\nQ 28.515625 5.71875 32.46875 7.9375 \r\nQ 36.421875 10.15625 38.28125 14.015625 \r\nQ 39.703125 17 39.703125 22.796875 \r\nz\r\n\" id=\"ArialMT-97\"/>\r\n       <path d=\"M 3.078125 15.484375 \r\nL 11.765625 16.84375 \r\nQ 12.5 11.625 15.84375 8.84375 \r\nQ 19.1875 6.0625 25.203125 6.0625 \r\nQ 31.25 6.0625 34.171875 8.515625 \r\nQ 37.109375 10.984375 37.109375 14.3125 \r\nQ 37.109375 17.28125 34.515625 19 \r\nQ 32.71875 20.171875 25.53125 21.96875 \r\nQ 15.875 24.421875 12.140625 26.203125 \r\nQ 8.40625 27.984375 6.46875 31.125 \r\nQ 4.546875 34.28125 4.546875 38.09375 \r\nQ 4.546875 41.546875 6.125 44.5 \r\nQ 7.71875 47.46875 10.453125 49.421875 \r\nQ 12.5 50.921875 16.03125 51.96875 \r\nQ 19.578125 53.03125 23.640625 53.03125 \r\nQ 29.734375 53.03125 34.34375 51.265625 \r\nQ 38.96875 49.515625 41.15625 46.5 \r\nQ 43.359375 43.5 44.1875 38.484375 \r\nL 35.59375 37.3125 \r\nQ 35.015625 41.3125 32.203125 43.546875 \r\nQ 29.390625 45.796875 24.265625 45.796875 \r\nQ 18.21875 45.796875 15.625 43.796875 \r\nQ 13.03125 41.796875 13.03125 39.109375 \r\nQ 13.03125 37.40625 14.109375 36.03125 \r\nQ 15.1875 34.625 17.484375 33.6875 \r\nQ 18.796875 33.203125 25.25 31.453125 \r\nQ 34.578125 28.953125 38.25 27.359375 \r\nQ 41.9375 25.78125 44.03125 22.75 \r\nQ 46.140625 19.734375 46.140625 15.234375 \r\nQ 46.140625 10.84375 43.578125 6.953125 \r\nQ 41.015625 3.078125 36.171875 0.953125 \r\nQ 31.34375 -1.171875 25.25 -1.171875 \r\nQ 15.140625 -1.171875 9.84375 3.03125 \r\nQ 4.546875 7.234375 3.078125 15.484375 \r\nz\r\n\" id=\"ArialMT-115\"/>\r\n       <path d=\"M 42.09375 16.703125 \r\nL 51.171875 15.578125 \r\nQ 49.03125 7.625 43.21875 3.21875 \r\nQ 37.40625 -1.171875 28.375 -1.171875 \r\nQ 17 -1.171875 10.328125 5.828125 \r\nQ 3.65625 12.84375 3.65625 25.484375 \r\nQ 3.65625 38.578125 10.390625 45.796875 \r\nQ 17.140625 53.03125 27.875 53.03125 \r\nQ 38.28125 53.03125 44.875 45.953125 \r\nQ 51.46875 38.875 51.46875 26.03125 \r\nQ 51.46875 25.25 51.421875 23.6875 \r\nL 12.75 23.6875 \r\nQ 13.234375 15.140625 17.578125 10.59375 \r\nQ 21.921875 6.0625 28.421875 6.0625 \r\nQ 33.25 6.0625 36.671875 8.59375 \r\nQ 40.09375 11.140625 42.09375 16.703125 \r\nz\r\nM 13.234375 30.90625 \r\nL 42.1875 30.90625 \r\nQ 41.609375 37.453125 38.875 40.71875 \r\nQ 34.671875 45.796875 27.984375 45.796875 \r\nQ 21.921875 45.796875 17.796875 41.75 \r\nQ 13.671875 37.703125 13.234375 30.90625 \r\nz\r\n\" id=\"ArialMT-101\"/>\r\n       <path d=\"M 6.59375 0 \r\nL 6.59375 51.859375 \r\nL 14.5 51.859375 \r\nL 14.5 44.484375 \r\nQ 20.21875 53.03125 31 53.03125 \r\nQ 35.6875 53.03125 39.625 51.34375 \r\nQ 43.5625 49.65625 45.515625 46.921875 \r\nQ 47.46875 44.1875 48.25 40.4375 \r\nQ 48.734375 37.984375 48.734375 31.890625 \r\nL 48.734375 0 \r\nL 39.9375 0 \r\nL 39.9375 31.546875 \r\nQ 39.9375 36.921875 38.90625 39.578125 \r\nQ 37.890625 42.234375 35.28125 43.8125 \r\nQ 32.671875 45.40625 29.15625 45.40625 \r\nQ 23.53125 45.40625 19.453125 41.84375 \r\nQ 15.375 38.28125 15.375 28.328125 \r\nL 15.375 0 \r\nz\r\n\" id=\"ArialMT-110\"/>\r\n       <path d=\"M 4.984375 -4.296875 \r\nL 13.53125 -5.5625 \r\nQ 14.0625 -9.515625 16.5 -11.328125 \r\nQ 19.78125 -13.765625 25.4375 -13.765625 \r\nQ 31.546875 -13.765625 34.859375 -11.328125 \r\nQ 38.1875 -8.890625 39.359375 -4.5 \r\nQ 40.046875 -1.8125 39.984375 6.78125 \r\nQ 34.234375 0 25.640625 0 \r\nQ 14.9375 0 9.078125 7.71875 \r\nQ 3.21875 15.4375 3.21875 26.21875 \r\nQ 3.21875 33.640625 5.90625 39.90625 \r\nQ 8.59375 46.1875 13.6875 49.609375 \r\nQ 18.796875 53.03125 25.6875 53.03125 \r\nQ 34.859375 53.03125 40.828125 45.609375 \r\nL 40.828125 51.859375 \r\nL 48.921875 51.859375 \r\nL 48.921875 7.03125 \r\nQ 48.921875 -5.078125 46.453125 -10.125 \r\nQ 44 -15.1875 38.640625 -18.109375 \r\nQ 33.296875 -21.046875 25.484375 -21.046875 \r\nQ 16.21875 -21.046875 10.5 -16.875 \r\nQ 4.78125 -12.703125 4.984375 -4.296875 \r\nz\r\nM 12.25 26.859375 \r\nQ 12.25 16.65625 16.296875 11.96875 \r\nQ 20.359375 7.28125 26.46875 7.28125 \r\nQ 32.515625 7.28125 36.609375 11.9375 \r\nQ 40.71875 16.609375 40.71875 26.5625 \r\nQ 40.71875 36.078125 36.5 40.90625 \r\nQ 32.28125 45.75 26.3125 45.75 \r\nQ 20.453125 45.75 16.34375 40.984375 \r\nQ 12.25 36.234375 12.25 26.859375 \r\nz\r\n\" id=\"ArialMT-103\"/>\r\n       <path d=\"M 6.5 0 \r\nL 6.5 51.859375 \r\nL 14.40625 51.859375 \r\nL 14.40625 44 \r\nQ 17.4375 49.515625 20 51.265625 \r\nQ 22.5625 53.03125 25.640625 53.03125 \r\nQ 30.078125 53.03125 34.671875 50.203125 \r\nL 31.640625 42.046875 \r\nQ 28.421875 43.953125 25.203125 43.953125 \r\nQ 22.3125 43.953125 20.015625 42.21875 \r\nQ 17.71875 40.484375 16.75 37.40625 \r\nQ 15.28125 32.71875 15.28125 27.15625 \r\nL 15.28125 0 \r\nz\r\n\" id=\"ArialMT-114\"/>\r\n       <path d=\"M 9.328125 0 \r\nL 9.328125 71.578125 \r\nL 18.796875 71.578125 \r\nL 18.796875 0 \r\nz\r\n\" id=\"ArialMT-73\"/>\r\n       <path d=\"M 40.234375 0 \r\nL 40.234375 6.546875 \r\nQ 35.296875 -1.171875 25.734375 -1.171875 \r\nQ 19.53125 -1.171875 14.328125 2.25 \r\nQ 9.125 5.671875 6.265625 11.796875 \r\nQ 3.421875 17.921875 3.421875 25.875 \r\nQ 3.421875 33.640625 6 39.96875 \r\nQ 8.59375 46.296875 13.765625 49.65625 \r\nQ 18.953125 53.03125 25.34375 53.03125 \r\nQ 30.03125 53.03125 33.6875 51.046875 \r\nQ 37.359375 49.078125 39.65625 45.90625 \r\nL 39.65625 71.578125 \r\nL 48.390625 71.578125 \r\nL 48.390625 0 \r\nz\r\nM 12.453125 25.875 \r\nQ 12.453125 15.921875 16.640625 10.984375 \r\nQ 20.84375 6.0625 26.5625 6.0625 \r\nQ 32.328125 6.0625 36.34375 10.765625 \r\nQ 40.375 15.484375 40.375 25.140625 \r\nQ 40.375 35.796875 36.265625 40.765625 \r\nQ 32.171875 45.75 26.171875 45.75 \r\nQ 20.3125 45.75 16.375 40.96875 \r\nQ 12.453125 36.1875 12.453125 25.875 \r\nz\r\n\" id=\"ArialMT-100\"/>\r\n      </defs>\r\n      <g style=\"fill:#262626;\" transform=\"translate(96.386357 462.88725)scale(0.144 -0.144)\">\r\n       <use xlink:href=\"#ArialMT-80\"/>\r\n       <use x=\"66.699219\" xlink:href=\"#ArialMT-97\"/>\r\n       <use x=\"122.314453\" xlink:href=\"#ArialMT-115\"/>\r\n       <use x=\"172.314453\" xlink:href=\"#ArialMT-115\"/>\r\n       <use x=\"222.314453\" xlink:href=\"#ArialMT-101\"/>\r\n       <use x=\"277.929688\" xlink:href=\"#ArialMT-110\"/>\r\n       <use x=\"333.544922\" xlink:href=\"#ArialMT-103\"/>\r\n       <use x=\"389.160156\" xlink:href=\"#ArialMT-101\"/>\r\n       <use x=\"444.775391\" xlink:href=\"#ArialMT-114\"/>\r\n       <use x=\"478.076172\" xlink:href=\"#ArialMT-73\"/>\r\n       <use x=\"505.859375\" xlink:href=\"#ArialMT-100\"/>\r\n      </g>\r\n     </g>\r\n    </g>\r\n    <g id=\"xtick_2\">\r\n     <g id=\"line2d_2\">\r\n      <g>\r\n       <use style=\"fill:#262626;stroke:#262626;\" x=\"213.335571\" xlink:href=\"#m8a10a3b09f\" y=\"442.08\"/>\r\n      </g>\r\n     </g>\r\n     <g id=\"text_2\">\r\n      <!-- Survived -->\r\n      <defs>\r\n       <path d=\"M 4.5 23 \r\nL 13.421875 23.78125 \r\nQ 14.0625 18.40625 16.375 14.96875 \r\nQ 18.703125 11.53125 23.578125 9.40625 \r\nQ 28.46875 7.28125 34.578125 7.28125 \r\nQ 39.984375 7.28125 44.140625 8.890625 \r\nQ 48.296875 10.5 50.3125 13.296875 \r\nQ 52.34375 16.109375 52.34375 19.4375 \r\nQ 52.34375 22.796875 50.390625 25.3125 \r\nQ 48.4375 27.828125 43.953125 29.546875 \r\nQ 41.0625 30.671875 31.203125 33.03125 \r\nQ 21.34375 35.40625 17.390625 37.5 \r\nQ 12.25 40.1875 9.734375 44.15625 \r\nQ 7.234375 48.140625 7.234375 53.078125 \r\nQ 7.234375 58.5 10.296875 63.203125 \r\nQ 13.375 67.921875 19.28125 70.359375 \r\nQ 25.203125 72.796875 32.421875 72.796875 \r\nQ 40.375 72.796875 46.453125 70.234375 \r\nQ 52.546875 67.671875 55.8125 62.6875 \r\nQ 59.078125 57.71875 59.328125 51.421875 \r\nL 50.25 50.734375 \r\nQ 49.515625 57.515625 45.28125 60.984375 \r\nQ 41.0625 64.453125 32.8125 64.453125 \r\nQ 24.21875 64.453125 20.28125 61.296875 \r\nQ 16.359375 58.15625 16.359375 53.71875 \r\nQ 16.359375 49.859375 19.140625 47.359375 \r\nQ 21.875 44.875 33.421875 42.265625 \r\nQ 44.96875 39.65625 49.265625 37.703125 \r\nQ 55.515625 34.8125 58.484375 30.390625 \r\nQ 61.46875 25.984375 61.46875 20.21875 \r\nQ 61.46875 14.5 58.203125 9.4375 \r\nQ 54.9375 4.390625 48.796875 1.578125 \r\nQ 42.671875 -1.21875 35.015625 -1.21875 \r\nQ 25.296875 -1.21875 18.71875 1.609375 \r\nQ 12.15625 4.4375 8.421875 10.125 \r\nQ 4.6875 15.828125 4.5 23 \r\nz\r\n\" id=\"ArialMT-83\"/>\r\n       <path d=\"M 40.578125 0 \r\nL 40.578125 7.625 \r\nQ 34.515625 -1.171875 24.125 -1.171875 \r\nQ 19.53125 -1.171875 15.546875 0.578125 \r\nQ 11.578125 2.34375 9.640625 5 \r\nQ 7.71875 7.671875 6.9375 11.53125 \r\nQ 6.390625 14.109375 6.390625 19.734375 \r\nL 6.390625 51.859375 \r\nL 15.1875 51.859375 \r\nL 15.1875 23.09375 \r\nQ 15.1875 16.21875 15.71875 13.8125 \r\nQ 16.546875 10.359375 19.234375 8.375 \r\nQ 21.921875 6.390625 25.875 6.390625 \r\nQ 29.828125 6.390625 33.296875 8.421875 \r\nQ 36.765625 10.453125 38.203125 13.9375 \r\nQ 39.65625 17.4375 39.65625 24.078125 \r\nL 39.65625 51.859375 \r\nL 48.4375 51.859375 \r\nL 48.4375 0 \r\nz\r\n\" id=\"ArialMT-117\"/>\r\n       <path d=\"M 21 0 \r\nL 1.265625 51.859375 \r\nL 10.546875 51.859375 \r\nL 21.6875 20.796875 \r\nQ 23.484375 15.765625 25 10.359375 \r\nQ 26.171875 14.453125 28.265625 20.21875 \r\nL 39.796875 51.859375 \r\nL 48.828125 51.859375 \r\nL 29.203125 0 \r\nz\r\n\" id=\"ArialMT-118\"/>\r\n       <path d=\"M 6.640625 61.46875 \r\nL 6.640625 71.578125 \r\nL 15.4375 71.578125 \r\nL 15.4375 61.46875 \r\nz\r\nM 6.640625 0 \r\nL 6.640625 51.859375 \r\nL 15.4375 51.859375 \r\nL 15.4375 0 \r\nz\r\n\" id=\"ArialMT-105\"/>\r\n      </defs>\r\n      <g style=\"fill:#262626;\" transform=\"translate(185.324196 462.88725)scale(0.144 -0.144)\">\r\n       <use xlink:href=\"#ArialMT-83\"/>\r\n       <use x=\"66.699219\" xlink:href=\"#ArialMT-117\"/>\r\n       <use x=\"122.314453\" xlink:href=\"#ArialMT-114\"/>\r\n       <use x=\"155.615234\" xlink:href=\"#ArialMT-118\"/>\r\n       <use x=\"205.615234\" xlink:href=\"#ArialMT-105\"/>\r\n       <use x=\"227.832031\" xlink:href=\"#ArialMT-118\"/>\r\n       <use x=\"277.832031\" xlink:href=\"#ArialMT-101\"/>\r\n       <use x=\"333.447266\" xlink:href=\"#ArialMT-100\"/>\r\n      </g>\r\n     </g>\r\n    </g>\r\n    <g id=\"xtick_3\">\r\n     <g id=\"line2d_3\">\r\n      <g>\r\n       <use style=\"fill:#262626;stroke:#262626;\" x=\"289.861286\" xlink:href=\"#m8a10a3b09f\" y=\"442.08\"/>\r\n      </g>\r\n     </g>\r\n     <g id=\"text_3\">\r\n      <!-- Pclass -->\r\n      <defs>\r\n       <path d=\"M 40.4375 19 \r\nL 49.078125 17.875 \r\nQ 47.65625 8.9375 41.8125 3.875 \r\nQ 35.984375 -1.171875 27.484375 -1.171875 \r\nQ 16.84375 -1.171875 10.375 5.78125 \r\nQ 3.90625 12.75 3.90625 25.734375 \r\nQ 3.90625 34.125 6.6875 40.421875 \r\nQ 9.46875 46.734375 15.15625 49.875 \r\nQ 20.84375 53.03125 27.546875 53.03125 \r\nQ 35.984375 53.03125 41.359375 48.75 \r\nQ 46.734375 44.484375 48.25 36.625 \r\nL 39.703125 35.296875 \r\nQ 38.484375 40.53125 35.375 43.15625 \r\nQ 32.28125 45.796875 27.875 45.796875 \r\nQ 21.234375 45.796875 17.078125 41.03125 \r\nQ 12.9375 36.28125 12.9375 25.984375 \r\nQ 12.9375 15.53125 16.9375 10.796875 \r\nQ 20.953125 6.0625 27.390625 6.0625 \r\nQ 32.5625 6.0625 36.03125 9.234375 \r\nQ 39.5 12.40625 40.4375 19 \r\nz\r\n\" id=\"ArialMT-99\"/>\r\n       <path d=\"M 6.390625 0 \r\nL 6.390625 71.578125 \r\nL 15.1875 71.578125 \r\nL 15.1875 0 \r\nz\r\n\" id=\"ArialMT-108\"/>\r\n      </defs>\r\n      <g style=\"fill:#262626;\" transform=\"translate(268.655036 462.88725)scale(0.144 -0.144)\">\r\n       <use xlink:href=\"#ArialMT-80\"/>\r\n       <use x=\"66.699219\" xlink:href=\"#ArialMT-99\"/>\r\n       <use x=\"116.699219\" xlink:href=\"#ArialMT-108\"/>\r\n       <use x=\"138.916016\" xlink:href=\"#ArialMT-97\"/>\r\n       <use x=\"194.53125\" xlink:href=\"#ArialMT-115\"/>\r\n       <use x=\"244.53125\" xlink:href=\"#ArialMT-115\"/>\r\n      </g>\r\n     </g>\r\n    </g>\r\n    <g id=\"xtick_4\">\r\n     <g id=\"line2d_4\">\r\n      <g>\r\n       <use style=\"fill:#262626;stroke:#262626;\" x=\"366.387\" xlink:href=\"#m8a10a3b09f\" y=\"442.08\"/>\r\n      </g>\r\n     </g>\r\n     <g id=\"text_4\">\r\n      <!-- Age -->\r\n      <defs>\r\n       <path d=\"M -0.140625 0 \r\nL 27.34375 71.578125 \r\nL 37.546875 71.578125 \r\nL 66.84375 0 \r\nL 56.0625 0 \r\nL 47.703125 21.6875 \r\nL 17.78125 21.6875 \r\nL 9.90625 0 \r\nz\r\nM 20.515625 29.390625 \r\nL 44.78125 29.390625 \r\nL 37.3125 49.21875 \r\nQ 33.890625 58.25 32.234375 64.0625 \r\nQ 30.859375 57.171875 28.375 50.390625 \r\nz\r\n\" id=\"ArialMT-65\"/>\r\n      </defs>\r\n      <g style=\"fill:#262626;\" transform=\"translate(353.576625 462.88725)scale(0.144 -0.144)\">\r\n       <use xlink:href=\"#ArialMT-65\"/>\r\n       <use x=\"66.699219\" xlink:href=\"#ArialMT-103\"/>\r\n       <use x=\"122.314453\" xlink:href=\"#ArialMT-101\"/>\r\n      </g>\r\n     </g>\r\n    </g>\r\n    <g id=\"xtick_5\">\r\n     <g id=\"line2d_5\">\r\n      <g>\r\n       <use style=\"fill:#262626;stroke:#262626;\" x=\"442.912714\" xlink:href=\"#m8a10a3b09f\" y=\"442.08\"/>\r\n      </g>\r\n     </g>\r\n     <g id=\"text_5\">\r\n      <!-- SibSp -->\r\n      <defs>\r\n       <path d=\"M 14.703125 0 \r\nL 6.546875 0 \r\nL 6.546875 71.578125 \r\nL 15.328125 71.578125 \r\nL 15.328125 46.046875 \r\nQ 20.90625 53.03125 29.546875 53.03125 \r\nQ 34.328125 53.03125 38.59375 51.09375 \r\nQ 42.875 49.171875 45.625 45.671875 \r\nQ 48.390625 42.1875 49.953125 37.25 \r\nQ 51.515625 32.328125 51.515625 26.703125 \r\nQ 51.515625 13.375 44.921875 6.09375 \r\nQ 38.328125 -1.171875 29.109375 -1.171875 \r\nQ 19.921875 -1.171875 14.703125 6.5 \r\nz\r\nM 14.59375 26.3125 \r\nQ 14.59375 17 17.140625 12.84375 \r\nQ 21.296875 6.0625 28.375 6.0625 \r\nQ 34.125 6.0625 38.328125 11.0625 \r\nQ 42.53125 16.0625 42.53125 25.984375 \r\nQ 42.53125 36.140625 38.5 40.96875 \r\nQ 34.46875 45.796875 28.765625 45.796875 \r\nQ 23 45.796875 18.796875 40.796875 \r\nQ 14.59375 35.796875 14.59375 26.3125 \r\nz\r\n\" id=\"ArialMT-98\"/>\r\n       <path d=\"M 6.59375 -19.875 \r\nL 6.59375 51.859375 \r\nL 14.59375 51.859375 \r\nL 14.59375 45.125 \r\nQ 17.4375 49.078125 21 51.046875 \r\nQ 24.5625 53.03125 29.640625 53.03125 \r\nQ 36.28125 53.03125 41.359375 49.609375 \r\nQ 46.4375 46.1875 49.015625 39.953125 \r\nQ 51.609375 33.734375 51.609375 26.3125 \r\nQ 51.609375 18.359375 48.75 11.984375 \r\nQ 45.90625 5.609375 40.453125 2.21875 \r\nQ 35.015625 -1.171875 29 -1.171875 \r\nQ 24.609375 -1.171875 21.109375 0.6875 \r\nQ 17.625 2.546875 15.375 5.375 \r\nL 15.375 -19.875 \r\nz\r\nM 14.546875 25.640625 \r\nQ 14.546875 15.625 18.59375 10.84375 \r\nQ 22.65625 6.0625 28.421875 6.0625 \r\nQ 34.28125 6.0625 38.453125 11.015625 \r\nQ 42.625 15.96875 42.625 26.375 \r\nQ 42.625 36.28125 38.546875 41.203125 \r\nQ 34.46875 46.140625 28.8125 46.140625 \r\nQ 23.1875 46.140625 18.859375 40.890625 \r\nQ 14.546875 35.640625 14.546875 25.640625 \r\nz\r\n\" id=\"ArialMT-112\"/>\r\n      </defs>\r\n      <g style=\"fill:#262626;\" transform=\"translate(423.699964 463.06275)scale(0.144 -0.144)\">\r\n       <use xlink:href=\"#ArialMT-83\"/>\r\n       <use x=\"66.699219\" xlink:href=\"#ArialMT-105\"/>\r\n       <use x=\"88.916016\" xlink:href=\"#ArialMT-98\"/>\r\n       <use x=\"144.53125\" xlink:href=\"#ArialMT-83\"/>\r\n       <use x=\"211.230469\" xlink:href=\"#ArialMT-112\"/>\r\n      </g>\r\n     </g>\r\n    </g>\r\n    <g id=\"xtick_6\">\r\n     <g id=\"line2d_6\">\r\n      <g>\r\n       <use style=\"fill:#262626;stroke:#262626;\" x=\"519.438429\" xlink:href=\"#m8a10a3b09f\" y=\"442.08\"/>\r\n      </g>\r\n     </g>\r\n     <g id=\"text_6\">\r\n      <!-- Parch -->\r\n      <defs>\r\n       <path d=\"M 6.59375 0 \r\nL 6.59375 71.578125 \r\nL 15.375 71.578125 \r\nL 15.375 45.90625 \r\nQ 21.53125 53.03125 30.90625 53.03125 \r\nQ 36.671875 53.03125 40.921875 50.75 \r\nQ 45.171875 48.484375 47 44.484375 \r\nQ 48.828125 40.484375 48.828125 32.859375 \r\nL 48.828125 0 \r\nL 40.046875 0 \r\nL 40.046875 32.859375 \r\nQ 40.046875 39.453125 37.1875 42.453125 \r\nQ 34.328125 45.453125 29.109375 45.453125 \r\nQ 25.203125 45.453125 21.75 43.421875 \r\nQ 18.3125 41.40625 16.84375 37.9375 \r\nQ 15.375 34.46875 15.375 28.375 \r\nL 15.375 0 \r\nz\r\n\" id=\"ArialMT-104\"/>\r\n      </defs>\r\n      <g style=\"fill:#262626;\" transform=\"translate(500.630679 462.88725)scale(0.144 -0.144)\">\r\n       <use xlink:href=\"#ArialMT-80\"/>\r\n       <use x=\"66.699219\" xlink:href=\"#ArialMT-97\"/>\r\n       <use x=\"122.314453\" xlink:href=\"#ArialMT-114\"/>\r\n       <use x=\"155.615234\" xlink:href=\"#ArialMT-99\"/>\r\n       <use x=\"205.615234\" xlink:href=\"#ArialMT-104\"/>\r\n      </g>\r\n     </g>\r\n    </g>\r\n    <g id=\"xtick_7\">\r\n     <g id=\"line2d_7\">\r\n      <g>\r\n       <use style=\"fill:#262626;stroke:#262626;\" x=\"595.964143\" xlink:href=\"#m8a10a3b09f\" y=\"442.08\"/>\r\n      </g>\r\n     </g>\r\n     <g id=\"text_7\">\r\n      <!-- Fare -->\r\n      <defs>\r\n       <path d=\"M 8.203125 0 \r\nL 8.203125 71.578125 \r\nL 56.5 71.578125 \r\nL 56.5 63.140625 \r\nL 17.671875 63.140625 \r\nL 17.671875 40.96875 \r\nL 51.265625 40.96875 \r\nL 51.265625 32.515625 \r\nL 17.671875 32.515625 \r\nL 17.671875 0 \r\nz\r\n\" id=\"ArialMT-70\"/>\r\n      </defs>\r\n      <g style=\"fill:#262626;\" transform=\"translate(581.161393 462.88725)scale(0.144 -0.144)\">\r\n       <use xlink:href=\"#ArialMT-70\"/>\r\n       <use x=\"61.083984\" xlink:href=\"#ArialMT-97\"/>\r\n       <use x=\"116.699219\" xlink:href=\"#ArialMT-114\"/>\r\n       <use x=\"150\" xlink:href=\"#ArialMT-101\"/>\r\n      </g>\r\n     </g>\r\n    </g>\r\n   </g>\r\n   <g id=\"matplotlib.axis_2\">\r\n    <g id=\"ytick_1\">\r\n     <g id=\"line2d_8\">\r\n      <defs>\r\n       <path d=\"M 0 0 \r\nL -3.5 0 \r\n\" id=\"m6b1580e641\" style=\"stroke:#262626;\"/>\r\n      </defs>\r\n      <g>\r\n       <use style=\"fill:#262626;stroke:#262626;\" x=\"98.547\" xlink:href=\"#m6b1580e641\" y=\"38.262857\"/>\r\n      </g>\r\n     </g>\r\n     <g id=\"text_8\">\r\n      <!-- PassengerId -->\r\n      <g style=\"fill:#262626;\" transform=\"translate(7.2 43.416482)scale(0.144 -0.144)\">\r\n       <use xlink:href=\"#ArialMT-80\"/>\r\n       <use x=\"66.699219\" xlink:href=\"#ArialMT-97\"/>\r\n       <use x=\"122.314453\" xlink:href=\"#ArialMT-115\"/>\r\n       <use x=\"172.314453\" xlink:href=\"#ArialMT-115\"/>\r\n       <use x=\"222.314453\" xlink:href=\"#ArialMT-101\"/>\r\n       <use x=\"277.929688\" xlink:href=\"#ArialMT-110\"/>\r\n       <use x=\"333.544922\" xlink:href=\"#ArialMT-103\"/>\r\n       <use x=\"389.160156\" xlink:href=\"#ArialMT-101\"/>\r\n       <use x=\"444.775391\" xlink:href=\"#ArialMT-114\"/>\r\n       <use x=\"478.076172\" xlink:href=\"#ArialMT-73\"/>\r\n       <use x=\"505.859375\" xlink:href=\"#ArialMT-100\"/>\r\n      </g>\r\n     </g>\r\n    </g>\r\n    <g id=\"ytick_2\">\r\n     <g id=\"line2d_9\">\r\n      <g>\r\n       <use style=\"fill:#262626;stroke:#262626;\" x=\"98.547\" xlink:href=\"#m6b1580e641\" y=\"100.388571\"/>\r\n      </g>\r\n     </g>\r\n     <g id=\"text_9\">\r\n      <!-- Survived -->\r\n      <g style=\"fill:#262626;\" transform=\"translate(32.02425 105.542196)scale(0.144 -0.144)\">\r\n       <use xlink:href=\"#ArialMT-83\"/>\r\n       <use x=\"66.699219\" xlink:href=\"#ArialMT-117\"/>\r\n       <use x=\"122.314453\" xlink:href=\"#ArialMT-114\"/>\r\n       <use x=\"155.615234\" xlink:href=\"#ArialMT-118\"/>\r\n       <use x=\"205.615234\" xlink:href=\"#ArialMT-105\"/>\r\n       <use x=\"227.832031\" xlink:href=\"#ArialMT-118\"/>\r\n       <use x=\"277.832031\" xlink:href=\"#ArialMT-101\"/>\r\n       <use x=\"333.447266\" xlink:href=\"#ArialMT-100\"/>\r\n      </g>\r\n     </g>\r\n    </g>\r\n    <g id=\"ytick_3\">\r\n     <g id=\"line2d_10\">\r\n      <g>\r\n       <use style=\"fill:#262626;stroke:#262626;\" x=\"98.547\" xlink:href=\"#m6b1580e641\" y=\"162.514286\"/>\r\n      </g>\r\n     </g>\r\n     <g id=\"text_10\">\r\n      <!-- Pclass -->\r\n      <g style=\"fill:#262626;\" transform=\"translate(45.6345 167.667911)scale(0.144 -0.144)\">\r\n       <use xlink:href=\"#ArialMT-80\"/>\r\n       <use x=\"66.699219\" xlink:href=\"#ArialMT-99\"/>\r\n       <use x=\"116.699219\" xlink:href=\"#ArialMT-108\"/>\r\n       <use x=\"138.916016\" xlink:href=\"#ArialMT-97\"/>\r\n       <use x=\"194.53125\" xlink:href=\"#ArialMT-115\"/>\r\n       <use x=\"244.53125\" xlink:href=\"#ArialMT-115\"/>\r\n      </g>\r\n     </g>\r\n    </g>\r\n    <g id=\"ytick_4\">\r\n     <g id=\"line2d_11\">\r\n      <g>\r\n       <use style=\"fill:#262626;stroke:#262626;\" x=\"98.547\" xlink:href=\"#m6b1580e641\" y=\"224.64\"/>\r\n      </g>\r\n     </g>\r\n     <g id=\"text_11\">\r\n      <!-- Age -->\r\n      <g style=\"fill:#262626;\" transform=\"translate(62.42625 229.793625)scale(0.144 -0.144)\">\r\n       <use xlink:href=\"#ArialMT-65\"/>\r\n       <use x=\"66.699219\" xlink:href=\"#ArialMT-103\"/>\r\n       <use x=\"122.314453\" xlink:href=\"#ArialMT-101\"/>\r\n      </g>\r\n     </g>\r\n    </g>\r\n    <g id=\"ytick_5\">\r\n     <g id=\"line2d_12\">\r\n      <g>\r\n       <use style=\"fill:#262626;stroke:#262626;\" x=\"98.547\" xlink:href=\"#m6b1580e641\" y=\"286.765714\"/>\r\n      </g>\r\n     </g>\r\n     <g id=\"text_12\">\r\n      <!-- SibSp -->\r\n      <g style=\"fill:#262626;\" transform=\"translate(49.6215 292.007089)scale(0.144 -0.144)\">\r\n       <use xlink:href=\"#ArialMT-83\"/>\r\n       <use x=\"66.699219\" xlink:href=\"#ArialMT-105\"/>\r\n       <use x=\"88.916016\" xlink:href=\"#ArialMT-98\"/>\r\n       <use x=\"144.53125\" xlink:href=\"#ArialMT-83\"/>\r\n       <use x=\"211.230469\" xlink:href=\"#ArialMT-112\"/>\r\n      </g>\r\n     </g>\r\n    </g>\r\n    <g id=\"ytick_6\">\r\n     <g id=\"line2d_13\">\r\n      <g>\r\n       <use style=\"fill:#262626;stroke:#262626;\" x=\"98.547\" xlink:href=\"#m6b1580e641\" y=\"348.891429\"/>\r\n      </g>\r\n     </g>\r\n     <g id=\"text_13\">\r\n      <!-- Parch -->\r\n      <g style=\"fill:#262626;\" transform=\"translate(50.4315 354.045054)scale(0.144 -0.144)\">\r\n       <use xlink:href=\"#ArialMT-80\"/>\r\n       <use x=\"66.699219\" xlink:href=\"#ArialMT-97\"/>\r\n       <use x=\"122.314453\" xlink:href=\"#ArialMT-114\"/>\r\n       <use x=\"155.615234\" xlink:href=\"#ArialMT-99\"/>\r\n       <use x=\"205.615234\" xlink:href=\"#ArialMT-104\"/>\r\n      </g>\r\n     </g>\r\n    </g>\r\n    <g id=\"ytick_7\">\r\n     <g id=\"line2d_14\">\r\n      <g>\r\n       <use style=\"fill:#262626;stroke:#262626;\" x=\"98.547\" xlink:href=\"#m6b1580e641\" y=\"411.017143\"/>\r\n      </g>\r\n     </g>\r\n     <g id=\"text_14\">\r\n      <!-- Fare -->\r\n      <g style=\"fill:#262626;\" transform=\"translate(58.4415 416.170768)scale(0.144 -0.144)\">\r\n       <use xlink:href=\"#ArialMT-70\"/>\r\n       <use x=\"61.083984\" xlink:href=\"#ArialMT-97\"/>\r\n       <use x=\"116.699219\" xlink:href=\"#ArialMT-114\"/>\r\n       <use x=\"150\" xlink:href=\"#ArialMT-101\"/>\r\n      </g>\r\n     </g>\r\n    </g>\r\n   </g>\r\n   <g id=\"QuadMesh_1\">\r\n    <path clip-path=\"url(#pb78e02c131)\" d=\"M 98.547 7.2 \r\nL 175.072714 7.2 \r\nL 175.072714 69.325714 \r\nL 98.547 69.325714 \r\nL 98.547 7.2 \r\n\" style=\"fill:#053061;\"/>\r\n    <path clip-path=\"url(#pb78e02c131)\" d=\"M 175.072714 7.2 \r\nL 251.598429 7.2 \r\nL 251.598429 69.325714 \r\nL 175.072714 69.325714 \r\nL 175.072714 7.2 \r\n\" style=\"fill:#f8bfa4;\"/>\r\n    <path clip-path=\"url(#pb78e02c131)\" d=\"M 251.598429 7.2 \r\nL 328.124143 7.2 \r\nL 328.124143 69.325714 \r\nL 251.598429 69.325714 \r\nL 251.598429 7.2 \r\n\" style=\"fill:#f7b596;\"/>\r\n    <path clip-path=\"url(#pb78e02c131)\" d=\"M 328.124143 7.2 \r\nL 404.649857 7.2 \r\nL 404.649857 69.325714 \r\nL 328.124143 69.325714 \r\nL 328.124143 7.2 \r\n\" style=\"fill:#fbceb7;\"/>\r\n    <path clip-path=\"url(#pb78e02c131)\" d=\"M 404.649857 7.2 \r\nL 481.175571 7.2 \r\nL 481.175571 69.325714 \r\nL 404.649857 69.325714 \r\nL 404.649857 7.2 \r\n\" style=\"fill:#f6af8e;\"/>\r\n    <path clip-path=\"url(#pb78e02c131)\" d=\"M 481.175571 7.2 \r\nL 557.701286 7.2 \r\nL 557.701286 69.325714 \r\nL 481.175571 69.325714 \r\nL 481.175571 7.2 \r\n\" style=\"fill:#f9c2a7;\"/>\r\n    <path clip-path=\"url(#pb78e02c131)\" d=\"M 557.701286 7.2 \r\nL 634.227 7.2 \r\nL 634.227 69.325714 \r\nL 557.701286 69.325714 \r\nL 557.701286 7.2 \r\n\" style=\"fill:#f9c6ac;\"/>\r\n    <path clip-path=\"url(#pb78e02c131)\" d=\"M 98.547 69.325714 \r\nL 175.072714 69.325714 \r\nL 175.072714 131.451429 \r\nL 98.547 131.451429 \r\nL 98.547 69.325714 \r\n\" style=\"fill:#f8bfa4;\"/>\r\n    <path clip-path=\"url(#pb78e02c131)\" d=\"M 175.072714 69.325714 \r\nL 251.598429 69.325714 \r\nL 251.598429 131.451429 \r\nL 175.072714 131.451429 \r\nL 175.072714 69.325714 \r\n\" style=\"fill:#053061;\"/>\r\n    <path clip-path=\"url(#pb78e02c131)\" d=\"M 251.598429 69.325714 \r\nL 328.124143 69.325714 \r\nL 328.124143 131.451429 \r\nL 251.598429 131.451429 \r\nL 251.598429 69.325714 \r\n\" style=\"fill:#bf3338;\"/>\r\n    <path clip-path=\"url(#pb78e02c131)\" d=\"M 328.124143 69.325714 \r\nL 404.649857 69.325714 \r\nL 404.649857 131.451429 \r\nL 328.124143 131.451429 \r\nL 328.124143 69.325714 \r\n\" style=\"fill:#f4a683;\"/>\r\n    <path clip-path=\"url(#pb78e02c131)\" d=\"M 404.649857 69.325714 \r\nL 481.175571 69.325714 \r\nL 481.175571 131.451429 \r\nL 404.649857 131.451429 \r\nL 404.649857 69.325714 \r\n\" style=\"fill:#f7b799;\"/>\r\n    <path clip-path=\"url(#pb78e02c131)\" d=\"M 481.175571 69.325714 \r\nL 557.701286 69.325714 \r\nL 557.701286 131.451429 \r\nL 481.175571 131.451429 \r\nL 481.175571 69.325714 \r\n\" style=\"fill:#fdddcb;\"/>\r\n    <path clip-path=\"url(#pb78e02c131)\" d=\"M 557.701286 69.325714 \r\nL 634.227 69.325714 \r\nL 634.227 131.451429 \r\nL 557.701286 131.451429 \r\nL 557.701286 69.325714 \r\n\" style=\"fill:#f0f4f6;\"/>\r\n    <path clip-path=\"url(#pb78e02c131)\" d=\"M 98.547 131.451429 \r\nL 175.072714 131.451429 \r\nL 175.072714 193.577143 \r\nL 98.547 193.577143 \r\nL 98.547 131.451429 \r\n\" style=\"fill:#f7b596;\"/>\r\n    <path clip-path=\"url(#pb78e02c131)\" d=\"M 175.072714 131.451429 \r\nL 251.598429 131.451429 \r\nL 251.598429 193.577143 \r\nL 175.072714 193.577143 \r\nL 175.072714 131.451429 \r\n\" style=\"fill:#bf3338;\"/>\r\n    <path clip-path=\"url(#pb78e02c131)\" d=\"M 251.598429 131.451429 \r\nL 328.124143 131.451429 \r\nL 328.124143 193.577143 \r\nL 251.598429 193.577143 \r\nL 251.598429 131.451429 \r\n\" style=\"fill:#053061;\"/>\r\n    <path clip-path=\"url(#pb78e02c131)\" d=\"M 328.124143 131.451429 \r\nL 404.649857 131.451429 \r\nL 404.649857 193.577143 \r\nL 328.124143 193.577143 \r\nL 328.124143 131.451429 \r\n\" style=\"fill:#b82531;\"/>\r\n    <path clip-path=\"url(#pb78e02c131)\" d=\"M 404.649857 131.451429 \r\nL 481.175571 131.451429 \r\nL 481.175571 193.577143 \r\nL 404.649857 193.577143 \r\nL 404.649857 131.451429 \r\n\" style=\"fill:#fdddcb;\"/>\r\n    <path clip-path=\"url(#pb78e02c131)\" d=\"M 481.175571 131.451429 \r\nL 557.701286 131.451429 \r\nL 557.701286 193.577143 \r\nL 481.175571 193.577143 \r\nL 481.175571 131.451429 \r\n\" style=\"fill:#fac8af;\"/>\r\n    <path clip-path=\"url(#pb78e02c131)\" d=\"M 557.701286 131.451429 \r\nL 634.227 131.451429 \r\nL 634.227 193.577143 \r\nL 557.701286 193.577143 \r\nL 557.701286 131.451429 \r\n\" style=\"fill:#67001f;\"/>\r\n    <path clip-path=\"url(#pb78e02c131)\" d=\"M 98.547 193.577143 \r\nL 175.072714 193.577143 \r\nL 175.072714 255.702857 \r\nL 98.547 255.702857 \r\nL 98.547 193.577143 \r\n\" style=\"fill:#fbceb7;\"/>\r\n    <path clip-path=\"url(#pb78e02c131)\" d=\"M 175.072714 193.577143 \r\nL 251.598429 193.577143 \r\nL 251.598429 255.702857 \r\nL 175.072714 255.702857 \r\nL 175.072714 193.577143 \r\n\" style=\"fill:#f4a683;\"/>\r\n    <path clip-path=\"url(#pb78e02c131)\" d=\"M 251.598429 193.577143 \r\nL 328.124143 193.577143 \r\nL 328.124143 255.702857 \r\nL 251.598429 255.702857 \r\nL 251.598429 193.577143 \r\n\" style=\"fill:#b82531;\"/>\r\n    <path clip-path=\"url(#pb78e02c131)\" d=\"M 328.124143 193.577143 \r\nL 404.649857 193.577143 \r\nL 404.649857 255.702857 \r\nL 328.124143 255.702857 \r\nL 328.124143 193.577143 \r\n\" style=\"fill:#053061;\"/>\r\n    <path clip-path=\"url(#pb78e02c131)\" d=\"M 404.649857 193.577143 \r\nL 481.175571 193.577143 \r\nL 481.175571 255.702857 \r\nL 404.649857 255.702857 \r\nL 404.649857 193.577143 \r\n\" style=\"fill:#c53e3d;\"/>\r\n    <path clip-path=\"url(#pb78e02c131)\" d=\"M 481.175571 193.577143 \r\nL 557.701286 193.577143 \r\nL 557.701286 255.702857 \r\nL 481.175571 255.702857 \r\nL 481.175571 193.577143 \r\n\" style=\"fill:#df765e;\"/>\r\n    <path clip-path=\"url(#pb78e02c131)\" d=\"M 557.701286 193.577143 \r\nL 634.227 193.577143 \r\nL 634.227 255.702857 \r\nL 557.701286 255.702857 \r\nL 557.701286 193.577143 \r\n\" style=\"fill:#fcdfcf;\"/>\r\n    <path clip-path=\"url(#pb78e02c131)\" d=\"M 98.547 255.702857 \r\nL 175.072714 255.702857 \r\nL 175.072714 317.828571 \r\nL 98.547 317.828571 \r\nL 98.547 255.702857 \r\n\" style=\"fill:#f6af8e;\"/>\r\n    <path clip-path=\"url(#pb78e02c131)\" d=\"M 175.072714 255.702857 \r\nL 251.598429 255.702857 \r\nL 251.598429 317.828571 \r\nL 175.072714 317.828571 \r\nL 175.072714 255.702857 \r\n\" style=\"fill:#f7b799;\"/>\r\n    <path clip-path=\"url(#pb78e02c131)\" d=\"M 251.598429 255.702857 \r\nL 328.124143 255.702857 \r\nL 328.124143 317.828571 \r\nL 251.598429 317.828571 \r\nL 251.598429 255.702857 \r\n\" style=\"fill:#fdddcb;\"/>\r\n    <path clip-path=\"url(#pb78e02c131)\" d=\"M 328.124143 255.702857 \r\nL 404.649857 255.702857 \r\nL 404.649857 317.828571 \r\nL 328.124143 317.828571 \r\nL 328.124143 255.702857 \r\n\" style=\"fill:#c53e3d;\"/>\r\n    <path clip-path=\"url(#pb78e02c131)\" d=\"M 404.649857 255.702857 \r\nL 481.175571 255.702857 \r\nL 481.175571 317.828571 \r\nL 404.649857 317.828571 \r\nL 404.649857 255.702857 \r\n\" style=\"fill:#053061;\"/>\r\n    <path clip-path=\"url(#pb78e02c131)\" d=\"M 481.175571 255.702857 \r\nL 557.701286 255.702857 \r\nL 557.701286 317.828571 \r\nL 481.175571 317.828571 \r\nL 481.175571 255.702857 \r\n\" style=\"fill:#c2ddec;\"/>\r\n    <path clip-path=\"url(#pb78e02c131)\" d=\"M 557.701286 255.702857 \r\nL 634.227 255.702857 \r\nL 634.227 317.828571 \r\nL 557.701286 317.828571 \r\nL 557.701286 255.702857 \r\n\" style=\"fill:#f9ebe3;\"/>\r\n    <path clip-path=\"url(#pb78e02c131)\" d=\"M 98.547 317.828571 \r\nL 175.072714 317.828571 \r\nL 175.072714 379.954286 \r\nL 98.547 379.954286 \r\nL 98.547 317.828571 \r\n\" style=\"fill:#f9c2a7;\"/>\r\n    <path clip-path=\"url(#pb78e02c131)\" d=\"M 175.072714 317.828571 \r\nL 251.598429 317.828571 \r\nL 251.598429 379.954286 \r\nL 175.072714 379.954286 \r\nL 175.072714 317.828571 \r\n\" style=\"fill:#fdddcb;\"/>\r\n    <path clip-path=\"url(#pb78e02c131)\" d=\"M 251.598429 317.828571 \r\nL 328.124143 317.828571 \r\nL 328.124143 379.954286 \r\nL 251.598429 379.954286 \r\nL 251.598429 317.828571 \r\n\" style=\"fill:#fac8af;\"/>\r\n    <path clip-path=\"url(#pb78e02c131)\" d=\"M 328.124143 317.828571 \r\nL 404.649857 317.828571 \r\nL 404.649857 379.954286 \r\nL 328.124143 379.954286 \r\nL 328.124143 317.828571 \r\n\" style=\"fill:#df765e;\"/>\r\n    <path clip-path=\"url(#pb78e02c131)\" d=\"M 404.649857 317.828571 \r\nL 481.175571 317.828571 \r\nL 481.175571 379.954286 \r\nL 404.649857 379.954286 \r\nL 404.649857 317.828571 \r\n\" style=\"fill:#c2ddec;\"/>\r\n    <path clip-path=\"url(#pb78e02c131)\" d=\"M 481.175571 317.828571 \r\nL 557.701286 317.828571 \r\nL 557.701286 379.954286 \r\nL 481.175571 379.954286 \r\nL 481.175571 317.828571 \r\n\" style=\"fill:#053061;\"/>\r\n    <path clip-path=\"url(#pb78e02c131)\" d=\"M 557.701286 317.828571 \r\nL 634.227 317.828571 \r\nL 634.227 379.954286 \r\nL 557.701286 379.954286 \r\nL 557.701286 317.828571 \r\n\" style=\"fill:#f7f5f4;\"/>\r\n    <path clip-path=\"url(#pb78e02c131)\" d=\"M 98.547 379.954286 \r\nL 175.072714 379.954286 \r\nL 175.072714 442.08 \r\nL 98.547 442.08 \r\nL 98.547 379.954286 \r\n\" style=\"fill:#f9c6ac;\"/>\r\n    <path clip-path=\"url(#pb78e02c131)\" d=\"M 175.072714 379.954286 \r\nL 251.598429 379.954286 \r\nL 251.598429 442.08 \r\nL 175.072714 442.08 \r\nL 175.072714 379.954286 \r\n\" style=\"fill:#f0f4f6;\"/>\r\n    <path clip-path=\"url(#pb78e02c131)\" d=\"M 251.598429 379.954286 \r\nL 328.124143 379.954286 \r\nL 328.124143 442.08 \r\nL 251.598429 442.08 \r\nL 251.598429 379.954286 \r\n\" style=\"fill:#67001f;\"/>\r\n    <path clip-path=\"url(#pb78e02c131)\" d=\"M 328.124143 379.954286 \r\nL 404.649857 379.954286 \r\nL 404.649857 442.08 \r\nL 328.124143 442.08 \r\nL 328.124143 379.954286 \r\n\" style=\"fill:#fcdfcf;\"/>\r\n    <path clip-path=\"url(#pb78e02c131)\" d=\"M 404.649857 379.954286 \r\nL 481.175571 379.954286 \r\nL 481.175571 442.08 \r\nL 404.649857 442.08 \r\nL 404.649857 379.954286 \r\n\" style=\"fill:#f9ebe3;\"/>\r\n    <path clip-path=\"url(#pb78e02c131)\" d=\"M 481.175571 379.954286 \r\nL 557.701286 379.954286 \r\nL 557.701286 442.08 \r\nL 481.175571 442.08 \r\nL 481.175571 379.954286 \r\n\" style=\"fill:#f7f5f4;\"/>\r\n    <path clip-path=\"url(#pb78e02c131)\" d=\"M 557.701286 379.954286 \r\nL 634.227 379.954286 \r\nL 634.227 442.08 \r\nL 557.701286 442.08 \r\nL 557.701286 379.954286 \r\n\" style=\"fill:#053061;\"/>\r\n   </g>\r\n   <g id=\"text_15\">\r\n    <!-- 1 -->\r\n    <defs>\r\n     <path d=\"M 37.25 0 \r\nL 28.46875 0 \r\nL 28.46875 56 \r\nQ 25.296875 52.984375 20.140625 49.953125 \r\nQ 14.984375 46.921875 10.890625 45.40625 \r\nL 10.890625 53.90625 \r\nQ 18.265625 57.375 23.78125 62.296875 \r\nQ 29.296875 67.234375 31.59375 71.875 \r\nL 37.25 71.875 \r\nz\r\n\" id=\"ArialMT-49\"/>\r\n    </defs>\r\n    <g style=\"fill:#ffffff;\" transform=\"translate(134.029388 40.848013)scale(0.1 -0.1)\">\r\n     <use xlink:href=\"#ArialMT-49\"/>\r\n    </g>\r\n   </g>\r\n   <g id=\"text_16\">\r\n    <!-- -0.005 -->\r\n    <defs>\r\n     <path d=\"M 3.171875 21.484375 \r\nL 3.171875 30.328125 \r\nL 30.171875 30.328125 \r\nL 30.171875 21.484375 \r\nz\r\n\" id=\"ArialMT-45\"/>\r\n     <path d=\"M 4.15625 35.296875 \r\nQ 4.15625 48 6.765625 55.734375 \r\nQ 9.375 63.484375 14.515625 67.671875 \r\nQ 19.671875 71.875 27.484375 71.875 \r\nQ 33.25 71.875 37.59375 69.546875 \r\nQ 41.9375 67.234375 44.765625 62.859375 \r\nQ 47.609375 58.5 49.21875 52.21875 \r\nQ 50.828125 45.953125 50.828125 35.296875 \r\nQ 50.828125 22.703125 48.234375 14.96875 \r\nQ 45.65625 7.234375 40.5 3 \r\nQ 35.359375 -1.21875 27.484375 -1.21875 \r\nQ 17.140625 -1.21875 11.234375 6.203125 \r\nQ 4.15625 15.140625 4.15625 35.296875 \r\nz\r\nM 13.1875 35.296875 \r\nQ 13.1875 17.671875 17.3125 11.828125 \r\nQ 21.4375 6 27.484375 6 \r\nQ 33.546875 6 37.671875 11.859375 \r\nQ 41.796875 17.71875 41.796875 35.296875 \r\nQ 41.796875 52.984375 37.671875 58.78125 \r\nQ 33.546875 64.59375 27.390625 64.59375 \r\nQ 21.34375 64.59375 17.71875 59.46875 \r\nQ 13.1875 52.9375 13.1875 35.296875 \r\nz\r\n\" id=\"ArialMT-48\"/>\r\n     <path d=\"M 9.078125 0 \r\nL 9.078125 10.015625 \r\nL 19.09375 10.015625 \r\nL 19.09375 0 \r\nz\r\n\" id=\"ArialMT-46\"/>\r\n     <path d=\"M 4.15625 18.75 \r\nL 13.375 19.53125 \r\nQ 14.40625 12.796875 18.140625 9.390625 \r\nQ 21.875 6 27.15625 6 \r\nQ 33.5 6 37.890625 10.78125 \r\nQ 42.28125 15.578125 42.28125 23.484375 \r\nQ 42.28125 31 38.0625 35.34375 \r\nQ 33.84375 39.703125 27 39.703125 \r\nQ 22.75 39.703125 19.328125 37.765625 \r\nQ 15.921875 35.84375 13.96875 32.765625 \r\nL 5.71875 33.84375 \r\nL 12.640625 70.609375 \r\nL 48.25 70.609375 \r\nL 48.25 62.203125 \r\nL 19.671875 62.203125 \r\nL 15.828125 42.96875 \r\nQ 22.265625 47.46875 29.34375 47.46875 \r\nQ 38.71875 47.46875 45.15625 40.96875 \r\nQ 51.609375 34.46875 51.609375 24.265625 \r\nQ 51.609375 14.546875 45.953125 7.46875 \r\nQ 39.0625 -1.21875 27.15625 -1.21875 \r\nQ 17.390625 -1.21875 11.203125 4.25 \r\nQ 5.03125 9.71875 4.15625 18.75 \r\nz\r\n\" id=\"ArialMT-53\"/>\r\n    </defs>\r\n    <g style=\"fill:#262626;\" transform=\"translate(199.15979 40.848013)scale(0.1 -0.1)\">\r\n     <use xlink:href=\"#ArialMT-45\"/>\r\n     <use x=\"33.300781\" xlink:href=\"#ArialMT-48\"/>\r\n     <use x=\"88.916016\" xlink:href=\"#ArialMT-46\"/>\r\n     <use x=\"116.699219\" xlink:href=\"#ArialMT-48\"/>\r\n     <use x=\"172.314453\" xlink:href=\"#ArialMT-48\"/>\r\n     <use x=\"227.929688\" xlink:href=\"#ArialMT-53\"/>\r\n    </g>\r\n   </g>\r\n   <g id=\"text_17\">\r\n    <!-- -0.035 -->\r\n    <defs>\r\n     <path d=\"M 4.203125 18.890625 \r\nL 12.984375 20.0625 \r\nQ 14.5 12.59375 18.140625 9.296875 \r\nQ 21.78125 6 27 6 \r\nQ 33.203125 6 37.46875 10.296875 \r\nQ 41.75 14.59375 41.75 20.953125 \r\nQ 41.75 27 37.796875 30.921875 \r\nQ 33.84375 34.859375 27.734375 34.859375 \r\nQ 25.25 34.859375 21.53125 33.890625 \r\nL 22.515625 41.609375 \r\nQ 23.390625 41.5 23.921875 41.5 \r\nQ 29.546875 41.5 34.03125 44.421875 \r\nQ 38.53125 47.359375 38.53125 53.46875 \r\nQ 38.53125 58.296875 35.25 61.46875 \r\nQ 31.984375 64.65625 26.8125 64.65625 \r\nQ 21.6875 64.65625 18.265625 61.421875 \r\nQ 14.84375 58.203125 13.875 51.765625 \r\nL 5.078125 53.328125 \r\nQ 6.6875 62.15625 12.390625 67.015625 \r\nQ 18.109375 71.875 26.609375 71.875 \r\nQ 32.46875 71.875 37.390625 69.359375 \r\nQ 42.328125 66.84375 44.9375 62.5 \r\nQ 47.5625 58.15625 47.5625 53.265625 \r\nQ 47.5625 48.640625 45.0625 44.828125 \r\nQ 42.578125 41.015625 37.703125 38.765625 \r\nQ 44.046875 37.3125 47.5625 32.6875 \r\nQ 51.078125 28.078125 51.078125 21.140625 \r\nQ 51.078125 11.765625 44.234375 5.25 \r\nQ 37.40625 -1.265625 26.953125 -1.265625 \r\nQ 17.53125 -1.265625 11.296875 4.34375 \r\nQ 5.078125 9.96875 4.203125 18.890625 \r\nz\r\n\" id=\"ArialMT-51\"/>\r\n    </defs>\r\n    <g style=\"fill:#262626;\" transform=\"translate(275.685504 40.848013)scale(0.1 -0.1)\">\r\n     <use xlink:href=\"#ArialMT-45\"/>\r\n     <use x=\"33.300781\" xlink:href=\"#ArialMT-48\"/>\r\n     <use x=\"88.916016\" xlink:href=\"#ArialMT-46\"/>\r\n     <use x=\"116.699219\" xlink:href=\"#ArialMT-48\"/>\r\n     <use x=\"172.314453\" xlink:href=\"#ArialMT-51\"/>\r\n     <use x=\"227.929688\" xlink:href=\"#ArialMT-53\"/>\r\n    </g>\r\n   </g>\r\n   <g id=\"text_18\">\r\n    <!-- 0.034 -->\r\n    <defs>\r\n     <path d=\"M 32.328125 0 \r\nL 32.328125 17.140625 \r\nL 1.265625 17.140625 \r\nL 1.265625 25.203125 \r\nL 33.9375 71.578125 \r\nL 41.109375 71.578125 \r\nL 41.109375 25.203125 \r\nL 50.78125 25.203125 \r\nL 50.78125 17.140625 \r\nL 41.109375 17.140625 \r\nL 41.109375 0 \r\nz\r\nM 32.328125 25.203125 \r\nL 32.328125 57.46875 \r\nL 9.90625 25.203125 \r\nz\r\n\" id=\"ArialMT-52\"/>\r\n    </defs>\r\n    <g style=\"fill:#262626;\" transform=\"translate(353.876063 40.848013)scale(0.1 -0.1)\">\r\n     <use xlink:href=\"#ArialMT-48\"/>\r\n     <use x=\"55.615234\" xlink:href=\"#ArialMT-46\"/>\r\n     <use x=\"83.398438\" xlink:href=\"#ArialMT-48\"/>\r\n     <use x=\"139.013672\" xlink:href=\"#ArialMT-51\"/>\r\n     <use x=\"194.628906\" xlink:href=\"#ArialMT-52\"/>\r\n    </g>\r\n   </g>\r\n   <g id=\"text_19\">\r\n    <!-- -0.058 -->\r\n    <defs>\r\n     <path d=\"M 17.671875 38.8125 \r\nQ 12.203125 40.828125 9.5625 44.53125 \r\nQ 6.9375 48.25 6.9375 53.421875 \r\nQ 6.9375 61.234375 12.546875 66.546875 \r\nQ 18.171875 71.875 27.484375 71.875 \r\nQ 36.859375 71.875 42.578125 66.421875 \r\nQ 48.296875 60.984375 48.296875 53.171875 \r\nQ 48.296875 48.1875 45.671875 44.5 \r\nQ 43.0625 40.828125 37.75 38.8125 \r\nQ 44.34375 36.671875 47.78125 31.875 \r\nQ 51.21875 27.09375 51.21875 20.453125 \r\nQ 51.21875 11.28125 44.71875 5.03125 \r\nQ 38.234375 -1.21875 27.640625 -1.21875 \r\nQ 17.046875 -1.21875 10.546875 5.046875 \r\nQ 4.046875 11.328125 4.046875 20.703125 \r\nQ 4.046875 27.6875 7.59375 32.390625 \r\nQ 11.140625 37.109375 17.671875 38.8125 \r\nz\r\nM 15.921875 53.71875 \r\nQ 15.921875 48.640625 19.1875 45.40625 \r\nQ 22.46875 42.1875 27.6875 42.1875 \r\nQ 32.765625 42.1875 36.015625 45.375 \r\nQ 39.265625 48.578125 39.265625 53.21875 \r\nQ 39.265625 58.0625 35.90625 61.359375 \r\nQ 32.5625 64.65625 27.59375 64.65625 \r\nQ 22.5625 64.65625 19.234375 61.421875 \r\nQ 15.921875 58.203125 15.921875 53.71875 \r\nz\r\nM 13.09375 20.65625 \r\nQ 13.09375 16.890625 14.875 13.375 \r\nQ 16.65625 9.859375 20.171875 7.921875 \r\nQ 23.6875 6 27.734375 6 \r\nQ 34.03125 6 38.125 10.046875 \r\nQ 42.234375 14.109375 42.234375 20.359375 \r\nQ 42.234375 26.703125 38.015625 30.859375 \r\nQ 33.796875 35.015625 27.4375 35.015625 \r\nQ 21.234375 35.015625 17.15625 30.90625 \r\nQ 13.09375 26.8125 13.09375 20.65625 \r\nz\r\n\" id=\"ArialMT-56\"/>\r\n    </defs>\r\n    <g style=\"fill:#262626;\" transform=\"translate(428.736933 40.848013)scale(0.1 -0.1)\">\r\n     <use xlink:href=\"#ArialMT-45\"/>\r\n     <use x=\"33.300781\" xlink:href=\"#ArialMT-48\"/>\r\n     <use x=\"88.916016\" xlink:href=\"#ArialMT-46\"/>\r\n     <use x=\"116.699219\" xlink:href=\"#ArialMT-48\"/>\r\n     <use x=\"172.314453\" xlink:href=\"#ArialMT-53\"/>\r\n     <use x=\"227.929688\" xlink:href=\"#ArialMT-56\"/>\r\n    </g>\r\n   </g>\r\n   <g id=\"text_20\">\r\n    <!-- -0.0017 -->\r\n    <defs>\r\n     <path d=\"M 4.734375 62.203125 \r\nL 4.734375 70.65625 \r\nL 51.078125 70.65625 \r\nL 51.078125 63.8125 \r\nQ 44.234375 56.546875 37.515625 44.484375 \r\nQ 30.8125 32.421875 27.15625 19.671875 \r\nQ 24.515625 10.6875 23.78125 0 \r\nL 14.75 0 \r\nQ 14.890625 8.453125 18.0625 20.40625 \r\nQ 21.234375 32.375 27.171875 43.484375 \r\nQ 33.109375 54.59375 39.796875 62.203125 \r\nz\r\n\" id=\"ArialMT-55\"/>\r\n    </defs>\r\n    <g style=\"fill:#262626;\" transform=\"translate(502.482179 40.848013)scale(0.1 -0.1)\">\r\n     <use xlink:href=\"#ArialMT-45\"/>\r\n     <use x=\"33.300781\" xlink:href=\"#ArialMT-48\"/>\r\n     <use x=\"88.916016\" xlink:href=\"#ArialMT-46\"/>\r\n     <use x=\"116.699219\" xlink:href=\"#ArialMT-48\"/>\r\n     <use x=\"172.314453\" xlink:href=\"#ArialMT-48\"/>\r\n     <use x=\"227.929688\" xlink:href=\"#ArialMT-49\"/>\r\n     <use x=\"283.544922\" xlink:href=\"#ArialMT-55\"/>\r\n    </g>\r\n   </g>\r\n   <g id=\"text_21\">\r\n    <!-- 0.013 -->\r\n    <g style=\"fill:#262626;\" transform=\"translate(583.453205 40.848013)scale(0.1 -0.1)\">\r\n     <use xlink:href=\"#ArialMT-48\"/>\r\n     <use x=\"55.615234\" xlink:href=\"#ArialMT-46\"/>\r\n     <use x=\"83.398438\" xlink:href=\"#ArialMT-48\"/>\r\n     <use x=\"139.013672\" xlink:href=\"#ArialMT-49\"/>\r\n     <use x=\"194.628906\" xlink:href=\"#ArialMT-51\"/>\r\n    </g>\r\n   </g>\r\n   <g id=\"text_22\">\r\n    <!-- -0.005 -->\r\n    <g style=\"fill:#262626;\" transform=\"translate(122.634076 102.973728)scale(0.1 -0.1)\">\r\n     <use xlink:href=\"#ArialMT-45\"/>\r\n     <use x=\"33.300781\" xlink:href=\"#ArialMT-48\"/>\r\n     <use x=\"88.916016\" xlink:href=\"#ArialMT-46\"/>\r\n     <use x=\"116.699219\" xlink:href=\"#ArialMT-48\"/>\r\n     <use x=\"172.314453\" xlink:href=\"#ArialMT-48\"/>\r\n     <use x=\"227.929688\" xlink:href=\"#ArialMT-53\"/>\r\n    </g>\r\n   </g>\r\n   <g id=\"text_23\">\r\n    <!-- 1 -->\r\n    <g style=\"fill:#ffffff;\" transform=\"translate(210.555103 102.973728)scale(0.1 -0.1)\">\r\n     <use xlink:href=\"#ArialMT-49\"/>\r\n    </g>\r\n   </g>\r\n   <g id=\"text_24\">\r\n    <!-- -0.34 -->\r\n    <g style=\"fill:#ffffff;\" transform=\"translate(278.465973 102.973728)scale(0.1 -0.1)\">\r\n     <use xlink:href=\"#ArialMT-45\"/>\r\n     <use x=\"33.300781\" xlink:href=\"#ArialMT-48\"/>\r\n     <use x=\"88.916016\" xlink:href=\"#ArialMT-46\"/>\r\n     <use x=\"116.699219\" xlink:href=\"#ArialMT-51\"/>\r\n     <use x=\"172.314453\" xlink:href=\"#ArialMT-52\"/>\r\n    </g>\r\n   </g>\r\n   <g id=\"text_25\">\r\n    <!-- -0.082 -->\r\n    <defs>\r\n     <path d=\"M 50.34375 8.453125 \r\nL 50.34375 0 \r\nL 3.03125 0 \r\nQ 2.9375 3.171875 4.046875 6.109375 \r\nQ 5.859375 10.9375 9.828125 15.625 \r\nQ 13.8125 20.3125 21.34375 26.46875 \r\nQ 33.015625 36.03125 37.109375 41.625 \r\nQ 41.21875 47.21875 41.21875 52.203125 \r\nQ 41.21875 57.421875 37.46875 61 \r\nQ 33.734375 64.59375 27.734375 64.59375 \r\nQ 21.390625 64.59375 17.578125 60.78125 \r\nQ 13.765625 56.984375 13.71875 50.25 \r\nL 4.6875 51.171875 \r\nQ 5.609375 61.28125 11.65625 66.578125 \r\nQ 17.71875 71.875 27.9375 71.875 \r\nQ 38.234375 71.875 44.234375 66.15625 \r\nQ 50.25 60.453125 50.25 52 \r\nQ 50.25 47.703125 48.484375 43.546875 \r\nQ 46.734375 39.40625 42.65625 34.8125 \r\nQ 38.578125 30.21875 29.109375 22.21875 \r\nQ 21.1875 15.578125 18.9375 13.203125 \r\nQ 16.703125 10.84375 15.234375 8.453125 \r\nz\r\n\" id=\"ArialMT-50\"/>\r\n    </defs>\r\n    <g style=\"fill:#262626;\" transform=\"translate(352.211219 102.973728)scale(0.1 -0.1)\">\r\n     <use xlink:href=\"#ArialMT-45\"/>\r\n     <use x=\"33.300781\" xlink:href=\"#ArialMT-48\"/>\r\n     <use x=\"88.916016\" xlink:href=\"#ArialMT-46\"/>\r\n     <use x=\"116.699219\" xlink:href=\"#ArialMT-48\"/>\r\n     <use x=\"172.314453\" xlink:href=\"#ArialMT-56\"/>\r\n     <use x=\"227.929688\" xlink:href=\"#ArialMT-50\"/>\r\n    </g>\r\n   </g>\r\n   <g id=\"text_26\">\r\n    <!-- -0.034 -->\r\n    <g style=\"fill:#262626;\" transform=\"translate(428.736933 102.973728)scale(0.1 -0.1)\">\r\n     <use xlink:href=\"#ArialMT-45\"/>\r\n     <use x=\"33.300781\" xlink:href=\"#ArialMT-48\"/>\r\n     <use x=\"88.916016\" xlink:href=\"#ArialMT-46\"/>\r\n     <use x=\"116.699219\" xlink:href=\"#ArialMT-48\"/>\r\n     <use x=\"172.314453\" xlink:href=\"#ArialMT-51\"/>\r\n     <use x=\"227.929688\" xlink:href=\"#ArialMT-52\"/>\r\n    </g>\r\n   </g>\r\n   <g id=\"text_27\">\r\n    <!-- 0.083 -->\r\n    <g style=\"fill:#262626;\" transform=\"translate(506.927491 102.973728)scale(0.1 -0.1)\">\r\n     <use xlink:href=\"#ArialMT-48\"/>\r\n     <use x=\"55.615234\" xlink:href=\"#ArialMT-46\"/>\r\n     <use x=\"83.398438\" xlink:href=\"#ArialMT-48\"/>\r\n     <use x=\"139.013672\" xlink:href=\"#ArialMT-56\"/>\r\n     <use x=\"194.628906\" xlink:href=\"#ArialMT-51\"/>\r\n    </g>\r\n   </g>\r\n   <g id=\"text_28\">\r\n    <!-- 0.26 -->\r\n    <defs>\r\n     <path d=\"M 49.75 54.046875 \r\nL 41.015625 53.375 \r\nQ 39.84375 58.546875 37.703125 60.890625 \r\nQ 34.125 64.65625 28.90625 64.65625 \r\nQ 24.703125 64.65625 21.53125 62.3125 \r\nQ 17.390625 59.28125 14.984375 53.46875 \r\nQ 12.59375 47.65625 12.5 36.921875 \r\nQ 15.671875 41.75 20.265625 44.09375 \r\nQ 24.859375 46.4375 29.890625 46.4375 \r\nQ 38.671875 46.4375 44.84375 39.96875 \r\nQ 51.03125 33.5 51.03125 23.25 \r\nQ 51.03125 16.5 48.125 10.71875 \r\nQ 45.21875 4.9375 40.140625 1.859375 \r\nQ 35.0625 -1.21875 28.609375 -1.21875 \r\nQ 17.625 -1.21875 10.6875 6.859375 \r\nQ 3.765625 14.9375 3.765625 33.5 \r\nQ 3.765625 54.25 11.421875 63.671875 \r\nQ 18.109375 71.875 29.4375 71.875 \r\nQ 37.890625 71.875 43.28125 67.140625 \r\nQ 48.6875 62.40625 49.75 54.046875 \r\nz\r\nM 13.875 23.1875 \r\nQ 13.875 18.65625 15.796875 14.5 \r\nQ 17.71875 10.359375 21.1875 8.171875 \r\nQ 24.65625 6 28.46875 6 \r\nQ 34.03125 6 38.03125 10.484375 \r\nQ 42.046875 14.984375 42.046875 22.703125 \r\nQ 42.046875 30.125 38.078125 34.390625 \r\nQ 34.125 38.671875 28.125 38.671875 \r\nQ 22.171875 38.671875 18.015625 34.390625 \r\nQ 13.875 30.125 13.875 23.1875 \r\nz\r\n\" id=\"ArialMT-54\"/>\r\n    </defs>\r\n    <g style=\"fill:#262626;\" transform=\"translate(586.233674 102.973728)scale(0.1 -0.1)\">\r\n     <use xlink:href=\"#ArialMT-48\"/>\r\n     <use x=\"55.615234\" xlink:href=\"#ArialMT-46\"/>\r\n     <use x=\"83.398438\" xlink:href=\"#ArialMT-50\"/>\r\n     <use x=\"139.013672\" xlink:href=\"#ArialMT-54\"/>\r\n    </g>\r\n   </g>\r\n   <g id=\"text_29\">\r\n    <!-- -0.035 -->\r\n    <g style=\"fill:#262626;\" transform=\"translate(122.634076 165.099442)scale(0.1 -0.1)\">\r\n     <use xlink:href=\"#ArialMT-45\"/>\r\n     <use x=\"33.300781\" xlink:href=\"#ArialMT-48\"/>\r\n     <use x=\"88.916016\" xlink:href=\"#ArialMT-46\"/>\r\n     <use x=\"116.699219\" xlink:href=\"#ArialMT-48\"/>\r\n     <use x=\"172.314453\" xlink:href=\"#ArialMT-51\"/>\r\n     <use x=\"227.929688\" xlink:href=\"#ArialMT-53\"/>\r\n    </g>\r\n   </g>\r\n   <g id=\"text_30\">\r\n    <!-- -0.34 -->\r\n    <g style=\"fill:#ffffff;\" transform=\"translate(201.940259 165.099442)scale(0.1 -0.1)\">\r\n     <use xlink:href=\"#ArialMT-45\"/>\r\n     <use x=\"33.300781\" xlink:href=\"#ArialMT-48\"/>\r\n     <use x=\"88.916016\" xlink:href=\"#ArialMT-46\"/>\r\n     <use x=\"116.699219\" xlink:href=\"#ArialMT-51\"/>\r\n     <use x=\"172.314453\" xlink:href=\"#ArialMT-52\"/>\r\n    </g>\r\n   </g>\r\n   <g id=\"text_31\">\r\n    <!-- 1 -->\r\n    <g style=\"fill:#ffffff;\" transform=\"translate(287.080817 165.099442)scale(0.1 -0.1)\">\r\n     <use xlink:href=\"#ArialMT-49\"/>\r\n    </g>\r\n   </g>\r\n   <g id=\"text_32\">\r\n    <!-- -0.37 -->\r\n    <g style=\"fill:#ffffff;\" transform=\"translate(354.991688 165.099442)scale(0.1 -0.1)\">\r\n     <use xlink:href=\"#ArialMT-45\"/>\r\n     <use x=\"33.300781\" xlink:href=\"#ArialMT-48\"/>\r\n     <use x=\"88.916016\" xlink:href=\"#ArialMT-46\"/>\r\n     <use x=\"116.699219\" xlink:href=\"#ArialMT-51\"/>\r\n     <use x=\"172.314453\" xlink:href=\"#ArialMT-55\"/>\r\n    </g>\r\n   </g>\r\n   <g id=\"text_33\">\r\n    <!-- 0.082 -->\r\n    <g style=\"fill:#262626;\" transform=\"translate(430.401777 165.099442)scale(0.1 -0.1)\">\r\n     <use xlink:href=\"#ArialMT-48\"/>\r\n     <use x=\"55.615234\" xlink:href=\"#ArialMT-46\"/>\r\n     <use x=\"83.398438\" xlink:href=\"#ArialMT-48\"/>\r\n     <use x=\"139.013672\" xlink:href=\"#ArialMT-56\"/>\r\n     <use x=\"194.628906\" xlink:href=\"#ArialMT-50\"/>\r\n    </g>\r\n   </g>\r\n   <g id=\"text_34\">\r\n    <!-- 0.017 -->\r\n    <g style=\"fill:#262626;\" transform=\"translate(506.927491 165.099442)scale(0.1 -0.1)\">\r\n     <use xlink:href=\"#ArialMT-48\"/>\r\n     <use x=\"55.615234\" xlink:href=\"#ArialMT-46\"/>\r\n     <use x=\"83.398438\" xlink:href=\"#ArialMT-48\"/>\r\n     <use x=\"139.013672\" xlink:href=\"#ArialMT-49\"/>\r\n     <use x=\"194.628906\" xlink:href=\"#ArialMT-55\"/>\r\n    </g>\r\n   </g>\r\n   <g id=\"text_35\">\r\n    <!-- -0.55 -->\r\n    <g style=\"fill:#ffffff;\" transform=\"translate(584.56883 165.099442)scale(0.1 -0.1)\">\r\n     <use xlink:href=\"#ArialMT-45\"/>\r\n     <use x=\"33.300781\" xlink:href=\"#ArialMT-48\"/>\r\n     <use x=\"88.916016\" xlink:href=\"#ArialMT-46\"/>\r\n     <use x=\"116.699219\" xlink:href=\"#ArialMT-53\"/>\r\n     <use x=\"172.314453\" xlink:href=\"#ArialMT-53\"/>\r\n    </g>\r\n   </g>\r\n   <g id=\"text_36\">\r\n    <!-- 0.034 -->\r\n    <g style=\"fill:#262626;\" transform=\"translate(124.29892 227.225156)scale(0.1 -0.1)\">\r\n     <use xlink:href=\"#ArialMT-48\"/>\r\n     <use x=\"55.615234\" xlink:href=\"#ArialMT-46\"/>\r\n     <use x=\"83.398438\" xlink:href=\"#ArialMT-48\"/>\r\n     <use x=\"139.013672\" xlink:href=\"#ArialMT-51\"/>\r\n     <use x=\"194.628906\" xlink:href=\"#ArialMT-52\"/>\r\n    </g>\r\n   </g>\r\n   <g id=\"text_37\">\r\n    <!-- -0.082 -->\r\n    <g style=\"fill:#262626;\" transform=\"translate(199.15979 227.225156)scale(0.1 -0.1)\">\r\n     <use xlink:href=\"#ArialMT-45\"/>\r\n     <use x=\"33.300781\" xlink:href=\"#ArialMT-48\"/>\r\n     <use x=\"88.916016\" xlink:href=\"#ArialMT-46\"/>\r\n     <use x=\"116.699219\" xlink:href=\"#ArialMT-48\"/>\r\n     <use x=\"172.314453\" xlink:href=\"#ArialMT-56\"/>\r\n     <use x=\"227.929688\" xlink:href=\"#ArialMT-50\"/>\r\n    </g>\r\n   </g>\r\n   <g id=\"text_38\">\r\n    <!-- -0.37 -->\r\n    <g style=\"fill:#ffffff;\" transform=\"translate(278.465973 227.225156)scale(0.1 -0.1)\">\r\n     <use xlink:href=\"#ArialMT-45\"/>\r\n     <use x=\"33.300781\" xlink:href=\"#ArialMT-48\"/>\r\n     <use x=\"88.916016\" xlink:href=\"#ArialMT-46\"/>\r\n     <use x=\"116.699219\" xlink:href=\"#ArialMT-51\"/>\r\n     <use x=\"172.314453\" xlink:href=\"#ArialMT-55\"/>\r\n    </g>\r\n   </g>\r\n   <g id=\"text_39\">\r\n    <!-- 1 -->\r\n    <g style=\"fill:#ffffff;\" transform=\"translate(363.606531 227.225156)scale(0.1 -0.1)\">\r\n     <use xlink:href=\"#ArialMT-49\"/>\r\n    </g>\r\n   </g>\r\n   <g id=\"text_40\">\r\n    <!-- -0.31 -->\r\n    <g style=\"fill:#ffffff;\" transform=\"translate(431.517402 227.225156)scale(0.1 -0.1)\">\r\n     <use xlink:href=\"#ArialMT-45\"/>\r\n     <use x=\"33.300781\" xlink:href=\"#ArialMT-48\"/>\r\n     <use x=\"88.916016\" xlink:href=\"#ArialMT-46\"/>\r\n     <use x=\"116.699219\" xlink:href=\"#ArialMT-51\"/>\r\n     <use x=\"172.314453\" xlink:href=\"#ArialMT-49\"/>\r\n    </g>\r\n   </g>\r\n   <g id=\"text_41\">\r\n    <!-- -0.19 -->\r\n    <defs>\r\n     <path d=\"M 5.46875 16.546875 \r\nL 13.921875 17.328125 \r\nQ 14.984375 11.375 18.015625 8.6875 \r\nQ 21.046875 6 25.78125 6 \r\nQ 29.828125 6 32.875 7.859375 \r\nQ 35.9375 9.71875 37.890625 12.8125 \r\nQ 39.84375 15.921875 41.15625 21.1875 \r\nQ 42.484375 26.46875 42.484375 31.9375 \r\nQ 42.484375 32.515625 42.4375 33.6875 \r\nQ 39.796875 29.5 35.234375 26.875 \r\nQ 30.671875 24.265625 25.34375 24.265625 \r\nQ 16.453125 24.265625 10.296875 30.703125 \r\nQ 4.15625 37.15625 4.15625 47.703125 \r\nQ 4.15625 58.59375 10.578125 65.234375 \r\nQ 17 71.875 26.65625 71.875 \r\nQ 33.640625 71.875 39.421875 68.109375 \r\nQ 45.21875 64.359375 48.21875 57.390625 \r\nQ 51.21875 50.4375 51.21875 37.25 \r\nQ 51.21875 23.53125 48.234375 15.40625 \r\nQ 45.265625 7.28125 39.375 3.03125 \r\nQ 33.5 -1.21875 25.59375 -1.21875 \r\nQ 17.1875 -1.21875 11.859375 3.4375 \r\nQ 6.546875 8.109375 5.46875 16.546875 \r\nz\r\nM 41.453125 48.140625 \r\nQ 41.453125 55.71875 37.421875 60.15625 \r\nQ 33.40625 64.59375 27.734375 64.59375 \r\nQ 21.875 64.59375 17.53125 59.8125 \r\nQ 13.1875 55.03125 13.1875 47.40625 \r\nQ 13.1875 40.578125 17.3125 36.296875 \r\nQ 21.4375 32.03125 27.484375 32.03125 \r\nQ 33.59375 32.03125 37.515625 36.296875 \r\nQ 41.453125 40.578125 41.453125 48.140625 \r\nz\r\n\" id=\"ArialMT-57\"/>\r\n    </defs>\r\n    <g style=\"fill:#ffffff;\" transform=\"translate(508.043116 227.225156)scale(0.1 -0.1)\">\r\n     <use xlink:href=\"#ArialMT-45\"/>\r\n     <use x=\"33.300781\" xlink:href=\"#ArialMT-48\"/>\r\n     <use x=\"88.916016\" xlink:href=\"#ArialMT-46\"/>\r\n     <use x=\"116.699219\" xlink:href=\"#ArialMT-49\"/>\r\n     <use x=\"172.314453\" xlink:href=\"#ArialMT-57\"/>\r\n    </g>\r\n   </g>\r\n   <g id=\"text_42\">\r\n    <!-- 0.093 -->\r\n    <g style=\"fill:#262626;\" transform=\"translate(583.453205 227.225156)scale(0.1 -0.1)\">\r\n     <use xlink:href=\"#ArialMT-48\"/>\r\n     <use x=\"55.615234\" xlink:href=\"#ArialMT-46\"/>\r\n     <use x=\"83.398438\" xlink:href=\"#ArialMT-48\"/>\r\n     <use x=\"139.013672\" xlink:href=\"#ArialMT-57\"/>\r\n     <use x=\"194.628906\" xlink:href=\"#ArialMT-51\"/>\r\n    </g>\r\n   </g>\r\n   <g id=\"text_43\">\r\n    <!-- -0.058 -->\r\n    <g style=\"fill:#262626;\" transform=\"translate(122.634076 289.350871)scale(0.1 -0.1)\">\r\n     <use xlink:href=\"#ArialMT-45\"/>\r\n     <use x=\"33.300781\" xlink:href=\"#ArialMT-48\"/>\r\n     <use x=\"88.916016\" xlink:href=\"#ArialMT-46\"/>\r\n     <use x=\"116.699219\" xlink:href=\"#ArialMT-48\"/>\r\n     <use x=\"172.314453\" xlink:href=\"#ArialMT-53\"/>\r\n     <use x=\"227.929688\" xlink:href=\"#ArialMT-56\"/>\r\n    </g>\r\n   </g>\r\n   <g id=\"text_44\">\r\n    <!-- -0.034 -->\r\n    <g style=\"fill:#262626;\" transform=\"translate(199.15979 289.350871)scale(0.1 -0.1)\">\r\n     <use xlink:href=\"#ArialMT-45\"/>\r\n     <use x=\"33.300781\" xlink:href=\"#ArialMT-48\"/>\r\n     <use x=\"88.916016\" xlink:href=\"#ArialMT-46\"/>\r\n     <use x=\"116.699219\" xlink:href=\"#ArialMT-48\"/>\r\n     <use x=\"172.314453\" xlink:href=\"#ArialMT-51\"/>\r\n     <use x=\"227.929688\" xlink:href=\"#ArialMT-52\"/>\r\n    </g>\r\n   </g>\r\n   <g id=\"text_45\">\r\n    <!-- 0.082 -->\r\n    <g style=\"fill:#262626;\" transform=\"translate(277.350348 289.350871)scale(0.1 -0.1)\">\r\n     <use xlink:href=\"#ArialMT-48\"/>\r\n     <use x=\"55.615234\" xlink:href=\"#ArialMT-46\"/>\r\n     <use x=\"83.398438\" xlink:href=\"#ArialMT-48\"/>\r\n     <use x=\"139.013672\" xlink:href=\"#ArialMT-56\"/>\r\n     <use x=\"194.628906\" xlink:href=\"#ArialMT-50\"/>\r\n    </g>\r\n   </g>\r\n   <g id=\"text_46\">\r\n    <!-- -0.31 -->\r\n    <g style=\"fill:#ffffff;\" transform=\"translate(354.991688 289.350871)scale(0.1 -0.1)\">\r\n     <use xlink:href=\"#ArialMT-45\"/>\r\n     <use x=\"33.300781\" xlink:href=\"#ArialMT-48\"/>\r\n     <use x=\"88.916016\" xlink:href=\"#ArialMT-46\"/>\r\n     <use x=\"116.699219\" xlink:href=\"#ArialMT-51\"/>\r\n     <use x=\"172.314453\" xlink:href=\"#ArialMT-49\"/>\r\n    </g>\r\n   </g>\r\n   <g id=\"text_47\">\r\n    <!-- 1 -->\r\n    <g style=\"fill:#ffffff;\" transform=\"translate(440.132246 289.350871)scale(0.1 -0.1)\">\r\n     <use xlink:href=\"#ArialMT-49\"/>\r\n    </g>\r\n   </g>\r\n   <g id=\"text_48\">\r\n    <!-- 0.41 -->\r\n    <g style=\"fill:#262626;\" transform=\"translate(509.70796 289.350871)scale(0.1 -0.1)\">\r\n     <use xlink:href=\"#ArialMT-48\"/>\r\n     <use x=\"55.615234\" xlink:href=\"#ArialMT-46\"/>\r\n     <use x=\"83.398438\" xlink:href=\"#ArialMT-52\"/>\r\n     <use x=\"139.013672\" xlink:href=\"#ArialMT-49\"/>\r\n    </g>\r\n   </g>\r\n   <g id=\"text_49\">\r\n    <!-- 0.16 -->\r\n    <g style=\"fill:#262626;\" transform=\"translate(586.233674 289.350871)scale(0.1 -0.1)\">\r\n     <use xlink:href=\"#ArialMT-48\"/>\r\n     <use x=\"55.615234\" xlink:href=\"#ArialMT-46\"/>\r\n     <use x=\"83.398438\" xlink:href=\"#ArialMT-49\"/>\r\n     <use x=\"139.013672\" xlink:href=\"#ArialMT-54\"/>\r\n    </g>\r\n   </g>\r\n   <g id=\"text_50\">\r\n    <!-- -0.0017 -->\r\n    <g style=\"fill:#262626;\" transform=\"translate(119.853607 351.476585)scale(0.1 -0.1)\">\r\n     <use xlink:href=\"#ArialMT-45\"/>\r\n     <use x=\"33.300781\" xlink:href=\"#ArialMT-48\"/>\r\n     <use x=\"88.916016\" xlink:href=\"#ArialMT-46\"/>\r\n     <use x=\"116.699219\" xlink:href=\"#ArialMT-48\"/>\r\n     <use x=\"172.314453\" xlink:href=\"#ArialMT-48\"/>\r\n     <use x=\"227.929688\" xlink:href=\"#ArialMT-49\"/>\r\n     <use x=\"283.544922\" xlink:href=\"#ArialMT-55\"/>\r\n    </g>\r\n   </g>\r\n   <g id=\"text_51\">\r\n    <!-- 0.083 -->\r\n    <g style=\"fill:#262626;\" transform=\"translate(200.824634 351.476585)scale(0.1 -0.1)\">\r\n     <use xlink:href=\"#ArialMT-48\"/>\r\n     <use x=\"55.615234\" xlink:href=\"#ArialMT-46\"/>\r\n     <use x=\"83.398438\" xlink:href=\"#ArialMT-48\"/>\r\n     <use x=\"139.013672\" xlink:href=\"#ArialMT-56\"/>\r\n     <use x=\"194.628906\" xlink:href=\"#ArialMT-51\"/>\r\n    </g>\r\n   </g>\r\n   <g id=\"text_52\">\r\n    <!-- 0.017 -->\r\n    <g style=\"fill:#262626;\" transform=\"translate(277.350348 351.476585)scale(0.1 -0.1)\">\r\n     <use xlink:href=\"#ArialMT-48\"/>\r\n     <use x=\"55.615234\" xlink:href=\"#ArialMT-46\"/>\r\n     <use x=\"83.398438\" xlink:href=\"#ArialMT-48\"/>\r\n     <use x=\"139.013672\" xlink:href=\"#ArialMT-49\"/>\r\n     <use x=\"194.628906\" xlink:href=\"#ArialMT-55\"/>\r\n    </g>\r\n   </g>\r\n   <g id=\"text_53\">\r\n    <!-- -0.19 -->\r\n    <g style=\"fill:#ffffff;\" transform=\"translate(354.991688 351.476585)scale(0.1 -0.1)\">\r\n     <use xlink:href=\"#ArialMT-45\"/>\r\n     <use x=\"33.300781\" xlink:href=\"#ArialMT-48\"/>\r\n     <use x=\"88.916016\" xlink:href=\"#ArialMT-46\"/>\r\n     <use x=\"116.699219\" xlink:href=\"#ArialMT-49\"/>\r\n     <use x=\"172.314453\" xlink:href=\"#ArialMT-57\"/>\r\n    </g>\r\n   </g>\r\n   <g id=\"text_54\">\r\n    <!-- 0.41 -->\r\n    <g style=\"fill:#262626;\" transform=\"translate(433.182246 351.476585)scale(0.1 -0.1)\">\r\n     <use xlink:href=\"#ArialMT-48\"/>\r\n     <use x=\"55.615234\" xlink:href=\"#ArialMT-46\"/>\r\n     <use x=\"83.398438\" xlink:href=\"#ArialMT-52\"/>\r\n     <use x=\"139.013672\" xlink:href=\"#ArialMT-49\"/>\r\n    </g>\r\n   </g>\r\n   <g id=\"text_55\">\r\n    <!-- 1 -->\r\n    <g style=\"fill:#ffffff;\" transform=\"translate(516.65796 351.476585)scale(0.1 -0.1)\">\r\n     <use xlink:href=\"#ArialMT-49\"/>\r\n    </g>\r\n   </g>\r\n   <g id=\"text_56\">\r\n    <!-- 0.22 -->\r\n    <g style=\"fill:#262626;\" transform=\"translate(586.233674 351.476585)scale(0.1 -0.1)\">\r\n     <use xlink:href=\"#ArialMT-48\"/>\r\n     <use x=\"55.615234\" xlink:href=\"#ArialMT-46\"/>\r\n     <use x=\"83.398438\" xlink:href=\"#ArialMT-50\"/>\r\n     <use x=\"139.013672\" xlink:href=\"#ArialMT-50\"/>\r\n    </g>\r\n   </g>\r\n   <g id=\"text_57\">\r\n    <!-- 0.013 -->\r\n    <g style=\"fill:#262626;\" transform=\"translate(124.29892 413.602299)scale(0.1 -0.1)\">\r\n     <use xlink:href=\"#ArialMT-48\"/>\r\n     <use x=\"55.615234\" xlink:href=\"#ArialMT-46\"/>\r\n     <use x=\"83.398438\" xlink:href=\"#ArialMT-48\"/>\r\n     <use x=\"139.013672\" xlink:href=\"#ArialMT-49\"/>\r\n     <use x=\"194.628906\" xlink:href=\"#ArialMT-51\"/>\r\n    </g>\r\n   </g>\r\n   <g id=\"text_58\">\r\n    <!-- 0.26 -->\r\n    <g style=\"fill:#262626;\" transform=\"translate(203.605103 413.602299)scale(0.1 -0.1)\">\r\n     <use xlink:href=\"#ArialMT-48\"/>\r\n     <use x=\"55.615234\" xlink:href=\"#ArialMT-46\"/>\r\n     <use x=\"83.398438\" xlink:href=\"#ArialMT-50\"/>\r\n     <use x=\"139.013672\" xlink:href=\"#ArialMT-54\"/>\r\n    </g>\r\n   </g>\r\n   <g id=\"text_59\">\r\n    <!-- -0.55 -->\r\n    <g style=\"fill:#ffffff;\" transform=\"translate(278.465973 413.602299)scale(0.1 -0.1)\">\r\n     <use xlink:href=\"#ArialMT-45\"/>\r\n     <use x=\"33.300781\" xlink:href=\"#ArialMT-48\"/>\r\n     <use x=\"88.916016\" xlink:href=\"#ArialMT-46\"/>\r\n     <use x=\"116.699219\" xlink:href=\"#ArialMT-53\"/>\r\n     <use x=\"172.314453\" xlink:href=\"#ArialMT-53\"/>\r\n    </g>\r\n   </g>\r\n   <g id=\"text_60\">\r\n    <!-- 0.093 -->\r\n    <g style=\"fill:#262626;\" transform=\"translate(353.876063 413.602299)scale(0.1 -0.1)\">\r\n     <use xlink:href=\"#ArialMT-48\"/>\r\n     <use x=\"55.615234\" xlink:href=\"#ArialMT-46\"/>\r\n     <use x=\"83.398438\" xlink:href=\"#ArialMT-48\"/>\r\n     <use x=\"139.013672\" xlink:href=\"#ArialMT-57\"/>\r\n     <use x=\"194.628906\" xlink:href=\"#ArialMT-51\"/>\r\n    </g>\r\n   </g>\r\n   <g id=\"text_61\">\r\n    <!-- 0.16 -->\r\n    <g style=\"fill:#262626;\" transform=\"translate(433.182246 413.602299)scale(0.1 -0.1)\">\r\n     <use xlink:href=\"#ArialMT-48\"/>\r\n     <use x=\"55.615234\" xlink:href=\"#ArialMT-46\"/>\r\n     <use x=\"83.398438\" xlink:href=\"#ArialMT-49\"/>\r\n     <use x=\"139.013672\" xlink:href=\"#ArialMT-54\"/>\r\n    </g>\r\n   </g>\r\n   <g id=\"text_62\">\r\n    <!-- 0.22 -->\r\n    <g style=\"fill:#262626;\" transform=\"translate(509.70796 413.602299)scale(0.1 -0.1)\">\r\n     <use xlink:href=\"#ArialMT-48\"/>\r\n     <use x=\"55.615234\" xlink:href=\"#ArialMT-46\"/>\r\n     <use x=\"83.398438\" xlink:href=\"#ArialMT-50\"/>\r\n     <use x=\"139.013672\" xlink:href=\"#ArialMT-50\"/>\r\n    </g>\r\n   </g>\r\n   <g id=\"text_63\">\r\n    <!-- 1 -->\r\n    <g style=\"fill:#ffffff;\" transform=\"translate(593.183674 413.602299)scale(0.1 -0.1)\">\r\n     <use xlink:href=\"#ArialMT-49\"/>\r\n    </g>\r\n   </g>\r\n  </g>\r\n  <g id=\"axes_2\">\r\n   <g id=\"patch_3\">\r\n    <path clip-path=\"url(#p8e597c4857)\" d=\"M 667.707 442.08 \r\nL 667.707 440.38125 \r\nL 667.707 8.89875 \r\nL 667.707 7.2 \r\nL 689.451 7.2 \r\nL 689.451 8.89875 \r\nL 689.451 440.38125 \r\nL 689.451 442.08 \r\nz\r\n\" style=\"fill:#eaeaf2;stroke:#eaeaf2;stroke-linejoin:miter;stroke-width:0.01;\"/>\r\n   </g>\r\n   <g id=\"matplotlib.axis_3\"/>\r\n   <g id=\"matplotlib.axis_4\">\r\n    <g id=\"ytick_8\">\r\n     <g id=\"line2d_15\">\r\n      <defs>\r\n       <path d=\"M 0 0 \r\nL 3.5 0 \r\n\" id=\"m272e5036dd\" style=\"stroke:#262626;\"/>\r\n      </defs>\r\n      <g>\r\n       <use style=\"fill:#262626;stroke:#262626;\" x=\"689.451\" xlink:href=\"#m272e5036dd\" y=\"372.363708\"/>\r\n      </g>\r\n     </g>\r\n     <g id=\"text_64\">\r\n      <!-- −0.3 -->\r\n      <defs>\r\n       <path d=\"M 52.828125 31.203125 \r\nL 5.5625 31.203125 \r\nL 5.5625 39.40625 \r\nL 52.828125 39.40625 \r\nz\r\n\" id=\"ArialMT-8722\"/>\r\n      </defs>\r\n      <g style=\"fill:#262626;\" transform=\"translate(699.951 377.517333)scale(0.144 -0.144)\">\r\n       <use xlink:href=\"#ArialMT-8722\"/>\r\n       <use x=\"58.398438\" xlink:href=\"#ArialMT-48\"/>\r\n       <use x=\"114.013672\" xlink:href=\"#ArialMT-46\"/>\r\n       <use x=\"141.796875\" xlink:href=\"#ArialMT-51\"/>\r\n      </g>\r\n     </g>\r\n    </g>\r\n    <g id=\"ytick_9\">\r\n     <g id=\"line2d_16\">\r\n      <g>\r\n       <use style=\"fill:#262626;stroke:#262626;\" x=\"689.451\" xlink:href=\"#m272e5036dd\" y=\"288.09516\"/>\r\n      </g>\r\n     </g>\r\n     <g id=\"text_65\">\r\n      <!-- 0.0 -->\r\n      <g style=\"fill:#262626;\" transform=\"translate(699.951 293.248785)scale(0.144 -0.144)\">\r\n       <use xlink:href=\"#ArialMT-48\"/>\r\n       <use x=\"55.615234\" xlink:href=\"#ArialMT-46\"/>\r\n       <use x=\"83.398438\" xlink:href=\"#ArialMT-48\"/>\r\n      </g>\r\n     </g>\r\n    </g>\r\n    <g id=\"ytick_10\">\r\n     <g id=\"line2d_17\">\r\n      <g>\r\n       <use style=\"fill:#262626;stroke:#262626;\" x=\"689.451\" xlink:href=\"#m272e5036dd\" y=\"203.826612\"/>\r\n      </g>\r\n     </g>\r\n     <g id=\"text_66\">\r\n      <!-- 0.3 -->\r\n      <g style=\"fill:#262626;\" transform=\"translate(699.951 208.980237)scale(0.144 -0.144)\">\r\n       <use xlink:href=\"#ArialMT-48\"/>\r\n       <use x=\"55.615234\" xlink:href=\"#ArialMT-46\"/>\r\n       <use x=\"83.398438\" xlink:href=\"#ArialMT-51\"/>\r\n      </g>\r\n     </g>\r\n    </g>\r\n    <g id=\"ytick_11\">\r\n     <g id=\"line2d_18\">\r\n      <g>\r\n       <use style=\"fill:#262626;stroke:#262626;\" x=\"689.451\" xlink:href=\"#m272e5036dd\" y=\"119.558064\"/>\r\n      </g>\r\n     </g>\r\n     <g id=\"text_67\">\r\n      <!-- 0.6 -->\r\n      <g style=\"fill:#262626;\" transform=\"translate(699.951 124.711689)scale(0.144 -0.144)\">\r\n       <use xlink:href=\"#ArialMT-48\"/>\r\n       <use x=\"55.615234\" xlink:href=\"#ArialMT-46\"/>\r\n       <use x=\"83.398438\" xlink:href=\"#ArialMT-54\"/>\r\n      </g>\r\n     </g>\r\n    </g>\r\n    <g id=\"ytick_12\">\r\n     <g id=\"line2d_19\">\r\n      <g>\r\n       <use style=\"fill:#262626;stroke:#262626;\" x=\"689.451\" xlink:href=\"#m272e5036dd\" y=\"35.289516\"/>\r\n      </g>\r\n     </g>\r\n     <g id=\"text_68\">\r\n      <!-- 0.9 -->\r\n      <g style=\"fill:#262626;\" transform=\"translate(699.951 40.443141)scale(0.144 -0.144)\">\r\n       <use xlink:href=\"#ArialMT-48\"/>\r\n       <use x=\"55.615234\" xlink:href=\"#ArialMT-46\"/>\r\n       <use x=\"83.398438\" xlink:href=\"#ArialMT-57\"/>\r\n      </g>\r\n     </g>\r\n    </g>\r\n   </g>\r\n   <image height=\"435\" id=\"image084bf6f382\" transform=\"scale(1 -1)translate(0 -435)\" width=\"21\" x=\"668\" xlink:href=\"data:image/png;base64,\r\niVBORw0KGgoAAAANSUhEUgAAABUAAAGzCAYAAADAJVzRAAAABHNCSVQICAgIfAhkiAAAAkBJREFUeJztnMFxxTAQQiVbfaS89H+P7TTBO7xhtwAGDGLl70z27/r5VnjOvdOQa115yLXOvfNUKaYIaLN8T6TK5TNMCVTPM51I5WdKOg/qiZRKfh7UY5TnmZbL90SqXD50QSOM2oBTkHwN033ncSmmQKRERl0Wo4hnKjr7nhPFGHVZjLo0RiHV5zlR3UZBzxQ4puXV54nUGJUfZPFN9eVHFH7izq+KVDNT0Rvfvu84qMioS2TUMA0PU9Ii+RqmxOJTlXQzU5FRV/U29TAVRWqMioNSlwnL2V8A07M8RmlKmjDKw1R09seoOKhHvoepqvomUuFBbigio+aCFgedCxpilEX+7P34nLWBt2gClJH/aZhCRlk+xXvWCREp0YkapvGZSGlaijBKtKM0JV1+7fEwneqLg06kqiP1aSL1xf9p0VrnBVAh+QAow/QljPo0RhHyJ1IAqChSAKiqpPOglPzmSCHuU4ViMaq+pPOg1InSRKq9pPOgnkiZ5GtK+gHWqeeZnkdjVHekTPI1TJFrzwOg1p+o6sU3kcoPEimR/FcTqXKjRNt0IpWe9kgRi0+0TbuZlssfphOp8DBM/8ao9Hj2vkn+ME3Ped78b50q+RamU9JxUA/TcvnQt2jCKM9vKJ6/lyKM8vyCdj7NB25PpCCjLPI9TJHPcR75Hqbdi09U0iKjukva8z2q3SgNU88Frf3l7H3ioB6mJvmPhmm5UcM0PUyk3mr5Hqbl1edhqpKff432GOVhairp6pYqz2k5038prWkIXCWdIQAAAABJRU5ErkJggg==\" y=\"-7\"/>\r\n   <g id=\"patch_4\">\r\n    <path d=\"M 667.707 442.08 \r\nL 667.707 440.38125 \r\nL 667.707 8.89875 \r\nL 667.707 7.2 \r\nL 689.451 7.2 \r\nL 689.451 8.89875 \r\nL 689.451 440.38125 \r\nL 689.451 442.08 \r\nz\r\n\" style=\"fill:none;\"/>\r\n   </g>\r\n  </g>\r\n </g>\r\n <defs>\r\n  <clipPath id=\"pb78e02c131\">\r\n   <rect height=\"434.88\" width=\"535.68\" x=\"98.547\" y=\"7.2\"/>\r\n  </clipPath>\r\n  <clipPath id=\"p8e597c4857\">\r\n   <rect height=\"434.88\" width=\"21.744\" x=\"667.707\" y=\"7.2\"/>\r\n  </clipPath>\r\n </defs>\r\n</svg>\r\n",
      "text/plain": "<Figure size 864x576 with 2 Axes>"
     },
     "metadata": {
      "needs_background": "light"
     },
     "output_type": "display_data"
    }
   ],
   "source": [
    "plt.figure(figsize=(12, 8))\n",
    "sns.heatmap(df.corr(), cmap=plt.cm.RdBu, annot=True)"
   ]
  },
  {
   "cell_type": "code",
   "execution_count": 8,
   "metadata": {},
   "outputs": [
    {
     "data": {
      "text/plain": "0    549\n1    340\nName: Survived, dtype: int64"
     },
     "execution_count": 8,
     "metadata": {},
     "output_type": "execute_result"
    }
   ],
   "source": [
    "df['Survived'].value_counts()"
   ]
  },
  {
   "cell_type": "code",
   "execution_count": 9,
   "metadata": {},
   "outputs": [
    {
     "data": {
      "application/vnd.plotly.v1+json": {
       "config": {
        "plotlyServerURL": "https://plot.ly"
       },
       "data": [
        {
         "alignmentgroup": "True",
         "bingroup": "x",
         "hoverlabel": {
          "namelength": 0
         },
         "hovertemplate": "Sex=%{x}<br>Survived=1<br>Pclass=1<br>count=%{y}",
         "legendgroup": "Sex=male",
         "marker": {
          "color": "#636efa"
         },
         "name": "Sex=male",
         "offsetgroup": "Sex=male",
         "orientation": "v",
         "showlegend": true,
         "type": "histogram",
         "x": [
          "male",
          "male",
          "male",
          "male",
          "male",
          "male",
          "male",
          "male",
          "male",
          "male",
          "male",
          "male",
          "male",
          "male",
          "male",
          "male",
          "male",
          "male",
          "male",
          "male",
          "male",
          "male",
          "male",
          "male",
          "male",
          "male",
          "male",
          "male",
          "male",
          "male",
          "male",
          "male",
          "male",
          "male",
          "male",
          "male",
          "male",
          "male",
          "male",
          "male",
          "male",
          "male",
          "male",
          "male",
          "male"
         ],
         "xaxis": "x4",
         "yaxis": "y4"
        },
        {
         "alignmentgroup": "True",
         "bingroup": "x",
         "hoverlabel": {
          "namelength": 0
         },
         "hovertemplate": "Sex=%{x}<br>Survived=1<br>Pclass=2<br>count=%{y}",
         "legendgroup": "Sex=male",
         "marker": {
          "color": "#636efa"
         },
         "name": "Sex=male",
         "offsetgroup": "Sex=male",
         "orientation": "v",
         "showlegend": false,
         "type": "histogram",
         "x": [
          "male",
          "male",
          "male",
          "male",
          "male",
          "male",
          "male",
          "male",
          "male",
          "male",
          "male",
          "male",
          "male",
          "male",
          "male",
          "male",
          "male"
         ],
         "xaxis": "x5",
         "yaxis": "y5"
        },
        {
         "alignmentgroup": "True",
         "bingroup": "x",
         "hoverlabel": {
          "namelength": 0
         },
         "hovertemplate": "Sex=%{x}<br>Survived=1<br>Pclass=3<br>count=%{y}",
         "legendgroup": "Sex=male",
         "marker": {
          "color": "#636efa"
         },
         "name": "Sex=male",
         "offsetgroup": "Sex=male",
         "orientation": "v",
         "showlegend": false,
         "type": "histogram",
         "x": [
          "male",
          "male",
          "male",
          "male",
          "male",
          "male",
          "male",
          "male",
          "male",
          "male",
          "male",
          "male",
          "male",
          "male",
          "male",
          "male",
          "male",
          "male",
          "male",
          "male",
          "male",
          "male",
          "male",
          "male",
          "male",
          "male",
          "male",
          "male",
          "male",
          "male",
          "male",
          "male",
          "male",
          "male",
          "male",
          "male",
          "male",
          "male",
          "male",
          "male",
          "male",
          "male",
          "male",
          "male",
          "male",
          "male",
          "male"
         ],
         "xaxis": "x6",
         "yaxis": "y6"
        },
        {
         "alignmentgroup": "True",
         "bingroup": "x",
         "hoverlabel": {
          "namelength": 0
         },
         "hovertemplate": "Sex=%{x}<br>Survived=0<br>Pclass=1<br>count=%{y}",
         "legendgroup": "Sex=male",
         "marker": {
          "color": "#636efa"
         },
         "name": "Sex=male",
         "offsetgroup": "Sex=male",
         "orientation": "v",
         "showlegend": false,
         "type": "histogram",
         "x": [
          "male",
          "male",
          "male",
          "male",
          "male",
          "male",
          "male",
          "male",
          "male",
          "male",
          "male",
          "male",
          "male",
          "male",
          "male",
          "male",
          "male",
          "male",
          "male",
          "male",
          "male",
          "male",
          "male",
          "male",
          "male",
          "male",
          "male",
          "male",
          "male",
          "male",
          "male",
          "male",
          "male",
          "male",
          "male",
          "male",
          "male",
          "male",
          "male",
          "male",
          "male",
          "male",
          "male",
          "male",
          "male",
          "male",
          "male",
          "male",
          "male",
          "male",
          "male",
          "male",
          "male",
          "male",
          "male",
          "male",
          "male",
          "male",
          "male",
          "male",
          "male",
          "male",
          "male",
          "male",
          "male",
          "male",
          "male",
          "male",
          "male",
          "male",
          "male",
          "male",
          "male",
          "male",
          "male",
          "male",
          "male"
         ],
         "xaxis": "x",
         "yaxis": "y"
        },
        {
         "alignmentgroup": "True",
         "bingroup": "x",
         "hoverlabel": {
          "namelength": 0
         },
         "hovertemplate": "Sex=%{x}<br>Survived=0<br>Pclass=2<br>count=%{y}",
         "legendgroup": "Sex=male",
         "marker": {
          "color": "#636efa"
         },
         "name": "Sex=male",
         "offsetgroup": "Sex=male",
         "orientation": "v",
         "showlegend": false,
         "type": "histogram",
         "x": [
          "male",
          "male",
          "male",
          "male",
          "male",
          "male",
          "male",
          "male",
          "male",
          "male",
          "male",
          "male",
          "male",
          "male",
          "male",
          "male",
          "male",
          "male",
          "male",
          "male",
          "male",
          "male",
          "male",
          "male",
          "male",
          "male",
          "male",
          "male",
          "male",
          "male",
          "male",
          "male",
          "male",
          "male",
          "male",
          "male",
          "male",
          "male",
          "male",
          "male",
          "male",
          "male",
          "male",
          "male",
          "male",
          "male",
          "male",
          "male",
          "male",
          "male",
          "male",
          "male",
          "male",
          "male",
          "male",
          "male",
          "male",
          "male",
          "male",
          "male",
          "male",
          "male",
          "male",
          "male",
          "male",
          "male",
          "male",
          "male",
          "male",
          "male",
          "male",
          "male",
          "male",
          "male",
          "male",
          "male",
          "male",
          "male",
          "male",
          "male",
          "male",
          "male",
          "male",
          "male",
          "male",
          "male",
          "male",
          "male",
          "male",
          "male",
          "male"
         ],
         "xaxis": "x2",
         "yaxis": "y2"
        },
        {
         "alignmentgroup": "True",
         "bingroup": "x",
         "hoverlabel": {
          "namelength": 0
         },
         "hovertemplate": "Sex=%{x}<br>Survived=0<br>Pclass=3<br>count=%{y}",
         "legendgroup": "Sex=male",
         "marker": {
          "color": "#636efa"
         },
         "name": "Sex=male",
         "offsetgroup": "Sex=male",
         "orientation": "v",
         "showlegend": false,
         "type": "histogram",
         "x": [
          "male",
          "male",
          "male",
          "male",
          "male",
          "male",
          "male",
          "male",
          "male",
          "male",
          "male",
          "male",
          "male",
          "male",
          "male",
          "male",
          "male",
          "male",
          "male",
          "male",
          "male",
          "male",
          "male",
          "male",
          "male",
          "male",
          "male",
          "male",
          "male",
          "male",
          "male",
          "male",
          "male",
          "male",
          "male",
          "male",
          "male",
          "male",
          "male",
          "male",
          "male",
          "male",
          "male",
          "male",
          "male",
          "male",
          "male",
          "male",
          "male",
          "male",
          "male",
          "male",
          "male",
          "male",
          "male",
          "male",
          "male",
          "male",
          "male",
          "male",
          "male",
          "male",
          "male",
          "male",
          "male",
          "male",
          "male",
          "male",
          "male",
          "male",
          "male",
          "male",
          "male",
          "male",
          "male",
          "male",
          "male",
          "male",
          "male",
          "male",
          "male",
          "male",
          "male",
          "male",
          "male",
          "male",
          "male",
          "male",
          "male",
          "male",
          "male",
          "male",
          "male",
          "male",
          "male",
          "male",
          "male",
          "male",
          "male",
          "male",
          "male",
          "male",
          "male",
          "male",
          "male",
          "male",
          "male",
          "male",
          "male",
          "male",
          "male",
          "male",
          "male",
          "male",
          "male",
          "male",
          "male",
          "male",
          "male",
          "male",
          "male",
          "male",
          "male",
          "male",
          "male",
          "male",
          "male",
          "male",
          "male",
          "male",
          "male",
          "male",
          "male",
          "male",
          "male",
          "male",
          "male",
          "male",
          "male",
          "male",
          "male",
          "male",
          "male",
          "male",
          "male",
          "male",
          "male",
          "male",
          "male",
          "male",
          "male",
          "male",
          "male",
          "male",
          "male",
          "male",
          "male",
          "male",
          "male",
          "male",
          "male",
          "male",
          "male",
          "male",
          "male",
          "male",
          "male",
          "male",
          "male",
          "male",
          "male",
          "male",
          "male",
          "male",
          "male",
          "male",
          "male",
          "male",
          "male",
          "male",
          "male",
          "male",
          "male",
          "male",
          "male",
          "male",
          "male",
          "male",
          "male",
          "male",
          "male",
          "male",
          "male",
          "male",
          "male",
          "male",
          "male",
          "male",
          "male",
          "male",
          "male",
          "male",
          "male",
          "male",
          "male",
          "male",
          "male",
          "male",
          "male",
          "male",
          "male",
          "male",
          "male",
          "male",
          "male",
          "male",
          "male",
          "male",
          "male",
          "male",
          "male",
          "male",
          "male",
          "male",
          "male",
          "male",
          "male",
          "male",
          "male",
          "male",
          "male",
          "male",
          "male",
          "male",
          "male",
          "male",
          "male",
          "male",
          "male",
          "male",
          "male",
          "male",
          "male",
          "male",
          "male",
          "male",
          "male",
          "male",
          "male",
          "male",
          "male",
          "male",
          "male",
          "male",
          "male",
          "male",
          "male",
          "male",
          "male",
          "male",
          "male",
          "male",
          "male",
          "male",
          "male",
          "male",
          "male",
          "male",
          "male",
          "male",
          "male",
          "male",
          "male",
          "male",
          "male",
          "male",
          "male",
          "male",
          "male",
          "male",
          "male",
          "male",
          "male",
          "male",
          "male",
          "male",
          "male",
          "male",
          "male",
          "male",
          "male",
          "male",
          "male",
          "male",
          "male",
          "male",
          "male",
          "male",
          "male",
          "male"
         ],
         "xaxis": "x3",
         "yaxis": "y3"
        },
        {
         "alignmentgroup": "True",
         "bingroup": "x",
         "hoverlabel": {
          "namelength": 0
         },
         "hovertemplate": "Sex=%{x}<br>Survived=1<br>Pclass=1<br>count=%{y}",
         "legendgroup": "Sex=female",
         "marker": {
          "color": "#EF553B"
         },
         "name": "Sex=female",
         "offsetgroup": "Sex=female",
         "orientation": "v",
         "showlegend": true,
         "type": "histogram",
         "x": [
          "female",
          "female",
          "female",
          "female",
          "female",
          "female",
          "female",
          "female",
          "female",
          "female",
          "female",
          "female",
          "female",
          "female",
          "female",
          "female",
          "female",
          "female",
          "female",
          "female",
          "female",
          "female",
          "female",
          "female",
          "female",
          "female",
          "female",
          "female",
          "female",
          "female",
          "female",
          "female",
          "female",
          "female",
          "female",
          "female",
          "female",
          "female",
          "female",
          "female",
          "female",
          "female",
          "female",
          "female",
          "female",
          "female",
          "female",
          "female",
          "female",
          "female",
          "female",
          "female",
          "female",
          "female",
          "female",
          "female",
          "female",
          "female",
          "female",
          "female",
          "female",
          "female",
          "female",
          "female",
          "female",
          "female",
          "female",
          "female",
          "female",
          "female",
          "female",
          "female",
          "female",
          "female",
          "female",
          "female",
          "female",
          "female",
          "female",
          "female",
          "female",
          "female",
          "female",
          "female",
          "female",
          "female",
          "female",
          "female",
          "female"
         ],
         "xaxis": "x4",
         "yaxis": "y4"
        },
        {
         "alignmentgroup": "True",
         "bingroup": "x",
         "hoverlabel": {
          "namelength": 0
         },
         "hovertemplate": "Sex=%{x}<br>Survived=1<br>Pclass=2<br>count=%{y}",
         "legendgroup": "Sex=female",
         "marker": {
          "color": "#EF553B"
         },
         "name": "Sex=female",
         "offsetgroup": "Sex=female",
         "orientation": "v",
         "showlegend": false,
         "type": "histogram",
         "x": [
          "female",
          "female",
          "female",
          "female",
          "female",
          "female",
          "female",
          "female",
          "female",
          "female",
          "female",
          "female",
          "female",
          "female",
          "female",
          "female",
          "female",
          "female",
          "female",
          "female",
          "female",
          "female",
          "female",
          "female",
          "female",
          "female",
          "female",
          "female",
          "female",
          "female",
          "female",
          "female",
          "female",
          "female",
          "female",
          "female",
          "female",
          "female",
          "female",
          "female",
          "female",
          "female",
          "female",
          "female",
          "female",
          "female",
          "female",
          "female",
          "female",
          "female",
          "female",
          "female",
          "female",
          "female",
          "female",
          "female",
          "female",
          "female",
          "female",
          "female",
          "female",
          "female",
          "female",
          "female",
          "female",
          "female",
          "female",
          "female",
          "female",
          "female"
         ],
         "xaxis": "x5",
         "yaxis": "y5"
        },
        {
         "alignmentgroup": "True",
         "bingroup": "x",
         "hoverlabel": {
          "namelength": 0
         },
         "hovertemplate": "Sex=%{x}<br>Survived=1<br>Pclass=3<br>count=%{y}",
         "legendgroup": "Sex=female",
         "marker": {
          "color": "#EF553B"
         },
         "name": "Sex=female",
         "offsetgroup": "Sex=female",
         "orientation": "v",
         "showlegend": false,
         "type": "histogram",
         "x": [
          "female",
          "female",
          "female",
          "female",
          "female",
          "female",
          "female",
          "female",
          "female",
          "female",
          "female",
          "female",
          "female",
          "female",
          "female",
          "female",
          "female",
          "female",
          "female",
          "female",
          "female",
          "female",
          "female",
          "female",
          "female",
          "female",
          "female",
          "female",
          "female",
          "female",
          "female",
          "female",
          "female",
          "female",
          "female",
          "female",
          "female",
          "female",
          "female",
          "female",
          "female",
          "female",
          "female",
          "female",
          "female",
          "female",
          "female",
          "female",
          "female",
          "female",
          "female",
          "female",
          "female",
          "female",
          "female",
          "female",
          "female",
          "female",
          "female",
          "female",
          "female",
          "female",
          "female",
          "female",
          "female",
          "female",
          "female",
          "female",
          "female",
          "female",
          "female",
          "female"
         ],
         "xaxis": "x6",
         "yaxis": "y6"
        },
        {
         "alignmentgroup": "True",
         "bingroup": "x",
         "hoverlabel": {
          "namelength": 0
         },
         "hovertemplate": "Sex=%{x}<br>Survived=0<br>Pclass=1<br>count=%{y}",
         "legendgroup": "Sex=female",
         "marker": {
          "color": "#EF553B"
         },
         "name": "Sex=female",
         "offsetgroup": "Sex=female",
         "orientation": "v",
         "showlegend": false,
         "type": "histogram",
         "x": [
          "female",
          "female",
          "female"
         ],
         "xaxis": "x",
         "yaxis": "y"
        },
        {
         "alignmentgroup": "True",
         "bingroup": "x",
         "hoverlabel": {
          "namelength": 0
         },
         "hovertemplate": "Sex=%{x}<br>Survived=0<br>Pclass=2<br>count=%{y}",
         "legendgroup": "Sex=female",
         "marker": {
          "color": "#EF553B"
         },
         "name": "Sex=female",
         "offsetgroup": "Sex=female",
         "orientation": "v",
         "showlegend": false,
         "type": "histogram",
         "x": [
          "female",
          "female",
          "female",
          "female",
          "female",
          "female"
         ],
         "xaxis": "x2",
         "yaxis": "y2"
        },
        {
         "alignmentgroup": "True",
         "bingroup": "x",
         "hoverlabel": {
          "namelength": 0
         },
         "hovertemplate": "Sex=%{x}<br>Survived=0<br>Pclass=3<br>count=%{y}",
         "legendgroup": "Sex=female",
         "marker": {
          "color": "#EF553B"
         },
         "name": "Sex=female",
         "offsetgroup": "Sex=female",
         "orientation": "v",
         "showlegend": false,
         "type": "histogram",
         "x": [
          "female",
          "female",
          "female",
          "female",
          "female",
          "female",
          "female",
          "female",
          "female",
          "female",
          "female",
          "female",
          "female",
          "female",
          "female",
          "female",
          "female",
          "female",
          "female",
          "female",
          "female",
          "female",
          "female",
          "female",
          "female",
          "female",
          "female",
          "female",
          "female",
          "female",
          "female",
          "female",
          "female",
          "female",
          "female",
          "female",
          "female",
          "female",
          "female",
          "female",
          "female",
          "female",
          "female",
          "female",
          "female",
          "female",
          "female",
          "female",
          "female",
          "female",
          "female",
          "female",
          "female",
          "female",
          "female",
          "female",
          "female",
          "female",
          "female",
          "female",
          "female",
          "female",
          "female",
          "female",
          "female",
          "female",
          "female",
          "female",
          "female",
          "female",
          "female",
          "female"
         ],
         "xaxis": "x3",
         "yaxis": "y3"
        }
       ],
       "layout": {
        "annotations": [
         {
          "font": {},
          "showarrow": false,
          "text": "Pclass=1",
          "x": 0.15666666666666665,
          "xanchor": "center",
          "xref": "paper",
          "y": 1,
          "yanchor": "bottom",
          "yref": "paper"
         },
         {
          "font": {},
          "showarrow": false,
          "text": "Pclass=2",
          "x": 0.49,
          "xanchor": "center",
          "xref": "paper",
          "y": 1,
          "yanchor": "bottom",
          "yref": "paper"
         },
         {
          "font": {},
          "showarrow": false,
          "text": "Pclass=3",
          "x": 0.8233333333333333,
          "xanchor": "center",
          "xref": "paper",
          "y": 1,
          "yanchor": "bottom",
          "yref": "paper"
         },
         {
          "font": {},
          "showarrow": false,
          "text": "Survived=0",
          "textangle": 90,
          "x": 0.98,
          "xanchor": "left",
          "xref": "paper",
          "y": 0.2425,
          "yanchor": "middle",
          "yref": "paper"
         },
         {
          "font": {},
          "showarrow": false,
          "text": "Survived=1",
          "textangle": 90,
          "x": 0.98,
          "xanchor": "left",
          "xref": "paper",
          "y": 0.7575000000000001,
          "yanchor": "middle",
          "yref": "paper"
         }
        ],
        "barmode": "relative",
        "height": 600,
        "legend": {
         "tracegroupgap": 0
        },
        "margin": {
         "t": 60
        },
        "template": {
         "data": {
          "bar": [
           {
            "error_x": {
             "color": "#2a3f5f"
            },
            "error_y": {
             "color": "#2a3f5f"
            },
            "marker": {
             "line": {
              "color": "#E5ECF6",
              "width": 0.5
             }
            },
            "type": "bar"
           }
          ],
          "barpolar": [
           {
            "marker": {
             "line": {
              "color": "#E5ECF6",
              "width": 0.5
             }
            },
            "type": "barpolar"
           }
          ],
          "carpet": [
           {
            "aaxis": {
             "endlinecolor": "#2a3f5f",
             "gridcolor": "white",
             "linecolor": "white",
             "minorgridcolor": "white",
             "startlinecolor": "#2a3f5f"
            },
            "baxis": {
             "endlinecolor": "#2a3f5f",
             "gridcolor": "white",
             "linecolor": "white",
             "minorgridcolor": "white",
             "startlinecolor": "#2a3f5f"
            },
            "type": "carpet"
           }
          ],
          "choropleth": [
           {
            "colorbar": {
             "outlinewidth": 0,
             "ticks": ""
            },
            "type": "choropleth"
           }
          ],
          "contour": [
           {
            "colorbar": {
             "outlinewidth": 0,
             "ticks": ""
            },
            "colorscale": [
             [
              0,
              "#0d0887"
             ],
             [
              0.1111111111111111,
              "#46039f"
             ],
             [
              0.2222222222222222,
              "#7201a8"
             ],
             [
              0.3333333333333333,
              "#9c179e"
             ],
             [
              0.4444444444444444,
              "#bd3786"
             ],
             [
              0.5555555555555556,
              "#d8576b"
             ],
             [
              0.6666666666666666,
              "#ed7953"
             ],
             [
              0.7777777777777778,
              "#fb9f3a"
             ],
             [
              0.8888888888888888,
              "#fdca26"
             ],
             [
              1,
              "#f0f921"
             ]
            ],
            "type": "contour"
           }
          ],
          "contourcarpet": [
           {
            "colorbar": {
             "outlinewidth": 0,
             "ticks": ""
            },
            "type": "contourcarpet"
           }
          ],
          "heatmap": [
           {
            "colorbar": {
             "outlinewidth": 0,
             "ticks": ""
            },
            "colorscale": [
             [
              0,
              "#0d0887"
             ],
             [
              0.1111111111111111,
              "#46039f"
             ],
             [
              0.2222222222222222,
              "#7201a8"
             ],
             [
              0.3333333333333333,
              "#9c179e"
             ],
             [
              0.4444444444444444,
              "#bd3786"
             ],
             [
              0.5555555555555556,
              "#d8576b"
             ],
             [
              0.6666666666666666,
              "#ed7953"
             ],
             [
              0.7777777777777778,
              "#fb9f3a"
             ],
             [
              0.8888888888888888,
              "#fdca26"
             ],
             [
              1,
              "#f0f921"
             ]
            ],
            "type": "heatmap"
           }
          ],
          "heatmapgl": [
           {
            "colorbar": {
             "outlinewidth": 0,
             "ticks": ""
            },
            "colorscale": [
             [
              0,
              "#0d0887"
             ],
             [
              0.1111111111111111,
              "#46039f"
             ],
             [
              0.2222222222222222,
              "#7201a8"
             ],
             [
              0.3333333333333333,
              "#9c179e"
             ],
             [
              0.4444444444444444,
              "#bd3786"
             ],
             [
              0.5555555555555556,
              "#d8576b"
             ],
             [
              0.6666666666666666,
              "#ed7953"
             ],
             [
              0.7777777777777778,
              "#fb9f3a"
             ],
             [
              0.8888888888888888,
              "#fdca26"
             ],
             [
              1,
              "#f0f921"
             ]
            ],
            "type": "heatmapgl"
           }
          ],
          "histogram": [
           {
            "marker": {
             "colorbar": {
              "outlinewidth": 0,
              "ticks": ""
             }
            },
            "type": "histogram"
           }
          ],
          "histogram2d": [
           {
            "colorbar": {
             "outlinewidth": 0,
             "ticks": ""
            },
            "colorscale": [
             [
              0,
              "#0d0887"
             ],
             [
              0.1111111111111111,
              "#46039f"
             ],
             [
              0.2222222222222222,
              "#7201a8"
             ],
             [
              0.3333333333333333,
              "#9c179e"
             ],
             [
              0.4444444444444444,
              "#bd3786"
             ],
             [
              0.5555555555555556,
              "#d8576b"
             ],
             [
              0.6666666666666666,
              "#ed7953"
             ],
             [
              0.7777777777777778,
              "#fb9f3a"
             ],
             [
              0.8888888888888888,
              "#fdca26"
             ],
             [
              1,
              "#f0f921"
             ]
            ],
            "type": "histogram2d"
           }
          ],
          "histogram2dcontour": [
           {
            "colorbar": {
             "outlinewidth": 0,
             "ticks": ""
            },
            "colorscale": [
             [
              0,
              "#0d0887"
             ],
             [
              0.1111111111111111,
              "#46039f"
             ],
             [
              0.2222222222222222,
              "#7201a8"
             ],
             [
              0.3333333333333333,
              "#9c179e"
             ],
             [
              0.4444444444444444,
              "#bd3786"
             ],
             [
              0.5555555555555556,
              "#d8576b"
             ],
             [
              0.6666666666666666,
              "#ed7953"
             ],
             [
              0.7777777777777778,
              "#fb9f3a"
             ],
             [
              0.8888888888888888,
              "#fdca26"
             ],
             [
              1,
              "#f0f921"
             ]
            ],
            "type": "histogram2dcontour"
           }
          ],
          "mesh3d": [
           {
            "colorbar": {
             "outlinewidth": 0,
             "ticks": ""
            },
            "type": "mesh3d"
           }
          ],
          "parcoords": [
           {
            "line": {
             "colorbar": {
              "outlinewidth": 0,
              "ticks": ""
             }
            },
            "type": "parcoords"
           }
          ],
          "scatter": [
           {
            "marker": {
             "colorbar": {
              "outlinewidth": 0,
              "ticks": ""
             }
            },
            "type": "scatter"
           }
          ],
          "scatter3d": [
           {
            "line": {
             "colorbar": {
              "outlinewidth": 0,
              "ticks": ""
             }
            },
            "marker": {
             "colorbar": {
              "outlinewidth": 0,
              "ticks": ""
             }
            },
            "type": "scatter3d"
           }
          ],
          "scattercarpet": [
           {
            "marker": {
             "colorbar": {
              "outlinewidth": 0,
              "ticks": ""
             }
            },
            "type": "scattercarpet"
           }
          ],
          "scattergeo": [
           {
            "marker": {
             "colorbar": {
              "outlinewidth": 0,
              "ticks": ""
             }
            },
            "type": "scattergeo"
           }
          ],
          "scattergl": [
           {
            "marker": {
             "colorbar": {
              "outlinewidth": 0,
              "ticks": ""
             }
            },
            "type": "scattergl"
           }
          ],
          "scattermapbox": [
           {
            "marker": {
             "colorbar": {
              "outlinewidth": 0,
              "ticks": ""
             }
            },
            "type": "scattermapbox"
           }
          ],
          "scatterpolar": [
           {
            "marker": {
             "colorbar": {
              "outlinewidth": 0,
              "ticks": ""
             }
            },
            "type": "scatterpolar"
           }
          ],
          "scatterpolargl": [
           {
            "marker": {
             "colorbar": {
              "outlinewidth": 0,
              "ticks": ""
             }
            },
            "type": "scatterpolargl"
           }
          ],
          "scatterternary": [
           {
            "marker": {
             "colorbar": {
              "outlinewidth": 0,
              "ticks": ""
             }
            },
            "type": "scatterternary"
           }
          ],
          "surface": [
           {
            "colorbar": {
             "outlinewidth": 0,
             "ticks": ""
            },
            "colorscale": [
             [
              0,
              "#0d0887"
             ],
             [
              0.1111111111111111,
              "#46039f"
             ],
             [
              0.2222222222222222,
              "#7201a8"
             ],
             [
              0.3333333333333333,
              "#9c179e"
             ],
             [
              0.4444444444444444,
              "#bd3786"
             ],
             [
              0.5555555555555556,
              "#d8576b"
             ],
             [
              0.6666666666666666,
              "#ed7953"
             ],
             [
              0.7777777777777778,
              "#fb9f3a"
             ],
             [
              0.8888888888888888,
              "#fdca26"
             ],
             [
              1,
              "#f0f921"
             ]
            ],
            "type": "surface"
           }
          ],
          "table": [
           {
            "cells": {
             "fill": {
              "color": "#EBF0F8"
             },
             "line": {
              "color": "white"
             }
            },
            "header": {
             "fill": {
              "color": "#C8D4E3"
             },
             "line": {
              "color": "white"
             }
            },
            "type": "table"
           }
          ]
         },
         "layout": {
          "annotationdefaults": {
           "arrowcolor": "#2a3f5f",
           "arrowhead": 0,
           "arrowwidth": 1
          },
          "colorscale": {
           "diverging": [
            [
             0,
             "#8e0152"
            ],
            [
             0.1,
             "#c51b7d"
            ],
            [
             0.2,
             "#de77ae"
            ],
            [
             0.3,
             "#f1b6da"
            ],
            [
             0.4,
             "#fde0ef"
            ],
            [
             0.5,
             "#f7f7f7"
            ],
            [
             0.6,
             "#e6f5d0"
            ],
            [
             0.7,
             "#b8e186"
            ],
            [
             0.8,
             "#7fbc41"
            ],
            [
             0.9,
             "#4d9221"
            ],
            [
             1,
             "#276419"
            ]
           ],
           "sequential": [
            [
             0,
             "#0d0887"
            ],
            [
             0.1111111111111111,
             "#46039f"
            ],
            [
             0.2222222222222222,
             "#7201a8"
            ],
            [
             0.3333333333333333,
             "#9c179e"
            ],
            [
             0.4444444444444444,
             "#bd3786"
            ],
            [
             0.5555555555555556,
             "#d8576b"
            ],
            [
             0.6666666666666666,
             "#ed7953"
            ],
            [
             0.7777777777777778,
             "#fb9f3a"
            ],
            [
             0.8888888888888888,
             "#fdca26"
            ],
            [
             1,
             "#f0f921"
            ]
           ],
           "sequentialminus": [
            [
             0,
             "#0d0887"
            ],
            [
             0.1111111111111111,
             "#46039f"
            ],
            [
             0.2222222222222222,
             "#7201a8"
            ],
            [
             0.3333333333333333,
             "#9c179e"
            ],
            [
             0.4444444444444444,
             "#bd3786"
            ],
            [
             0.5555555555555556,
             "#d8576b"
            ],
            [
             0.6666666666666666,
             "#ed7953"
            ],
            [
             0.7777777777777778,
             "#fb9f3a"
            ],
            [
             0.8888888888888888,
             "#fdca26"
            ],
            [
             1,
             "#f0f921"
            ]
           ]
          },
          "colorway": [
           "#636efa",
           "#EF553B",
           "#00cc96",
           "#ab63fa",
           "#FFA15A",
           "#19d3f3",
           "#FF6692",
           "#B6E880",
           "#FF97FF",
           "#FECB52"
          ],
          "font": {
           "color": "#2a3f5f"
          },
          "geo": {
           "bgcolor": "white",
           "lakecolor": "white",
           "landcolor": "#E5ECF6",
           "showlakes": true,
           "showland": true,
           "subunitcolor": "white"
          },
          "hoverlabel": {
           "align": "left"
          },
          "hovermode": "closest",
          "mapbox": {
           "style": "light"
          },
          "paper_bgcolor": "white",
          "plot_bgcolor": "#E5ECF6",
          "polar": {
           "angularaxis": {
            "gridcolor": "white",
            "linecolor": "white",
            "ticks": ""
           },
           "bgcolor": "#E5ECF6",
           "radialaxis": {
            "gridcolor": "white",
            "linecolor": "white",
            "ticks": ""
           }
          },
          "scene": {
           "xaxis": {
            "backgroundcolor": "#E5ECF6",
            "gridcolor": "white",
            "gridwidth": 2,
            "linecolor": "white",
            "showbackground": true,
            "ticks": "",
            "zerolinecolor": "white"
           },
           "yaxis": {
            "backgroundcolor": "#E5ECF6",
            "gridcolor": "white",
            "gridwidth": 2,
            "linecolor": "white",
            "showbackground": true,
            "ticks": "",
            "zerolinecolor": "white"
           },
           "zaxis": {
            "backgroundcolor": "#E5ECF6",
            "gridcolor": "white",
            "gridwidth": 2,
            "linecolor": "white",
            "showbackground": true,
            "ticks": "",
            "zerolinecolor": "white"
           }
          },
          "shapedefaults": {
           "line": {
            "color": "#2a3f5f"
           }
          },
          "ternary": {
           "aaxis": {
            "gridcolor": "white",
            "linecolor": "white",
            "ticks": ""
           },
           "baxis": {
            "gridcolor": "white",
            "linecolor": "white",
            "ticks": ""
           },
           "bgcolor": "#E5ECF6",
           "caxis": {
            "gridcolor": "white",
            "linecolor": "white",
            "ticks": ""
           }
          },
          "title": {
           "x": 0.05
          },
          "xaxis": {
           "automargin": true,
           "gridcolor": "white",
           "linecolor": "white",
           "ticks": "",
           "zerolinecolor": "white",
           "zerolinewidth": 2
          },
          "yaxis": {
           "automargin": true,
           "gridcolor": "white",
           "linecolor": "white",
           "ticks": "",
           "zerolinecolor": "white",
           "zerolinewidth": 2
          }
         }
        },
        "xaxis": {
         "anchor": "y",
         "categoryarray": [
          "male",
          "female"
         ],
         "categoryorder": "array",
         "domain": [
          0,
          0.3133333333333333
         ],
         "title": {
          "text": "Sex"
         }
        },
        "xaxis2": {
         "anchor": "y2",
         "categoryarray": [
          "male",
          "female"
         ],
         "categoryorder": "array",
         "domain": [
          0.3333333333333333,
          0.6466666666666666
         ],
         "matches": "x",
         "title": {
          "text": "Sex"
         }
        },
        "xaxis3": {
         "anchor": "y3",
         "categoryarray": [
          "male",
          "female"
         ],
         "categoryorder": "array",
         "domain": [
          0.6666666666666666,
          0.98
         ],
         "matches": "x",
         "title": {
          "text": "Sex"
         }
        },
        "xaxis4": {
         "anchor": "y4",
         "domain": [
          0,
          0.3133333333333333
         ],
         "matches": "x",
         "showticklabels": false
        },
        "xaxis5": {
         "anchor": "y5",
         "domain": [
          0.3333333333333333,
          0.6466666666666666
         ],
         "matches": "x",
         "showticklabels": false
        },
        "xaxis6": {
         "anchor": "y6",
         "domain": [
          0.6666666666666666,
          0.98
         ],
         "matches": "x",
         "showticklabels": false
        },
        "yaxis": {
         "anchor": "x",
         "domain": [
          0,
          0.485
         ],
         "title": {
          "text": "count"
         }
        },
        "yaxis2": {
         "anchor": "x2",
         "domain": [
          0,
          0.485
         ],
         "matches": "y",
         "showticklabels": false
        },
        "yaxis3": {
         "anchor": "x3",
         "domain": [
          0,
          0.485
         ],
         "matches": "y",
         "showticklabels": false
        },
        "yaxis4": {
         "anchor": "x4",
         "domain": [
          0.515,
          1
         ],
         "matches": "y",
         "title": {
          "text": "count"
         }
        },
        "yaxis5": {
         "anchor": "x5",
         "domain": [
          0.515,
          1
         ],
         "matches": "y",
         "showticklabels": false
        },
        "yaxis6": {
         "anchor": "x6",
         "domain": [
          0.515,
          1
         ],
         "matches": "y",
         "showticklabels": false
        }
       }
      }
     },
     "metadata": {},
     "output_type": "display_data"
    }
   ],
   "source": [
    "fig = px.histogram(df.sort_values(by=['Pclass']), x = \"Sex\",color=\"Sex\", facet_col=\"Pclass\", facet_row = \"Survived\")\n",
    "fig.show()"
   ]
  },
  {
   "cell_type": "markdown",
   "metadata": {
    "colab_type": "text",
    "id": "XL6dRDjWK9nr"
   },
   "source": [
    "# Explorando a Variável Age\n",
    "\n",
    "* Iremos usar a media das idades com Base no Sexo das Pessoa e a Classe para determinar as idades que estam igual a ZERO\n",
    "* Iremos determinar agrupamentos de idades \n",
    "  * IsAdulto a partir de 18 anos\n",
    "  * Agrupamento de Idades a partir do Describe\n",
    "\n",
    "**GAP: gerar uma regresao linear para determinar as idades ao inves da media e verificar se melhora nosso algoritimo**"
   ]
  },
  {
   "cell_type": "code",
   "execution_count": 10,
   "metadata": {},
   "outputs": [
    {
     "data": {
      "text/plain": "count    712.000000\nmean      29.642093\nstd       14.492933\nmin        0.420000\n25%       20.000000\n50%       28.000000\n75%       38.000000\nmax       80.000000\nName: Age, dtype: float64"
     },
     "execution_count": 10,
     "metadata": {},
     "output_type": "execute_result"
    }
   ],
   "source": [
    "df['Age'].describe()"
   ]
  },
  {
   "cell_type": "code",
   "execution_count": 11,
   "metadata": {},
   "outputs": [
    {
     "data": {
      "application/vnd.plotly.v1+json": {
       "config": {
        "plotlyServerURL": "https://plot.ly"
       },
       "data": [
        {
         "alignmentgroup": "True",
         "hoverlabel": {
          "namelength": 0
         },
         "hovertemplate": "Sex=%{x}<br>Pclass=1<br>Age=%{y}",
         "legendgroup": "Sex=male",
         "marker": {
          "color": "#636efa"
         },
         "name": "Sex=male",
         "notched": false,
         "offsetgroup": "Sex=male",
         "orientation": "v",
         "showlegend": true,
         "type": "box",
         "x": [
          "male",
          "male",
          "male",
          "male",
          "male",
          "male",
          "male",
          "male",
          "male",
          "male",
          "male",
          "male",
          "male",
          "male",
          "male",
          "male",
          "male",
          "male",
          "male",
          "male",
          "male",
          "male",
          "male",
          "male",
          "male",
          "male",
          "male",
          "male",
          "male",
          "male",
          "male",
          "male",
          "male",
          "male",
          "male",
          "male",
          "male",
          "male",
          "male",
          "male",
          "male",
          "male",
          "male",
          "male",
          "male",
          "male",
          "male",
          "male",
          "male",
          "male",
          "male",
          "male",
          "male",
          "male",
          "male",
          "male",
          "male",
          "male",
          "male",
          "male",
          "male",
          "male",
          "male",
          "male",
          "male",
          "male",
          "male",
          "male",
          "male",
          "male",
          "male",
          "male",
          "male",
          "male",
          "male",
          "male",
          "male",
          "male",
          "male",
          "male",
          "male",
          "male",
          "male",
          "male",
          "male",
          "male",
          "male",
          "male",
          "male",
          "male",
          "male",
          "male",
          "male",
          "male",
          "male",
          "male",
          "male",
          "male",
          "male",
          "male",
          "male",
          "male",
          "male",
          "male",
          "male",
          "male",
          "male",
          "male",
          "male",
          "male",
          "male",
          "male",
          "male",
          "male",
          "male",
          "male",
          "male",
          "male",
          "male",
          "male",
          "male",
          "male"
         ],
         "x0": " ",
         "xaxis": "x",
         "y": [
          4,
          0.92,
          null,
          48,
          null,
          null,
          null,
          31,
          null,
          60,
          45,
          49,
          42,
          29,
          38,
          45.5,
          35,
          27,
          37,
          40,
          null,
          null,
          56,
          61,
          29,
          45,
          38,
          19,
          null,
          40,
          52,
          62,
          35,
          37,
          44,
          null,
          36,
          70,
          27,
          47,
          36,
          null,
          35,
          null,
          18,
          49,
          71,
          55,
          58,
          27,
          null,
          null,
          62,
          36,
          17,
          64,
          50,
          60,
          45,
          25,
          null,
          42,
          61,
          58,
          50,
          47,
          36,
          56,
          31,
          27,
          22,
          36,
          25,
          48,
          28,
          50,
          56,
          80,
          47,
          32,
          48,
          null,
          65,
          49,
          30,
          52,
          34,
          26,
          64,
          null,
          36,
          38,
          47,
          31,
          24,
          11,
          37,
          null,
          28,
          42,
          28,
          39,
          null,
          21,
          24,
          19,
          33,
          23,
          46,
          40,
          54,
          71,
          null,
          28,
          51,
          null,
          45,
          54,
          51,
          46,
          null,
          65
         ],
         "y0": " ",
         "yaxis": "y"
        },
        {
         "alignmentgroup": "True",
         "hoverlabel": {
          "namelength": 0
         },
         "hovertemplate": "Sex=%{x}<br>Pclass=2<br>Age=%{y}",
         "legendgroup": "Sex=male",
         "marker": {
          "color": "#636efa"
         },
         "name": "Sex=male",
         "notched": false,
         "offsetgroup": "Sex=male",
         "orientation": "v",
         "showlegend": false,
         "type": "box",
         "x": [
          "male",
          "male",
          "male",
          "male",
          "male",
          "male",
          "male",
          "male",
          "male",
          "male",
          "male",
          "male",
          "male",
          "male",
          "male",
          "male",
          "male",
          "male",
          "male",
          "male",
          "male",
          "male",
          "male",
          "male",
          "male",
          "male",
          "male",
          "male",
          "male",
          "male",
          "male",
          "male",
          "male",
          "male",
          "male",
          "male",
          "male",
          "male",
          "male",
          "male",
          "male",
          "male",
          "male",
          "male",
          "male",
          "male",
          "male",
          "male",
          "male",
          "male",
          "male",
          "male",
          "male",
          "male",
          "male",
          "male",
          "male",
          "male",
          "male",
          "male",
          "male",
          "male",
          "male",
          "male",
          "male",
          "male",
          "male",
          "male",
          "male",
          "male",
          "male",
          "male",
          "male",
          "male",
          "male",
          "male",
          "male",
          "male",
          "male",
          "male",
          "male",
          "male",
          "male",
          "male",
          "male",
          "male",
          "male",
          "male",
          "male",
          "male",
          "male",
          "male",
          "male",
          "male",
          "male",
          "male",
          "male",
          "male",
          "male",
          "male",
          "male",
          "male",
          "male",
          "male",
          "male",
          "male",
          "male",
          "male"
         ],
         "x0": " ",
         "xaxis": "x2",
         "y": [
          28,
          25,
          36,
          2,
          30,
          52,
          66,
          31,
          39,
          1,
          54,
          43,
          0.83,
          31,
          34,
          25,
          25,
          32,
          46,
          23,
          57,
          24,
          3,
          23,
          null,
          24,
          48,
          null,
          34,
          28,
          32,
          29,
          30,
          60,
          16,
          0.83,
          26,
          null,
          34,
          21,
          31,
          21,
          70,
          18,
          null,
          36,
          null,
          19,
          33,
          29,
          19,
          23,
          54,
          27,
          25,
          36.5,
          54,
          null,
          23,
          1,
          44,
          28,
          42,
          18,
          30,
          27,
          32,
          51,
          30,
          19,
          18,
          34,
          59,
          24,
          39,
          3,
          0.67,
          21,
          47,
          35,
          42,
          29,
          35,
          36,
          8,
          52,
          31,
          27,
          62,
          34,
          34,
          50,
          16,
          null,
          23,
          null,
          23,
          37,
          36,
          39,
          30,
          28,
          25,
          42,
          32.5,
          18,
          null,
          19
         ],
         "y0": " ",
         "yaxis": "y2"
        },
        {
         "alignmentgroup": "True",
         "hoverlabel": {
          "namelength": 0
         },
         "hovertemplate": "Sex=%{x}<br>Pclass=3<br>Age=%{y}",
         "legendgroup": "Sex=male",
         "marker": {
          "color": "#636efa"
         },
         "name": "Sex=male",
         "notched": false,
         "offsetgroup": "Sex=male",
         "orientation": "v",
         "showlegend": false,
         "type": "box",
         "x": [
          "male",
          "male",
          "male",
          "male",
          "male",
          "male",
          "male",
          "male",
          "male",
          "male",
          "male",
          "male",
          "male",
          "male",
          "male",
          "male",
          "male",
          "male",
          "male",
          "male",
          "male",
          "male",
          "male",
          "male",
          "male",
          "male",
          "male",
          "male",
          "male",
          "male",
          "male",
          "male",
          "male",
          "male",
          "male",
          "male",
          "male",
          "male",
          "male",
          "male",
          "male",
          "male",
          "male",
          "male",
          "male",
          "male",
          "male",
          "male",
          "male",
          "male",
          "male",
          "male",
          "male",
          "male",
          "male",
          "male",
          "male",
          "male",
          "male",
          "male",
          "male",
          "male",
          "male",
          "male",
          "male",
          "male",
          "male",
          "male",
          "male",
          "male",
          "male",
          "male",
          "male",
          "male",
          "male",
          "male",
          "male",
          "male",
          "male",
          "male",
          "male",
          "male",
          "male",
          "male",
          "male",
          "male",
          "male",
          "male",
          "male",
          "male",
          "male",
          "male",
          "male",
          "male",
          "male",
          "male",
          "male",
          "male",
          "male",
          "male",
          "male",
          "male",
          "male",
          "male",
          "male",
          "male",
          "male",
          "male",
          "male",
          "male",
          "male",
          "male",
          "male",
          "male",
          "male",
          "male",
          "male",
          "male",
          "male",
          "male",
          "male",
          "male",
          "male",
          "male",
          "male",
          "male",
          "male",
          "male",
          "male",
          "male",
          "male",
          "male",
          "male",
          "male",
          "male",
          "male",
          "male",
          "male",
          "male",
          "male",
          "male",
          "male",
          "male",
          "male",
          "male",
          "male",
          "male",
          "male",
          "male",
          "male",
          "male",
          "male",
          "male",
          "male",
          "male",
          "male",
          "male",
          "male",
          "male",
          "male",
          "male",
          "male",
          "male",
          "male",
          "male",
          "male",
          "male",
          "male",
          "male",
          "male",
          "male",
          "male",
          "male",
          "male",
          "male",
          "male",
          "male",
          "male",
          "male",
          "male",
          "male",
          "male",
          "male",
          "male",
          "male",
          "male",
          "male",
          "male",
          "male",
          "male",
          "male",
          "male",
          "male",
          "male",
          "male",
          "male",
          "male",
          "male",
          "male",
          "male",
          "male",
          "male",
          "male",
          "male",
          "male",
          "male",
          "male",
          "male",
          "male",
          "male",
          "male",
          "male",
          "male",
          "male",
          "male",
          "male",
          "male",
          "male",
          "male",
          "male",
          "male",
          "male",
          "male",
          "male",
          "male",
          "male",
          "male",
          "male",
          "male",
          "male",
          "male",
          "male",
          "male",
          "male",
          "male",
          "male",
          "male",
          "male",
          "male",
          "male",
          "male",
          "male",
          "male",
          "male",
          "male",
          "male",
          "male",
          "male",
          "male",
          "male",
          "male",
          "male",
          "male",
          "male",
          "male",
          "male",
          "male",
          "male",
          "male",
          "male",
          "male",
          "male",
          "male",
          "male",
          "male",
          "male",
          "male",
          "male",
          "male",
          "male",
          "male",
          "male",
          "male",
          "male",
          "male",
          "male",
          "male",
          "male",
          "male",
          "male",
          "male",
          "male",
          "male",
          "male",
          "male",
          "male",
          "male",
          "male",
          "male",
          "male",
          "male",
          "male",
          "male",
          "male",
          "male",
          "male",
          "male",
          "male",
          "male",
          "male",
          "male",
          "male",
          "male",
          "male",
          "male",
          "male",
          "male",
          "male",
          "male",
          "male",
          "male",
          "male",
          "male",
          "male",
          "male",
          "male",
          "male",
          "male",
          "male",
          "male",
          "male",
          "male",
          "male",
          "male",
          "male",
          "male",
          "male",
          "male",
          "male",
          "male",
          "male",
          "male",
          "male",
          "male",
          "male",
          "male",
          "male",
          "male",
          "male",
          "male",
          "male",
          "male",
          "male",
          "male",
          "male",
          "male",
          "male"
         ],
         "x0": " ",
         "xaxis": "x3",
         "y": [
          null,
          41,
          null,
          32,
          19,
          32,
          16,
          null,
          51,
          20,
          25,
          null,
          26,
          null,
          36,
          30,
          19,
          null,
          36,
          47,
          44,
          20,
          49,
          null,
          47,
          null,
          26,
          22,
          33,
          21,
          21,
          null,
          27,
          null,
          4,
          34,
          35,
          35,
          25,
          20,
          null,
          16,
          31,
          24,
          null,
          null,
          28.5,
          0.42,
          27,
          31,
          11,
          20,
          39,
          17,
          33,
          19,
          30.5,
          29,
          43,
          10,
          26,
          31,
          30,
          6,
          25,
          8,
          null,
          1,
          null,
          null,
          null,
          18,
          null,
          25,
          48,
          24,
          32,
          null,
          16,
          20,
          41,
          null,
          34,
          28,
          23,
          33,
          null,
          27,
          2,
          24.5,
          18,
          null,
          35,
          43,
          null,
          20,
          36,
          4,
          40,
          74,
          42,
          null,
          21,
          null,
          null,
          19,
          null,
          20,
          17,
          null,
          null,
          26,
          25,
          null,
          42,
          null,
          23,
          18,
          44,
          21,
          null,
          25,
          null,
          32,
          18,
          19,
          14,
          14,
          20,
          34.5,
          null,
          22,
          null,
          44,
          26,
          17,
          1,
          9,
          28,
          4,
          21,
          18,
          null,
          36,
          9,
          null,
          null,
          30,
          24,
          45,
          33,
          20,
          16,
          19,
          27,
          55.5,
          40.5,
          null,
          40,
          36,
          22,
          20.5,
          29,
          null,
          30,
          null,
          30,
          22,
          null,
          51,
          null,
          42,
          28,
          null,
          34,
          16,
          45.5,
          32,
          26,
          24,
          22,
          null,
          18,
          null,
          12,
          21,
          null,
          null,
          null,
          null,
          7,
          21,
          28.5,
          11,
          null,
          null,
          35,
          null,
          2,
          20,
          22,
          39,
          2,
          null,
          4,
          null,
          19,
          null,
          null,
          33,
          37,
          28,
          59,
          null,
          22,
          21,
          70.5,
          38,
          null,
          26,
          29,
          26,
          26,
          32,
          25,
          null,
          20,
          null,
          22,
          29,
          16,
          null,
          24,
          3,
          16,
          null,
          null,
          38,
          29,
          22,
          9,
          50,
          30,
          9,
          null,
          38,
          null,
          34,
          null,
          29,
          18,
          null,
          null,
          32,
          21,
          17,
          20,
          25,
          null,
          null,
          null,
          29,
          21,
          null,
          null,
          null,
          33,
          null,
          22,
          null,
          40,
          null,
          24,
          19,
          21,
          17,
          39,
          24,
          17,
          28,
          26,
          null,
          29,
          24,
          null,
          32,
          22,
          null,
          null,
          40.5,
          null,
          null,
          null,
          28,
          22,
          27,
          null,
          61,
          19,
          16,
          null,
          45,
          3,
          42,
          23,
          15,
          null,
          23.5,
          25,
          25,
          7,
          65,
          28,
          19,
          33,
          30,
          22,
          24,
          16,
          32,
          25,
          28,
          21,
          28,
          22,
          39,
          26,
          null,
          51,
          21,
          null,
          null,
          44,
          28,
          null,
          1,
          32,
          40,
          35,
          null,
          30,
          null,
          18,
          19,
          20,
          19,
          32
         ],
         "y0": " ",
         "yaxis": "y3"
        },
        {
         "alignmentgroup": "True",
         "hoverlabel": {
          "namelength": 0
         },
         "hovertemplate": "Sex=%{x}<br>Pclass=1<br>Age=%{y}",
         "legendgroup": "Sex=female",
         "marker": {
          "color": "#EF553B"
         },
         "name": "Sex=female",
         "notched": false,
         "offsetgroup": "Sex=female",
         "orientation": "v",
         "showlegend": true,
         "type": "box",
         "x": [
          "female",
          "female",
          "female",
          "female",
          "female",
          "female",
          "female",
          "female",
          "female",
          "female",
          "female",
          "female",
          "female",
          "female",
          "female",
          "female",
          "female",
          "female",
          "female",
          "female",
          "female",
          "female",
          "female",
          "female",
          "female",
          "female",
          "female",
          "female",
          "female",
          "female",
          "female",
          "female",
          "female",
          "female",
          "female",
          "female",
          "female",
          "female",
          "female",
          "female",
          "female",
          "female",
          "female",
          "female",
          "female",
          "female",
          "female",
          "female",
          "female",
          "female",
          "female",
          "female",
          "female",
          "female",
          "female",
          "female",
          "female",
          "female",
          "female",
          "female",
          "female",
          "female",
          "female",
          "female",
          "female",
          "female",
          "female",
          "female",
          "female",
          "female",
          "female",
          "female",
          "female",
          "female",
          "female",
          "female",
          "female",
          "female",
          "female",
          "female",
          "female",
          "female",
          "female",
          "female",
          "female",
          "female",
          "female",
          "female",
          "female",
          "female",
          "female",
          "female"
         ],
         "x0": " ",
         "xaxis": "x",
         "y": [
          24,
          30,
          17,
          null,
          24,
          18,
          2,
          19,
          26,
          38,
          53,
          50,
          22,
          31,
          24,
          41,
          18,
          16,
          36,
          40,
          null,
          63,
          31,
          33,
          36,
          51,
          58,
          32,
          44,
          50,
          43,
          17,
          35,
          35,
          58,
          29,
          35,
          30,
          null,
          21,
          22,
          15,
          60,
          54,
          16,
          40,
          25,
          54,
          35,
          30,
          44,
          39,
          39,
          39,
          48,
          18,
          36,
          22,
          30,
          52,
          33,
          23,
          null,
          42,
          null,
          24,
          35,
          21,
          null,
          24,
          14,
          null,
          58,
          null,
          30,
          19,
          56,
          39,
          33,
          52,
          49,
          47,
          null,
          23,
          45,
          35,
          19,
          38,
          49,
          48,
          22,
          16
         ],
         "y0": " ",
         "yaxis": "y"
        },
        {
         "alignmentgroup": "True",
         "hoverlabel": {
          "namelength": 0
         },
         "hovertemplate": "Sex=%{x}<br>Pclass=2<br>Age=%{y}",
         "legendgroup": "Sex=female",
         "marker": {
          "color": "#EF553B"
         },
         "name": "Sex=female",
         "notched": false,
         "offsetgroup": "Sex=female",
         "orientation": "v",
         "showlegend": false,
         "type": "box",
         "x": [
          "female",
          "female",
          "female",
          "female",
          "female",
          "female",
          "female",
          "female",
          "female",
          "female",
          "female",
          "female",
          "female",
          "female",
          "female",
          "female",
          "female",
          "female",
          "female",
          "female",
          "female",
          "female",
          "female",
          "female",
          "female",
          "female",
          "female",
          "female",
          "female",
          "female",
          "female",
          "female",
          "female",
          "female",
          "female",
          "female",
          "female",
          "female",
          "female",
          "female",
          "female",
          "female",
          "female",
          "female",
          "female",
          "female",
          "female",
          "female",
          "female",
          "female",
          "female",
          "female",
          "female",
          "female",
          "female",
          "female",
          "female",
          "female",
          "female",
          "female",
          "female",
          "female",
          "female",
          "female",
          "female",
          "female",
          "female",
          "female",
          "female",
          "female",
          "female",
          "female",
          "female",
          "female",
          "female",
          "female"
         ],
         "x0": " ",
         "xaxis": "x2",
         "y": [
          45,
          5,
          26,
          44,
          24,
          28,
          29,
          42,
          40,
          28,
          24,
          13,
          30,
          22,
          28,
          34,
          33,
          36,
          24,
          17,
          45,
          22,
          21,
          18,
          24,
          23,
          28,
          33,
          27,
          29,
          18,
          3,
          34,
          17,
          4,
          19,
          28,
          50,
          27,
          42,
          36,
          40,
          38,
          8,
          55,
          24,
          32,
          24,
          57,
          29,
          7,
          54,
          null,
          4,
          35,
          30,
          25,
          31,
          19,
          48,
          2,
          6,
          27,
          34,
          36,
          40,
          14,
          24,
          34,
          50,
          25,
          50,
          41,
          32.5,
          30,
          null
         ],
         "y0": " ",
         "yaxis": "y2"
        },
        {
         "alignmentgroup": "True",
         "hoverlabel": {
          "namelength": 0
         },
         "hovertemplate": "Sex=%{x}<br>Pclass=3<br>Age=%{y}",
         "legendgroup": "Sex=female",
         "marker": {
          "color": "#EF553B"
         },
         "name": "Sex=female",
         "notched": false,
         "offsetgroup": "Sex=female",
         "orientation": "v",
         "showlegend": false,
         "type": "box",
         "x": [
          "female",
          "female",
          "female",
          "female",
          "female",
          "female",
          "female",
          "female",
          "female",
          "female",
          "female",
          "female",
          "female",
          "female",
          "female",
          "female",
          "female",
          "female",
          "female",
          "female",
          "female",
          "female",
          "female",
          "female",
          "female",
          "female",
          "female",
          "female",
          "female",
          "female",
          "female",
          "female",
          "female",
          "female",
          "female",
          "female",
          "female",
          "female",
          "female",
          "female",
          "female",
          "female",
          "female",
          "female",
          "female",
          "female",
          "female",
          "female",
          "female",
          "female",
          "female",
          "female",
          "female",
          "female",
          "female",
          "female",
          "female",
          "female",
          "female",
          "female",
          "female",
          "female",
          "female",
          "female",
          "female",
          "female",
          "female",
          "female",
          "female",
          "female",
          "female",
          "female",
          "female",
          "female",
          "female",
          "female",
          "female",
          "female",
          "female",
          "female",
          "female",
          "female",
          "female",
          "female",
          "female",
          "female",
          "female",
          "female",
          "female",
          "female",
          "female",
          "female",
          "female",
          "female",
          "female",
          "female",
          "female",
          "female",
          "female",
          "female",
          "female",
          "female",
          "female",
          "female",
          "female",
          "female",
          "female",
          "female",
          "female",
          "female",
          "female",
          "female",
          "female",
          "female",
          "female",
          "female",
          "female",
          "female",
          "female",
          "female",
          "female",
          "female",
          "female",
          "female",
          "female",
          "female",
          "female",
          "female",
          "female",
          "female",
          "female",
          "female",
          "female",
          "female",
          "female",
          "female",
          "female",
          "female",
          "female",
          "female",
          "female",
          "female",
          "female",
          "female"
         ],
         "x0": " ",
         "xaxis": "x3",
         "y": [
          24,
          39,
          9,
          null,
          null,
          null,
          39,
          null,
          15,
          null,
          22,
          26,
          null,
          48,
          18,
          30,
          25,
          null,
          6,
          23,
          13,
          null,
          5,
          30.5,
          31,
          41,
          32,
          null,
          23,
          9,
          0.75,
          2,
          18,
          18,
          18,
          43,
          18,
          15,
          null,
          4,
          18,
          null,
          27,
          45,
          1,
          null,
          16,
          null,
          47,
          4,
          null,
          24,
          9,
          22,
          null,
          null,
          5,
          null,
          null,
          null,
          25,
          29,
          41,
          29,
          27,
          19,
          null,
          2,
          16,
          2,
          18,
          14,
          40,
          19,
          null,
          18,
          null,
          null,
          26,
          27,
          4,
          31,
          null,
          15,
          8,
          38,
          14,
          28,
          21,
          null,
          14.5,
          20,
          17,
          17,
          16,
          null,
          33,
          30,
          null,
          0.75,
          22,
          2,
          63,
          null,
          28,
          null,
          5,
          21,
          30,
          9,
          11,
          null,
          22,
          null,
          29,
          36,
          21,
          null,
          37,
          10,
          null,
          26,
          31,
          null,
          null,
          null,
          45,
          35,
          null,
          22,
          24,
          24,
          31,
          21,
          20,
          null,
          null,
          null,
          45,
          null,
          3,
          22,
          1,
          null
         ],
         "y0": " ",
         "yaxis": "y3"
        }
       ],
       "layout": {
        "annotations": [
         {
          "font": {},
          "showarrow": false,
          "text": "Pclass=1",
          "x": 0.15666666666666665,
          "xanchor": "center",
          "xref": "paper",
          "y": 1,
          "yanchor": "bottom",
          "yref": "paper"
         },
         {
          "font": {},
          "showarrow": false,
          "text": "Pclass=2",
          "x": 0.49,
          "xanchor": "center",
          "xref": "paper",
          "y": 1,
          "yanchor": "bottom",
          "yref": "paper"
         },
         {
          "font": {},
          "showarrow": false,
          "text": "Pclass=3",
          "x": 0.8233333333333333,
          "xanchor": "center",
          "xref": "paper",
          "y": 1,
          "yanchor": "bottom",
          "yref": "paper"
         }
        ],
        "boxmode": "group",
        "height": 600,
        "legend": {
         "tracegroupgap": 0
        },
        "margin": {
         "t": 60
        },
        "template": {
         "data": {
          "bar": [
           {
            "error_x": {
             "color": "#2a3f5f"
            },
            "error_y": {
             "color": "#2a3f5f"
            },
            "marker": {
             "line": {
              "color": "#E5ECF6",
              "width": 0.5
             }
            },
            "type": "bar"
           }
          ],
          "barpolar": [
           {
            "marker": {
             "line": {
              "color": "#E5ECF6",
              "width": 0.5
             }
            },
            "type": "barpolar"
           }
          ],
          "carpet": [
           {
            "aaxis": {
             "endlinecolor": "#2a3f5f",
             "gridcolor": "white",
             "linecolor": "white",
             "minorgridcolor": "white",
             "startlinecolor": "#2a3f5f"
            },
            "baxis": {
             "endlinecolor": "#2a3f5f",
             "gridcolor": "white",
             "linecolor": "white",
             "minorgridcolor": "white",
             "startlinecolor": "#2a3f5f"
            },
            "type": "carpet"
           }
          ],
          "choropleth": [
           {
            "colorbar": {
             "outlinewidth": 0,
             "ticks": ""
            },
            "type": "choropleth"
           }
          ],
          "contour": [
           {
            "colorbar": {
             "outlinewidth": 0,
             "ticks": ""
            },
            "colorscale": [
             [
              0,
              "#0d0887"
             ],
             [
              0.1111111111111111,
              "#46039f"
             ],
             [
              0.2222222222222222,
              "#7201a8"
             ],
             [
              0.3333333333333333,
              "#9c179e"
             ],
             [
              0.4444444444444444,
              "#bd3786"
             ],
             [
              0.5555555555555556,
              "#d8576b"
             ],
             [
              0.6666666666666666,
              "#ed7953"
             ],
             [
              0.7777777777777778,
              "#fb9f3a"
             ],
             [
              0.8888888888888888,
              "#fdca26"
             ],
             [
              1,
              "#f0f921"
             ]
            ],
            "type": "contour"
           }
          ],
          "contourcarpet": [
           {
            "colorbar": {
             "outlinewidth": 0,
             "ticks": ""
            },
            "type": "contourcarpet"
           }
          ],
          "heatmap": [
           {
            "colorbar": {
             "outlinewidth": 0,
             "ticks": ""
            },
            "colorscale": [
             [
              0,
              "#0d0887"
             ],
             [
              0.1111111111111111,
              "#46039f"
             ],
             [
              0.2222222222222222,
              "#7201a8"
             ],
             [
              0.3333333333333333,
              "#9c179e"
             ],
             [
              0.4444444444444444,
              "#bd3786"
             ],
             [
              0.5555555555555556,
              "#d8576b"
             ],
             [
              0.6666666666666666,
              "#ed7953"
             ],
             [
              0.7777777777777778,
              "#fb9f3a"
             ],
             [
              0.8888888888888888,
              "#fdca26"
             ],
             [
              1,
              "#f0f921"
             ]
            ],
            "type": "heatmap"
           }
          ],
          "heatmapgl": [
           {
            "colorbar": {
             "outlinewidth": 0,
             "ticks": ""
            },
            "colorscale": [
             [
              0,
              "#0d0887"
             ],
             [
              0.1111111111111111,
              "#46039f"
             ],
             [
              0.2222222222222222,
              "#7201a8"
             ],
             [
              0.3333333333333333,
              "#9c179e"
             ],
             [
              0.4444444444444444,
              "#bd3786"
             ],
             [
              0.5555555555555556,
              "#d8576b"
             ],
             [
              0.6666666666666666,
              "#ed7953"
             ],
             [
              0.7777777777777778,
              "#fb9f3a"
             ],
             [
              0.8888888888888888,
              "#fdca26"
             ],
             [
              1,
              "#f0f921"
             ]
            ],
            "type": "heatmapgl"
           }
          ],
          "histogram": [
           {
            "marker": {
             "colorbar": {
              "outlinewidth": 0,
              "ticks": ""
             }
            },
            "type": "histogram"
           }
          ],
          "histogram2d": [
           {
            "colorbar": {
             "outlinewidth": 0,
             "ticks": ""
            },
            "colorscale": [
             [
              0,
              "#0d0887"
             ],
             [
              0.1111111111111111,
              "#46039f"
             ],
             [
              0.2222222222222222,
              "#7201a8"
             ],
             [
              0.3333333333333333,
              "#9c179e"
             ],
             [
              0.4444444444444444,
              "#bd3786"
             ],
             [
              0.5555555555555556,
              "#d8576b"
             ],
             [
              0.6666666666666666,
              "#ed7953"
             ],
             [
              0.7777777777777778,
              "#fb9f3a"
             ],
             [
              0.8888888888888888,
              "#fdca26"
             ],
             [
              1,
              "#f0f921"
             ]
            ],
            "type": "histogram2d"
           }
          ],
          "histogram2dcontour": [
           {
            "colorbar": {
             "outlinewidth": 0,
             "ticks": ""
            },
            "colorscale": [
             [
              0,
              "#0d0887"
             ],
             [
              0.1111111111111111,
              "#46039f"
             ],
             [
              0.2222222222222222,
              "#7201a8"
             ],
             [
              0.3333333333333333,
              "#9c179e"
             ],
             [
              0.4444444444444444,
              "#bd3786"
             ],
             [
              0.5555555555555556,
              "#d8576b"
             ],
             [
              0.6666666666666666,
              "#ed7953"
             ],
             [
              0.7777777777777778,
              "#fb9f3a"
             ],
             [
              0.8888888888888888,
              "#fdca26"
             ],
             [
              1,
              "#f0f921"
             ]
            ],
            "type": "histogram2dcontour"
           }
          ],
          "mesh3d": [
           {
            "colorbar": {
             "outlinewidth": 0,
             "ticks": ""
            },
            "type": "mesh3d"
           }
          ],
          "parcoords": [
           {
            "line": {
             "colorbar": {
              "outlinewidth": 0,
              "ticks": ""
             }
            },
            "type": "parcoords"
           }
          ],
          "scatter": [
           {
            "marker": {
             "colorbar": {
              "outlinewidth": 0,
              "ticks": ""
             }
            },
            "type": "scatter"
           }
          ],
          "scatter3d": [
           {
            "line": {
             "colorbar": {
              "outlinewidth": 0,
              "ticks": ""
             }
            },
            "marker": {
             "colorbar": {
              "outlinewidth": 0,
              "ticks": ""
             }
            },
            "type": "scatter3d"
           }
          ],
          "scattercarpet": [
           {
            "marker": {
             "colorbar": {
              "outlinewidth": 0,
              "ticks": ""
             }
            },
            "type": "scattercarpet"
           }
          ],
          "scattergeo": [
           {
            "marker": {
             "colorbar": {
              "outlinewidth": 0,
              "ticks": ""
             }
            },
            "type": "scattergeo"
           }
          ],
          "scattergl": [
           {
            "marker": {
             "colorbar": {
              "outlinewidth": 0,
              "ticks": ""
             }
            },
            "type": "scattergl"
           }
          ],
          "scattermapbox": [
           {
            "marker": {
             "colorbar": {
              "outlinewidth": 0,
              "ticks": ""
             }
            },
            "type": "scattermapbox"
           }
          ],
          "scatterpolar": [
           {
            "marker": {
             "colorbar": {
              "outlinewidth": 0,
              "ticks": ""
             }
            },
            "type": "scatterpolar"
           }
          ],
          "scatterpolargl": [
           {
            "marker": {
             "colorbar": {
              "outlinewidth": 0,
              "ticks": ""
             }
            },
            "type": "scatterpolargl"
           }
          ],
          "scatterternary": [
           {
            "marker": {
             "colorbar": {
              "outlinewidth": 0,
              "ticks": ""
             }
            },
            "type": "scatterternary"
           }
          ],
          "surface": [
           {
            "colorbar": {
             "outlinewidth": 0,
             "ticks": ""
            },
            "colorscale": [
             [
              0,
              "#0d0887"
             ],
             [
              0.1111111111111111,
              "#46039f"
             ],
             [
              0.2222222222222222,
              "#7201a8"
             ],
             [
              0.3333333333333333,
              "#9c179e"
             ],
             [
              0.4444444444444444,
              "#bd3786"
             ],
             [
              0.5555555555555556,
              "#d8576b"
             ],
             [
              0.6666666666666666,
              "#ed7953"
             ],
             [
              0.7777777777777778,
              "#fb9f3a"
             ],
             [
              0.8888888888888888,
              "#fdca26"
             ],
             [
              1,
              "#f0f921"
             ]
            ],
            "type": "surface"
           }
          ],
          "table": [
           {
            "cells": {
             "fill": {
              "color": "#EBF0F8"
             },
             "line": {
              "color": "white"
             }
            },
            "header": {
             "fill": {
              "color": "#C8D4E3"
             },
             "line": {
              "color": "white"
             }
            },
            "type": "table"
           }
          ]
         },
         "layout": {
          "annotationdefaults": {
           "arrowcolor": "#2a3f5f",
           "arrowhead": 0,
           "arrowwidth": 1
          },
          "colorscale": {
           "diverging": [
            [
             0,
             "#8e0152"
            ],
            [
             0.1,
             "#c51b7d"
            ],
            [
             0.2,
             "#de77ae"
            ],
            [
             0.3,
             "#f1b6da"
            ],
            [
             0.4,
             "#fde0ef"
            ],
            [
             0.5,
             "#f7f7f7"
            ],
            [
             0.6,
             "#e6f5d0"
            ],
            [
             0.7,
             "#b8e186"
            ],
            [
             0.8,
             "#7fbc41"
            ],
            [
             0.9,
             "#4d9221"
            ],
            [
             1,
             "#276419"
            ]
           ],
           "sequential": [
            [
             0,
             "#0d0887"
            ],
            [
             0.1111111111111111,
             "#46039f"
            ],
            [
             0.2222222222222222,
             "#7201a8"
            ],
            [
             0.3333333333333333,
             "#9c179e"
            ],
            [
             0.4444444444444444,
             "#bd3786"
            ],
            [
             0.5555555555555556,
             "#d8576b"
            ],
            [
             0.6666666666666666,
             "#ed7953"
            ],
            [
             0.7777777777777778,
             "#fb9f3a"
            ],
            [
             0.8888888888888888,
             "#fdca26"
            ],
            [
             1,
             "#f0f921"
            ]
           ],
           "sequentialminus": [
            [
             0,
             "#0d0887"
            ],
            [
             0.1111111111111111,
             "#46039f"
            ],
            [
             0.2222222222222222,
             "#7201a8"
            ],
            [
             0.3333333333333333,
             "#9c179e"
            ],
            [
             0.4444444444444444,
             "#bd3786"
            ],
            [
             0.5555555555555556,
             "#d8576b"
            ],
            [
             0.6666666666666666,
             "#ed7953"
            ],
            [
             0.7777777777777778,
             "#fb9f3a"
            ],
            [
             0.8888888888888888,
             "#fdca26"
            ],
            [
             1,
             "#f0f921"
            ]
           ]
          },
          "colorway": [
           "#636efa",
           "#EF553B",
           "#00cc96",
           "#ab63fa",
           "#FFA15A",
           "#19d3f3",
           "#FF6692",
           "#B6E880",
           "#FF97FF",
           "#FECB52"
          ],
          "font": {
           "color": "#2a3f5f"
          },
          "geo": {
           "bgcolor": "white",
           "lakecolor": "white",
           "landcolor": "#E5ECF6",
           "showlakes": true,
           "showland": true,
           "subunitcolor": "white"
          },
          "hoverlabel": {
           "align": "left"
          },
          "hovermode": "closest",
          "mapbox": {
           "style": "light"
          },
          "paper_bgcolor": "white",
          "plot_bgcolor": "#E5ECF6",
          "polar": {
           "angularaxis": {
            "gridcolor": "white",
            "linecolor": "white",
            "ticks": ""
           },
           "bgcolor": "#E5ECF6",
           "radialaxis": {
            "gridcolor": "white",
            "linecolor": "white",
            "ticks": ""
           }
          },
          "scene": {
           "xaxis": {
            "backgroundcolor": "#E5ECF6",
            "gridcolor": "white",
            "gridwidth": 2,
            "linecolor": "white",
            "showbackground": true,
            "ticks": "",
            "zerolinecolor": "white"
           },
           "yaxis": {
            "backgroundcolor": "#E5ECF6",
            "gridcolor": "white",
            "gridwidth": 2,
            "linecolor": "white",
            "showbackground": true,
            "ticks": "",
            "zerolinecolor": "white"
           },
           "zaxis": {
            "backgroundcolor": "#E5ECF6",
            "gridcolor": "white",
            "gridwidth": 2,
            "linecolor": "white",
            "showbackground": true,
            "ticks": "",
            "zerolinecolor": "white"
           }
          },
          "shapedefaults": {
           "line": {
            "color": "#2a3f5f"
           }
          },
          "ternary": {
           "aaxis": {
            "gridcolor": "white",
            "linecolor": "white",
            "ticks": ""
           },
           "baxis": {
            "gridcolor": "white",
            "linecolor": "white",
            "ticks": ""
           },
           "bgcolor": "#E5ECF6",
           "caxis": {
            "gridcolor": "white",
            "linecolor": "white",
            "ticks": ""
           }
          },
          "title": {
           "x": 0.05
          },
          "xaxis": {
           "automargin": true,
           "gridcolor": "white",
           "linecolor": "white",
           "ticks": "",
           "zerolinecolor": "white",
           "zerolinewidth": 2
          },
          "yaxis": {
           "automargin": true,
           "gridcolor": "white",
           "linecolor": "white",
           "ticks": "",
           "zerolinecolor": "white",
           "zerolinewidth": 2
          }
         }
        },
        "xaxis": {
         "anchor": "y",
         "categoryarray": [
          "male",
          "female"
         ],
         "categoryorder": "array",
         "domain": [
          0,
          0.3133333333333333
         ],
         "title": {
          "text": "Sex"
         }
        },
        "xaxis2": {
         "anchor": "y2",
         "categoryarray": [
          "male",
          "female"
         ],
         "categoryorder": "array",
         "domain": [
          0.3333333333333333,
          0.6466666666666666
         ],
         "matches": "x",
         "title": {
          "text": "Sex"
         }
        },
        "xaxis3": {
         "anchor": "y3",
         "categoryarray": [
          "male",
          "female"
         ],
         "categoryorder": "array",
         "domain": [
          0.6666666666666666,
          0.98
         ],
         "matches": "x",
         "title": {
          "text": "Sex"
         }
        },
        "yaxis": {
         "anchor": "x",
         "domain": [
          0,
          1
         ],
         "title": {
          "text": "Age"
         }
        },
        "yaxis2": {
         "anchor": "x2",
         "domain": [
          0,
          1
         ],
         "matches": "y",
         "showticklabels": false
        },
        "yaxis3": {
         "anchor": "x3",
         "domain": [
          0,
          1
         ],
         "matches": "y",
         "showticklabels": false
        }
       }
      }
     },
     "metadata": {},
     "output_type": "display_data"
    }
   ],
   "source": [
    "fig = px.box(df.sort_values(by=['Pclass']), x = \"Sex\",color=\"Sex\", y=\"Age\", facet_col=\"Pclass\")\n",
    "fig.show()"
   ]
  },
  {
   "cell_type": "code",
   "execution_count": 12,
   "metadata": {},
   "outputs": [],
   "source": [
    "## Ajusta as idades NaN\n",
    "df['FE_Age'] = np.where(df['Age'].isnull(), 0,df['Age'])\n",
    "\n",
    "##Determina as idades com valores ZERO\n",
    "## FE_AGE ESTA UTILIZANDO A MEDIANA NO CASO DAS IDADES NULAS \n",
    "##Class 1\n",
    "df['FE_Age'] = np.where((df['FE_Age']==0)&(df['Sex']==\"female\")&(df['Pclass']==1), 35, df['FE_Age'])\n",
    "df['FE_Age'] = np.where((df['FE_Age']==0)&(df['Sex']==\"male\")&(df['Pclass']==1), 40 , df['FE_Age'])\n",
    "\n",
    "##Class 2\n",
    "df['FE_Age'] = np.where((df['FE_Age']==0)&(df['Sex']==\"female\")&(df['Pclass']==2),28 , df['FE_Age'])\n",
    "df['FE_Age'] = np.where((df['FE_Age']==0)&(df['Sex']==\"male\")&(df['Pclass']==2),30 , df['FE_Age'])\n",
    "\n",
    "##Class 3\n",
    "df['FE_Age'] = np.where((df['FE_Age']==0)&(df['Sex']==\"female\")&(df['Pclass']==3),21.5 , df['FE_Age'])\n",
    "df['FE_Age'] = np.where((df['FE_Age']==0)&(df['Sex']==\"male\")&(df['Pclass']==3),25 , df['FE_Age'])\n",
    "\n",
    "## Cria agrupamento se o individui é adulto\n",
    "df['FE_IsAdulto'] = np.where(df['Age'] > 18, 1,0)\n"
   ]
  },
  {
   "cell_type": "code",
   "execution_count": 13,
   "metadata": {},
   "outputs": [
    {
     "data": {
      "text/plain": "count    889.000000\nmean      29.065433\nstd       13.270162\nmin        0.420000\n25%       21.500000\n50%       26.000000\n75%       36.000000\nmax       80.000000\nName: FE_Age, dtype: float64"
     },
     "execution_count": 13,
     "metadata": {},
     "output_type": "execute_result"
    }
   ],
   "source": [
    "df['FE_Age'].describe()"
   ]
  },
  {
   "cell_type": "code",
   "execution_count": 14,
   "metadata": {},
   "outputs": [],
   "source": [
    "##Group_Age 1\n",
    "df.loc [df['FE_Age'] <= 20 ,'FE_GroupAge'] =0\n",
    "##Group_Age 2\n",
    "df.loc [(df['FE_Age'] > 20) & (df['FE_Age'] <=28) , 'FE_GroupAge']=1\n",
    "##Group_Age 3\n",
    "df.loc [(df['FE_Age'] > 28) & (df['FE_Age'] <=38) , 'FE_GroupAge']=2\n",
    "##Group_Age 4\n",
    "df.loc [df['FE_Age'] > 38 ,'FE_GroupAge'] =3\n"
   ]
  },
  {
   "cell_type": "code",
   "execution_count": 15,
   "metadata": {},
   "outputs": [
    {
     "data": {
      "text/plain": "1.0    321\n3.0    197\n2.0    192\n0.0    179\nName: FE_GroupAge, dtype: int64"
     },
     "execution_count": 15,
     "metadata": {},
     "output_type": "execute_result"
    }
   ],
   "source": [
    "df['FE_GroupAge'].value_counts()"
   ]
  },
  {
   "cell_type": "code",
   "execution_count": 16,
   "metadata": {},
   "outputs": [
    {
     "data": {
      "application/vnd.plotly.v1+json": {
       "config": {
        "plotlyServerURL": "https://plot.ly"
       },
       "data": [
        {
         "alignmentgroup": "True",
         "bingroup": "x",
         "hoverlabel": {
          "namelength": 0
         },
         "hovertemplate": "FE_GroupAge=%{x}<br>Survived=0<br>count=%{y}",
         "legendgroup": "FE_GroupAge=1.0",
         "marker": {
          "color": "#636efa"
         },
         "name": "FE_GroupAge=1.0",
         "offsetgroup": "FE_GroupAge=1.0",
         "orientation": "v",
         "showlegend": true,
         "type": "histogram",
         "x": [
          1,
          1,
          1,
          1,
          1,
          1,
          1,
          1,
          1,
          1,
          1,
          1,
          1,
          1,
          1,
          1,
          1,
          1,
          1,
          1,
          1,
          1,
          1,
          1,
          1,
          1,
          1,
          1,
          1,
          1,
          1,
          1,
          1,
          1,
          1,
          1,
          1,
          1,
          1,
          1,
          1,
          1,
          1,
          1,
          1,
          1,
          1,
          1,
          1,
          1,
          1,
          1,
          1,
          1,
          1,
          1,
          1,
          1,
          1,
          1,
          1,
          1,
          1,
          1,
          1,
          1,
          1,
          1,
          1,
          1,
          1,
          1,
          1,
          1,
          1,
          1,
          1,
          1,
          1,
          1,
          1,
          1,
          1,
          1,
          1,
          1,
          1,
          1,
          1,
          1,
          1,
          1,
          1,
          1,
          1,
          1,
          1,
          1,
          1,
          1,
          1,
          1,
          1,
          1,
          1,
          1,
          1,
          1,
          1,
          1,
          1,
          1,
          1,
          1,
          1,
          1,
          1,
          1,
          1,
          1,
          1,
          1,
          1,
          1,
          1,
          1,
          1,
          1,
          1,
          1,
          1,
          1,
          1,
          1,
          1,
          1,
          1,
          1,
          1,
          1,
          1,
          1,
          1,
          1,
          1,
          1,
          1,
          1,
          1,
          1,
          1,
          1,
          1,
          1,
          1,
          1,
          1,
          1,
          1,
          1,
          1,
          1,
          1,
          1,
          1,
          1,
          1,
          1,
          1,
          1,
          1,
          1,
          1,
          1,
          1,
          1,
          1,
          1,
          1,
          1,
          1,
          1,
          1,
          1,
          1,
          1,
          1,
          1,
          1,
          1,
          1,
          1,
          1,
          1,
          1,
          1,
          1,
          1,
          1,
          1,
          1,
          1,
          1,
          1,
          1,
          1,
          1,
          1,
          1,
          1,
          1,
          1,
          1,
          1,
          1,
          1,
          1,
          1,
          1
         ],
         "xaxis": "x2",
         "yaxis": "y2"
        },
        {
         "alignmentgroup": "True",
         "bingroup": "x",
         "hoverlabel": {
          "namelength": 0
         },
         "hovertemplate": "FE_GroupAge=%{x}<br>Survived=1<br>count=%{y}",
         "legendgroup": "FE_GroupAge=1.0",
         "marker": {
          "color": "#636efa"
         },
         "name": "FE_GroupAge=1.0",
         "offsetgroup": "FE_GroupAge=1.0",
         "orientation": "v",
         "showlegend": false,
         "type": "histogram",
         "x": [
          1,
          1,
          1,
          1,
          1,
          1,
          1,
          1,
          1,
          1,
          1,
          1,
          1,
          1,
          1,
          1,
          1,
          1,
          1,
          1,
          1,
          1,
          1,
          1,
          1,
          1,
          1,
          1,
          1,
          1,
          1,
          1,
          1,
          1,
          1,
          1,
          1,
          1,
          1,
          1,
          1,
          1,
          1,
          1,
          1,
          1,
          1,
          1,
          1,
          1,
          1,
          1,
          1,
          1,
          1,
          1,
          1,
          1,
          1,
          1,
          1,
          1,
          1,
          1,
          1,
          1,
          1,
          1,
          1,
          1,
          1,
          1,
          1,
          1,
          1,
          1,
          1,
          1,
          1,
          1,
          1,
          1,
          1,
          1,
          1,
          1,
          1,
          1,
          1,
          1,
          1,
          1,
          1,
          1,
          1,
          1,
          1,
          1,
          1,
          1,
          1,
          1
         ],
         "xaxis": "x",
         "yaxis": "y"
        },
        {
         "alignmentgroup": "True",
         "bingroup": "x",
         "hoverlabel": {
          "namelength": 0
         },
         "hovertemplate": "FE_GroupAge=%{x}<br>Survived=0<br>count=%{y}",
         "legendgroup": "FE_GroupAge=2.0",
         "marker": {
          "color": "#EF553B"
         },
         "name": "FE_GroupAge=2.0",
         "offsetgroup": "FE_GroupAge=2.0",
         "orientation": "v",
         "showlegend": true,
         "type": "histogram",
         "x": [
          2,
          2,
          2,
          2,
          2,
          2,
          2,
          2,
          2,
          2,
          2,
          2,
          2,
          2,
          2,
          2,
          2,
          2,
          2,
          2,
          2,
          2,
          2,
          2,
          2,
          2,
          2,
          2,
          2,
          2,
          2,
          2,
          2,
          2,
          2,
          2,
          2,
          2,
          2,
          2,
          2,
          2,
          2,
          2,
          2,
          2,
          2,
          2,
          2,
          2,
          2,
          2,
          2,
          2,
          2,
          2,
          2,
          2,
          2,
          2,
          2,
          2,
          2,
          2,
          2,
          2,
          2,
          2,
          2,
          2,
          2,
          2,
          2,
          2,
          2,
          2,
          2,
          2,
          2,
          2,
          2,
          2,
          2,
          2,
          2,
          2,
          2,
          2,
          2,
          2,
          2,
          2,
          2,
          2,
          2,
          2,
          2,
          2,
          2,
          2,
          2,
          2,
          2,
          2,
          2,
          2
         ],
         "xaxis": "x2",
         "yaxis": "y2"
        },
        {
         "alignmentgroup": "True",
         "bingroup": "x",
         "hoverlabel": {
          "namelength": 0
         },
         "hovertemplate": "FE_GroupAge=%{x}<br>Survived=1<br>count=%{y}",
         "legendgroup": "FE_GroupAge=2.0",
         "marker": {
          "color": "#EF553B"
         },
         "name": "FE_GroupAge=2.0",
         "offsetgroup": "FE_GroupAge=2.0",
         "orientation": "v",
         "showlegend": false,
         "type": "histogram",
         "x": [
          2,
          2,
          2,
          2,
          2,
          2,
          2,
          2,
          2,
          2,
          2,
          2,
          2,
          2,
          2,
          2,
          2,
          2,
          2,
          2,
          2,
          2,
          2,
          2,
          2,
          2,
          2,
          2,
          2,
          2,
          2,
          2,
          2,
          2,
          2,
          2,
          2,
          2,
          2,
          2,
          2,
          2,
          2,
          2,
          2,
          2,
          2,
          2,
          2,
          2,
          2,
          2,
          2,
          2,
          2,
          2,
          2,
          2,
          2,
          2,
          2,
          2,
          2,
          2,
          2,
          2,
          2,
          2,
          2,
          2,
          2,
          2,
          2,
          2,
          2,
          2,
          2,
          2,
          2,
          2,
          2,
          2,
          2,
          2,
          2,
          2
         ],
         "xaxis": "x",
         "yaxis": "y"
        },
        {
         "alignmentgroup": "True",
         "bingroup": "x",
         "hoverlabel": {
          "namelength": 0
         },
         "hovertemplate": "FE_GroupAge=%{x}<br>Survived=0<br>count=%{y}",
         "legendgroup": "FE_GroupAge=3.0",
         "marker": {
          "color": "#00cc96"
         },
         "name": "FE_GroupAge=3.0",
         "offsetgroup": "FE_GroupAge=3.0",
         "orientation": "v",
         "showlegend": true,
         "type": "histogram",
         "x": [
          3,
          3,
          3,
          3,
          3,
          3,
          3,
          3,
          3,
          3,
          3,
          3,
          3,
          3,
          3,
          3,
          3,
          3,
          3,
          3,
          3,
          3,
          3,
          3,
          3,
          3,
          3,
          3,
          3,
          3,
          3,
          3,
          3,
          3,
          3,
          3,
          3,
          3,
          3,
          3,
          3,
          3,
          3,
          3,
          3,
          3,
          3,
          3,
          3,
          3,
          3,
          3,
          3,
          3,
          3,
          3,
          3,
          3,
          3,
          3,
          3,
          3,
          3,
          3,
          3,
          3,
          3,
          3,
          3,
          3,
          3,
          3,
          3,
          3,
          3,
          3,
          3,
          3,
          3,
          3,
          3,
          3,
          3,
          3,
          3,
          3,
          3,
          3,
          3,
          3,
          3,
          3,
          3,
          3,
          3,
          3,
          3,
          3,
          3,
          3,
          3,
          3,
          3,
          3,
          3,
          3,
          3,
          3,
          3,
          3,
          3,
          3,
          3,
          3,
          3,
          3,
          3,
          3,
          3,
          3,
          3,
          3,
          3,
          3,
          3,
          3,
          3
         ],
         "xaxis": "x2",
         "yaxis": "y2"
        },
        {
         "alignmentgroup": "True",
         "bingroup": "x",
         "hoverlabel": {
          "namelength": 0
         },
         "hovertemplate": "FE_GroupAge=%{x}<br>Survived=1<br>count=%{y}",
         "legendgroup": "FE_GroupAge=3.0",
         "marker": {
          "color": "#00cc96"
         },
         "name": "FE_GroupAge=3.0",
         "offsetgroup": "FE_GroupAge=3.0",
         "orientation": "v",
         "showlegend": false,
         "type": "histogram",
         "x": [
          3,
          3,
          3,
          3,
          3,
          3,
          3,
          3,
          3,
          3,
          3,
          3,
          3,
          3,
          3,
          3,
          3,
          3,
          3,
          3,
          3,
          3,
          3,
          3,
          3,
          3,
          3,
          3,
          3,
          3,
          3,
          3,
          3,
          3,
          3,
          3,
          3,
          3,
          3,
          3,
          3,
          3,
          3,
          3,
          3,
          3,
          3,
          3,
          3,
          3,
          3,
          3,
          3,
          3,
          3,
          3,
          3,
          3,
          3,
          3,
          3,
          3,
          3,
          3,
          3,
          3,
          3,
          3,
          3,
          3
         ],
         "xaxis": "x",
         "yaxis": "y"
        },
        {
         "alignmentgroup": "True",
         "bingroup": "x",
         "hoverlabel": {
          "namelength": 0
         },
         "hovertemplate": "FE_GroupAge=%{x}<br>Survived=0<br>count=%{y}",
         "legendgroup": "FE_GroupAge=0.0",
         "marker": {
          "color": "#ab63fa"
         },
         "name": "FE_GroupAge=0.0",
         "offsetgroup": "FE_GroupAge=0.0",
         "orientation": "v",
         "showlegend": true,
         "type": "histogram",
         "x": [
          0,
          0,
          0,
          0,
          0,
          0,
          0,
          0,
          0,
          0,
          0,
          0,
          0,
          0,
          0,
          0,
          0,
          0,
          0,
          0,
          0,
          0,
          0,
          0,
          0,
          0,
          0,
          0,
          0,
          0,
          0,
          0,
          0,
          0,
          0,
          0,
          0,
          0,
          0,
          0,
          0,
          0,
          0,
          0,
          0,
          0,
          0,
          0,
          0,
          0,
          0,
          0,
          0,
          0,
          0,
          0,
          0,
          0,
          0,
          0,
          0,
          0,
          0,
          0,
          0,
          0,
          0,
          0,
          0,
          0,
          0,
          0,
          0,
          0,
          0,
          0,
          0,
          0,
          0,
          0,
          0,
          0,
          0,
          0,
          0,
          0,
          0,
          0,
          0,
          0,
          0,
          0,
          0,
          0,
          0,
          0,
          0
         ],
         "xaxis": "x2",
         "yaxis": "y2"
        },
        {
         "alignmentgroup": "True",
         "bingroup": "x",
         "hoverlabel": {
          "namelength": 0
         },
         "hovertemplate": "FE_GroupAge=%{x}<br>Survived=1<br>count=%{y}",
         "legendgroup": "FE_GroupAge=0.0",
         "marker": {
          "color": "#ab63fa"
         },
         "name": "FE_GroupAge=0.0",
         "offsetgroup": "FE_GroupAge=0.0",
         "orientation": "v",
         "showlegend": false,
         "type": "histogram",
         "x": [
          0,
          0,
          0,
          0,
          0,
          0,
          0,
          0,
          0,
          0,
          0,
          0,
          0,
          0,
          0,
          0,
          0,
          0,
          0,
          0,
          0,
          0,
          0,
          0,
          0,
          0,
          0,
          0,
          0,
          0,
          0,
          0,
          0,
          0,
          0,
          0,
          0,
          0,
          0,
          0,
          0,
          0,
          0,
          0,
          0,
          0,
          0,
          0,
          0,
          0,
          0,
          0,
          0,
          0,
          0,
          0,
          0,
          0,
          0,
          0,
          0,
          0,
          0,
          0,
          0,
          0,
          0,
          0,
          0,
          0,
          0,
          0,
          0,
          0,
          0,
          0,
          0,
          0,
          0,
          0,
          0,
          0
         ],
         "xaxis": "x",
         "yaxis": "y"
        }
       ],
       "layout": {
        "annotations": [
         {
          "font": {},
          "showarrow": false,
          "text": "Survived=1",
          "textangle": 90,
          "x": 0.98,
          "xanchor": "left",
          "xref": "paper",
          "y": 0.2425,
          "yanchor": "middle",
          "yref": "paper"
         },
         {
          "font": {},
          "showarrow": false,
          "text": "Survived=0",
          "textangle": 90,
          "x": 0.98,
          "xanchor": "left",
          "xref": "paper",
          "y": 0.7575000000000001,
          "yanchor": "middle",
          "yref": "paper"
         }
        ],
        "barmode": "relative",
        "height": 600,
        "legend": {
         "tracegroupgap": 0
        },
        "margin": {
         "t": 60
        },
        "template": {
         "data": {
          "bar": [
           {
            "error_x": {
             "color": "#2a3f5f"
            },
            "error_y": {
             "color": "#2a3f5f"
            },
            "marker": {
             "line": {
              "color": "#E5ECF6",
              "width": 0.5
             }
            },
            "type": "bar"
           }
          ],
          "barpolar": [
           {
            "marker": {
             "line": {
              "color": "#E5ECF6",
              "width": 0.5
             }
            },
            "type": "barpolar"
           }
          ],
          "carpet": [
           {
            "aaxis": {
             "endlinecolor": "#2a3f5f",
             "gridcolor": "white",
             "linecolor": "white",
             "minorgridcolor": "white",
             "startlinecolor": "#2a3f5f"
            },
            "baxis": {
             "endlinecolor": "#2a3f5f",
             "gridcolor": "white",
             "linecolor": "white",
             "minorgridcolor": "white",
             "startlinecolor": "#2a3f5f"
            },
            "type": "carpet"
           }
          ],
          "choropleth": [
           {
            "colorbar": {
             "outlinewidth": 0,
             "ticks": ""
            },
            "type": "choropleth"
           }
          ],
          "contour": [
           {
            "colorbar": {
             "outlinewidth": 0,
             "ticks": ""
            },
            "colorscale": [
             [
              0,
              "#0d0887"
             ],
             [
              0.1111111111111111,
              "#46039f"
             ],
             [
              0.2222222222222222,
              "#7201a8"
             ],
             [
              0.3333333333333333,
              "#9c179e"
             ],
             [
              0.4444444444444444,
              "#bd3786"
             ],
             [
              0.5555555555555556,
              "#d8576b"
             ],
             [
              0.6666666666666666,
              "#ed7953"
             ],
             [
              0.7777777777777778,
              "#fb9f3a"
             ],
             [
              0.8888888888888888,
              "#fdca26"
             ],
             [
              1,
              "#f0f921"
             ]
            ],
            "type": "contour"
           }
          ],
          "contourcarpet": [
           {
            "colorbar": {
             "outlinewidth": 0,
             "ticks": ""
            },
            "type": "contourcarpet"
           }
          ],
          "heatmap": [
           {
            "colorbar": {
             "outlinewidth": 0,
             "ticks": ""
            },
            "colorscale": [
             [
              0,
              "#0d0887"
             ],
             [
              0.1111111111111111,
              "#46039f"
             ],
             [
              0.2222222222222222,
              "#7201a8"
             ],
             [
              0.3333333333333333,
              "#9c179e"
             ],
             [
              0.4444444444444444,
              "#bd3786"
             ],
             [
              0.5555555555555556,
              "#d8576b"
             ],
             [
              0.6666666666666666,
              "#ed7953"
             ],
             [
              0.7777777777777778,
              "#fb9f3a"
             ],
             [
              0.8888888888888888,
              "#fdca26"
             ],
             [
              1,
              "#f0f921"
             ]
            ],
            "type": "heatmap"
           }
          ],
          "heatmapgl": [
           {
            "colorbar": {
             "outlinewidth": 0,
             "ticks": ""
            },
            "colorscale": [
             [
              0,
              "#0d0887"
             ],
             [
              0.1111111111111111,
              "#46039f"
             ],
             [
              0.2222222222222222,
              "#7201a8"
             ],
             [
              0.3333333333333333,
              "#9c179e"
             ],
             [
              0.4444444444444444,
              "#bd3786"
             ],
             [
              0.5555555555555556,
              "#d8576b"
             ],
             [
              0.6666666666666666,
              "#ed7953"
             ],
             [
              0.7777777777777778,
              "#fb9f3a"
             ],
             [
              0.8888888888888888,
              "#fdca26"
             ],
             [
              1,
              "#f0f921"
             ]
            ],
            "type": "heatmapgl"
           }
          ],
          "histogram": [
           {
            "marker": {
             "colorbar": {
              "outlinewidth": 0,
              "ticks": ""
             }
            },
            "type": "histogram"
           }
          ],
          "histogram2d": [
           {
            "colorbar": {
             "outlinewidth": 0,
             "ticks": ""
            },
            "colorscale": [
             [
              0,
              "#0d0887"
             ],
             [
              0.1111111111111111,
              "#46039f"
             ],
             [
              0.2222222222222222,
              "#7201a8"
             ],
             [
              0.3333333333333333,
              "#9c179e"
             ],
             [
              0.4444444444444444,
              "#bd3786"
             ],
             [
              0.5555555555555556,
              "#d8576b"
             ],
             [
              0.6666666666666666,
              "#ed7953"
             ],
             [
              0.7777777777777778,
              "#fb9f3a"
             ],
             [
              0.8888888888888888,
              "#fdca26"
             ],
             [
              1,
              "#f0f921"
             ]
            ],
            "type": "histogram2d"
           }
          ],
          "histogram2dcontour": [
           {
            "colorbar": {
             "outlinewidth": 0,
             "ticks": ""
            },
            "colorscale": [
             [
              0,
              "#0d0887"
             ],
             [
              0.1111111111111111,
              "#46039f"
             ],
             [
              0.2222222222222222,
              "#7201a8"
             ],
             [
              0.3333333333333333,
              "#9c179e"
             ],
             [
              0.4444444444444444,
              "#bd3786"
             ],
             [
              0.5555555555555556,
              "#d8576b"
             ],
             [
              0.6666666666666666,
              "#ed7953"
             ],
             [
              0.7777777777777778,
              "#fb9f3a"
             ],
             [
              0.8888888888888888,
              "#fdca26"
             ],
             [
              1,
              "#f0f921"
             ]
            ],
            "type": "histogram2dcontour"
           }
          ],
          "mesh3d": [
           {
            "colorbar": {
             "outlinewidth": 0,
             "ticks": ""
            },
            "type": "mesh3d"
           }
          ],
          "parcoords": [
           {
            "line": {
             "colorbar": {
              "outlinewidth": 0,
              "ticks": ""
             }
            },
            "type": "parcoords"
           }
          ],
          "scatter": [
           {
            "marker": {
             "colorbar": {
              "outlinewidth": 0,
              "ticks": ""
             }
            },
            "type": "scatter"
           }
          ],
          "scatter3d": [
           {
            "line": {
             "colorbar": {
              "outlinewidth": 0,
              "ticks": ""
             }
            },
            "marker": {
             "colorbar": {
              "outlinewidth": 0,
              "ticks": ""
             }
            },
            "type": "scatter3d"
           }
          ],
          "scattercarpet": [
           {
            "marker": {
             "colorbar": {
              "outlinewidth": 0,
              "ticks": ""
             }
            },
            "type": "scattercarpet"
           }
          ],
          "scattergeo": [
           {
            "marker": {
             "colorbar": {
              "outlinewidth": 0,
              "ticks": ""
             }
            },
            "type": "scattergeo"
           }
          ],
          "scattergl": [
           {
            "marker": {
             "colorbar": {
              "outlinewidth": 0,
              "ticks": ""
             }
            },
            "type": "scattergl"
           }
          ],
          "scattermapbox": [
           {
            "marker": {
             "colorbar": {
              "outlinewidth": 0,
              "ticks": ""
             }
            },
            "type": "scattermapbox"
           }
          ],
          "scatterpolar": [
           {
            "marker": {
             "colorbar": {
              "outlinewidth": 0,
              "ticks": ""
             }
            },
            "type": "scatterpolar"
           }
          ],
          "scatterpolargl": [
           {
            "marker": {
             "colorbar": {
              "outlinewidth": 0,
              "ticks": ""
             }
            },
            "type": "scatterpolargl"
           }
          ],
          "scatterternary": [
           {
            "marker": {
             "colorbar": {
              "outlinewidth": 0,
              "ticks": ""
             }
            },
            "type": "scatterternary"
           }
          ],
          "surface": [
           {
            "colorbar": {
             "outlinewidth": 0,
             "ticks": ""
            },
            "colorscale": [
             [
              0,
              "#0d0887"
             ],
             [
              0.1111111111111111,
              "#46039f"
             ],
             [
              0.2222222222222222,
              "#7201a8"
             ],
             [
              0.3333333333333333,
              "#9c179e"
             ],
             [
              0.4444444444444444,
              "#bd3786"
             ],
             [
              0.5555555555555556,
              "#d8576b"
             ],
             [
              0.6666666666666666,
              "#ed7953"
             ],
             [
              0.7777777777777778,
              "#fb9f3a"
             ],
             [
              0.8888888888888888,
              "#fdca26"
             ],
             [
              1,
              "#f0f921"
             ]
            ],
            "type": "surface"
           }
          ],
          "table": [
           {
            "cells": {
             "fill": {
              "color": "#EBF0F8"
             },
             "line": {
              "color": "white"
             }
            },
            "header": {
             "fill": {
              "color": "#C8D4E3"
             },
             "line": {
              "color": "white"
             }
            },
            "type": "table"
           }
          ]
         },
         "layout": {
          "annotationdefaults": {
           "arrowcolor": "#2a3f5f",
           "arrowhead": 0,
           "arrowwidth": 1
          },
          "colorscale": {
           "diverging": [
            [
             0,
             "#8e0152"
            ],
            [
             0.1,
             "#c51b7d"
            ],
            [
             0.2,
             "#de77ae"
            ],
            [
             0.3,
             "#f1b6da"
            ],
            [
             0.4,
             "#fde0ef"
            ],
            [
             0.5,
             "#f7f7f7"
            ],
            [
             0.6,
             "#e6f5d0"
            ],
            [
             0.7,
             "#b8e186"
            ],
            [
             0.8,
             "#7fbc41"
            ],
            [
             0.9,
             "#4d9221"
            ],
            [
             1,
             "#276419"
            ]
           ],
           "sequential": [
            [
             0,
             "#0d0887"
            ],
            [
             0.1111111111111111,
             "#46039f"
            ],
            [
             0.2222222222222222,
             "#7201a8"
            ],
            [
             0.3333333333333333,
             "#9c179e"
            ],
            [
             0.4444444444444444,
             "#bd3786"
            ],
            [
             0.5555555555555556,
             "#d8576b"
            ],
            [
             0.6666666666666666,
             "#ed7953"
            ],
            [
             0.7777777777777778,
             "#fb9f3a"
            ],
            [
             0.8888888888888888,
             "#fdca26"
            ],
            [
             1,
             "#f0f921"
            ]
           ],
           "sequentialminus": [
            [
             0,
             "#0d0887"
            ],
            [
             0.1111111111111111,
             "#46039f"
            ],
            [
             0.2222222222222222,
             "#7201a8"
            ],
            [
             0.3333333333333333,
             "#9c179e"
            ],
            [
             0.4444444444444444,
             "#bd3786"
            ],
            [
             0.5555555555555556,
             "#d8576b"
            ],
            [
             0.6666666666666666,
             "#ed7953"
            ],
            [
             0.7777777777777778,
             "#fb9f3a"
            ],
            [
             0.8888888888888888,
             "#fdca26"
            ],
            [
             1,
             "#f0f921"
            ]
           ]
          },
          "colorway": [
           "#636efa",
           "#EF553B",
           "#00cc96",
           "#ab63fa",
           "#FFA15A",
           "#19d3f3",
           "#FF6692",
           "#B6E880",
           "#FF97FF",
           "#FECB52"
          ],
          "font": {
           "color": "#2a3f5f"
          },
          "geo": {
           "bgcolor": "white",
           "lakecolor": "white",
           "landcolor": "#E5ECF6",
           "showlakes": true,
           "showland": true,
           "subunitcolor": "white"
          },
          "hoverlabel": {
           "align": "left"
          },
          "hovermode": "closest",
          "mapbox": {
           "style": "light"
          },
          "paper_bgcolor": "white",
          "plot_bgcolor": "#E5ECF6",
          "polar": {
           "angularaxis": {
            "gridcolor": "white",
            "linecolor": "white",
            "ticks": ""
           },
           "bgcolor": "#E5ECF6",
           "radialaxis": {
            "gridcolor": "white",
            "linecolor": "white",
            "ticks": ""
           }
          },
          "scene": {
           "xaxis": {
            "backgroundcolor": "#E5ECF6",
            "gridcolor": "white",
            "gridwidth": 2,
            "linecolor": "white",
            "showbackground": true,
            "ticks": "",
            "zerolinecolor": "white"
           },
           "yaxis": {
            "backgroundcolor": "#E5ECF6",
            "gridcolor": "white",
            "gridwidth": 2,
            "linecolor": "white",
            "showbackground": true,
            "ticks": "",
            "zerolinecolor": "white"
           },
           "zaxis": {
            "backgroundcolor": "#E5ECF6",
            "gridcolor": "white",
            "gridwidth": 2,
            "linecolor": "white",
            "showbackground": true,
            "ticks": "",
            "zerolinecolor": "white"
           }
          },
          "shapedefaults": {
           "line": {
            "color": "#2a3f5f"
           }
          },
          "ternary": {
           "aaxis": {
            "gridcolor": "white",
            "linecolor": "white",
            "ticks": ""
           },
           "baxis": {
            "gridcolor": "white",
            "linecolor": "white",
            "ticks": ""
           },
           "bgcolor": "#E5ECF6",
           "caxis": {
            "gridcolor": "white",
            "linecolor": "white",
            "ticks": ""
           }
          },
          "title": {
           "x": 0.05
          },
          "xaxis": {
           "automargin": true,
           "gridcolor": "white",
           "linecolor": "white",
           "ticks": "",
           "zerolinecolor": "white",
           "zerolinewidth": 2
          },
          "yaxis": {
           "automargin": true,
           "gridcolor": "white",
           "linecolor": "white",
           "ticks": "",
           "zerolinecolor": "white",
           "zerolinewidth": 2
          }
         }
        },
        "xaxis": {
         "anchor": "y",
         "categoryarray": [
          1,
          2,
          3,
          0
         ],
         "categoryorder": "array",
         "domain": [
          0,
          0.98
         ],
         "title": {
          "text": "FE_GroupAge"
         }
        },
        "xaxis2": {
         "anchor": "y2",
         "domain": [
          0,
          0.98
         ],
         "matches": "x",
         "showticklabels": false
        },
        "yaxis": {
         "anchor": "x",
         "domain": [
          0,
          0.485
         ],
         "title": {
          "text": "count"
         }
        },
        "yaxis2": {
         "anchor": "x2",
         "domain": [
          0.515,
          1
         ],
         "matches": "y",
         "title": {
          "text": "count"
         }
        }
       }
      }
     },
     "metadata": {},
     "output_type": "display_data"
    }
   ],
   "source": [
    "fig = px.histogram(df, x = \"FE_GroupAge\",color=\"FE_GroupAge\", facet_row = \"Survived\")\n",
    "fig.show()"
   ]
  },
  {
   "cell_type": "markdown",
   "metadata": {
    "colab_type": "text",
    "id": "3hDgJXQYLi9B"
   },
   "source": [
    "# Explorando a variavel Fare \n",
    "\n",
    "*   Determinar o valor para Fare **ZERADO**\n",
    "*   Separacao em agrupamementos tomando como base do discribe da variavel\n",
    "    * menor a 25%; (1)\n",
    "    * entre 25% e 50% (2) \n",
    "    * maior a 75%. (3)\n",
    "\n",
    "\n",
    "**GAP: gerar uma regresao linear para determinar os precos das passagens ao inves da media e verificar se melhora nosso algoritimo**"
   ]
  },
  {
   "cell_type": "code",
   "execution_count": 17,
   "metadata": {},
   "outputs": [
    {
     "data": {
      "text/plain": "count    889.000000\nmean      32.096681\nstd       49.697504\nmin        0.000000\n25%        7.895800\n50%       14.454200\n75%       31.000000\nmax      512.329200\nName: Fare, dtype: float64"
     },
     "execution_count": 17,
     "metadata": {},
     "output_type": "execute_result"
    }
   ],
   "source": [
    "df['Fare'].describe()"
   ]
  },
  {
   "cell_type": "code",
   "execution_count": 18,
   "metadata": {},
   "outputs": [
    {
     "data": {
      "text/html": "<div>\n<style scoped>\n    .dataframe tbody tr th:only-of-type {\n        vertical-align: middle;\n    }\n\n    .dataframe tbody tr th {\n        vertical-align: top;\n    }\n\n    .dataframe thead th {\n        text-align: right;\n    }\n</style>\n<table border=\"1\" class=\"dataframe\">\n  <thead>\n    <tr style=\"text-align: right;\">\n      <th></th>\n      <th>PassengerId</th>\n      <th>Survived</th>\n      <th>Pclass</th>\n      <th>Age</th>\n      <th>SibSp</th>\n      <th>Parch</th>\n      <th>Fare</th>\n      <th>FE_Age</th>\n      <th>FE_IsAdulto</th>\n      <th>FE_GroupAge</th>\n    </tr>\n  </thead>\n  <tbody>\n    <tr>\n      <th>count</th>\n      <td>15.000000</td>\n      <td>15.000000</td>\n      <td>15.000000</td>\n      <td>7.000000</td>\n      <td>15.0</td>\n      <td>15.0</td>\n      <td>15.0</td>\n      <td>15.000000</td>\n      <td>15.000000</td>\n      <td>15.000000</td>\n    </tr>\n    <tr>\n      <th>mean</th>\n      <td>516.400000</td>\n      <td>0.066667</td>\n      <td>1.933333</td>\n      <td>35.142857</td>\n      <td>0.0</td>\n      <td>0.0</td>\n      <td>0.0</td>\n      <td>33.733333</td>\n      <td>0.466667</td>\n      <td>2.133333</td>\n    </tr>\n    <tr>\n      <th>std</th>\n      <td>225.808958</td>\n      <td>0.258199</td>\n      <td>0.798809</td>\n      <td>10.023781</td>\n      <td>0.0</td>\n      <td>0.0</td>\n      <td>0.0</td>\n      <td>7.459095</td>\n      <td>0.516398</td>\n      <td>0.833809</td>\n    </tr>\n    <tr>\n      <th>min</th>\n      <td>180.000000</td>\n      <td>0.000000</td>\n      <td>1.000000</td>\n      <td>19.000000</td>\n      <td>0.0</td>\n      <td>0.0</td>\n      <td>0.0</td>\n      <td>19.000000</td>\n      <td>0.000000</td>\n      <td>0.000000</td>\n    </tr>\n    <tr>\n      <th>25%</th>\n      <td>290.500000</td>\n      <td>0.000000</td>\n      <td>1.000000</td>\n      <td>30.500000</td>\n      <td>0.0</td>\n      <td>0.0</td>\n      <td>0.0</td>\n      <td>30.000000</td>\n      <td>0.000000</td>\n      <td>2.000000</td>\n    </tr>\n    <tr>\n      <th>50%</th>\n      <td>482.000000</td>\n      <td>0.000000</td>\n      <td>2.000000</td>\n      <td>38.000000</td>\n      <td>0.0</td>\n      <td>0.0</td>\n      <td>0.0</td>\n      <td>30.000000</td>\n      <td>0.000000</td>\n      <td>2.000000</td>\n    </tr>\n    <tr>\n      <th>75%</th>\n      <td>704.000000</td>\n      <td>0.000000</td>\n      <td>2.500000</td>\n      <td>39.500000</td>\n      <td>0.0</td>\n      <td>0.0</td>\n      <td>0.0</td>\n      <td>39.500000</td>\n      <td>1.000000</td>\n      <td>3.000000</td>\n    </tr>\n    <tr>\n      <th>max</th>\n      <td>823.000000</td>\n      <td>1.000000</td>\n      <td>3.000000</td>\n      <td>49.000000</td>\n      <td>0.0</td>\n      <td>0.0</td>\n      <td>0.0</td>\n      <td>49.000000</td>\n      <td>1.000000</td>\n      <td>3.000000</td>\n    </tr>\n  </tbody>\n</table>\n</div>",
      "text/plain": "       PassengerId   Survived     Pclass        Age  SibSp  Parch  Fare  \\\ncount    15.000000  15.000000  15.000000   7.000000   15.0   15.0  15.0   \nmean    516.400000   0.066667   1.933333  35.142857    0.0    0.0   0.0   \nstd     225.808958   0.258199   0.798809  10.023781    0.0    0.0   0.0   \nmin     180.000000   0.000000   1.000000  19.000000    0.0    0.0   0.0   \n25%     290.500000   0.000000   1.000000  30.500000    0.0    0.0   0.0   \n50%     482.000000   0.000000   2.000000  38.000000    0.0    0.0   0.0   \n75%     704.000000   0.000000   2.500000  39.500000    0.0    0.0   0.0   \nmax     823.000000   1.000000   3.000000  49.000000    0.0    0.0   0.0   \n\n          FE_Age  FE_IsAdulto  FE_GroupAge  \ncount  15.000000    15.000000    15.000000  \nmean   33.733333     0.466667     2.133333  \nstd     7.459095     0.516398     0.833809  \nmin    19.000000     0.000000     0.000000  \n25%    30.000000     0.000000     2.000000  \n50%    30.000000     0.000000     2.000000  \n75%    39.500000     1.000000     3.000000  \nmax    49.000000     1.000000     3.000000  "
     },
     "execution_count": 18,
     "metadata": {},
     "output_type": "execute_result"
    }
   ],
   "source": [
    "df.loc[df['Fare']==0].describe()"
   ]
  },
  {
   "cell_type": "code",
   "execution_count": 19,
   "metadata": {},
   "outputs": [
    {
     "data": {
      "application/vnd.plotly.v1+json": {
       "config": {
        "plotlyServerURL": "https://plot.ly"
       },
       "data": [
        {
         "alignmentgroup": "True",
         "bingroup": "x",
         "hoverlabel": {
          "namelength": 0
         },
         "hovertemplate": "Pclass=3<br>Sex=%{x}<br>count=%{y}",
         "legendgroup": "",
         "marker": {
          "color": "#636efa"
         },
         "name": "",
         "offsetgroup": "",
         "orientation": "v",
         "showlegend": false,
         "type": "histogram",
         "x": [
          "male",
          "male",
          "male",
          "male"
         ],
         "xaxis": "x",
         "yaxis": "y"
        },
        {
         "alignmentgroup": "True",
         "bingroup": "x",
         "hoverlabel": {
          "namelength": 0
         },
         "hovertemplate": "Pclass=1<br>Sex=%{x}<br>count=%{y}",
         "legendgroup": "",
         "marker": {
          "color": "#636efa"
         },
         "name": "",
         "offsetgroup": "",
         "orientation": "v",
         "showlegend": false,
         "type": "histogram",
         "x": [
          "male",
          "male",
          "male",
          "male",
          "male"
         ],
         "xaxis": "x2",
         "yaxis": "y2"
        },
        {
         "alignmentgroup": "True",
         "bingroup": "x",
         "hoverlabel": {
          "namelength": 0
         },
         "hovertemplate": "Pclass=2<br>Sex=%{x}<br>count=%{y}",
         "legendgroup": "",
         "marker": {
          "color": "#636efa"
         },
         "name": "",
         "offsetgroup": "",
         "orientation": "v",
         "showlegend": false,
         "type": "histogram",
         "x": [
          "male",
          "male",
          "male",
          "male",
          "male",
          "male"
         ],
         "xaxis": "x3",
         "yaxis": "y3"
        }
       ],
       "layout": {
        "annotations": [
         {
          "font": {},
          "showarrow": false,
          "text": "Pclass=3",
          "x": 0.15666666666666665,
          "xanchor": "center",
          "xref": "paper",
          "y": 1,
          "yanchor": "bottom",
          "yref": "paper"
         },
         {
          "font": {},
          "showarrow": false,
          "text": "Pclass=1",
          "x": 0.49,
          "xanchor": "center",
          "xref": "paper",
          "y": 1,
          "yanchor": "bottom",
          "yref": "paper"
         },
         {
          "font": {},
          "showarrow": false,
          "text": "Pclass=2",
          "x": 0.8233333333333333,
          "xanchor": "center",
          "xref": "paper",
          "y": 1,
          "yanchor": "bottom",
          "yref": "paper"
         }
        ],
        "barmode": "relative",
        "height": 600,
        "legend": {
         "tracegroupgap": 0
        },
        "template": {
         "data": {
          "bar": [
           {
            "error_x": {
             "color": "#2a3f5f"
            },
            "error_y": {
             "color": "#2a3f5f"
            },
            "marker": {
             "line": {
              "color": "#E5ECF6",
              "width": 0.5
             }
            },
            "type": "bar"
           }
          ],
          "barpolar": [
           {
            "marker": {
             "line": {
              "color": "#E5ECF6",
              "width": 0.5
             }
            },
            "type": "barpolar"
           }
          ],
          "carpet": [
           {
            "aaxis": {
             "endlinecolor": "#2a3f5f",
             "gridcolor": "white",
             "linecolor": "white",
             "minorgridcolor": "white",
             "startlinecolor": "#2a3f5f"
            },
            "baxis": {
             "endlinecolor": "#2a3f5f",
             "gridcolor": "white",
             "linecolor": "white",
             "minorgridcolor": "white",
             "startlinecolor": "#2a3f5f"
            },
            "type": "carpet"
           }
          ],
          "choropleth": [
           {
            "colorbar": {
             "outlinewidth": 0,
             "ticks": ""
            },
            "type": "choropleth"
           }
          ],
          "contour": [
           {
            "colorbar": {
             "outlinewidth": 0,
             "ticks": ""
            },
            "colorscale": [
             [
              0,
              "#0d0887"
             ],
             [
              0.1111111111111111,
              "#46039f"
             ],
             [
              0.2222222222222222,
              "#7201a8"
             ],
             [
              0.3333333333333333,
              "#9c179e"
             ],
             [
              0.4444444444444444,
              "#bd3786"
             ],
             [
              0.5555555555555556,
              "#d8576b"
             ],
             [
              0.6666666666666666,
              "#ed7953"
             ],
             [
              0.7777777777777778,
              "#fb9f3a"
             ],
             [
              0.8888888888888888,
              "#fdca26"
             ],
             [
              1,
              "#f0f921"
             ]
            ],
            "type": "contour"
           }
          ],
          "contourcarpet": [
           {
            "colorbar": {
             "outlinewidth": 0,
             "ticks": ""
            },
            "type": "contourcarpet"
           }
          ],
          "heatmap": [
           {
            "colorbar": {
             "outlinewidth": 0,
             "ticks": ""
            },
            "colorscale": [
             [
              0,
              "#0d0887"
             ],
             [
              0.1111111111111111,
              "#46039f"
             ],
             [
              0.2222222222222222,
              "#7201a8"
             ],
             [
              0.3333333333333333,
              "#9c179e"
             ],
             [
              0.4444444444444444,
              "#bd3786"
             ],
             [
              0.5555555555555556,
              "#d8576b"
             ],
             [
              0.6666666666666666,
              "#ed7953"
             ],
             [
              0.7777777777777778,
              "#fb9f3a"
             ],
             [
              0.8888888888888888,
              "#fdca26"
             ],
             [
              1,
              "#f0f921"
             ]
            ],
            "type": "heatmap"
           }
          ],
          "heatmapgl": [
           {
            "colorbar": {
             "outlinewidth": 0,
             "ticks": ""
            },
            "colorscale": [
             [
              0,
              "#0d0887"
             ],
             [
              0.1111111111111111,
              "#46039f"
             ],
             [
              0.2222222222222222,
              "#7201a8"
             ],
             [
              0.3333333333333333,
              "#9c179e"
             ],
             [
              0.4444444444444444,
              "#bd3786"
             ],
             [
              0.5555555555555556,
              "#d8576b"
             ],
             [
              0.6666666666666666,
              "#ed7953"
             ],
             [
              0.7777777777777778,
              "#fb9f3a"
             ],
             [
              0.8888888888888888,
              "#fdca26"
             ],
             [
              1,
              "#f0f921"
             ]
            ],
            "type": "heatmapgl"
           }
          ],
          "histogram": [
           {
            "marker": {
             "colorbar": {
              "outlinewidth": 0,
              "ticks": ""
             }
            },
            "type": "histogram"
           }
          ],
          "histogram2d": [
           {
            "colorbar": {
             "outlinewidth": 0,
             "ticks": ""
            },
            "colorscale": [
             [
              0,
              "#0d0887"
             ],
             [
              0.1111111111111111,
              "#46039f"
             ],
             [
              0.2222222222222222,
              "#7201a8"
             ],
             [
              0.3333333333333333,
              "#9c179e"
             ],
             [
              0.4444444444444444,
              "#bd3786"
             ],
             [
              0.5555555555555556,
              "#d8576b"
             ],
             [
              0.6666666666666666,
              "#ed7953"
             ],
             [
              0.7777777777777778,
              "#fb9f3a"
             ],
             [
              0.8888888888888888,
              "#fdca26"
             ],
             [
              1,
              "#f0f921"
             ]
            ],
            "type": "histogram2d"
           }
          ],
          "histogram2dcontour": [
           {
            "colorbar": {
             "outlinewidth": 0,
             "ticks": ""
            },
            "colorscale": [
             [
              0,
              "#0d0887"
             ],
             [
              0.1111111111111111,
              "#46039f"
             ],
             [
              0.2222222222222222,
              "#7201a8"
             ],
             [
              0.3333333333333333,
              "#9c179e"
             ],
             [
              0.4444444444444444,
              "#bd3786"
             ],
             [
              0.5555555555555556,
              "#d8576b"
             ],
             [
              0.6666666666666666,
              "#ed7953"
             ],
             [
              0.7777777777777778,
              "#fb9f3a"
             ],
             [
              0.8888888888888888,
              "#fdca26"
             ],
             [
              1,
              "#f0f921"
             ]
            ],
            "type": "histogram2dcontour"
           }
          ],
          "mesh3d": [
           {
            "colorbar": {
             "outlinewidth": 0,
             "ticks": ""
            },
            "type": "mesh3d"
           }
          ],
          "parcoords": [
           {
            "line": {
             "colorbar": {
              "outlinewidth": 0,
              "ticks": ""
             }
            },
            "type": "parcoords"
           }
          ],
          "scatter": [
           {
            "marker": {
             "colorbar": {
              "outlinewidth": 0,
              "ticks": ""
             }
            },
            "type": "scatter"
           }
          ],
          "scatter3d": [
           {
            "line": {
             "colorbar": {
              "outlinewidth": 0,
              "ticks": ""
             }
            },
            "marker": {
             "colorbar": {
              "outlinewidth": 0,
              "ticks": ""
             }
            },
            "type": "scatter3d"
           }
          ],
          "scattercarpet": [
           {
            "marker": {
             "colorbar": {
              "outlinewidth": 0,
              "ticks": ""
             }
            },
            "type": "scattercarpet"
           }
          ],
          "scattergeo": [
           {
            "marker": {
             "colorbar": {
              "outlinewidth": 0,
              "ticks": ""
             }
            },
            "type": "scattergeo"
           }
          ],
          "scattergl": [
           {
            "marker": {
             "colorbar": {
              "outlinewidth": 0,
              "ticks": ""
             }
            },
            "type": "scattergl"
           }
          ],
          "scattermapbox": [
           {
            "marker": {
             "colorbar": {
              "outlinewidth": 0,
              "ticks": ""
             }
            },
            "type": "scattermapbox"
           }
          ],
          "scatterpolar": [
           {
            "marker": {
             "colorbar": {
              "outlinewidth": 0,
              "ticks": ""
             }
            },
            "type": "scatterpolar"
           }
          ],
          "scatterpolargl": [
           {
            "marker": {
             "colorbar": {
              "outlinewidth": 0,
              "ticks": ""
             }
            },
            "type": "scatterpolargl"
           }
          ],
          "scatterternary": [
           {
            "marker": {
             "colorbar": {
              "outlinewidth": 0,
              "ticks": ""
             }
            },
            "type": "scatterternary"
           }
          ],
          "surface": [
           {
            "colorbar": {
             "outlinewidth": 0,
             "ticks": ""
            },
            "colorscale": [
             [
              0,
              "#0d0887"
             ],
             [
              0.1111111111111111,
              "#46039f"
             ],
             [
              0.2222222222222222,
              "#7201a8"
             ],
             [
              0.3333333333333333,
              "#9c179e"
             ],
             [
              0.4444444444444444,
              "#bd3786"
             ],
             [
              0.5555555555555556,
              "#d8576b"
             ],
             [
              0.6666666666666666,
              "#ed7953"
             ],
             [
              0.7777777777777778,
              "#fb9f3a"
             ],
             [
              0.8888888888888888,
              "#fdca26"
             ],
             [
              1,
              "#f0f921"
             ]
            ],
            "type": "surface"
           }
          ],
          "table": [
           {
            "cells": {
             "fill": {
              "color": "#EBF0F8"
             },
             "line": {
              "color": "white"
             }
            },
            "header": {
             "fill": {
              "color": "#C8D4E3"
             },
             "line": {
              "color": "white"
             }
            },
            "type": "table"
           }
          ]
         },
         "layout": {
          "annotationdefaults": {
           "arrowcolor": "#2a3f5f",
           "arrowhead": 0,
           "arrowwidth": 1
          },
          "colorscale": {
           "diverging": [
            [
             0,
             "#8e0152"
            ],
            [
             0.1,
             "#c51b7d"
            ],
            [
             0.2,
             "#de77ae"
            ],
            [
             0.3,
             "#f1b6da"
            ],
            [
             0.4,
             "#fde0ef"
            ],
            [
             0.5,
             "#f7f7f7"
            ],
            [
             0.6,
             "#e6f5d0"
            ],
            [
             0.7,
             "#b8e186"
            ],
            [
             0.8,
             "#7fbc41"
            ],
            [
             0.9,
             "#4d9221"
            ],
            [
             1,
             "#276419"
            ]
           ],
           "sequential": [
            [
             0,
             "#0d0887"
            ],
            [
             0.1111111111111111,
             "#46039f"
            ],
            [
             0.2222222222222222,
             "#7201a8"
            ],
            [
             0.3333333333333333,
             "#9c179e"
            ],
            [
             0.4444444444444444,
             "#bd3786"
            ],
            [
             0.5555555555555556,
             "#d8576b"
            ],
            [
             0.6666666666666666,
             "#ed7953"
            ],
            [
             0.7777777777777778,
             "#fb9f3a"
            ],
            [
             0.8888888888888888,
             "#fdca26"
            ],
            [
             1,
             "#f0f921"
            ]
           ],
           "sequentialminus": [
            [
             0,
             "#0d0887"
            ],
            [
             0.1111111111111111,
             "#46039f"
            ],
            [
             0.2222222222222222,
             "#7201a8"
            ],
            [
             0.3333333333333333,
             "#9c179e"
            ],
            [
             0.4444444444444444,
             "#bd3786"
            ],
            [
             0.5555555555555556,
             "#d8576b"
            ],
            [
             0.6666666666666666,
             "#ed7953"
            ],
            [
             0.7777777777777778,
             "#fb9f3a"
            ],
            [
             0.8888888888888888,
             "#fdca26"
            ],
            [
             1,
             "#f0f921"
            ]
           ]
          },
          "colorway": [
           "#636efa",
           "#EF553B",
           "#00cc96",
           "#ab63fa",
           "#FFA15A",
           "#19d3f3",
           "#FF6692",
           "#B6E880",
           "#FF97FF",
           "#FECB52"
          ],
          "font": {
           "color": "#2a3f5f"
          },
          "geo": {
           "bgcolor": "white",
           "lakecolor": "white",
           "landcolor": "#E5ECF6",
           "showlakes": true,
           "showland": true,
           "subunitcolor": "white"
          },
          "hoverlabel": {
           "align": "left"
          },
          "hovermode": "closest",
          "mapbox": {
           "style": "light"
          },
          "paper_bgcolor": "white",
          "plot_bgcolor": "#E5ECF6",
          "polar": {
           "angularaxis": {
            "gridcolor": "white",
            "linecolor": "white",
            "ticks": ""
           },
           "bgcolor": "#E5ECF6",
           "radialaxis": {
            "gridcolor": "white",
            "linecolor": "white",
            "ticks": ""
           }
          },
          "scene": {
           "xaxis": {
            "backgroundcolor": "#E5ECF6",
            "gridcolor": "white",
            "gridwidth": 2,
            "linecolor": "white",
            "showbackground": true,
            "ticks": "",
            "zerolinecolor": "white"
           },
           "yaxis": {
            "backgroundcolor": "#E5ECF6",
            "gridcolor": "white",
            "gridwidth": 2,
            "linecolor": "white",
            "showbackground": true,
            "ticks": "",
            "zerolinecolor": "white"
           },
           "zaxis": {
            "backgroundcolor": "#E5ECF6",
            "gridcolor": "white",
            "gridwidth": 2,
            "linecolor": "white",
            "showbackground": true,
            "ticks": "",
            "zerolinecolor": "white"
           }
          },
          "shapedefaults": {
           "line": {
            "color": "#2a3f5f"
           }
          },
          "ternary": {
           "aaxis": {
            "gridcolor": "white",
            "linecolor": "white",
            "ticks": ""
           },
           "baxis": {
            "gridcolor": "white",
            "linecolor": "white",
            "ticks": ""
           },
           "bgcolor": "#E5ECF6",
           "caxis": {
            "gridcolor": "white",
            "linecolor": "white",
            "ticks": ""
           }
          },
          "title": {
           "x": 0.05
          },
          "xaxis": {
           "automargin": true,
           "gridcolor": "white",
           "linecolor": "white",
           "ticks": "",
           "zerolinecolor": "white",
           "zerolinewidth": 2
          },
          "yaxis": {
           "automargin": true,
           "gridcolor": "white",
           "linecolor": "white",
           "ticks": "",
           "zerolinecolor": "white",
           "zerolinewidth": 2
          }
         }
        },
        "title": {
         "text": "Sobreviventes Nao pagantes por Classe"
        },
        "xaxis": {
         "anchor": "y",
         "domain": [
          0,
          0.3133333333333333
         ],
         "title": {
          "text": "Sex"
         }
        },
        "xaxis2": {
         "anchor": "y2",
         "domain": [
          0.3333333333333333,
          0.6466666666666666
         ],
         "matches": "x",
         "title": {
          "text": "Sex"
         }
        },
        "xaxis3": {
         "anchor": "y3",
         "domain": [
          0.6666666666666666,
          0.98
         ],
         "matches": "x",
         "title": {
          "text": "Sex"
         }
        },
        "yaxis": {
         "anchor": "x",
         "domain": [
          0,
          1
         ],
         "title": {
          "text": "count"
         }
        },
        "yaxis2": {
         "anchor": "x2",
         "domain": [
          0,
          1
         ],
         "matches": "y",
         "showticklabels": false
        },
        "yaxis3": {
         "anchor": "x3",
         "domain": [
          0,
          1
         ],
         "matches": "y",
         "showticklabels": false
        }
       }
      }
     },
     "metadata": {},
     "output_type": "display_data"
    }
   ],
   "source": [
    "fig = px.histogram(df.loc[df['Fare']==0],  x=\"Sex\", facet_col=\"Pclass\",title=\"Sobreviventes Nao pagantes por Classe\")\n",
    "fig.show()"
   ]
  },
  {
   "cell_type": "code",
   "execution_count": 20,
   "metadata": {},
   "outputs": [
    {
     "data": {
      "application/vnd.plotly.v1+json": {
       "config": {
        "plotlyServerURL": "https://plot.ly"
       },
       "data": [
        {
         "alignmentgroup": "True",
         "hoverlabel": {
          "namelength": 0
         },
         "hovertemplate": "Pclass=1<br>Fare=%{y}",
         "legendgroup": "",
         "marker": {
          "color": "#636efa"
         },
         "name": "",
         "notched": false,
         "offsetgroup": "",
         "orientation": "v",
         "showlegend": false,
         "type": "box",
         "x0": " ",
         "xaxis": "x",
         "y": [
          26,
          33.5,
          30.6958,
          113.275,
          28.7125,
          120,
          52,
          50,
          26.55,
          52,
          52,
          227.525,
          211.5,
          211.3375,
          27.7208,
          39.6,
          77.9583,
          82.1708,
          135.6333,
          120,
          512.3292,
          55.4417,
          69.3,
          86.5,
          76.7292,
          75.25,
          31,
          146.5208,
          55,
          25.925,
          55,
          77.2875,
          26.55,
          81.8583,
          30,
          120,
          263,
          26.2833,
          53.1,
          120,
          79.2,
          55.9,
          25.9292,
          25.5875,
          69.3,
          27.7208,
          30.6958,
          76.7292,
          35.5,
          66.6,
          61.3792,
          79.2,
          90,
          113.275,
          133.65,
          30,
          57,
          26.55,
          30.5,
          211.3375,
          113.275,
          512.3292,
          211.3375,
          79.65,
          26.2875,
          262.375,
          153.4625,
          135.6333,
          31,
          83.1583,
          29.7,
          56.9292,
          77.9583,
          86.5,
          53.1,
          110.8833,
          151.55,
          151.55,
          51.4792,
          49.5042,
          227.525,
          247.5208,
          30.5,
          151.55,
          78.85,
          91.0792,
          26.55,
          108.9,
          57,
          79.2,
          134.5,
          35,
          26.55,
          76.2917,
          53.1,
          90,
          263,
          71,
          83.475,
          35.5,
          134.5,
          66.6,
          110.8833,
          164.8667,
          262.375,
          153.4625,
          28.5,
          227.525,
          78.85,
          30,
          57.9792,
          26.2875,
          90,
          512.3292,
          135.6333,
          52.5542,
          26.55,
          133.65,
          53.1,
          52,
          89.1042,
          89.1042,
          56.9292,
          42.4,
          26.55,
          108.9,
          86.5,
          26.55,
          146.5208,
          31,
          27.7208,
          30.5,
          151.55,
          52.5542,
          29.7,
          5,
          78.2667,
          263,
          47.1,
          153.4625,
          221.7792,
          106.425,
          26.2875,
          30.5,
          59.4,
          27.7208,
          78.2667,
          26.55,
          79.2,
          164.8667,
          76.7292,
          57.9792,
          26.55,
          106.425,
          50.4958,
          79.65,
          61.9792,
          35.5,
          49.5,
          93.5,
          52,
          39.4,
          82.1708,
          71,
          83.475,
          40.125,
          27.75,
          34.0208,
          26,
          49.5042,
          39.6,
          77.2875,
          83.1583,
          26.55,
          32.3208,
          227.525,
          26.55,
          93.5,
          77.9583,
          79.65,
          52,
          38.5,
          55.9,
          26.55,
          51.8625,
          30,
          30,
          51.8625,
          53.1,
          26.55,
          26.3875,
          30.5,
          247.5208,
          71.2833,
          26.55,
          52,
          25.9292,
          90,
          91.0792,
          263,
          110.8833,
          83.1583,
          52.5542,
          63.3583,
          29.7,
          61.175,
          34.6542,
          110.8833,
          35.5
         ],
         "y0": " ",
         "yaxis": "y"
        },
        {
         "alignmentgroup": "True",
         "hoverlabel": {
          "namelength": 0
         },
         "hovertemplate": "Pclass=2<br>Fare=%{y}",
         "legendgroup": "",
         "marker": {
          "color": "#636efa"
         },
         "name": "",
         "notched": false,
         "offsetgroup": "",
         "orientation": "v",
         "showlegend": false,
         "type": "box",
         "x0": " ",
         "xaxis": "x2",
         "y": [
          26,
          12.35,
          15,
          26,
          13.5,
          26,
          26.25,
          13.5,
          26,
          13,
          24,
          13.8625,
          13,
          26,
          14,
          36.75,
          12.35,
          29,
          26,
          30,
          26,
          26,
          26.25,
          10.5,
          10.5,
          39,
          10.5,
          13,
          21,
          18.75,
          73.5,
          23,
          32.5,
          13,
          21,
          13,
          13.7917,
          26,
          27.75,
          12.35,
          26,
          13,
          18.75,
          10.5,
          26.25,
          26.25,
          10.5,
          19.5,
          13,
          27.75,
          65,
          11.5,
          12.65,
          26,
          26,
          13,
          13,
          13,
          13,
          13,
          13.5,
          26,
          26,
          33,
          13,
          27.7208,
          41.5792,
          39,
          27,
          26,
          13,
          10.5,
          41.5792,
          39,
          73.5,
          13,
          12,
          13,
          73.5,
          10.5,
          26,
          13,
          12.875,
          21,
          73.5,
          30.0708,
          13,
          13,
          26.25,
          13,
          26,
          13,
          15.0458,
          13,
          11.5,
          36.75,
          10.5,
          26,
          12.525,
          26,
          15.75,
          23,
          13,
          15.05,
          10.5,
          39,
          13,
          13,
          26,
          13,
          11.5,
          13,
          37.0042,
          37.0042,
          26,
          13,
          30.0708,
          10.5,
          26,
          16,
          13,
          26,
          13,
          24,
          10.5,
          13.8583,
          13,
          21,
          13,
          41.5792,
          11.5,
          26,
          10.5,
          27.75,
          26,
          10.5,
          33,
          10.5,
          73.5,
          29,
          10.5,
          10.5,
          18.75,
          23,
          14.5,
          65,
          10.5,
          27,
          26,
          10.5,
          13,
          13,
          13,
          19.5,
          21,
          26,
          26.25,
          10.5,
          13.5,
          13,
          26,
          26,
          23,
          10.5,
          13,
          13,
          10.5,
          33,
          13,
          13,
          10.5,
          10.5,
          21,
          14.5,
          10.5,
          13,
          13,
          12.275
         ],
         "y0": " ",
         "yaxis": "y2"
        },
        {
         "alignmentgroup": "True",
         "hoverlabel": {
          "namelength": 0
         },
         "hovertemplate": "Pclass=3<br>Fare=%{y}",
         "legendgroup": "",
         "marker": {
          "color": "#636efa"
         },
         "name": "",
         "notched": false,
         "offsetgroup": "",
         "orientation": "v",
         "showlegend": false,
         "type": "box",
         "x0": " ",
         "xaxis": "x3",
         "y": [
          14.4542,
          7.75,
          7.8542,
          6.4375,
          69.55,
          7.55,
          7.8958,
          8.6625,
          8.05,
          7.8958,
          14.4542,
          14.4542,
          7.8958,
          16.1,
          7.75,
          7.8958,
          15.5,
          8.05,
          7.05,
          8.6625,
          8.3,
          8.05,
          15.55,
          31.275,
          7.7417,
          7.2292,
          56.4958,
          7.925,
          34.375,
          14.4,
          7.8542,
          10.1708,
          18.7875,
          31.275,
          7.0542,
          7.225,
          9.8458,
          7.775,
          7.8958,
          7.8958,
          15.5,
          15.2458,
          7.925,
          7.8958,
          10.5167,
          7.65,
          14.4583,
          7.05,
          29.125,
          14.5,
          8.05,
          7.75,
          23.45,
          9,
          16.1,
          7.8958,
          11.1333,
          7.225,
          7.775,
          15.2458,
          7.8958,
          24.15,
          9.35,
          7.925,
          7.75,
          7.25,
          19.2583,
          7.2292,
          14.1083,
          7.125,
          69.55,
          8.05,
          8.05,
          7.7375,
          8.6625,
          9.5,
          8.7125,
          15.7417,
          7.8958,
          6.95,
          12.475,
          7.225,
          7.775,
          7.225,
          7.75,
          7.925,
          7.4958,
          7.75,
          12.475,
          7.7375,
          7.2292,
          7.225,
          23.45,
          7.05,
          7.25,
          15.5,
          7.4958,
          7.8958,
          29.125,
          8.05,
          56.4958,
          13.4167,
          7.8542,
          7.7958,
          46.9,
          9.225,
          7.7958,
          8.05,
          8.1375,
          14.5,
          7.125,
          7.2292,
          6.75,
          46.9,
          7.775,
          8.05,
          7.8958,
          7.775,
          7.75,
          9.5,
          24.15,
          8.3625,
          9.5,
          9.8417,
          7.8292,
          20.575,
          8.4333,
          6.975,
          7.775,
          7.775,
          7.65,
          27.9,
          7.8875,
          7.0542,
          24.15,
          31.275,
          7.925,
          8.05,
          7.7333,
          6.45,
          39.6875,
          27.9,
          8.6625,
          12.475,
          39.6875,
          16.1,
          7.8542,
          7.925,
          56.4958,
          8.5167,
          39.6875,
          7.75,
          8.05,
          69.55,
          7.8958,
          7.55,
          7.55,
          7.8958,
          7.75,
          19.2583,
          16.1,
          7.8958,
          27.9,
          20.25,
          9.4833,
          7.8542,
          7.2292,
          24.15,
          16.1,
          7.925,
          7.7333,
          56.4958,
          8.6833,
          7.25,
          7.2292,
          16.1,
          7.775,
          8.6625,
          39.6875,
          20.525,
          27.9,
          56.4958,
          29.125,
          11.1333,
          7.925,
          7.8542,
          25.4667,
          69.55,
          31.3875,
          22.025,
          69.55,
          8.6625,
          8.05,
          7.7333,
          7.1417,
          22.3583,
          6.975,
          7.8958,
          7.05,
          14.5,
          9.2167,
          15.5,
          15.2458,
          15.85,
          6.75,
          7.7958,
          34.375,
          8.05,
          14.5,
          7.3125,
          7.75,
          7.75,
          15.5,
          7.8542,
          7.25,
          25.4667,
          7.775,
          31.3875,
          7.55,
          14.4542,
          15.5,
          7.125,
          7.225,
          7.775,
          7.25,
          10.4625,
          16.1,
          20.2125,
          15.2458,
          9.35,
          7.8958,
          8.05,
          8.05,
          7.75,
          8.4042,
          7.75,
          9.5,
          69.55,
          6.4958,
          7.225,
          7.8958,
          8.05,
          15.85,
          18.7875,
          7.75,
          7.05,
          7.25,
          7.75,
          7.925,
          10.4625,
          11.2417,
          8.05,
          31.275,
          8.05,
          18,
          11.2417,
          9.475,
          7.8958,
          7.8792,
          8.05,
          15.5,
          7.75,
          21.6792,
          17.8,
          39.6875,
          7.8,
          7.2292,
          46.9,
          7.2292,
          7.75,
          7.8958,
          7.8792,
          7.925,
          8.05,
          8.4583,
          21.075,
          11.1333,
          16.7,
          8.05,
          7.2292,
          31.275,
          29.125,
          18,
          7.225,
          8.0292,
          21.075,
          31.3875,
          7.225,
          7.8542,
          27.9,
          15.2458,
          8.1583,
          8.05,
          7.8958,
          7.8958,
          8.6542,
          7.925,
          7.8958,
          7.65,
          7.25,
          7.775,
          24.15,
          14.4542,
          8.05,
          9.825,
          14.4583,
          7.925,
          7.75,
          7.8958,
          7.75,
          20.575,
          8.05,
          7.925,
          8.6625,
          46.9,
          14.4542,
          56.4958,
          7.65,
          7.8958,
          7.8542,
          8.05,
          9,
          9.5,
          7.7875,
          15.85,
          34.375,
          8.05,
          8.05,
          12.475,
          7.8542,
          31.3875,
          39.6875,
          19.2583,
          7.25,
          8.6625,
          9.8375,
          7.0458,
          7.5208,
          12.2875,
          46.9,
          8.05,
          9.5875,
          25.4667,
          8.05,
          15.9,
          19.9667,
          7.25,
          7.725,
          7.05,
          8.05,
          8.05,
          14.4,
          20.2125,
          7.25,
          7.75,
          8.05,
          16.1,
          7.125,
          8.05,
          34.375,
          7.775,
          8.1125,
          19.2583,
          19.9667,
          8.05,
          7.8958,
          7.75,
          9.5,
          7.875,
          14.4583,
          7.7958,
          14.5,
          31.275,
          31.275,
          20.525,
          7.8292,
          7.225,
          7.775,
          17.4,
          7.75,
          7.8958,
          8.05,
          8.05,
          24.15,
          7.8958,
          21.075,
          8.6625,
          22.3583,
          7.2292,
          7.2292,
          8.6625,
          7.75,
          7.6292,
          9.5875,
          22.525,
          56.4958,
          7.75,
          15.1,
          8.05,
          24.15,
          7.8958,
          7.8958,
          7.225,
          7.2292,
          7.75,
          7.925,
          7.4958,
          7.7333,
          7.8958,
          24.15,
          7.8542,
          7.25,
          7.8958,
          69.55,
          6.2375,
          20.525,
          23.25,
          18,
          7.8958,
          8.05,
          16.1,
          15.9,
          8.6625,
          9.225,
          7.2292,
          7.8958,
          8.05,
          23.25,
          7.75,
          7.775,
          7.75,
          7.75,
          29.125,
          20.25,
          7.75,
          7.8542,
          17.8,
          9.5,
          8.6625,
          9.5,
          7.8958,
          7.75,
          8.85,
          7.8958,
          7.2292,
          8.05,
          7.225,
          9.5,
          7.8792,
          7.925,
          16.7,
          7.7958,
          7.8542,
          7.925,
          8.05,
          9.825,
          7.7958,
          15.85,
          7.75,
          7.775,
          25.4667,
          7.8958,
          6.8583,
          7.925,
          8.05,
          8.6625,
          7.75,
          7.7292,
          7.8958,
          7.8792,
          27.9,
          14.4542,
          7.05,
          15.5,
          7.25,
          7.2292,
          46.9,
          7.75,
          8.05,
          21.075,
          7.25,
          4.0125,
          7.775,
          15.7417,
          7.925,
          6.4958,
          7.75
         ],
         "y0": " ",
         "yaxis": "y3"
        }
       ],
       "layout": {
        "annotations": [
         {
          "font": {},
          "showarrow": false,
          "text": "Pclass=1",
          "x": 0.15666666666666665,
          "xanchor": "center",
          "xref": "paper",
          "y": 1,
          "yanchor": "bottom",
          "yref": "paper"
         },
         {
          "font": {},
          "showarrow": false,
          "text": "Pclass=2",
          "x": 0.49,
          "xanchor": "center",
          "xref": "paper",
          "y": 1,
          "yanchor": "bottom",
          "yref": "paper"
         },
         {
          "font": {},
          "showarrow": false,
          "text": "Pclass=3",
          "x": 0.8233333333333333,
          "xanchor": "center",
          "xref": "paper",
          "y": 1,
          "yanchor": "bottom",
          "yref": "paper"
         }
        ],
        "boxmode": "group",
        "height": 600,
        "legend": {
         "tracegroupgap": 0
        },
        "template": {
         "data": {
          "bar": [
           {
            "error_x": {
             "color": "#2a3f5f"
            },
            "error_y": {
             "color": "#2a3f5f"
            },
            "marker": {
             "line": {
              "color": "#E5ECF6",
              "width": 0.5
             }
            },
            "type": "bar"
           }
          ],
          "barpolar": [
           {
            "marker": {
             "line": {
              "color": "#E5ECF6",
              "width": 0.5
             }
            },
            "type": "barpolar"
           }
          ],
          "carpet": [
           {
            "aaxis": {
             "endlinecolor": "#2a3f5f",
             "gridcolor": "white",
             "linecolor": "white",
             "minorgridcolor": "white",
             "startlinecolor": "#2a3f5f"
            },
            "baxis": {
             "endlinecolor": "#2a3f5f",
             "gridcolor": "white",
             "linecolor": "white",
             "minorgridcolor": "white",
             "startlinecolor": "#2a3f5f"
            },
            "type": "carpet"
           }
          ],
          "choropleth": [
           {
            "colorbar": {
             "outlinewidth": 0,
             "ticks": ""
            },
            "type": "choropleth"
           }
          ],
          "contour": [
           {
            "colorbar": {
             "outlinewidth": 0,
             "ticks": ""
            },
            "colorscale": [
             [
              0,
              "#0d0887"
             ],
             [
              0.1111111111111111,
              "#46039f"
             ],
             [
              0.2222222222222222,
              "#7201a8"
             ],
             [
              0.3333333333333333,
              "#9c179e"
             ],
             [
              0.4444444444444444,
              "#bd3786"
             ],
             [
              0.5555555555555556,
              "#d8576b"
             ],
             [
              0.6666666666666666,
              "#ed7953"
             ],
             [
              0.7777777777777778,
              "#fb9f3a"
             ],
             [
              0.8888888888888888,
              "#fdca26"
             ],
             [
              1,
              "#f0f921"
             ]
            ],
            "type": "contour"
           }
          ],
          "contourcarpet": [
           {
            "colorbar": {
             "outlinewidth": 0,
             "ticks": ""
            },
            "type": "contourcarpet"
           }
          ],
          "heatmap": [
           {
            "colorbar": {
             "outlinewidth": 0,
             "ticks": ""
            },
            "colorscale": [
             [
              0,
              "#0d0887"
             ],
             [
              0.1111111111111111,
              "#46039f"
             ],
             [
              0.2222222222222222,
              "#7201a8"
             ],
             [
              0.3333333333333333,
              "#9c179e"
             ],
             [
              0.4444444444444444,
              "#bd3786"
             ],
             [
              0.5555555555555556,
              "#d8576b"
             ],
             [
              0.6666666666666666,
              "#ed7953"
             ],
             [
              0.7777777777777778,
              "#fb9f3a"
             ],
             [
              0.8888888888888888,
              "#fdca26"
             ],
             [
              1,
              "#f0f921"
             ]
            ],
            "type": "heatmap"
           }
          ],
          "heatmapgl": [
           {
            "colorbar": {
             "outlinewidth": 0,
             "ticks": ""
            },
            "colorscale": [
             [
              0,
              "#0d0887"
             ],
             [
              0.1111111111111111,
              "#46039f"
             ],
             [
              0.2222222222222222,
              "#7201a8"
             ],
             [
              0.3333333333333333,
              "#9c179e"
             ],
             [
              0.4444444444444444,
              "#bd3786"
             ],
             [
              0.5555555555555556,
              "#d8576b"
             ],
             [
              0.6666666666666666,
              "#ed7953"
             ],
             [
              0.7777777777777778,
              "#fb9f3a"
             ],
             [
              0.8888888888888888,
              "#fdca26"
             ],
             [
              1,
              "#f0f921"
             ]
            ],
            "type": "heatmapgl"
           }
          ],
          "histogram": [
           {
            "marker": {
             "colorbar": {
              "outlinewidth": 0,
              "ticks": ""
             }
            },
            "type": "histogram"
           }
          ],
          "histogram2d": [
           {
            "colorbar": {
             "outlinewidth": 0,
             "ticks": ""
            },
            "colorscale": [
             [
              0,
              "#0d0887"
             ],
             [
              0.1111111111111111,
              "#46039f"
             ],
             [
              0.2222222222222222,
              "#7201a8"
             ],
             [
              0.3333333333333333,
              "#9c179e"
             ],
             [
              0.4444444444444444,
              "#bd3786"
             ],
             [
              0.5555555555555556,
              "#d8576b"
             ],
             [
              0.6666666666666666,
              "#ed7953"
             ],
             [
              0.7777777777777778,
              "#fb9f3a"
             ],
             [
              0.8888888888888888,
              "#fdca26"
             ],
             [
              1,
              "#f0f921"
             ]
            ],
            "type": "histogram2d"
           }
          ],
          "histogram2dcontour": [
           {
            "colorbar": {
             "outlinewidth": 0,
             "ticks": ""
            },
            "colorscale": [
             [
              0,
              "#0d0887"
             ],
             [
              0.1111111111111111,
              "#46039f"
             ],
             [
              0.2222222222222222,
              "#7201a8"
             ],
             [
              0.3333333333333333,
              "#9c179e"
             ],
             [
              0.4444444444444444,
              "#bd3786"
             ],
             [
              0.5555555555555556,
              "#d8576b"
             ],
             [
              0.6666666666666666,
              "#ed7953"
             ],
             [
              0.7777777777777778,
              "#fb9f3a"
             ],
             [
              0.8888888888888888,
              "#fdca26"
             ],
             [
              1,
              "#f0f921"
             ]
            ],
            "type": "histogram2dcontour"
           }
          ],
          "mesh3d": [
           {
            "colorbar": {
             "outlinewidth": 0,
             "ticks": ""
            },
            "type": "mesh3d"
           }
          ],
          "parcoords": [
           {
            "line": {
             "colorbar": {
              "outlinewidth": 0,
              "ticks": ""
             }
            },
            "type": "parcoords"
           }
          ],
          "scatter": [
           {
            "marker": {
             "colorbar": {
              "outlinewidth": 0,
              "ticks": ""
             }
            },
            "type": "scatter"
           }
          ],
          "scatter3d": [
           {
            "line": {
             "colorbar": {
              "outlinewidth": 0,
              "ticks": ""
             }
            },
            "marker": {
             "colorbar": {
              "outlinewidth": 0,
              "ticks": ""
             }
            },
            "type": "scatter3d"
           }
          ],
          "scattercarpet": [
           {
            "marker": {
             "colorbar": {
              "outlinewidth": 0,
              "ticks": ""
             }
            },
            "type": "scattercarpet"
           }
          ],
          "scattergeo": [
           {
            "marker": {
             "colorbar": {
              "outlinewidth": 0,
              "ticks": ""
             }
            },
            "type": "scattergeo"
           }
          ],
          "scattergl": [
           {
            "marker": {
             "colorbar": {
              "outlinewidth": 0,
              "ticks": ""
             }
            },
            "type": "scattergl"
           }
          ],
          "scattermapbox": [
           {
            "marker": {
             "colorbar": {
              "outlinewidth": 0,
              "ticks": ""
             }
            },
            "type": "scattermapbox"
           }
          ],
          "scatterpolar": [
           {
            "marker": {
             "colorbar": {
              "outlinewidth": 0,
              "ticks": ""
             }
            },
            "type": "scatterpolar"
           }
          ],
          "scatterpolargl": [
           {
            "marker": {
             "colorbar": {
              "outlinewidth": 0,
              "ticks": ""
             }
            },
            "type": "scatterpolargl"
           }
          ],
          "scatterternary": [
           {
            "marker": {
             "colorbar": {
              "outlinewidth": 0,
              "ticks": ""
             }
            },
            "type": "scatterternary"
           }
          ],
          "surface": [
           {
            "colorbar": {
             "outlinewidth": 0,
             "ticks": ""
            },
            "colorscale": [
             [
              0,
              "#0d0887"
             ],
             [
              0.1111111111111111,
              "#46039f"
             ],
             [
              0.2222222222222222,
              "#7201a8"
             ],
             [
              0.3333333333333333,
              "#9c179e"
             ],
             [
              0.4444444444444444,
              "#bd3786"
             ],
             [
              0.5555555555555556,
              "#d8576b"
             ],
             [
              0.6666666666666666,
              "#ed7953"
             ],
             [
              0.7777777777777778,
              "#fb9f3a"
             ],
             [
              0.8888888888888888,
              "#fdca26"
             ],
             [
              1,
              "#f0f921"
             ]
            ],
            "type": "surface"
           }
          ],
          "table": [
           {
            "cells": {
             "fill": {
              "color": "#EBF0F8"
             },
             "line": {
              "color": "white"
             }
            },
            "header": {
             "fill": {
              "color": "#C8D4E3"
             },
             "line": {
              "color": "white"
             }
            },
            "type": "table"
           }
          ]
         },
         "layout": {
          "annotationdefaults": {
           "arrowcolor": "#2a3f5f",
           "arrowhead": 0,
           "arrowwidth": 1
          },
          "colorscale": {
           "diverging": [
            [
             0,
             "#8e0152"
            ],
            [
             0.1,
             "#c51b7d"
            ],
            [
             0.2,
             "#de77ae"
            ],
            [
             0.3,
             "#f1b6da"
            ],
            [
             0.4,
             "#fde0ef"
            ],
            [
             0.5,
             "#f7f7f7"
            ],
            [
             0.6,
             "#e6f5d0"
            ],
            [
             0.7,
             "#b8e186"
            ],
            [
             0.8,
             "#7fbc41"
            ],
            [
             0.9,
             "#4d9221"
            ],
            [
             1,
             "#276419"
            ]
           ],
           "sequential": [
            [
             0,
             "#0d0887"
            ],
            [
             0.1111111111111111,
             "#46039f"
            ],
            [
             0.2222222222222222,
             "#7201a8"
            ],
            [
             0.3333333333333333,
             "#9c179e"
            ],
            [
             0.4444444444444444,
             "#bd3786"
            ],
            [
             0.5555555555555556,
             "#d8576b"
            ],
            [
             0.6666666666666666,
             "#ed7953"
            ],
            [
             0.7777777777777778,
             "#fb9f3a"
            ],
            [
             0.8888888888888888,
             "#fdca26"
            ],
            [
             1,
             "#f0f921"
            ]
           ],
           "sequentialminus": [
            [
             0,
             "#0d0887"
            ],
            [
             0.1111111111111111,
             "#46039f"
            ],
            [
             0.2222222222222222,
             "#7201a8"
            ],
            [
             0.3333333333333333,
             "#9c179e"
            ],
            [
             0.4444444444444444,
             "#bd3786"
            ],
            [
             0.5555555555555556,
             "#d8576b"
            ],
            [
             0.6666666666666666,
             "#ed7953"
            ],
            [
             0.7777777777777778,
             "#fb9f3a"
            ],
            [
             0.8888888888888888,
             "#fdca26"
            ],
            [
             1,
             "#f0f921"
            ]
           ]
          },
          "colorway": [
           "#636efa",
           "#EF553B",
           "#00cc96",
           "#ab63fa",
           "#FFA15A",
           "#19d3f3",
           "#FF6692",
           "#B6E880",
           "#FF97FF",
           "#FECB52"
          ],
          "font": {
           "color": "#2a3f5f"
          },
          "geo": {
           "bgcolor": "white",
           "lakecolor": "white",
           "landcolor": "#E5ECF6",
           "showlakes": true,
           "showland": true,
           "subunitcolor": "white"
          },
          "hoverlabel": {
           "align": "left"
          },
          "hovermode": "closest",
          "mapbox": {
           "style": "light"
          },
          "paper_bgcolor": "white",
          "plot_bgcolor": "#E5ECF6",
          "polar": {
           "angularaxis": {
            "gridcolor": "white",
            "linecolor": "white",
            "ticks": ""
           },
           "bgcolor": "#E5ECF6",
           "radialaxis": {
            "gridcolor": "white",
            "linecolor": "white",
            "ticks": ""
           }
          },
          "scene": {
           "xaxis": {
            "backgroundcolor": "#E5ECF6",
            "gridcolor": "white",
            "gridwidth": 2,
            "linecolor": "white",
            "showbackground": true,
            "ticks": "",
            "zerolinecolor": "white"
           },
           "yaxis": {
            "backgroundcolor": "#E5ECF6",
            "gridcolor": "white",
            "gridwidth": 2,
            "linecolor": "white",
            "showbackground": true,
            "ticks": "",
            "zerolinecolor": "white"
           },
           "zaxis": {
            "backgroundcolor": "#E5ECF6",
            "gridcolor": "white",
            "gridwidth": 2,
            "linecolor": "white",
            "showbackground": true,
            "ticks": "",
            "zerolinecolor": "white"
           }
          },
          "shapedefaults": {
           "line": {
            "color": "#2a3f5f"
           }
          },
          "ternary": {
           "aaxis": {
            "gridcolor": "white",
            "linecolor": "white",
            "ticks": ""
           },
           "baxis": {
            "gridcolor": "white",
            "linecolor": "white",
            "ticks": ""
           },
           "bgcolor": "#E5ECF6",
           "caxis": {
            "gridcolor": "white",
            "linecolor": "white",
            "ticks": ""
           }
          },
          "title": {
           "x": 0.05
          },
          "xaxis": {
           "automargin": true,
           "gridcolor": "white",
           "linecolor": "white",
           "ticks": "",
           "zerolinecolor": "white",
           "zerolinewidth": 2
          },
          "yaxis": {
           "automargin": true,
           "gridcolor": "white",
           "linecolor": "white",
           "ticks": "",
           "zerolinecolor": "white",
           "zerolinewidth": 2
          }
         }
        },
        "title": {
         "text": "Preco por Classe"
        },
        "xaxis": {
         "anchor": "y",
         "domain": [
          0,
          0.3133333333333333
         ]
        },
        "xaxis2": {
         "anchor": "y2",
         "domain": [
          0.3333333333333333,
          0.6466666666666666
         ],
         "matches": "x"
        },
        "xaxis3": {
         "anchor": "y3",
         "domain": [
          0.6666666666666666,
          0.98
         ],
         "matches": "x"
        },
        "yaxis": {
         "anchor": "x",
         "domain": [
          0,
          1
         ],
         "title": {
          "text": "Fare"
         }
        },
        "yaxis2": {
         "anchor": "x2",
         "domain": [
          0,
          1
         ],
         "matches": "y",
         "showticklabels": false
        },
        "yaxis3": {
         "anchor": "x3",
         "domain": [
          0,
          1
         ],
         "matches": "y",
         "showticklabels": false
        }
       }
      }
     },
     "metadata": {},
     "output_type": "display_data"
    }
   ],
   "source": [
    "df_fare = df.loc[df['Fare']>0]\n",
    "fig = px.box(df_fare.sort_values(by=['Pclass']),  y=\"Fare\", facet_col=\"Pclass\",title=\"Preco por Classe\")\n",
    "fig.show()"
   ]
  },
  {
   "cell_type": "code",
   "execution_count": 21,
   "metadata": {},
   "outputs": [],
   "source": [
    "#Atribui valor a Fare = 0: Base Media de pagamento por classe.\n",
    "\n",
    "##Class 1\n",
    "df['Fare'] = np.where((df['Fare']==0)&(df['Pclass']==1), 61.37, df['Fare'])\n",
    "##Class 2\n",
    "df['Fare'] = np.where((df['Fare']==0)&(df['Pclass']==2),15.02 , df['Fare'])\n",
    "##Class 3\n",
    "df['Fare'] = np.where((df['Fare']==0)&(df['Pclass']==3),8.05 , df['Fare'])"
   ]
  },
  {
   "cell_type": "code",
   "execution_count": 22,
   "metadata": {},
   "outputs": [
    {
     "data": {
      "text/plain": "count    889.000000\nmean      32.579437\nstd       49.614582\nmin        4.012500\n25%        7.925000\n50%       14.500000\n75%       31.275000\nmax      512.329200\nName: Fare, dtype: float64"
     },
     "execution_count": 22,
     "metadata": {},
     "output_type": "execute_result"
    }
   ],
   "source": [
    "df['Fare'].describe()"
   ]
  },
  {
   "cell_type": "code",
   "execution_count": 23,
   "metadata": {},
   "outputs": [],
   "source": [
    "##Agrupamento do Fare\n",
    "df.loc [df['Fare'] <= 7.91 ,'FE_Fare'] =0\n",
    "df.loc [(df['Fare'] > 7.91) & (df['Fare'] <=14.49) , 'FE_Fare']=1\n",
    "df.loc [(df['Fare'] > 14.49) & (df['Fare'] <=31.27) , 'FE_Fare']=2\n",
    "df.loc [df['Fare'] > 31.27 ,'FE_Fare'] =3"
   ]
  },
  {
   "cell_type": "markdown",
   "metadata": {
    "colab_type": "text",
    "id": "FFr4wpjJMVyI"
   },
   "source": [
    "# Explorando a variável Cabin\n",
    "\n",
    "* Cria agrupamentos tomando como base a primeira posição da informação\n"
   ]
  },
  {
   "cell_type": "code",
   "execution_count": 24,
   "metadata": {},
   "outputs": [],
   "source": [
    "df['FE_AreaCabin'] = df[\"Cabin\"].str.slice(0,1)\n",
    "df['FE_AreaCabin'] = np.where(df['FE_AreaCabin'].isnull()==True, \"0\", df['FE_AreaCabin'])"
   ]
  },
  {
   "cell_type": "code",
   "execution_count": 25,
   "metadata": {},
   "outputs": [
    {
     "data": {
      "text/plain": "0    687\nC     59\nB     45\nD     33\nE     32\nA     15\nF     13\nG      4\nT      1\nName: FE_AreaCabin, dtype: int64"
     },
     "execution_count": 25,
     "metadata": {},
     "output_type": "execute_result"
    }
   ],
   "source": [
    "df['FE_AreaCabin'].value_counts()"
   ]
  },
  {
   "cell_type": "markdown",
   "metadata": {
    "colab_type": "text",
    "id": "QP1SqYq1OUkH"
   },
   "source": [
    "# Explorando a variável SiSp e Parch\n",
    "\n",
    "* Determina se é um viajante sozinho ou não (IsAlone)"
   ]
  },
  {
   "cell_type": "code",
   "execution_count": 26,
   "metadata": {},
   "outputs": [],
   "source": [
    "df['IsAlone'] = np.where((df['Parch']==0)&(df['SibSp']==0),True , False)"
   ]
  },
  {
   "cell_type": "code",
   "execution_count": 27,
   "metadata": {},
   "outputs": [
    {
     "data": {
      "text/plain": "True     535\nFalse    354\nName: IsAlone, dtype: int64"
     },
     "execution_count": 27,
     "metadata": {},
     "output_type": "execute_result"
    }
   ],
   "source": [
    "df['IsAlone'].value_counts()"
   ]
  },
  {
   "cell_type": "code",
   "execution_count": 28,
   "metadata": {},
   "outputs": [
    {
     "data": {
      "application/vnd.plotly.v1+json": {
       "config": {
        "plotlyServerURL": "https://plot.ly"
       },
       "data": [
        {
         "alignmentgroup": "True",
         "bingroup": "x",
         "hoverlabel": {
          "namelength": 0
         },
         "hovertemplate": "IsAlone=%{x}<br>Survived=1<br>Pclass=1<br>count=%{y}",
         "legendgroup": "IsAlone=False",
         "marker": {
          "color": "#636efa"
         },
         "name": "IsAlone=False",
         "offsetgroup": "IsAlone=False",
         "orientation": "v",
         "showlegend": true,
         "type": "histogram",
         "x": [
          false,
          false,
          false,
          false,
          false,
          false,
          false,
          false,
          false,
          false,
          false,
          false,
          false,
          false,
          false,
          false,
          false,
          false,
          false,
          false,
          false,
          false,
          false,
          false,
          false,
          false,
          false,
          false,
          false,
          false,
          false,
          false,
          false,
          false,
          false,
          false,
          false,
          false,
          false,
          false,
          false,
          false,
          false,
          false,
          false,
          false,
          false,
          false,
          false,
          false,
          false,
          false,
          false,
          false,
          false,
          false,
          false,
          false,
          false,
          false,
          false,
          false,
          false,
          false,
          false,
          false,
          false,
          false,
          false,
          false,
          false,
          false,
          false,
          false,
          false,
          false,
          false,
          false
         ],
         "xaxis": "x4",
         "yaxis": "y4"
        },
        {
         "alignmentgroup": "True",
         "bingroup": "x",
         "hoverlabel": {
          "namelength": 0
         },
         "hovertemplate": "IsAlone=%{x}<br>Survived=1<br>Pclass=2<br>count=%{y}",
         "legendgroup": "IsAlone=False",
         "marker": {
          "color": "#636efa"
         },
         "name": "IsAlone=False",
         "offsetgroup": "IsAlone=False",
         "orientation": "v",
         "showlegend": false,
         "type": "histogram",
         "x": [
          false,
          false,
          false,
          false,
          false,
          false,
          false,
          false,
          false,
          false,
          false,
          false,
          false,
          false,
          false,
          false,
          false,
          false,
          false,
          false,
          false,
          false,
          false,
          false,
          false,
          false,
          false,
          false,
          false,
          false,
          false,
          false,
          false,
          false,
          false,
          false,
          false,
          false,
          false,
          false,
          false,
          false,
          false,
          false,
          false,
          false,
          false,
          false,
          false,
          false,
          false
         ],
         "xaxis": "x5",
         "yaxis": "y5"
        },
        {
         "alignmentgroup": "True",
         "bingroup": "x",
         "hoverlabel": {
          "namelength": 0
         },
         "hovertemplate": "IsAlone=%{x}<br>Survived=1<br>Pclass=3<br>count=%{y}",
         "legendgroup": "IsAlone=False",
         "marker": {
          "color": "#636efa"
         },
         "name": "IsAlone=False",
         "offsetgroup": "IsAlone=False",
         "orientation": "v",
         "showlegend": false,
         "type": "histogram",
         "x": [
          false,
          false,
          false,
          false,
          false,
          false,
          false,
          false,
          false,
          false,
          false,
          false,
          false,
          false,
          false,
          false,
          false,
          false,
          false,
          false,
          false,
          false,
          false,
          false,
          false,
          false,
          false,
          false,
          false,
          false,
          false,
          false,
          false,
          false,
          false,
          false,
          false,
          false,
          false,
          false,
          false,
          false,
          false,
          false,
          false,
          false,
          false,
          false,
          false,
          false
         ],
         "xaxis": "x6",
         "yaxis": "y6"
        },
        {
         "alignmentgroup": "True",
         "bingroup": "x",
         "hoverlabel": {
          "namelength": 0
         },
         "hovertemplate": "IsAlone=%{x}<br>Survived=0<br>Pclass=1<br>count=%{y}",
         "legendgroup": "IsAlone=False",
         "marker": {
          "color": "#636efa"
         },
         "name": "IsAlone=False",
         "offsetgroup": "IsAlone=False",
         "orientation": "v",
         "showlegend": false,
         "type": "histogram",
         "x": [
          false,
          false,
          false,
          false,
          false,
          false,
          false,
          false,
          false,
          false,
          false,
          false,
          false,
          false,
          false,
          false,
          false,
          false,
          false,
          false,
          false,
          false,
          false,
          false,
          false,
          false,
          false,
          false,
          false
         ],
         "xaxis": "x",
         "yaxis": "y"
        },
        {
         "alignmentgroup": "True",
         "bingroup": "x",
         "hoverlabel": {
          "namelength": 0
         },
         "hovertemplate": "IsAlone=%{x}<br>Survived=0<br>Pclass=2<br>count=%{y}",
         "legendgroup": "IsAlone=False",
         "marker": {
          "color": "#636efa"
         },
         "name": "IsAlone=False",
         "offsetgroup": "IsAlone=False",
         "orientation": "v",
         "showlegend": false,
         "type": "histogram",
         "x": [
          false,
          false,
          false,
          false,
          false,
          false,
          false,
          false,
          false,
          false,
          false,
          false,
          false,
          false,
          false,
          false,
          false,
          false,
          false,
          false,
          false,
          false,
          false,
          false,
          false,
          false,
          false,
          false,
          false
         ],
         "xaxis": "x2",
         "yaxis": "y2"
        },
        {
         "alignmentgroup": "True",
         "bingroup": "x",
         "hoverlabel": {
          "namelength": 0
         },
         "hovertemplate": "IsAlone=%{x}<br>Survived=0<br>Pclass=3<br>count=%{y}",
         "legendgroup": "IsAlone=False",
         "marker": {
          "color": "#636efa"
         },
         "name": "IsAlone=False",
         "offsetgroup": "IsAlone=False",
         "orientation": "v",
         "showlegend": false,
         "type": "histogram",
         "x": [
          false,
          false,
          false,
          false,
          false,
          false,
          false,
          false,
          false,
          false,
          false,
          false,
          false,
          false,
          false,
          false,
          false,
          false,
          false,
          false,
          false,
          false,
          false,
          false,
          false,
          false,
          false,
          false,
          false,
          false,
          false,
          false,
          false,
          false,
          false,
          false,
          false,
          false,
          false,
          false,
          false,
          false,
          false,
          false,
          false,
          false,
          false,
          false,
          false,
          false,
          false,
          false,
          false,
          false,
          false,
          false,
          false,
          false,
          false,
          false,
          false,
          false,
          false,
          false,
          false,
          false,
          false,
          false,
          false,
          false,
          false,
          false,
          false,
          false,
          false,
          false,
          false,
          false,
          false,
          false,
          false,
          false,
          false,
          false,
          false,
          false,
          false,
          false,
          false,
          false,
          false,
          false,
          false,
          false,
          false,
          false,
          false,
          false,
          false,
          false,
          false,
          false,
          false,
          false,
          false,
          false,
          false,
          false,
          false,
          false,
          false,
          false,
          false,
          false,
          false,
          false,
          false
         ],
         "xaxis": "x3",
         "yaxis": "y3"
        },
        {
         "alignmentgroup": "True",
         "bingroup": "x",
         "hoverlabel": {
          "namelength": 0
         },
         "hovertemplate": "IsAlone=%{x}<br>Survived=1<br>Pclass=1<br>count=%{y}",
         "legendgroup": "IsAlone=True",
         "marker": {
          "color": "#EF553B"
         },
         "name": "IsAlone=True",
         "offsetgroup": "IsAlone=True",
         "orientation": "v",
         "showlegend": true,
         "type": "histogram",
         "x": [
          true,
          true,
          true,
          true,
          true,
          true,
          true,
          true,
          true,
          true,
          true,
          true,
          true,
          true,
          true,
          true,
          true,
          true,
          true,
          true,
          true,
          true,
          true,
          true,
          true,
          true,
          true,
          true,
          true,
          true,
          true,
          true,
          true,
          true,
          true,
          true,
          true,
          true,
          true,
          true,
          true,
          true,
          true,
          true,
          true,
          true,
          true,
          true,
          true,
          true,
          true,
          true,
          true,
          true,
          true,
          true
         ],
         "xaxis": "x4",
         "yaxis": "y4"
        },
        {
         "alignmentgroup": "True",
         "bingroup": "x",
         "hoverlabel": {
          "namelength": 0
         },
         "hovertemplate": "IsAlone=%{x}<br>Survived=1<br>Pclass=2<br>count=%{y}",
         "legendgroup": "IsAlone=True",
         "marker": {
          "color": "#EF553B"
         },
         "name": "IsAlone=True",
         "offsetgroup": "IsAlone=True",
         "orientation": "v",
         "showlegend": false,
         "type": "histogram",
         "x": [
          true,
          true,
          true,
          true,
          true,
          true,
          true,
          true,
          true,
          true,
          true,
          true,
          true,
          true,
          true,
          true,
          true,
          true,
          true,
          true,
          true,
          true,
          true,
          true,
          true,
          true,
          true,
          true,
          true,
          true,
          true,
          true,
          true,
          true,
          true,
          true
         ],
         "xaxis": "x5",
         "yaxis": "y5"
        },
        {
         "alignmentgroup": "True",
         "bingroup": "x",
         "hoverlabel": {
          "namelength": 0
         },
         "hovertemplate": "IsAlone=%{x}<br>Survived=1<br>Pclass=3<br>count=%{y}",
         "legendgroup": "IsAlone=True",
         "marker": {
          "color": "#EF553B"
         },
         "name": "IsAlone=True",
         "offsetgroup": "IsAlone=True",
         "orientation": "v",
         "showlegend": false,
         "type": "histogram",
         "x": [
          true,
          true,
          true,
          true,
          true,
          true,
          true,
          true,
          true,
          true,
          true,
          true,
          true,
          true,
          true,
          true,
          true,
          true,
          true,
          true,
          true,
          true,
          true,
          true,
          true,
          true,
          true,
          true,
          true,
          true,
          true,
          true,
          true,
          true,
          true,
          true,
          true,
          true,
          true,
          true,
          true,
          true,
          true,
          true,
          true,
          true,
          true,
          true,
          true,
          true,
          true,
          true,
          true,
          true,
          true,
          true,
          true,
          true,
          true,
          true,
          true,
          true,
          true,
          true,
          true,
          true,
          true,
          true,
          true
         ],
         "xaxis": "x6",
         "yaxis": "y6"
        },
        {
         "alignmentgroup": "True",
         "bingroup": "x",
         "hoverlabel": {
          "namelength": 0
         },
         "hovertemplate": "IsAlone=%{x}<br>Survived=0<br>Pclass=1<br>count=%{y}",
         "legendgroup": "IsAlone=True",
         "marker": {
          "color": "#EF553B"
         },
         "name": "IsAlone=True",
         "offsetgroup": "IsAlone=True",
         "orientation": "v",
         "showlegend": false,
         "type": "histogram",
         "x": [
          true,
          true,
          true,
          true,
          true,
          true,
          true,
          true,
          true,
          true,
          true,
          true,
          true,
          true,
          true,
          true,
          true,
          true,
          true,
          true,
          true,
          true,
          true,
          true,
          true,
          true,
          true,
          true,
          true,
          true,
          true,
          true,
          true,
          true,
          true,
          true,
          true,
          true,
          true,
          true,
          true,
          true,
          true,
          true,
          true,
          true,
          true,
          true,
          true,
          true,
          true
         ],
         "xaxis": "x",
         "yaxis": "y"
        },
        {
         "alignmentgroup": "True",
         "bingroup": "x",
         "hoverlabel": {
          "namelength": 0
         },
         "hovertemplate": "IsAlone=%{x}<br>Survived=0<br>Pclass=2<br>count=%{y}",
         "legendgroup": "IsAlone=True",
         "marker": {
          "color": "#EF553B"
         },
         "name": "IsAlone=True",
         "offsetgroup": "IsAlone=True",
         "orientation": "v",
         "showlegend": false,
         "type": "histogram",
         "x": [
          true,
          true,
          true,
          true,
          true,
          true,
          true,
          true,
          true,
          true,
          true,
          true,
          true,
          true,
          true,
          true,
          true,
          true,
          true,
          true,
          true,
          true,
          true,
          true,
          true,
          true,
          true,
          true,
          true,
          true,
          true,
          true,
          true,
          true,
          true,
          true,
          true,
          true,
          true,
          true,
          true,
          true,
          true,
          true,
          true,
          true,
          true,
          true,
          true,
          true,
          true,
          true,
          true,
          true,
          true,
          true,
          true,
          true,
          true,
          true,
          true,
          true,
          true,
          true,
          true,
          true,
          true,
          true
         ],
         "xaxis": "x2",
         "yaxis": "y2"
        },
        {
         "alignmentgroup": "True",
         "bingroup": "x",
         "hoverlabel": {
          "namelength": 0
         },
         "hovertemplate": "IsAlone=%{x}<br>Survived=0<br>Pclass=3<br>count=%{y}",
         "legendgroup": "IsAlone=True",
         "marker": {
          "color": "#EF553B"
         },
         "name": "IsAlone=True",
         "offsetgroup": "IsAlone=True",
         "orientation": "v",
         "showlegend": false,
         "type": "histogram",
         "x": [
          true,
          true,
          true,
          true,
          true,
          true,
          true,
          true,
          true,
          true,
          true,
          true,
          true,
          true,
          true,
          true,
          true,
          true,
          true,
          true,
          true,
          true,
          true,
          true,
          true,
          true,
          true,
          true,
          true,
          true,
          true,
          true,
          true,
          true,
          true,
          true,
          true,
          true,
          true,
          true,
          true,
          true,
          true,
          true,
          true,
          true,
          true,
          true,
          true,
          true,
          true,
          true,
          true,
          true,
          true,
          true,
          true,
          true,
          true,
          true,
          true,
          true,
          true,
          true,
          true,
          true,
          true,
          true,
          true,
          true,
          true,
          true,
          true,
          true,
          true,
          true,
          true,
          true,
          true,
          true,
          true,
          true,
          true,
          true,
          true,
          true,
          true,
          true,
          true,
          true,
          true,
          true,
          true,
          true,
          true,
          true,
          true,
          true,
          true,
          true,
          true,
          true,
          true,
          true,
          true,
          true,
          true,
          true,
          true,
          true,
          true,
          true,
          true,
          true,
          true,
          true,
          true,
          true,
          true,
          true,
          true,
          true,
          true,
          true,
          true,
          true,
          true,
          true,
          true,
          true,
          true,
          true,
          true,
          true,
          true,
          true,
          true,
          true,
          true,
          true,
          true,
          true,
          true,
          true,
          true,
          true,
          true,
          true,
          true,
          true,
          true,
          true,
          true,
          true,
          true,
          true,
          true,
          true,
          true,
          true,
          true,
          true,
          true,
          true,
          true,
          true,
          true,
          true,
          true,
          true,
          true,
          true,
          true,
          true,
          true,
          true,
          true,
          true,
          true,
          true,
          true,
          true,
          true,
          true,
          true,
          true,
          true,
          true,
          true,
          true,
          true,
          true,
          true,
          true,
          true,
          true,
          true,
          true,
          true,
          true,
          true,
          true,
          true,
          true,
          true,
          true,
          true,
          true,
          true,
          true,
          true,
          true,
          true,
          true,
          true,
          true,
          true,
          true,
          true,
          true,
          true,
          true,
          true,
          true,
          true,
          true,
          true,
          true,
          true,
          true,
          true,
          true,
          true,
          true,
          true,
          true,
          true,
          true,
          true,
          true,
          true,
          true,
          true,
          true,
          true,
          true,
          true,
          true,
          true,
          true,
          true,
          true,
          true,
          true,
          true
         ],
         "xaxis": "x3",
         "yaxis": "y3"
        }
       ],
       "layout": {
        "annotations": [
         {
          "font": {},
          "showarrow": false,
          "text": "Pclass=1",
          "x": 0.15666666666666665,
          "xanchor": "center",
          "xref": "paper",
          "y": 1,
          "yanchor": "bottom",
          "yref": "paper"
         },
         {
          "font": {},
          "showarrow": false,
          "text": "Pclass=2",
          "x": 0.49,
          "xanchor": "center",
          "xref": "paper",
          "y": 1,
          "yanchor": "bottom",
          "yref": "paper"
         },
         {
          "font": {},
          "showarrow": false,
          "text": "Pclass=3",
          "x": 0.8233333333333333,
          "xanchor": "center",
          "xref": "paper",
          "y": 1,
          "yanchor": "bottom",
          "yref": "paper"
         },
         {
          "font": {},
          "showarrow": false,
          "text": "Survived=0",
          "textangle": 90,
          "x": 0.98,
          "xanchor": "left",
          "xref": "paper",
          "y": 0.2425,
          "yanchor": "middle",
          "yref": "paper"
         },
         {
          "font": {},
          "showarrow": false,
          "text": "Survived=1",
          "textangle": 90,
          "x": 0.98,
          "xanchor": "left",
          "xref": "paper",
          "y": 0.7575000000000001,
          "yanchor": "middle",
          "yref": "paper"
         }
        ],
        "barmode": "relative",
        "height": 600,
        "legend": {
         "tracegroupgap": 0
        },
        "template": {
         "data": {
          "bar": [
           {
            "error_x": {
             "color": "#2a3f5f"
            },
            "error_y": {
             "color": "#2a3f5f"
            },
            "marker": {
             "line": {
              "color": "#E5ECF6",
              "width": 0.5
             }
            },
            "type": "bar"
           }
          ],
          "barpolar": [
           {
            "marker": {
             "line": {
              "color": "#E5ECF6",
              "width": 0.5
             }
            },
            "type": "barpolar"
           }
          ],
          "carpet": [
           {
            "aaxis": {
             "endlinecolor": "#2a3f5f",
             "gridcolor": "white",
             "linecolor": "white",
             "minorgridcolor": "white",
             "startlinecolor": "#2a3f5f"
            },
            "baxis": {
             "endlinecolor": "#2a3f5f",
             "gridcolor": "white",
             "linecolor": "white",
             "minorgridcolor": "white",
             "startlinecolor": "#2a3f5f"
            },
            "type": "carpet"
           }
          ],
          "choropleth": [
           {
            "colorbar": {
             "outlinewidth": 0,
             "ticks": ""
            },
            "type": "choropleth"
           }
          ],
          "contour": [
           {
            "colorbar": {
             "outlinewidth": 0,
             "ticks": ""
            },
            "colorscale": [
             [
              0,
              "#0d0887"
             ],
             [
              0.1111111111111111,
              "#46039f"
             ],
             [
              0.2222222222222222,
              "#7201a8"
             ],
             [
              0.3333333333333333,
              "#9c179e"
             ],
             [
              0.4444444444444444,
              "#bd3786"
             ],
             [
              0.5555555555555556,
              "#d8576b"
             ],
             [
              0.6666666666666666,
              "#ed7953"
             ],
             [
              0.7777777777777778,
              "#fb9f3a"
             ],
             [
              0.8888888888888888,
              "#fdca26"
             ],
             [
              1,
              "#f0f921"
             ]
            ],
            "type": "contour"
           }
          ],
          "contourcarpet": [
           {
            "colorbar": {
             "outlinewidth": 0,
             "ticks": ""
            },
            "type": "contourcarpet"
           }
          ],
          "heatmap": [
           {
            "colorbar": {
             "outlinewidth": 0,
             "ticks": ""
            },
            "colorscale": [
             [
              0,
              "#0d0887"
             ],
             [
              0.1111111111111111,
              "#46039f"
             ],
             [
              0.2222222222222222,
              "#7201a8"
             ],
             [
              0.3333333333333333,
              "#9c179e"
             ],
             [
              0.4444444444444444,
              "#bd3786"
             ],
             [
              0.5555555555555556,
              "#d8576b"
             ],
             [
              0.6666666666666666,
              "#ed7953"
             ],
             [
              0.7777777777777778,
              "#fb9f3a"
             ],
             [
              0.8888888888888888,
              "#fdca26"
             ],
             [
              1,
              "#f0f921"
             ]
            ],
            "type": "heatmap"
           }
          ],
          "heatmapgl": [
           {
            "colorbar": {
             "outlinewidth": 0,
             "ticks": ""
            },
            "colorscale": [
             [
              0,
              "#0d0887"
             ],
             [
              0.1111111111111111,
              "#46039f"
             ],
             [
              0.2222222222222222,
              "#7201a8"
             ],
             [
              0.3333333333333333,
              "#9c179e"
             ],
             [
              0.4444444444444444,
              "#bd3786"
             ],
             [
              0.5555555555555556,
              "#d8576b"
             ],
             [
              0.6666666666666666,
              "#ed7953"
             ],
             [
              0.7777777777777778,
              "#fb9f3a"
             ],
             [
              0.8888888888888888,
              "#fdca26"
             ],
             [
              1,
              "#f0f921"
             ]
            ],
            "type": "heatmapgl"
           }
          ],
          "histogram": [
           {
            "marker": {
             "colorbar": {
              "outlinewidth": 0,
              "ticks": ""
             }
            },
            "type": "histogram"
           }
          ],
          "histogram2d": [
           {
            "colorbar": {
             "outlinewidth": 0,
             "ticks": ""
            },
            "colorscale": [
             [
              0,
              "#0d0887"
             ],
             [
              0.1111111111111111,
              "#46039f"
             ],
             [
              0.2222222222222222,
              "#7201a8"
             ],
             [
              0.3333333333333333,
              "#9c179e"
             ],
             [
              0.4444444444444444,
              "#bd3786"
             ],
             [
              0.5555555555555556,
              "#d8576b"
             ],
             [
              0.6666666666666666,
              "#ed7953"
             ],
             [
              0.7777777777777778,
              "#fb9f3a"
             ],
             [
              0.8888888888888888,
              "#fdca26"
             ],
             [
              1,
              "#f0f921"
             ]
            ],
            "type": "histogram2d"
           }
          ],
          "histogram2dcontour": [
           {
            "colorbar": {
             "outlinewidth": 0,
             "ticks": ""
            },
            "colorscale": [
             [
              0,
              "#0d0887"
             ],
             [
              0.1111111111111111,
              "#46039f"
             ],
             [
              0.2222222222222222,
              "#7201a8"
             ],
             [
              0.3333333333333333,
              "#9c179e"
             ],
             [
              0.4444444444444444,
              "#bd3786"
             ],
             [
              0.5555555555555556,
              "#d8576b"
             ],
             [
              0.6666666666666666,
              "#ed7953"
             ],
             [
              0.7777777777777778,
              "#fb9f3a"
             ],
             [
              0.8888888888888888,
              "#fdca26"
             ],
             [
              1,
              "#f0f921"
             ]
            ],
            "type": "histogram2dcontour"
           }
          ],
          "mesh3d": [
           {
            "colorbar": {
             "outlinewidth": 0,
             "ticks": ""
            },
            "type": "mesh3d"
           }
          ],
          "parcoords": [
           {
            "line": {
             "colorbar": {
              "outlinewidth": 0,
              "ticks": ""
             }
            },
            "type": "parcoords"
           }
          ],
          "scatter": [
           {
            "marker": {
             "colorbar": {
              "outlinewidth": 0,
              "ticks": ""
             }
            },
            "type": "scatter"
           }
          ],
          "scatter3d": [
           {
            "line": {
             "colorbar": {
              "outlinewidth": 0,
              "ticks": ""
             }
            },
            "marker": {
             "colorbar": {
              "outlinewidth": 0,
              "ticks": ""
             }
            },
            "type": "scatter3d"
           }
          ],
          "scattercarpet": [
           {
            "marker": {
             "colorbar": {
              "outlinewidth": 0,
              "ticks": ""
             }
            },
            "type": "scattercarpet"
           }
          ],
          "scattergeo": [
           {
            "marker": {
             "colorbar": {
              "outlinewidth": 0,
              "ticks": ""
             }
            },
            "type": "scattergeo"
           }
          ],
          "scattergl": [
           {
            "marker": {
             "colorbar": {
              "outlinewidth": 0,
              "ticks": ""
             }
            },
            "type": "scattergl"
           }
          ],
          "scattermapbox": [
           {
            "marker": {
             "colorbar": {
              "outlinewidth": 0,
              "ticks": ""
             }
            },
            "type": "scattermapbox"
           }
          ],
          "scatterpolar": [
           {
            "marker": {
             "colorbar": {
              "outlinewidth": 0,
              "ticks": ""
             }
            },
            "type": "scatterpolar"
           }
          ],
          "scatterpolargl": [
           {
            "marker": {
             "colorbar": {
              "outlinewidth": 0,
              "ticks": ""
             }
            },
            "type": "scatterpolargl"
           }
          ],
          "scatterternary": [
           {
            "marker": {
             "colorbar": {
              "outlinewidth": 0,
              "ticks": ""
             }
            },
            "type": "scatterternary"
           }
          ],
          "surface": [
           {
            "colorbar": {
             "outlinewidth": 0,
             "ticks": ""
            },
            "colorscale": [
             [
              0,
              "#0d0887"
             ],
             [
              0.1111111111111111,
              "#46039f"
             ],
             [
              0.2222222222222222,
              "#7201a8"
             ],
             [
              0.3333333333333333,
              "#9c179e"
             ],
             [
              0.4444444444444444,
              "#bd3786"
             ],
             [
              0.5555555555555556,
              "#d8576b"
             ],
             [
              0.6666666666666666,
              "#ed7953"
             ],
             [
              0.7777777777777778,
              "#fb9f3a"
             ],
             [
              0.8888888888888888,
              "#fdca26"
             ],
             [
              1,
              "#f0f921"
             ]
            ],
            "type": "surface"
           }
          ],
          "table": [
           {
            "cells": {
             "fill": {
              "color": "#EBF0F8"
             },
             "line": {
              "color": "white"
             }
            },
            "header": {
             "fill": {
              "color": "#C8D4E3"
             },
             "line": {
              "color": "white"
             }
            },
            "type": "table"
           }
          ]
         },
         "layout": {
          "annotationdefaults": {
           "arrowcolor": "#2a3f5f",
           "arrowhead": 0,
           "arrowwidth": 1
          },
          "colorscale": {
           "diverging": [
            [
             0,
             "#8e0152"
            ],
            [
             0.1,
             "#c51b7d"
            ],
            [
             0.2,
             "#de77ae"
            ],
            [
             0.3,
             "#f1b6da"
            ],
            [
             0.4,
             "#fde0ef"
            ],
            [
             0.5,
             "#f7f7f7"
            ],
            [
             0.6,
             "#e6f5d0"
            ],
            [
             0.7,
             "#b8e186"
            ],
            [
             0.8,
             "#7fbc41"
            ],
            [
             0.9,
             "#4d9221"
            ],
            [
             1,
             "#276419"
            ]
           ],
           "sequential": [
            [
             0,
             "#0d0887"
            ],
            [
             0.1111111111111111,
             "#46039f"
            ],
            [
             0.2222222222222222,
             "#7201a8"
            ],
            [
             0.3333333333333333,
             "#9c179e"
            ],
            [
             0.4444444444444444,
             "#bd3786"
            ],
            [
             0.5555555555555556,
             "#d8576b"
            ],
            [
             0.6666666666666666,
             "#ed7953"
            ],
            [
             0.7777777777777778,
             "#fb9f3a"
            ],
            [
             0.8888888888888888,
             "#fdca26"
            ],
            [
             1,
             "#f0f921"
            ]
           ],
           "sequentialminus": [
            [
             0,
             "#0d0887"
            ],
            [
             0.1111111111111111,
             "#46039f"
            ],
            [
             0.2222222222222222,
             "#7201a8"
            ],
            [
             0.3333333333333333,
             "#9c179e"
            ],
            [
             0.4444444444444444,
             "#bd3786"
            ],
            [
             0.5555555555555556,
             "#d8576b"
            ],
            [
             0.6666666666666666,
             "#ed7953"
            ],
            [
             0.7777777777777778,
             "#fb9f3a"
            ],
            [
             0.8888888888888888,
             "#fdca26"
            ],
            [
             1,
             "#f0f921"
            ]
           ]
          },
          "colorway": [
           "#636efa",
           "#EF553B",
           "#00cc96",
           "#ab63fa",
           "#FFA15A",
           "#19d3f3",
           "#FF6692",
           "#B6E880",
           "#FF97FF",
           "#FECB52"
          ],
          "font": {
           "color": "#2a3f5f"
          },
          "geo": {
           "bgcolor": "white",
           "lakecolor": "white",
           "landcolor": "#E5ECF6",
           "showlakes": true,
           "showland": true,
           "subunitcolor": "white"
          },
          "hoverlabel": {
           "align": "left"
          },
          "hovermode": "closest",
          "mapbox": {
           "style": "light"
          },
          "paper_bgcolor": "white",
          "plot_bgcolor": "#E5ECF6",
          "polar": {
           "angularaxis": {
            "gridcolor": "white",
            "linecolor": "white",
            "ticks": ""
           },
           "bgcolor": "#E5ECF6",
           "radialaxis": {
            "gridcolor": "white",
            "linecolor": "white",
            "ticks": ""
           }
          },
          "scene": {
           "xaxis": {
            "backgroundcolor": "#E5ECF6",
            "gridcolor": "white",
            "gridwidth": 2,
            "linecolor": "white",
            "showbackground": true,
            "ticks": "",
            "zerolinecolor": "white"
           },
           "yaxis": {
            "backgroundcolor": "#E5ECF6",
            "gridcolor": "white",
            "gridwidth": 2,
            "linecolor": "white",
            "showbackground": true,
            "ticks": "",
            "zerolinecolor": "white"
           },
           "zaxis": {
            "backgroundcolor": "#E5ECF6",
            "gridcolor": "white",
            "gridwidth": 2,
            "linecolor": "white",
            "showbackground": true,
            "ticks": "",
            "zerolinecolor": "white"
           }
          },
          "shapedefaults": {
           "line": {
            "color": "#2a3f5f"
           }
          },
          "ternary": {
           "aaxis": {
            "gridcolor": "white",
            "linecolor": "white",
            "ticks": ""
           },
           "baxis": {
            "gridcolor": "white",
            "linecolor": "white",
            "ticks": ""
           },
           "bgcolor": "#E5ECF6",
           "caxis": {
            "gridcolor": "white",
            "linecolor": "white",
            "ticks": ""
           }
          },
          "title": {
           "x": 0.05
          },
          "xaxis": {
           "automargin": true,
           "gridcolor": "white",
           "linecolor": "white",
           "ticks": "",
           "zerolinecolor": "white",
           "zerolinewidth": 2
          },
          "yaxis": {
           "automargin": true,
           "gridcolor": "white",
           "linecolor": "white",
           "ticks": "",
           "zerolinecolor": "white",
           "zerolinewidth": 2
          }
         }
        },
        "title": {
         "text": "Gráfico IsAlone"
        },
        "xaxis": {
         "anchor": "y",
         "categoryarray": [
          false,
          true
         ],
         "categoryorder": "array",
         "domain": [
          0,
          0.3133333333333333
         ],
         "title": {
          "text": "IsAlone"
         }
        },
        "xaxis2": {
         "anchor": "y2",
         "categoryarray": [
          false,
          true
         ],
         "categoryorder": "array",
         "domain": [
          0.3333333333333333,
          0.6466666666666666
         ],
         "matches": "x",
         "title": {
          "text": "IsAlone"
         }
        },
        "xaxis3": {
         "anchor": "y3",
         "categoryarray": [
          false,
          true
         ],
         "categoryorder": "array",
         "domain": [
          0.6666666666666666,
          0.98
         ],
         "matches": "x",
         "title": {
          "text": "IsAlone"
         }
        },
        "xaxis4": {
         "anchor": "y4",
         "domain": [
          0,
          0.3133333333333333
         ],
         "matches": "x",
         "showticklabels": false
        },
        "xaxis5": {
         "anchor": "y5",
         "domain": [
          0.3333333333333333,
          0.6466666666666666
         ],
         "matches": "x",
         "showticklabels": false
        },
        "xaxis6": {
         "anchor": "y6",
         "domain": [
          0.6666666666666666,
          0.98
         ],
         "matches": "x",
         "showticklabels": false
        },
        "yaxis": {
         "anchor": "x",
         "domain": [
          0,
          0.485
         ],
         "title": {
          "text": "count"
         }
        },
        "yaxis2": {
         "anchor": "x2",
         "domain": [
          0,
          0.485
         ],
         "matches": "y",
         "showticklabels": false
        },
        "yaxis3": {
         "anchor": "x3",
         "domain": [
          0,
          0.485
         ],
         "matches": "y",
         "showticklabels": false
        },
        "yaxis4": {
         "anchor": "x4",
         "domain": [
          0.515,
          1
         ],
         "matches": "y",
         "title": {
          "text": "count"
         }
        },
        "yaxis5": {
         "anchor": "x5",
         "domain": [
          0.515,
          1
         ],
         "matches": "y",
         "showticklabels": false
        },
        "yaxis6": {
         "anchor": "x6",
         "domain": [
          0.515,
          1
         ],
         "matches": "y",
         "showticklabels": false
        }
       }
      }
     },
     "metadata": {},
     "output_type": "display_data"
    }
   ],
   "source": [
    "fig = px.histogram(df.sort_values(by=['Pclass']),  x=\"IsAlone\",color=\"IsAlone\", facet_col=\"Pclass\", facet_row=\"Survived\" , title=\"Gráfico IsAlone\")\n",
    "fig.show()"
   ]
  },
  {
   "cell_type": "markdown",
   "metadata": {
    "colab_type": "text",
    "id": "kEnwDxWzP3OY"
   },
   "source": [
    "# Criando os Dummy´s e Definindo o DataFrame para modelo"
   ]
  },
  {
   "cell_type": "code",
   "execution_count": 29,
   "metadata": {},
   "outputs": [
    {
     "data": {
      "text/html": "<div>\n<style scoped>\n    .dataframe tbody tr th:only-of-type {\n        vertical-align: middle;\n    }\n\n    .dataframe tbody tr th {\n        vertical-align: top;\n    }\n\n    .dataframe thead th {\n        text-align: right;\n    }\n</style>\n<table border=\"1\" class=\"dataframe\">\n  <thead>\n    <tr style=\"text-align: right;\">\n      <th></th>\n      <th>PassengerId</th>\n      <th>Survived</th>\n      <th>Pclass</th>\n      <th>Name</th>\n      <th>Sex</th>\n      <th>Age</th>\n      <th>SibSp</th>\n      <th>Parch</th>\n      <th>Ticket</th>\n      <th>Fare</th>\n      <th>Cabin</th>\n      <th>Embarked</th>\n      <th>FE_Age</th>\n      <th>FE_IsAdulto</th>\n      <th>FE_GroupAge</th>\n      <th>FE_Fare</th>\n      <th>FE_AreaCabin</th>\n      <th>IsAlone</th>\n    </tr>\n  </thead>\n  <tbody>\n    <tr>\n      <th>0</th>\n      <td>1</td>\n      <td>0</td>\n      <td>3</td>\n      <td>Braund, Mr. Owen Harris</td>\n      <td>male</td>\n      <td>22.0</td>\n      <td>1</td>\n      <td>0</td>\n      <td>A/5 21171</td>\n      <td>7.2500</td>\n      <td>NaN</td>\n      <td>S</td>\n      <td>22.0</td>\n      <td>1</td>\n      <td>1.0</td>\n      <td>0.0</td>\n      <td>0</td>\n      <td>False</td>\n    </tr>\n    <tr>\n      <th>1</th>\n      <td>2</td>\n      <td>1</td>\n      <td>1</td>\n      <td>Cumings, Mrs. John Bradley (Florence Briggs Th...</td>\n      <td>female</td>\n      <td>38.0</td>\n      <td>1</td>\n      <td>0</td>\n      <td>PC 17599</td>\n      <td>71.2833</td>\n      <td>C85</td>\n      <td>C</td>\n      <td>38.0</td>\n      <td>1</td>\n      <td>2.0</td>\n      <td>3.0</td>\n      <td>C</td>\n      <td>False</td>\n    </tr>\n    <tr>\n      <th>2</th>\n      <td>3</td>\n      <td>1</td>\n      <td>3</td>\n      <td>Heikkinen, Miss. Laina</td>\n      <td>female</td>\n      <td>26.0</td>\n      <td>0</td>\n      <td>0</td>\n      <td>STON/O2. 3101282</td>\n      <td>7.9250</td>\n      <td>NaN</td>\n      <td>S</td>\n      <td>26.0</td>\n      <td>1</td>\n      <td>1.0</td>\n      <td>1.0</td>\n      <td>0</td>\n      <td>True</td>\n    </tr>\n    <tr>\n      <th>3</th>\n      <td>4</td>\n      <td>1</td>\n      <td>1</td>\n      <td>Futrelle, Mrs. Jacques Heath (Lily May Peel)</td>\n      <td>female</td>\n      <td>35.0</td>\n      <td>1</td>\n      <td>0</td>\n      <td>113803</td>\n      <td>53.1000</td>\n      <td>C123</td>\n      <td>S</td>\n      <td>35.0</td>\n      <td>1</td>\n      <td>2.0</td>\n      <td>3.0</td>\n      <td>C</td>\n      <td>False</td>\n    </tr>\n    <tr>\n      <th>4</th>\n      <td>5</td>\n      <td>0</td>\n      <td>3</td>\n      <td>Allen, Mr. William Henry</td>\n      <td>male</td>\n      <td>35.0</td>\n      <td>0</td>\n      <td>0</td>\n      <td>373450</td>\n      <td>8.0500</td>\n      <td>NaN</td>\n      <td>S</td>\n      <td>35.0</td>\n      <td>1</td>\n      <td>2.0</td>\n      <td>1.0</td>\n      <td>0</td>\n      <td>True</td>\n    </tr>\n  </tbody>\n</table>\n</div>",
      "text/plain": "   PassengerId  Survived  Pclass  \\\n0            1         0       3   \n1            2         1       1   \n2            3         1       3   \n3            4         1       1   \n4            5         0       3   \n\n                                                Name     Sex   Age  SibSp  \\\n0                            Braund, Mr. Owen Harris    male  22.0      1   \n1  Cumings, Mrs. John Bradley (Florence Briggs Th...  female  38.0      1   \n2                             Heikkinen, Miss. Laina  female  26.0      0   \n3       Futrelle, Mrs. Jacques Heath (Lily May Peel)  female  35.0      1   \n4                           Allen, Mr. William Henry    male  35.0      0   \n\n   Parch            Ticket     Fare Cabin Embarked  FE_Age  FE_IsAdulto  \\\n0      0         A/5 21171   7.2500   NaN        S    22.0            1   \n1      0          PC 17599  71.2833   C85        C    38.0            1   \n2      0  STON/O2. 3101282   7.9250   NaN        S    26.0            1   \n3      0            113803  53.1000  C123        S    35.0            1   \n4      0            373450   8.0500   NaN        S    35.0            1   \n\n   FE_GroupAge  FE_Fare FE_AreaCabin  IsAlone  \n0          1.0      0.0            0    False  \n1          2.0      3.0            C    False  \n2          1.0      1.0            0     True  \n3          2.0      3.0            C    False  \n4          2.0      1.0            0     True  "
     },
     "execution_count": 29,
     "metadata": {},
     "output_type": "execute_result"
    }
   ],
   "source": [
    "df.head()"
   ]
  },
  {
   "cell_type": "code",
   "execution_count": 30,
   "metadata": {},
   "outputs": [],
   "source": [
    "df_modelo = pd.concat([df, pd.get_dummies(df['Sex'].astype(object), prefix='Sex', drop_first=True)], axis=1)\n",
    "df_modelo = pd.concat([df_modelo, pd.get_dummies(df['Embarked'].astype(object), prefix='Embarked', drop_first=True)], axis=1)\n",
    "df_modelo = pd.concat([df_modelo, pd.get_dummies(df['FE_GroupAge'].astype(object), prefix='FE_GroupAge', drop_first=True)], axis=1)\n",
    "df_modelo = pd.concat([df_modelo, pd.get_dummies(df['FE_Fare'].astype(object), prefix='FE_Fare', drop_first=True)], axis=1)\n",
    "df_modelo = pd.concat([df_modelo, pd.get_dummies(df['Pclass'].astype(object), prefix='Pclass', drop_first=True)], axis=1)\n",
    "df_modelo = pd.concat([df_modelo, pd.get_dummies(df['IsAlone'].astype(object), prefix='IsAlone', drop_first=True)], axis=1)"
   ]
  },
  {
   "cell_type": "code",
   "execution_count": 31,
   "metadata": {},
   "outputs": [
    {
     "data": {
      "text/html": "<div>\n<style scoped>\n    .dataframe tbody tr th:only-of-type {\n        vertical-align: middle;\n    }\n\n    .dataframe tbody tr th {\n        vertical-align: top;\n    }\n\n    .dataframe thead th {\n        text-align: right;\n    }\n</style>\n<table border=\"1\" class=\"dataframe\">\n  <thead>\n    <tr style=\"text-align: right;\">\n      <th></th>\n      <th>Survived</th>\n      <th>Age</th>\n      <th>SibSp</th>\n      <th>Parch</th>\n      <th>FE_Age</th>\n      <th>FE_IsAdulto</th>\n      <th>Sex_male</th>\n      <th>Embarked_Q</th>\n      <th>Embarked_S</th>\n      <th>FE_GroupAge_1.0</th>\n      <th>FE_GroupAge_2.0</th>\n      <th>FE_GroupAge_3.0</th>\n      <th>FE_Fare_1.0</th>\n      <th>FE_Fare_2.0</th>\n      <th>FE_Fare_3.0</th>\n      <th>Pclass_2</th>\n      <th>Pclass_3</th>\n      <th>IsAlone_True</th>\n    </tr>\n  </thead>\n  <tbody>\n    <tr>\n      <th>0</th>\n      <td>0</td>\n      <td>22.0</td>\n      <td>1</td>\n      <td>0</td>\n      <td>22.0</td>\n      <td>1</td>\n      <td>1</td>\n      <td>0</td>\n      <td>1</td>\n      <td>1</td>\n      <td>0</td>\n      <td>0</td>\n      <td>0</td>\n      <td>0</td>\n      <td>0</td>\n      <td>0</td>\n      <td>1</td>\n      <td>0</td>\n    </tr>\n    <tr>\n      <th>1</th>\n      <td>1</td>\n      <td>38.0</td>\n      <td>1</td>\n      <td>0</td>\n      <td>38.0</td>\n      <td>1</td>\n      <td>0</td>\n      <td>0</td>\n      <td>0</td>\n      <td>0</td>\n      <td>1</td>\n      <td>0</td>\n      <td>0</td>\n      <td>0</td>\n      <td>1</td>\n      <td>0</td>\n      <td>0</td>\n      <td>0</td>\n    </tr>\n    <tr>\n      <th>2</th>\n      <td>1</td>\n      <td>26.0</td>\n      <td>0</td>\n      <td>0</td>\n      <td>26.0</td>\n      <td>1</td>\n      <td>0</td>\n      <td>0</td>\n      <td>1</td>\n      <td>1</td>\n      <td>0</td>\n      <td>0</td>\n      <td>1</td>\n      <td>0</td>\n      <td>0</td>\n      <td>0</td>\n      <td>1</td>\n      <td>1</td>\n    </tr>\n    <tr>\n      <th>3</th>\n      <td>1</td>\n      <td>35.0</td>\n      <td>1</td>\n      <td>0</td>\n      <td>35.0</td>\n      <td>1</td>\n      <td>0</td>\n      <td>0</td>\n      <td>1</td>\n      <td>0</td>\n      <td>1</td>\n      <td>0</td>\n      <td>0</td>\n      <td>0</td>\n      <td>1</td>\n      <td>0</td>\n      <td>0</td>\n      <td>0</td>\n    </tr>\n    <tr>\n      <th>4</th>\n      <td>0</td>\n      <td>35.0</td>\n      <td>0</td>\n      <td>0</td>\n      <td>35.0</td>\n      <td>1</td>\n      <td>1</td>\n      <td>0</td>\n      <td>1</td>\n      <td>0</td>\n      <td>1</td>\n      <td>0</td>\n      <td>1</td>\n      <td>0</td>\n      <td>0</td>\n      <td>0</td>\n      <td>1</td>\n      <td>1</td>\n    </tr>\n  </tbody>\n</table>\n</div>",
      "text/plain": "   Survived   Age  SibSp  Parch  FE_Age  FE_IsAdulto  Sex_male  Embarked_Q  \\\n0         0  22.0      1      0    22.0            1         1           0   \n1         1  38.0      1      0    38.0            1         0           0   \n2         1  26.0      0      0    26.0            1         0           0   \n3         1  35.0      1      0    35.0            1         0           0   \n4         0  35.0      0      0    35.0            1         1           0   \n\n   Embarked_S  FE_GroupAge_1.0  FE_GroupAge_2.0  FE_GroupAge_3.0  FE_Fare_1.0  \\\n0           1                1                0                0            0   \n1           0                0                1                0            0   \n2           1                1                0                0            1   \n3           1                0                1                0            0   \n4           1                0                1                0            1   \n\n   FE_Fare_2.0  FE_Fare_3.0  Pclass_2  Pclass_3  IsAlone_True  \n0            0            0         0         1             0  \n1            0            1         0         0             0  \n2            0            0         0         1             1  \n3            0            1         0         0             0  \n4            0            0         0         1             1  "
     },
     "execution_count": 31,
     "metadata": {},
     "output_type": "execute_result"
    }
   ],
   "source": [
    "df_modelo = df_modelo.drop(columns = ['PassengerId','Name','Sex','Ticket', 'Fare', 'Cabin', 'Embarked', 'FE_AreaCabin', 'FE_GroupAge', 'FE_Fare', \"Pclass\",'IsAlone'],axis = 1)\n",
    "df_modelo.head()"
   ]
  },
  {
   "cell_type": "code",
   "execution_count": 32,
   "metadata": {},
   "outputs": [
    {
     "name": "stdout",
     "output_type": "stream",
     "text": "<class 'pandas.core.frame.DataFrame'>\nInt64Index: 889 entries, 0 to 890\nData columns (total 18 columns):\nSurvived           889 non-null int64\nAge                712 non-null float64\nSibSp              889 non-null int64\nParch              889 non-null int64\nFE_Age             889 non-null float64\nFE_IsAdulto        889 non-null int32\nSex_male           889 non-null uint8\nEmbarked_Q         889 non-null uint8\nEmbarked_S         889 non-null uint8\nFE_GroupAge_1.0    889 non-null uint8\nFE_GroupAge_2.0    889 non-null uint8\nFE_GroupAge_3.0    889 non-null uint8\nFE_Fare_1.0        889 non-null uint8\nFE_Fare_2.0        889 non-null uint8\nFE_Fare_3.0        889 non-null uint8\nPclass_2           889 non-null uint8\nPclass_3           889 non-null uint8\nIsAlone_True       889 non-null uint8\ndtypes: float64(2), int32(1), int64(3), uint8(12)\nmemory usage: 55.6 KB\n"
    }
   ],
   "source": [
    "df_modelo.info()"
   ]
  },
  {
   "cell_type": "markdown",
   "metadata": {
    "colab_type": "text",
    "id": "A2IAplQVUd0M"
   },
   "source": [
    "# Realizada o treino do Modelo através do Metodo de Regressão Logistica"
   ]
  },
  {
   "cell_type": "code",
   "execution_count": 33,
   "metadata": {},
   "outputs": [],
   "source": [
    "def CMatrix(CM,labels =['Survived','Not_Survived']):\n",
    "    df = pd.DataFrame( data = CM, index = labels, columns = labels)\n",
    "    df.index.name ='Real'\n",
    "    df.columns.name = 'Previsto'\n",
    "    df.loc['Total']= df.sum()\n",
    "    df['Total']= df.sum(axis=1)\n",
    "    return df "
   ]
  },
  {
   "cell_type": "code",
   "execution_count": 34,
   "metadata": {},
   "outputs": [],
   "source": [
    "def regressao_logistica(X, y, oversampling):\n",
    "  Y = le.fit_transform(y)\n",
    "  Y = np.ravel(Y)\n",
    "  X_train, X_test, y_train, y_test = train_test_split(X,Y, test_size=0.3,random_state=123,stratify=Y)\n",
    "  \n",
    "  X_train_res = X_train\n",
    "  y_train_res = y_train\n",
    "  \n",
    "  if oversampling == 1:\n",
    "    sm = SMOTE(random_state=1234)\n",
    "    X_train_res, y_train_res = sm.fit_sample(X_train, y_train.ravel())\n",
    "  \n",
    "    \n",
    "  logistic_regression= LogisticRegression(solver = 'sag', max_iter = 5000)\n",
    "  log = logistic_regression.fit(X_train_res,y_train_res)\n",
    "  \n",
    "  y_pred_test_log = logistic_regression.predict(X_test)\n",
    "  acuracia_log = accuracy_score(y_pred=y_pred_test_log,y_true=y_test)\n",
    "  precisao_log = precision_score(y_pred=y_pred_test_log,y_true=y_test)\n",
    "  recall_log = recall_score(y_pred=y_pred_test_log,y_true=y_test)\n",
    "  %precision\n",
    "  CM= confusion_matrix(y_pred=y_pred_test_log,y_true=y_test)\n",
    "  print(\"Precisão:\", precisao_log, \"Acuracia:\", acuracia_log, \"Recall:\", recall_log)\n",
    "  matriz = CMatrix(CM) \n",
    "  print(matriz)\n",
    "  return matriz , acuracia_log, precisao_log, recall_log, log"
   ]
  },
  {
   "cell_type": "markdown",
   "metadata": {},
   "source": [
    "## Modelo 1 - usando os GroupAge"
   ]
  },
  {
   "cell_type": "code",
   "execution_count": 35,
   "metadata": {},
   "outputs": [],
   "source": [
    "df_modelo1 = df_modelo.drop(columns=['Age', \"FE_Age\"], axis=1)\n",
    "df_modelo1.head()\n",
    "X1 = df_modelo1.iloc[:,1:]\n",
    "y1 = df_modelo1.iloc[:,0]"
   ]
  },
  {
   "cell_type": "code",
   "execution_count": 36,
   "metadata": {},
   "outputs": [
    {
     "name": "stdout",
     "output_type": "stream",
     "text": "Precisão: 0.7522935779816514 Acuracia: 0.8239700374531835 Recall: 0.803921568627451\nPrevisto      Survived  Not_Survived  Total\nReal                                       \nSurvived           138            27    165\nNot_Survived        20            82    102\nTotal              158           109    267\n"
    }
   ],
   "source": [
    "RM1_balanceado = regressao_logistica(X1, y1, 1)"
   ]
  },
  {
   "cell_type": "code",
   "execution_count": 37,
   "metadata": {},
   "outputs": [
    {
     "name": "stdout",
     "output_type": "stream",
     "text": "Precisão: 0.7731958762886598 Acuracia: 0.8164794007490637 Recall: 0.7352941176470589\nPrevisto      Survived  Not_Survived  Total\nReal                                       \nSurvived           143            22    165\nNot_Survived        27            75    102\nTotal              170            97    267\n"
    }
   ],
   "source": [
    "RM1_nao_balanceado = regressao_logistica(X1, y1, 0)"
   ]
  },
  {
   "cell_type": "markdown",
   "metadata": {},
   "source": [
    "# Modelo 2 - usando o FE_Age"
   ]
  },
  {
   "cell_type": "code",
   "execution_count": 38,
   "metadata": {},
   "outputs": [],
   "source": [
    "df_modelo2 = df_modelo.drop(columns=['Age', 'FE_GroupAge_1.0','FE_GroupAge_2.0','FE_GroupAge_3.0' ], axis=1)\n",
    "df_modelo2.head()\n",
    "X2 = df_modelo2.iloc[:,1:]\n",
    "y2 = df_modelo2.iloc[:,0]"
   ]
  },
  {
   "cell_type": "code",
   "execution_count": 39,
   "metadata": {},
   "outputs": [
    {
     "name": "stdout",
     "output_type": "stream",
     "text": "Precisão: 0.7024793388429752 Acuracia: 0.8014981273408239 Recall: 0.8333333333333334\nPrevisto      Survived  Not_Survived  Total\nReal                                       \nSurvived           129            36    165\nNot_Survived        17            85    102\nTotal              146           121    267\n"
    }
   ],
   "source": [
    "RM2_balanceado = regressao_logistica(X2, y2, 1)"
   ]
  },
  {
   "cell_type": "code",
   "execution_count": 40,
   "metadata": {},
   "outputs": [
    {
     "name": "stdout",
     "output_type": "stream",
     "text": "Precisão: 0.7835051546391752 Acuracia: 0.8239700374531835 Recall: 0.7450980392156863\nPrevisto      Survived  Not_Survived  Total\nReal                                       \nSurvived           144            21    165\nNot_Survived        26            76    102\nTotal              170            97    267\n"
    }
   ],
   "source": [
    "RM2_nao_balanceado = regressao_logistica(X2, y2, 0)"
   ]
  },
  {
   "cell_type": "markdown",
   "metadata": {},
   "source": [
    "# Modelo 3 - usando regressão linear para definir Age = NULL"
   ]
  },
  {
   "cell_type": "code",
   "execution_count": 41,
   "metadata": {},
   "outputs": [
    {
     "data": {
      "text/html": "<div>\n<style scoped>\n    .dataframe tbody tr th:only-of-type {\n        vertical-align: middle;\n    }\n\n    .dataframe tbody tr th {\n        vertical-align: top;\n    }\n\n    .dataframe thead th {\n        text-align: right;\n    }\n</style>\n<table border=\"1\" class=\"dataframe\">\n  <thead>\n    <tr style=\"text-align: right;\">\n      <th></th>\n      <th>Survived</th>\n      <th>Age</th>\n      <th>SibSp</th>\n      <th>Parch</th>\n      <th>FE_IsAdulto</th>\n      <th>Sex_male</th>\n      <th>Embarked_Q</th>\n      <th>Embarked_S</th>\n      <th>FE_Fare_1.0</th>\n      <th>FE_Fare_2.0</th>\n      <th>FE_Fare_3.0</th>\n      <th>Pclass_2</th>\n      <th>Pclass_3</th>\n      <th>IsAlone_True</th>\n    </tr>\n  </thead>\n  <tbody>\n    <tr>\n      <th>0</th>\n      <td>0</td>\n      <td>22.0</td>\n      <td>1</td>\n      <td>0</td>\n      <td>1</td>\n      <td>1</td>\n      <td>0</td>\n      <td>1</td>\n      <td>0</td>\n      <td>0</td>\n      <td>0</td>\n      <td>0</td>\n      <td>1</td>\n      <td>0</td>\n    </tr>\n    <tr>\n      <th>1</th>\n      <td>1</td>\n      <td>38.0</td>\n      <td>1</td>\n      <td>0</td>\n      <td>1</td>\n      <td>0</td>\n      <td>0</td>\n      <td>0</td>\n      <td>0</td>\n      <td>0</td>\n      <td>1</td>\n      <td>0</td>\n      <td>0</td>\n      <td>0</td>\n    </tr>\n    <tr>\n      <th>2</th>\n      <td>1</td>\n      <td>26.0</td>\n      <td>0</td>\n      <td>0</td>\n      <td>1</td>\n      <td>0</td>\n      <td>0</td>\n      <td>1</td>\n      <td>1</td>\n      <td>0</td>\n      <td>0</td>\n      <td>0</td>\n      <td>1</td>\n      <td>1</td>\n    </tr>\n    <tr>\n      <th>3</th>\n      <td>1</td>\n      <td>35.0</td>\n      <td>1</td>\n      <td>0</td>\n      <td>1</td>\n      <td>0</td>\n      <td>0</td>\n      <td>1</td>\n      <td>0</td>\n      <td>0</td>\n      <td>1</td>\n      <td>0</td>\n      <td>0</td>\n      <td>0</td>\n    </tr>\n    <tr>\n      <th>4</th>\n      <td>0</td>\n      <td>35.0</td>\n      <td>0</td>\n      <td>0</td>\n      <td>1</td>\n      <td>1</td>\n      <td>0</td>\n      <td>1</td>\n      <td>1</td>\n      <td>0</td>\n      <td>0</td>\n      <td>0</td>\n      <td>1</td>\n      <td>1</td>\n    </tr>\n  </tbody>\n</table>\n</div>",
      "text/plain": "   Survived   Age  SibSp  Parch  FE_IsAdulto  Sex_male  Embarked_Q  \\\n0         0  22.0      1      0            1         1           0   \n1         1  38.0      1      0            1         0           0   \n2         1  26.0      0      0            1         0           0   \n3         1  35.0      1      0            1         0           0   \n4         0  35.0      0      0            1         1           0   \n\n   Embarked_S  FE_Fare_1.0  FE_Fare_2.0  FE_Fare_3.0  Pclass_2  Pclass_3  \\\n0           1            0            0            0         0         1   \n1           0            0            0            1         0         0   \n2           1            1            0            0         0         1   \n3           1            0            0            1         0         0   \n4           1            1            0            0         0         1   \n\n   IsAlone_True  \n0             0  \n1             0  \n2             1  \n3             0  \n4             1  "
     },
     "execution_count": 41,
     "metadata": {},
     "output_type": "execute_result"
    }
   ],
   "source": [
    "df_modelo3 = df_modelo.drop(columns=[\"FE_Age\", 'FE_GroupAge_1.0','FE_GroupAge_2.0','FE_GroupAge_3.0' ], axis=1)\n",
    "df_modelo3.head()\n"
   ]
  },
  {
   "cell_type": "code",
   "execution_count": 42,
   "metadata": {},
   "outputs": [
    {
     "data": {
      "text/html": "<div>\n<style scoped>\n    .dataframe tbody tr th:only-of-type {\n        vertical-align: middle;\n    }\n\n    .dataframe tbody tr th {\n        vertical-align: top;\n    }\n\n    .dataframe thead th {\n        text-align: right;\n    }\n</style>\n<table border=\"1\" class=\"dataframe\">\n  <thead>\n    <tr style=\"text-align: right;\">\n      <th></th>\n      <th>survived</th>\n      <th>age</th>\n      <th>sibsp</th>\n      <th>parch</th>\n      <th>fe_isadulto</th>\n      <th>sex_male</th>\n      <th>embarked_q</th>\n      <th>embarked_s</th>\n      <th>fe_fare_1_0</th>\n      <th>fe_fare_2_0</th>\n      <th>fe_fare_3_0</th>\n      <th>pclass_2</th>\n      <th>pclass_3</th>\n      <th>isalone_true</th>\n    </tr>\n  </thead>\n  <tbody>\n    <tr>\n      <th>0</th>\n      <td>0</td>\n      <td>22.0</td>\n      <td>1</td>\n      <td>0</td>\n      <td>1</td>\n      <td>1</td>\n      <td>0</td>\n      <td>1</td>\n      <td>0</td>\n      <td>0</td>\n      <td>0</td>\n      <td>0</td>\n      <td>1</td>\n      <td>0</td>\n    </tr>\n    <tr>\n      <th>1</th>\n      <td>1</td>\n      <td>38.0</td>\n      <td>1</td>\n      <td>0</td>\n      <td>1</td>\n      <td>0</td>\n      <td>0</td>\n      <td>0</td>\n      <td>0</td>\n      <td>0</td>\n      <td>1</td>\n      <td>0</td>\n      <td>0</td>\n      <td>0</td>\n    </tr>\n    <tr>\n      <th>2</th>\n      <td>1</td>\n      <td>26.0</td>\n      <td>0</td>\n      <td>0</td>\n      <td>1</td>\n      <td>0</td>\n      <td>0</td>\n      <td>1</td>\n      <td>1</td>\n      <td>0</td>\n      <td>0</td>\n      <td>0</td>\n      <td>1</td>\n      <td>1</td>\n    </tr>\n    <tr>\n      <th>3</th>\n      <td>1</td>\n      <td>35.0</td>\n      <td>1</td>\n      <td>0</td>\n      <td>1</td>\n      <td>0</td>\n      <td>0</td>\n      <td>1</td>\n      <td>0</td>\n      <td>0</td>\n      <td>1</td>\n      <td>0</td>\n      <td>0</td>\n      <td>0</td>\n    </tr>\n    <tr>\n      <th>4</th>\n      <td>0</td>\n      <td>35.0</td>\n      <td>0</td>\n      <td>0</td>\n      <td>1</td>\n      <td>1</td>\n      <td>0</td>\n      <td>1</td>\n      <td>1</td>\n      <td>0</td>\n      <td>0</td>\n      <td>0</td>\n      <td>1</td>\n      <td>1</td>\n    </tr>\n  </tbody>\n</table>\n</div>",
      "text/plain": "   survived   age  sibsp  parch  fe_isadulto  sex_male  embarked_q  \\\n0         0  22.0      1      0            1         1           0   \n1         1  38.0      1      0            1         0           0   \n2         1  26.0      0      0            1         0           0   \n3         1  35.0      1      0            1         0           0   \n4         0  35.0      0      0            1         1           0   \n\n   embarked_s  fe_fare_1_0  fe_fare_2_0  fe_fare_3_0  pclass_2  pclass_3  \\\n0           1            0            0            0         0         1   \n1           0            0            0            1         0         0   \n2           1            1            0            0         0         1   \n3           1            0            0            1         0         0   \n4           1            1            0            0         0         1   \n\n   isalone_true  \n0             0  \n1             0  \n2             1  \n3             0  \n4             1  "
     },
     "execution_count": 42,
     "metadata": {},
     "output_type": "execute_result"
    }
   ],
   "source": [
    "df_modelo3 = df_modelo3.clean_names()\n",
    "df_modelo3.head()"
   ]
  },
  {
   "cell_type": "code",
   "execution_count": 43,
   "metadata": {},
   "outputs": [
    {
     "data": {
      "image/png": "[encoded data removed]",
      "image/svg+xml": "<?xml version=\"1.0\" encoding=\"utf-8\" standalone=\"no\"?>\r\n<!DOCTYPE svg PUBLIC \"-//W3C//DTD SVG 1.1//EN\"\r\n  \"http://www.w3.org/Graphics/SVG/1.1/DTD/svg11.dtd\">\r\n<!-- Created with matplotlib (https://matplotlib.org/) -->\r\n<svg height=\"312.390314pt\" version=\"1.1\" viewBox=\"0 0 407.148125 312.390314\" width=\"407.148125pt\" xmlns=\"http://www.w3.org/2000/svg\" xmlns:xlink=\"http://www.w3.org/1999/xlink\">\r\n <defs>\r\n  <style type=\"text/css\">\r\n*{stroke-linecap:butt;stroke-linejoin:round;white-space:pre;}\r\n  </style>\r\n </defs>\r\n <g id=\"figure_1\">\r\n  <g id=\"patch_1\">\r\n   <path d=\"M 0 312.390314 \r\nL 407.148125 312.390314 \r\nL 407.148125 0 \r\nL 0 0 \r\nz\r\n\" style=\"fill:#ffffff;\"/>\r\n  </g>\r\n  <g id=\"axes_1\">\r\n   <g id=\"patch_2\">\r\n    <path d=\"M 42.828125 274.834064 \r\nL 399.948125 274.834064 \r\nL 399.948125 8.722064 \r\nL 42.828125 8.722064 \r\nz\r\n\" style=\"fill:#ffffff;\"/>\r\n   </g>\r\n   <g id=\"patch_3\">\r\n    <path clip-path=\"url(#p908533d87e)\" d=\"M 95.203132 274.834064 \r\nL 112.027798 274.834064 \r\nL 112.027798 187.028079 \r\nL 95.203132 187.028079 \r\nz\r\n\" style=\"fill:#1f77b4;opacity:0.4;\"/>\r\n   </g>\r\n   <g id=\"patch_4\">\r\n    <path clip-path=\"url(#p908533d87e)\" d=\"M 112.027798 274.834064 \r\nL 128.852463 274.834064 \r\nL 128.852463 226.93989 \r\nL 112.027798 226.93989 \r\nz\r\n\" style=\"fill:#1f77b4;opacity:0.4;\"/>\r\n   </g>\r\n   <g id=\"patch_5\">\r\n    <path clip-path=\"url(#p908533d87e)\" d=\"M 128.852463 274.834064 \r\nL 145.677129 274.834064 \r\nL 145.677129 210.975166 \r\nL 128.852463 210.975166 \r\nz\r\n\" style=\"fill:#1f77b4;opacity:0.4;\"/>\r\n   </g>\r\n   <g id=\"patch_6\">\r\n    <path clip-path=\"url(#p908533d87e)\" d=\"M 145.677129 274.834064 \r\nL 162.501795 274.834064 \r\nL 162.501795 67.292646 \r\nL 145.677129 67.292646 \r\nz\r\n\" style=\"fill:#1f77b4;opacity:0.4;\"/>\r\n   </g>\r\n   <g id=\"patch_7\">\r\n    <path clip-path=\"url(#p908533d87e)\" d=\"M 162.501795 274.834064 \r\nL 179.326461 274.834064 \r\nL 179.326461 45.34115 \r\nL 162.501795 45.34115 \r\nz\r\n\" style=\"fill:#1f77b4;opacity:0.4;\"/>\r\n   </g>\r\n   <g id=\"patch_8\">\r\n    <path clip-path=\"url(#p908533d87e)\" d=\"M 179.326461 274.834064 \r\nL 196.151126 274.834064 \r\nL 196.151126 21.394064 \r\nL 179.326461 21.394064 \r\nz\r\n\" style=\"fill:#1f77b4;opacity:0.4;\"/>\r\n   </g>\r\n   <g id=\"patch_9\">\r\n    <path clip-path=\"url(#p908533d87e)\" d=\"M 196.151126 274.834064 \r\nL 212.975792 274.834064 \r\nL 212.975792 115.18682 \r\nL 196.151126 115.18682 \r\nz\r\n\" style=\"fill:#1f77b4;opacity:0.4;\"/>\r\n   </g>\r\n   <g id=\"patch_10\">\r\n    <path clip-path=\"url(#p908533d87e)\" d=\"M 212.975792 274.834064 \r\nL 229.800458 274.834064 \r\nL 229.800458 159.089812 \r\nL 212.975792 159.089812 \r\nz\r\n\" style=\"fill:#1f77b4;opacity:0.4;\"/>\r\n   </g>\r\n   <g id=\"patch_11\">\r\n    <path clip-path=\"url(#p908533d87e)\" d=\"M 229.800458 274.834064 \r\nL 246.625124 274.834064 \r\nL 246.625124 177.050127 \r\nL 229.800458 177.050127 \r\nz\r\n\" style=\"fill:#1f77b4;opacity:0.4;\"/>\r\n   </g>\r\n   <g id=\"patch_12\">\r\n    <path clip-path=\"url(#p908533d87e)\" d=\"M 246.625124 274.834064 \r\nL 263.449789 274.834064 \r\nL 263.449789 214.966347 \r\nL 246.625124 214.966347 \r\nz\r\n\" style=\"fill:#1f77b4;opacity:0.4;\"/>\r\n   </g>\r\n   <g id=\"patch_13\">\r\n    <path clip-path=\"url(#p908533d87e)\" d=\"M 263.449789 274.834064 \r\nL 280.274455 274.834064 \r\nL 280.274455 230.931072 \r\nL 263.449789 230.931072 \r\nz\r\n\" style=\"fill:#1f77b4;opacity:0.4;\"/>\r\n   </g>\r\n   <g id=\"patch_14\">\r\n    <path clip-path=\"url(#p908533d87e)\" d=\"M 280.274455 274.834064 \r\nL 297.099121 274.834064 \r\nL 297.099121 242.904615 \r\nL 280.274455 242.904615 \r\nz\r\n\" style=\"fill:#1f77b4;opacity:0.4;\"/>\r\n   </g>\r\n   <g id=\"patch_15\">\r\n    <path clip-path=\"url(#p908533d87e)\" d=\"M 297.099121 274.834064 \r\nL 313.923787 274.834064 \r\nL 313.923787 266.851701 \r\nL 297.099121 266.851701 \r\nz\r\n\" style=\"fill:#1f77b4;opacity:0.4;\"/>\r\n   </g>\r\n   <g id=\"patch_16\">\r\n    <path clip-path=\"url(#p908533d87e)\" d=\"M 313.923787 274.834064 \r\nL 330.748452 274.834064 \r\nL 330.748452 262.86052 \r\nL 313.923787 262.86052 \r\nz\r\n\" style=\"fill:#1f77b4;opacity:0.4;\"/>\r\n   </g>\r\n   <g id=\"patch_17\">\r\n    <path clip-path=\"url(#p908533d87e)\" d=\"M 330.748452 274.834064 \r\nL 347.573118 274.834064 \r\nL 347.573118 272.838473 \r\nL 330.748452 272.838473 \r\nz\r\n\" style=\"fill:#1f77b4;opacity:0.4;\"/>\r\n   </g>\r\n   <g id=\"matplotlib.axis_1\">\r\n    <g id=\"xtick_1\">\r\n     <g id=\"line2d_1\">\r\n      <defs>\r\n       <path d=\"M 0 0 \r\nL 0 3.5 \r\n\" id=\"mdcf05c9600\" style=\"stroke:#000000;stroke-width:0.8;\"/>\r\n      </defs>\r\n      <g>\r\n       <use style=\"stroke:#000000;stroke-width:0.8;\" x=\"93.871197\" xlink:href=\"#mdcf05c9600\" y=\"274.834064\"/>\r\n      </g>\r\n     </g>\r\n     <g id=\"text_1\">\r\n      <!-- 0 -->\r\n      <defs>\r\n       <path d=\"M 31.78125 66.40625 \r\nQ 24.171875 66.40625 20.328125 58.90625 \r\nQ 16.5 51.421875 16.5 36.375 \r\nQ 16.5 21.390625 20.328125 13.890625 \r\nQ 24.171875 6.390625 31.78125 6.390625 \r\nQ 39.453125 6.390625 43.28125 13.890625 \r\nQ 47.125 21.390625 47.125 36.375 \r\nQ 47.125 51.421875 43.28125 58.90625 \r\nQ 39.453125 66.40625 31.78125 66.40625 \r\nz\r\nM 31.78125 74.21875 \r\nQ 44.046875 74.21875 50.515625 64.515625 \r\nQ 56.984375 54.828125 56.984375 36.375 \r\nQ 56.984375 17.96875 50.515625 8.265625 \r\nQ 44.046875 -1.421875 31.78125 -1.421875 \r\nQ 19.53125 -1.421875 13.0625 8.265625 \r\nQ 6.59375 17.96875 6.59375 36.375 \r\nQ 6.59375 54.828125 13.0625 64.515625 \r\nQ 19.53125 74.21875 31.78125 74.21875 \r\nz\r\n\" id=\"DejaVuSans-48\"/>\r\n      </defs>\r\n      <g transform=\"translate(90.689947 289.432501)scale(0.1 -0.1)\">\r\n       <use xlink:href=\"#DejaVuSans-48\"/>\r\n      </g>\r\n     </g>\r\n    </g>\r\n    <g id=\"xtick_2\">\r\n     <g id=\"line2d_2\">\r\n      <g>\r\n       <use style=\"stroke:#000000;stroke-width:0.8;\" x=\"157.296677\" xlink:href=\"#mdcf05c9600\" y=\"274.834064\"/>\r\n      </g>\r\n     </g>\r\n     <g id=\"text_2\">\r\n      <!-- 20 -->\r\n      <defs>\r\n       <path d=\"M 19.1875 8.296875 \r\nL 53.609375 8.296875 \r\nL 53.609375 0 \r\nL 7.328125 0 \r\nL 7.328125 8.296875 \r\nQ 12.9375 14.109375 22.625 23.890625 \r\nQ 32.328125 33.6875 34.8125 36.53125 \r\nQ 39.546875 41.84375 41.421875 45.53125 \r\nQ 43.3125 49.21875 43.3125 52.78125 \r\nQ 43.3125 58.59375 39.234375 62.25 \r\nQ 35.15625 65.921875 28.609375 65.921875 \r\nQ 23.96875 65.921875 18.8125 64.3125 \r\nQ 13.671875 62.703125 7.8125 59.421875 \r\nL 7.8125 69.390625 \r\nQ 13.765625 71.78125 18.9375 73 \r\nQ 24.125 74.21875 28.421875 74.21875 \r\nQ 39.75 74.21875 46.484375 68.546875 \r\nQ 53.21875 62.890625 53.21875 53.421875 \r\nQ 53.21875 48.921875 51.53125 44.890625 \r\nQ 49.859375 40.875 45.40625 35.40625 \r\nQ 44.1875 33.984375 37.640625 27.21875 \r\nQ 31.109375 20.453125 19.1875 8.296875 \r\nz\r\n\" id=\"DejaVuSans-50\"/>\r\n      </defs>\r\n      <g transform=\"translate(150.934177 289.432501)scale(0.1 -0.1)\">\r\n       <use xlink:href=\"#DejaVuSans-50\"/>\r\n       <use x=\"63.623047\" xlink:href=\"#DejaVuSans-48\"/>\r\n      </g>\r\n     </g>\r\n    </g>\r\n    <g id=\"xtick_3\">\r\n     <g id=\"line2d_3\">\r\n      <g>\r\n       <use style=\"stroke:#000000;stroke-width:0.8;\" x=\"220.722157\" xlink:href=\"#mdcf05c9600\" y=\"274.834064\"/>\r\n      </g>\r\n     </g>\r\n     <g id=\"text_3\">\r\n      <!-- 40 -->\r\n      <defs>\r\n       <path d=\"M 37.796875 64.3125 \r\nL 12.890625 25.390625 \r\nL 37.796875 25.390625 \r\nz\r\nM 35.203125 72.90625 \r\nL 47.609375 72.90625 \r\nL 47.609375 25.390625 \r\nL 58.015625 25.390625 \r\nL 58.015625 17.1875 \r\nL 47.609375 17.1875 \r\nL 47.609375 0 \r\nL 37.796875 0 \r\nL 37.796875 17.1875 \r\nL 4.890625 17.1875 \r\nL 4.890625 26.703125 \r\nz\r\n\" id=\"DejaVuSans-52\"/>\r\n      </defs>\r\n      <g transform=\"translate(214.359657 289.432501)scale(0.1 -0.1)\">\r\n       <use xlink:href=\"#DejaVuSans-52\"/>\r\n       <use x=\"63.623047\" xlink:href=\"#DejaVuSans-48\"/>\r\n      </g>\r\n     </g>\r\n    </g>\r\n    <g id=\"xtick_4\">\r\n     <g id=\"line2d_4\">\r\n      <g>\r\n       <use style=\"stroke:#000000;stroke-width:0.8;\" x=\"284.147638\" xlink:href=\"#mdcf05c9600\" y=\"274.834064\"/>\r\n      </g>\r\n     </g>\r\n     <g id=\"text_4\">\r\n      <!-- 60 -->\r\n      <defs>\r\n       <path d=\"M 33.015625 40.375 \r\nQ 26.375 40.375 22.484375 35.828125 \r\nQ 18.609375 31.296875 18.609375 23.390625 \r\nQ 18.609375 15.53125 22.484375 10.953125 \r\nQ 26.375 6.390625 33.015625 6.390625 \r\nQ 39.65625 6.390625 43.53125 10.953125 \r\nQ 47.40625 15.53125 47.40625 23.390625 \r\nQ 47.40625 31.296875 43.53125 35.828125 \r\nQ 39.65625 40.375 33.015625 40.375 \r\nz\r\nM 52.59375 71.296875 \r\nL 52.59375 62.3125 \r\nQ 48.875 64.0625 45.09375 64.984375 \r\nQ 41.3125 65.921875 37.59375 65.921875 \r\nQ 27.828125 65.921875 22.671875 59.328125 \r\nQ 17.53125 52.734375 16.796875 39.40625 \r\nQ 19.671875 43.65625 24.015625 45.921875 \r\nQ 28.375 48.1875 33.59375 48.1875 \r\nQ 44.578125 48.1875 50.953125 41.515625 \r\nQ 57.328125 34.859375 57.328125 23.390625 \r\nQ 57.328125 12.15625 50.6875 5.359375 \r\nQ 44.046875 -1.421875 33.015625 -1.421875 \r\nQ 20.359375 -1.421875 13.671875 8.265625 \r\nQ 6.984375 17.96875 6.984375 36.375 \r\nQ 6.984375 53.65625 15.1875 63.9375 \r\nQ 23.390625 74.21875 37.203125 74.21875 \r\nQ 40.921875 74.21875 44.703125 73.484375 \r\nQ 48.484375 72.75 52.59375 71.296875 \r\nz\r\n\" id=\"DejaVuSans-54\"/>\r\n      </defs>\r\n      <g transform=\"translate(277.785138 289.432501)scale(0.1 -0.1)\">\r\n       <use xlink:href=\"#DejaVuSans-54\"/>\r\n       <use x=\"63.623047\" xlink:href=\"#DejaVuSans-48\"/>\r\n      </g>\r\n     </g>\r\n    </g>\r\n    <g id=\"xtick_5\">\r\n     <g id=\"line2d_5\">\r\n      <g>\r\n       <use style=\"stroke:#000000;stroke-width:0.8;\" x=\"347.573118\" xlink:href=\"#mdcf05c9600\" y=\"274.834064\"/>\r\n      </g>\r\n     </g>\r\n     <g id=\"text_5\">\r\n      <!-- 80 -->\r\n      <defs>\r\n       <path d=\"M 31.78125 34.625 \r\nQ 24.75 34.625 20.71875 30.859375 \r\nQ 16.703125 27.09375 16.703125 20.515625 \r\nQ 16.703125 13.921875 20.71875 10.15625 \r\nQ 24.75 6.390625 31.78125 6.390625 \r\nQ 38.8125 6.390625 42.859375 10.171875 \r\nQ 46.921875 13.96875 46.921875 20.515625 \r\nQ 46.921875 27.09375 42.890625 30.859375 \r\nQ 38.875 34.625 31.78125 34.625 \r\nz\r\nM 21.921875 38.8125 \r\nQ 15.578125 40.375 12.03125 44.71875 \r\nQ 8.5 49.078125 8.5 55.328125 \r\nQ 8.5 64.0625 14.71875 69.140625 \r\nQ 20.953125 74.21875 31.78125 74.21875 \r\nQ 42.671875 74.21875 48.875 69.140625 \r\nQ 55.078125 64.0625 55.078125 55.328125 \r\nQ 55.078125 49.078125 51.53125 44.71875 \r\nQ 48 40.375 41.703125 38.8125 \r\nQ 48.828125 37.15625 52.796875 32.3125 \r\nQ 56.78125 27.484375 56.78125 20.515625 \r\nQ 56.78125 9.90625 50.3125 4.234375 \r\nQ 43.84375 -1.421875 31.78125 -1.421875 \r\nQ 19.734375 -1.421875 13.25 4.234375 \r\nQ 6.78125 9.90625 6.78125 20.515625 \r\nQ 6.78125 27.484375 10.78125 32.3125 \r\nQ 14.796875 37.15625 21.921875 38.8125 \r\nz\r\nM 18.3125 54.390625 \r\nQ 18.3125 48.734375 21.84375 45.5625 \r\nQ 25.390625 42.390625 31.78125 42.390625 \r\nQ 38.140625 42.390625 41.71875 45.5625 \r\nQ 45.3125 48.734375 45.3125 54.390625 \r\nQ 45.3125 60.0625 41.71875 63.234375 \r\nQ 38.140625 66.40625 31.78125 66.40625 \r\nQ 25.390625 66.40625 21.84375 63.234375 \r\nQ 18.3125 60.0625 18.3125 54.390625 \r\nz\r\n\" id=\"DejaVuSans-56\"/>\r\n      </defs>\r\n      <g transform=\"translate(341.210618 289.432501)scale(0.1 -0.1)\">\r\n       <use xlink:href=\"#DejaVuSans-56\"/>\r\n       <use x=\"63.623047\" xlink:href=\"#DejaVuSans-48\"/>\r\n      </g>\r\n     </g>\r\n    </g>\r\n    <g id=\"text_6\">\r\n     <!-- age -->\r\n     <defs>\r\n      <path d=\"M 34.28125 27.484375 \r\nQ 23.390625 27.484375 19.1875 25 \r\nQ 14.984375 22.515625 14.984375 16.5 \r\nQ 14.984375 11.71875 18.140625 8.90625 \r\nQ 21.296875 6.109375 26.703125 6.109375 \r\nQ 34.1875 6.109375 38.703125 11.40625 \r\nQ 43.21875 16.703125 43.21875 25.484375 \r\nL 43.21875 27.484375 \r\nz\r\nM 52.203125 31.203125 \r\nL 52.203125 0 \r\nL 43.21875 0 \r\nL 43.21875 8.296875 \r\nQ 40.140625 3.328125 35.546875 0.953125 \r\nQ 30.953125 -1.421875 24.3125 -1.421875 \r\nQ 15.921875 -1.421875 10.953125 3.296875 \r\nQ 6 8.015625 6 15.921875 \r\nQ 6 25.140625 12.171875 29.828125 \r\nQ 18.359375 34.515625 30.609375 34.515625 \r\nL 43.21875 34.515625 \r\nL 43.21875 35.40625 \r\nQ 43.21875 41.609375 39.140625 45 \r\nQ 35.0625 48.390625 27.6875 48.390625 \r\nQ 23 48.390625 18.546875 47.265625 \r\nQ 14.109375 46.140625 10.015625 43.890625 \r\nL 10.015625 52.203125 \r\nQ 14.9375 54.109375 19.578125 55.046875 \r\nQ 24.21875 56 28.609375 56 \r\nQ 40.484375 56 46.34375 49.84375 \r\nQ 52.203125 43.703125 52.203125 31.203125 \r\nz\r\n\" id=\"DejaVuSans-97\"/>\r\n      <path d=\"M 45.40625 27.984375 \r\nQ 45.40625 37.75 41.375 43.109375 \r\nQ 37.359375 48.484375 30.078125 48.484375 \r\nQ 22.859375 48.484375 18.828125 43.109375 \r\nQ 14.796875 37.75 14.796875 27.984375 \r\nQ 14.796875 18.265625 18.828125 12.890625 \r\nQ 22.859375 7.515625 30.078125 7.515625 \r\nQ 37.359375 7.515625 41.375 12.890625 \r\nQ 45.40625 18.265625 45.40625 27.984375 \r\nz\r\nM 54.390625 6.78125 \r\nQ 54.390625 -7.171875 48.1875 -13.984375 \r\nQ 42 -20.796875 29.203125 -20.796875 \r\nQ 24.46875 -20.796875 20.265625 -20.09375 \r\nQ 16.0625 -19.390625 12.109375 -17.921875 \r\nL 12.109375 -9.1875 \r\nQ 16.0625 -11.328125 19.921875 -12.34375 \r\nQ 23.78125 -13.375 27.78125 -13.375 \r\nQ 36.625 -13.375 41.015625 -8.765625 \r\nQ 45.40625 -4.15625 45.40625 5.171875 \r\nL 45.40625 9.625 \r\nQ 42.625 4.78125 38.28125 2.390625 \r\nQ 33.9375 0 27.875 0 \r\nQ 17.828125 0 11.671875 7.65625 \r\nQ 5.515625 15.328125 5.515625 27.984375 \r\nQ 5.515625 40.671875 11.671875 48.328125 \r\nQ 17.828125 56 27.875 56 \r\nQ 33.9375 56 38.28125 53.609375 \r\nQ 42.625 51.21875 45.40625 46.390625 \r\nL 45.40625 54.6875 \r\nL 54.390625 54.6875 \r\nz\r\n\" id=\"DejaVuSans-103\"/>\r\n      <path d=\"M 56.203125 29.59375 \r\nL 56.203125 25.203125 \r\nL 14.890625 25.203125 \r\nQ 15.484375 15.921875 20.484375 11.0625 \r\nQ 25.484375 6.203125 34.421875 6.203125 \r\nQ 39.59375 6.203125 44.453125 7.46875 \r\nQ 49.3125 8.734375 54.109375 11.28125 \r\nL 54.109375 2.78125 \r\nQ 49.265625 0.734375 44.1875 -0.34375 \r\nQ 39.109375 -1.421875 33.890625 -1.421875 \r\nQ 20.796875 -1.421875 13.15625 6.1875 \r\nQ 5.515625 13.8125 5.515625 26.8125 \r\nQ 5.515625 40.234375 12.765625 48.109375 \r\nQ 20.015625 56 32.328125 56 \r\nQ 43.359375 56 49.78125 48.890625 \r\nQ 56.203125 41.796875 56.203125 29.59375 \r\nz\r\nM 47.21875 32.234375 \r\nQ 47.125 39.59375 43.09375 43.984375 \r\nQ 39.0625 48.390625 32.421875 48.390625 \r\nQ 24.90625 48.390625 20.390625 44.140625 \r\nQ 15.875 39.890625 15.1875 32.171875 \r\nz\r\n\" id=\"DejaVuSans-101\"/>\r\n     </defs>\r\n     <g transform=\"translate(212.073281 303.110626)scale(0.1 -0.1)\">\r\n      <use xlink:href=\"#DejaVuSans-97\"/>\r\n      <use x=\"61.279297\" xlink:href=\"#DejaVuSans-103\"/>\r\n      <use x=\"124.755859\" xlink:href=\"#DejaVuSans-101\"/>\r\n     </g>\r\n    </g>\r\n   </g>\r\n   <g id=\"matplotlib.axis_2\">\r\n    <g id=\"ytick_1\">\r\n     <g id=\"line2d_6\">\r\n      <defs>\r\n       <path d=\"M 0 0 \r\nL -3.5 0 \r\n\" id=\"m7e5814486b\" style=\"stroke:#000000;stroke-width:0.8;\"/>\r\n      </defs>\r\n      <g>\r\n       <use style=\"stroke:#000000;stroke-width:0.8;\" x=\"42.828125\" xlink:href=\"#m7e5814486b\" y=\"274.834064\"/>\r\n      </g>\r\n     </g>\r\n     <g id=\"text_7\">\r\n      <!-- 0.000 -->\r\n      <defs>\r\n       <path d=\"M 10.6875 12.40625 \r\nL 21 12.40625 \r\nL 21 0 \r\nL 10.6875 0 \r\nz\r\n\" id=\"DejaVuSans-46\"/>\r\n      </defs>\r\n      <g transform=\"translate(7.2 278.633282)scale(0.1 -0.1)\">\r\n       <use xlink:href=\"#DejaVuSans-48\"/>\r\n       <use x=\"63.623047\" xlink:href=\"#DejaVuSans-46\"/>\r\n       <use x=\"95.410156\" xlink:href=\"#DejaVuSans-48\"/>\r\n       <use x=\"159.033203\" xlink:href=\"#DejaVuSans-48\"/>\r\n       <use x=\"222.65625\" xlink:href=\"#DejaVuSans-48\"/>\r\n      </g>\r\n     </g>\r\n    </g>\r\n    <g id=\"ytick_2\">\r\n     <g id=\"line2d_7\">\r\n      <g>\r\n       <use style=\"stroke:#000000;stroke-width:0.8;\" x=\"42.828125\" xlink:href=\"#m7e5814486b\" y=\"237.143372\"/>\r\n      </g>\r\n     </g>\r\n     <g id=\"text_8\">\r\n      <!-- 0.005 -->\r\n      <defs>\r\n       <path d=\"M 10.796875 72.90625 \r\nL 49.515625 72.90625 \r\nL 49.515625 64.59375 \r\nL 19.828125 64.59375 \r\nL 19.828125 46.734375 \r\nQ 21.96875 47.46875 24.109375 47.828125 \r\nQ 26.265625 48.1875 28.421875 48.1875 \r\nQ 40.625 48.1875 47.75 41.5 \r\nQ 54.890625 34.8125 54.890625 23.390625 \r\nQ 54.890625 11.625 47.5625 5.09375 \r\nQ 40.234375 -1.421875 26.90625 -1.421875 \r\nQ 22.3125 -1.421875 17.546875 -0.640625 \r\nQ 12.796875 0.140625 7.71875 1.703125 \r\nL 7.71875 11.625 \r\nQ 12.109375 9.234375 16.796875 8.0625 \r\nQ 21.484375 6.890625 26.703125 6.890625 \r\nQ 35.15625 6.890625 40.078125 11.328125 \r\nQ 45.015625 15.765625 45.015625 23.390625 \r\nQ 45.015625 31 40.078125 35.4375 \r\nQ 35.15625 39.890625 26.703125 39.890625 \r\nQ 22.75 39.890625 18.8125 39.015625 \r\nQ 14.890625 38.140625 10.796875 36.28125 \r\nz\r\n\" id=\"DejaVuSans-53\"/>\r\n      </defs>\r\n      <g transform=\"translate(7.2 240.94259)scale(0.1 -0.1)\">\r\n       <use xlink:href=\"#DejaVuSans-48\"/>\r\n       <use x=\"63.623047\" xlink:href=\"#DejaVuSans-46\"/>\r\n       <use x=\"95.410156\" xlink:href=\"#DejaVuSans-48\"/>\r\n       <use x=\"159.033203\" xlink:href=\"#DejaVuSans-48\"/>\r\n       <use x=\"222.65625\" xlink:href=\"#DejaVuSans-53\"/>\r\n      </g>\r\n     </g>\r\n    </g>\r\n    <g id=\"ytick_3\">\r\n     <g id=\"line2d_8\">\r\n      <g>\r\n       <use style=\"stroke:#000000;stroke-width:0.8;\" x=\"42.828125\" xlink:href=\"#m7e5814486b\" y=\"199.452679\"/>\r\n      </g>\r\n     </g>\r\n     <g id=\"text_9\">\r\n      <!-- 0.010 -->\r\n      <defs>\r\n       <path d=\"M 12.40625 8.296875 \r\nL 28.515625 8.296875 \r\nL 28.515625 63.921875 \r\nL 10.984375 60.40625 \r\nL 10.984375 69.390625 \r\nL 28.421875 72.90625 \r\nL 38.28125 72.90625 \r\nL 38.28125 8.296875 \r\nL 54.390625 8.296875 \r\nL 54.390625 0 \r\nL 12.40625 0 \r\nz\r\n\" id=\"DejaVuSans-49\"/>\r\n      </defs>\r\n      <g transform=\"translate(7.2 203.251898)scale(0.1 -0.1)\">\r\n       <use xlink:href=\"#DejaVuSans-48\"/>\r\n       <use x=\"63.623047\" xlink:href=\"#DejaVuSans-46\"/>\r\n       <use x=\"95.410156\" xlink:href=\"#DejaVuSans-48\"/>\r\n       <use x=\"159.033203\" xlink:href=\"#DejaVuSans-49\"/>\r\n       <use x=\"222.65625\" xlink:href=\"#DejaVuSans-48\"/>\r\n      </g>\r\n     </g>\r\n    </g>\r\n    <g id=\"ytick_4\">\r\n     <g id=\"line2d_9\">\r\n      <g>\r\n       <use style=\"stroke:#000000;stroke-width:0.8;\" x=\"42.828125\" xlink:href=\"#m7e5814486b\" y=\"161.761987\"/>\r\n      </g>\r\n     </g>\r\n     <g id=\"text_10\">\r\n      <!-- 0.015 -->\r\n      <g transform=\"translate(7.2 165.561206)scale(0.1 -0.1)\">\r\n       <use xlink:href=\"#DejaVuSans-48\"/>\r\n       <use x=\"63.623047\" xlink:href=\"#DejaVuSans-46\"/>\r\n       <use x=\"95.410156\" xlink:href=\"#DejaVuSans-48\"/>\r\n       <use x=\"159.033203\" xlink:href=\"#DejaVuSans-49\"/>\r\n       <use x=\"222.65625\" xlink:href=\"#DejaVuSans-53\"/>\r\n      </g>\r\n     </g>\r\n    </g>\r\n    <g id=\"ytick_5\">\r\n     <g id=\"line2d_10\">\r\n      <g>\r\n       <use style=\"stroke:#000000;stroke-width:0.8;\" x=\"42.828125\" xlink:href=\"#m7e5814486b\" y=\"124.071295\"/>\r\n      </g>\r\n     </g>\r\n     <g id=\"text_11\">\r\n      <!-- 0.020 -->\r\n      <g transform=\"translate(7.2 127.870514)scale(0.1 -0.1)\">\r\n       <use xlink:href=\"#DejaVuSans-48\"/>\r\n       <use x=\"63.623047\" xlink:href=\"#DejaVuSans-46\"/>\r\n       <use x=\"95.410156\" xlink:href=\"#DejaVuSans-48\"/>\r\n       <use x=\"159.033203\" xlink:href=\"#DejaVuSans-50\"/>\r\n       <use x=\"222.65625\" xlink:href=\"#DejaVuSans-48\"/>\r\n      </g>\r\n     </g>\r\n    </g>\r\n    <g id=\"ytick_6\">\r\n     <g id=\"line2d_11\">\r\n      <g>\r\n       <use style=\"stroke:#000000;stroke-width:0.8;\" x=\"42.828125\" xlink:href=\"#m7e5814486b\" y=\"86.380603\"/>\r\n      </g>\r\n     </g>\r\n     <g id=\"text_12\">\r\n      <!-- 0.025 -->\r\n      <g transform=\"translate(7.2 90.179822)scale(0.1 -0.1)\">\r\n       <use xlink:href=\"#DejaVuSans-48\"/>\r\n       <use x=\"63.623047\" xlink:href=\"#DejaVuSans-46\"/>\r\n       <use x=\"95.410156\" xlink:href=\"#DejaVuSans-48\"/>\r\n       <use x=\"159.033203\" xlink:href=\"#DejaVuSans-50\"/>\r\n       <use x=\"222.65625\" xlink:href=\"#DejaVuSans-53\"/>\r\n      </g>\r\n     </g>\r\n    </g>\r\n    <g id=\"ytick_7\">\r\n     <g id=\"line2d_12\">\r\n      <g>\r\n       <use style=\"stroke:#000000;stroke-width:0.8;\" x=\"42.828125\" xlink:href=\"#m7e5814486b\" y=\"48.689911\"/>\r\n      </g>\r\n     </g>\r\n     <g id=\"text_13\">\r\n      <!-- 0.030 -->\r\n      <defs>\r\n       <path d=\"M 40.578125 39.3125 \r\nQ 47.65625 37.796875 51.625 33 \r\nQ 55.609375 28.21875 55.609375 21.1875 \r\nQ 55.609375 10.40625 48.1875 4.484375 \r\nQ 40.765625 -1.421875 27.09375 -1.421875 \r\nQ 22.515625 -1.421875 17.65625 -0.515625 \r\nQ 12.796875 0.390625 7.625 2.203125 \r\nL 7.625 11.71875 \r\nQ 11.71875 9.328125 16.59375 8.109375 \r\nQ 21.484375 6.890625 26.8125 6.890625 \r\nQ 36.078125 6.890625 40.9375 10.546875 \r\nQ 45.796875 14.203125 45.796875 21.1875 \r\nQ 45.796875 27.640625 41.28125 31.265625 \r\nQ 36.765625 34.90625 28.71875 34.90625 \r\nL 20.21875 34.90625 \r\nL 20.21875 43.015625 \r\nL 29.109375 43.015625 \r\nQ 36.375 43.015625 40.234375 45.921875 \r\nQ 44.09375 48.828125 44.09375 54.296875 \r\nQ 44.09375 59.90625 40.109375 62.90625 \r\nQ 36.140625 65.921875 28.71875 65.921875 \r\nQ 24.65625 65.921875 20.015625 65.03125 \r\nQ 15.375 64.15625 9.8125 62.3125 \r\nL 9.8125 71.09375 \r\nQ 15.4375 72.65625 20.34375 73.4375 \r\nQ 25.25 74.21875 29.59375 74.21875 \r\nQ 40.828125 74.21875 47.359375 69.109375 \r\nQ 53.90625 64.015625 53.90625 55.328125 \r\nQ 53.90625 49.265625 50.4375 45.09375 \r\nQ 46.96875 40.921875 40.578125 39.3125 \r\nz\r\n\" id=\"DejaVuSans-51\"/>\r\n      </defs>\r\n      <g transform=\"translate(7.2 52.48913)scale(0.1 -0.1)\">\r\n       <use xlink:href=\"#DejaVuSans-48\"/>\r\n       <use x=\"63.623047\" xlink:href=\"#DejaVuSans-46\"/>\r\n       <use x=\"95.410156\" xlink:href=\"#DejaVuSans-48\"/>\r\n       <use x=\"159.033203\" xlink:href=\"#DejaVuSans-51\"/>\r\n       <use x=\"222.65625\" xlink:href=\"#DejaVuSans-48\"/>\r\n      </g>\r\n     </g>\r\n    </g>\r\n    <g id=\"ytick_8\">\r\n     <g id=\"line2d_13\">\r\n      <g>\r\n       <use style=\"stroke:#000000;stroke-width:0.8;\" x=\"42.828125\" xlink:href=\"#m7e5814486b\" y=\"10.999219\"/>\r\n      </g>\r\n     </g>\r\n     <g id=\"text_14\">\r\n      <!-- 0.035 -->\r\n      <g transform=\"translate(7.2 14.798438)scale(0.1 -0.1)\">\r\n       <use xlink:href=\"#DejaVuSans-48\"/>\r\n       <use x=\"63.623047\" xlink:href=\"#DejaVuSans-46\"/>\r\n       <use x=\"95.410156\" xlink:href=\"#DejaVuSans-48\"/>\r\n       <use x=\"159.033203\" xlink:href=\"#DejaVuSans-51\"/>\r\n       <use x=\"222.65625\" xlink:href=\"#DejaVuSans-53\"/>\r\n      </g>\r\n     </g>\r\n    </g>\r\n   </g>\r\n   <g id=\"line2d_14\">\r\n    <path clip-path=\"url(#p908533d87e)\" d=\"M 59.060852 274.64738 \r\nL 61.617187 274.484929 \r\nL 64.173522 274.195161 \r\nL 66.729857 273.706576 \r\nL 69.286192 272.922357 \r\nL 71.842527 271.722027 \r\nL 74.398862 269.969818 \r\nL 76.955197 267.531468 \r\nL 79.511532 264.2993 \r\nL 82.067867 260.222577 \r\nL 84.624202 255.337045 \r\nL 87.180537 249.78544 \r\nL 94.849542 232.077055 \r\nL 97.405877 227.076289 \r\nL 99.962212 223.1002 \r\nL 102.518547 220.343637 \r\nL 105.074882 218.850516 \r\nL 107.631217 218.509895 \r\nL 110.187552 219.075731 \r\nL 112.743887 220.201574 \r\nL 115.300222 221.479029 \r\nL 117.856557 222.470848 \r\nL 120.412892 222.734898 \r\nL 122.969227 221.841361 \r\nL 125.525562 219.389698 \r\nL 128.081897 215.032204 \r\nL 130.638232 208.507319 \r\nL 133.194567 199.679776 \r\nL 135.750902 188.578816 \r\nL 138.307237 175.422645 \r\nL 140.863572 160.618476 \r\nL 151.088912 97.340408 \r\nL 153.645247 83.725314 \r\nL 156.201582 71.952846 \r\nL 158.757917 62.228317 \r\nL 161.314252 54.596435 \r\nL 163.870587 48.970915 \r\nL 166.426922 45.174349 \r\nL 168.983257 42.980488 \r\nL 171.539592 42.153027 \r\nL 174.095927 42.476932 \r\nL 176.652262 43.7797 \r\nL 179.208597 45.94095 \r\nL 181.764932 48.890104 \r\nL 184.321267 52.593883 \r\nL 186.877602 57.037529 \r\nL 189.433937 62.205076 \r\nL 191.990272 68.063798 \r\nL 194.546607 74.55597 \r\nL 197.102942 81.598164 \r\nL 202.215612 96.899947 \r\nL 212.440952 128.852254 \r\nL 214.997287 136.390935 \r\nL 217.553622 143.536357 \r\nL 220.109957 150.214573 \r\nL 222.666293 156.376726 \r\nL 225.222628 162.000499 \r\nL 227.778963 167.090259 \r\nL 230.335298 171.676525 \r\nL 232.891633 175.814945 \r\nL 235.447968 179.584275 \r\nL 240.560638 186.419343 \r\nL 245.673308 193.048691 \r\nL 250.785978 200.171376 \r\nL 255.898648 207.97255 \r\nL 263.567653 219.936224 \r\nL 266.123988 223.629349 \r\nL 268.680323 227.052068 \r\nL 271.236658 230.173245 \r\nL 273.792993 232.995554 \r\nL 276.349328 235.551779 \r\nL 281.461998 240.09768 \r\nL 301.912678 257.07055 \r\nL 304.469013 258.904305 \r\nL 307.025348 260.543232 \r\nL 309.581683 261.979832 \r\nL 312.138018 263.231326 \r\nL 317.250688 265.334275 \r\nL 324.919693 268.077609 \r\nL 330.032363 269.770921 \r\nL 335.145033 271.195217 \r\nL 340.257703 272.228368 \r\nL 345.370373 272.913576 \r\nL 353.039378 273.611329 \r\nL 363.264718 274.331974 \r\nL 370.933723 274.656874 \r\nL 378.602728 274.772313 \r\nL 383.715398 274.731283 \r\nL 383.715398 274.731283 \r\n\" style=\"fill:none;stroke:#1f77b4;stroke-linecap:square;stroke-width:1.5;\"/>\r\n   </g>\r\n   <g id=\"patch_18\">\r\n    <path d=\"M 42.828125 274.834064 \r\nL 42.828125 8.722064 \r\n\" style=\"fill:none;stroke:#000000;stroke-linecap:square;stroke-linejoin:miter;stroke-width:0.8;\"/>\r\n   </g>\r\n   <g id=\"patch_19\">\r\n    <path d=\"M 399.948125 274.834064 \r\nL 399.948125 8.722064 \r\n\" style=\"fill:none;stroke:#000000;stroke-linecap:square;stroke-linejoin:miter;stroke-width:0.8;\"/>\r\n   </g>\r\n   <g id=\"patch_20\">\r\n    <path d=\"M 42.828125 274.834064 \r\nL 399.948125 274.834064 \r\n\" style=\"fill:none;stroke:#000000;stroke-linecap:square;stroke-linejoin:miter;stroke-width:0.8;\"/>\r\n   </g>\r\n   <g id=\"patch_21\">\r\n    <path d=\"M 42.828125 8.722064 \r\nL 399.948125 8.722064 \r\n\" style=\"fill:none;stroke:#000000;stroke-linecap:square;stroke-linejoin:miter;stroke-width:0.8;\"/>\r\n   </g>\r\n  </g>\r\n </g>\r\n <defs>\r\n  <clipPath id=\"p908533d87e\">\r\n   <rect height=\"266.112\" width=\"357.12\" x=\"42.828125\" y=\"8.722064\"/>\r\n  </clipPath>\r\n </defs>\r\n</svg>\r\n",
      "text/plain": "<Figure size 640x480 with 1 Axes>"
     },
     "metadata": {},
     "output_type": "display_data"
    }
   ],
   "source": [
    "plt.rcdefaults()\n",
    "\n",
    "df_age_not_null = df_modelo3.query('age > 0')\n",
    "ax = sns.distplot(df_age_not_null['age'], bins = 15)\n",
    "\n",
    "plt.rcParams.update(params)\n"
   ]
  },
  {
   "cell_type": "code",
   "execution_count": 44,
   "metadata": {},
   "outputs": [
    {
     "data": {
      "text/plain": "KstestResult(statistic=0.9649422367998306, pvalue=0.0)"
     },
     "execution_count": 44,
     "metadata": {},
     "output_type": "execute_result"
    }
   ],
   "source": [
    "# Teste de Kolgomorov-Smirnov: pvalue menor que alfa, ou seja, rejeita Ho (distribuição normal)\n",
    "stats.kstest(df_age_not_null['age'],cdf='norm')"
   ]
  },
  {
   "cell_type": "code",
   "execution_count": 45,
   "metadata": {},
   "outputs": [],
   "source": [
    "regressao_idade = smf.ols ('age~sibsp+parch+fe_isadulto+sex_male+embarked_q+embarked_s+fe_fare_1_0+fe_fare_2_0+fe_fare_3_0+pclass_2+pclass_3+isalone_true', df_age_not_null).fit()"
   ]
  },
  {
   "cell_type": "code",
   "execution_count": 46,
   "metadata": {},
   "outputs": [
    {
     "name": "stdout",
     "output_type": "stream",
     "text": "OLS Regression Results                            \n==============================================================================\nDep. Variable:                    age   R-squared:                       0.492\nModel:                            OLS   Adj. R-squared:                  0.484\nMethod:                 Least Squares   F-statistic:                     56.49\nDate:                Sun, 27 Oct 2019   Prob (F-statistic):           1.70e-94\nTime:                        21:54:58   Log-Likelihood:                -2672.1\nNo. Observations:                 712   AIC:                             5370.\nDf Residuals:                     699   BIC:                             5430.\nDf Model:                          12                                         \nCovariance Type:            nonrobust                                         \n================================================================================\n                   coef    std err          t      P>|t|      [0.025      0.975]\n--------------------------------------------------------------------------------\nIntercept       17.5756      2.530      6.948      0.000      12.609      22.542\nsibsp           -0.8205      0.623     -1.317      0.188      -2.044       0.403\nparch            0.7260      0.611      1.189      0.235      -0.473       1.925\nfe_isadulto     20.5998      1.117     18.449      0.000      18.408      22.792\nsex_male         1.8312      0.871      2.103      0.036       0.122       3.541\nembarked_q       3.9835      2.278      1.749      0.081      -0.489       8.456\nembarked_s       0.8551      1.100      0.777      0.437      -1.305       3.015\nfe_fare_1_0      1.3156      1.266      1.039      0.299      -1.170       3.802\nfe_fare_2_0      1.4950      1.635      0.914      0.361      -1.715       4.705\nfe_fare_3_0     -0.6300      2.143     -0.294      0.769      -4.837       3.577\npclass_2        -8.2867      1.557     -5.322      0.000     -11.344      -5.230\npclass_3       -10.9527      1.690     -6.482      0.000     -14.270      -7.635\nisalone_true     0.8989      1.271      0.707      0.480      -1.596       3.394\n==============================================================================\nOmnibus:                       70.815   Durbin-Watson:                   2.008\nProb(Omnibus):                  0.000   Jarque-Bera (JB):               92.404\nSkew:                           0.788   Prob(JB):                     8.60e-21\nKurtosis:                       3.793   Cond. No.                         19.9\n==============================================================================\n\nWarnings:\n[1] Standard Errors assume that the covariance matrix of the errors is correctly specified.\n"
    }
   ],
   "source": [
    "print(regressao_idade.summary())"
   ]
  },
  {
   "cell_type": "code",
   "execution_count": 47,
   "metadata": {},
   "outputs": [],
   "source": [
    "regressao_idade2 = smf.ols ('age~fe_isadulto+pclass_2+pclass_3', df_age_not_null).fit()"
   ]
  },
  {
   "cell_type": "code",
   "execution_count": 48,
   "metadata": {},
   "outputs": [
    {
     "name": "stdout",
     "output_type": "stream",
     "text": "OLS Regression Results                            \n==============================================================================\nDep. Variable:                    age   R-squared:                       0.479\nModel:                            OLS   Adj. R-squared:                  0.477\nMethod:                 Least Squares   F-statistic:                     217.2\nDate:                Sun, 27 Oct 2019   Prob (F-statistic):          7.19e-100\nTime:                        21:54:58   Log-Likelihood:                -2681.1\nNo. Observations:                 712   AIC:                             5370.\nDf Residuals:                     708   BIC:                             5389.\nDf Model:                           3                                         \nCovariance Type:            nonrobust                                         \n===============================================================================\n                  coef    std err          t      P>|t|      [0.025      0.975]\n-------------------------------------------------------------------------------\nIntercept      18.2147      1.202     15.147      0.000      15.854      20.576\nfe_isadulto    21.7852      1.009     21.587      0.000      19.804      23.766\npclass_2       -6.4704      1.113     -5.814      0.000      -8.655      -4.285\npclass_3       -9.0908      0.969     -9.383      0.000     -10.993      -7.189\n==============================================================================\nOmnibus:                       81.403   Durbin-Watson:                   1.992\nProb(Omnibus):                  0.000   Jarque-Bera (JB):              111.848\nSkew:                           0.849   Prob(JB):                     5.16e-25\nKurtosis:                       3.943   Cond. No.                         6.18\n==============================================================================\n\nWarnings:\n[1] Standard Errors assume that the covariance matrix of the errors is correctly specified.\n"
    }
   ],
   "source": [
    "print(regressao_idade2.summary())"
   ]
  },
  {
   "cell_type": "code",
   "execution_count": 49,
   "metadata": {},
   "outputs": [],
   "source": [
    "x_predict_age = df_modelo3.iloc[:,2:]"
   ]
  },
  {
   "cell_type": "code",
   "execution_count": 50,
   "metadata": {},
   "outputs": [
    {
     "data": {
      "text/html": "<div>\n<style scoped>\n    .dataframe tbody tr th:only-of-type {\n        vertical-align: middle;\n    }\n\n    .dataframe tbody tr th {\n        vertical-align: top;\n    }\n\n    .dataframe thead th {\n        text-align: right;\n    }\n</style>\n<table border=\"1\" class=\"dataframe\">\n  <thead>\n    <tr style=\"text-align: right;\">\n      <th></th>\n      <th>survived</th>\n      <th>age</th>\n      <th>sibsp</th>\n      <th>parch</th>\n      <th>fe_isadulto</th>\n      <th>sex_male</th>\n      <th>embarked_q</th>\n      <th>embarked_s</th>\n      <th>fe_fare_1_0</th>\n      <th>fe_fare_2_0</th>\n      <th>fe_fare_3_0</th>\n      <th>pclass_2</th>\n      <th>pclass_3</th>\n      <th>isalone_true</th>\n      <th>Age_Predict</th>\n    </tr>\n  </thead>\n  <tbody>\n    <tr>\n      <th>0</th>\n      <td>0</td>\n      <td>22.0</td>\n      <td>1</td>\n      <td>0</td>\n      <td>1</td>\n      <td>1</td>\n      <td>0</td>\n      <td>1</td>\n      <td>0</td>\n      <td>0</td>\n      <td>0</td>\n      <td>0</td>\n      <td>1</td>\n      <td>0</td>\n      <td>22.0</td>\n    </tr>\n    <tr>\n      <th>1</th>\n      <td>1</td>\n      <td>38.0</td>\n      <td>1</td>\n      <td>0</td>\n      <td>1</td>\n      <td>0</td>\n      <td>0</td>\n      <td>0</td>\n      <td>0</td>\n      <td>0</td>\n      <td>1</td>\n      <td>0</td>\n      <td>0</td>\n      <td>0</td>\n      <td>38.0</td>\n    </tr>\n    <tr>\n      <th>2</th>\n      <td>1</td>\n      <td>26.0</td>\n      <td>0</td>\n      <td>0</td>\n      <td>1</td>\n      <td>0</td>\n      <td>0</td>\n      <td>1</td>\n      <td>1</td>\n      <td>0</td>\n      <td>0</td>\n      <td>0</td>\n      <td>1</td>\n      <td>1</td>\n      <td>26.0</td>\n    </tr>\n    <tr>\n      <th>3</th>\n      <td>1</td>\n      <td>35.0</td>\n      <td>1</td>\n      <td>0</td>\n      <td>1</td>\n      <td>0</td>\n      <td>0</td>\n      <td>1</td>\n      <td>0</td>\n      <td>0</td>\n      <td>1</td>\n      <td>0</td>\n      <td>0</td>\n      <td>0</td>\n      <td>35.0</td>\n    </tr>\n    <tr>\n      <th>4</th>\n      <td>0</td>\n      <td>35.0</td>\n      <td>0</td>\n      <td>0</td>\n      <td>1</td>\n      <td>1</td>\n      <td>0</td>\n      <td>1</td>\n      <td>1</td>\n      <td>0</td>\n      <td>0</td>\n      <td>0</td>\n      <td>1</td>\n      <td>1</td>\n      <td>35.0</td>\n    </tr>\n  </tbody>\n</table>\n</div>",
      "text/plain": "   survived   age  sibsp  parch  fe_isadulto  sex_male  embarked_q  \\\n0         0  22.0      1      0            1         1           0   \n1         1  38.0      1      0            1         0           0   \n2         1  26.0      0      0            1         0           0   \n3         1  35.0      1      0            1         0           0   \n4         0  35.0      0      0            1         1           0   \n\n   embarked_s  fe_fare_1_0  fe_fare_2_0  fe_fare_3_0  pclass_2  pclass_3  \\\n0           1            0            0            0         0         1   \n1           0            0            0            1         0         0   \n2           1            1            0            0         0         1   \n3           1            0            0            1         0         0   \n4           1            1            0            0         0         1   \n\n   isalone_true  Age_Predict  \n0             0         22.0  \n1             0         38.0  \n2             1         26.0  \n3             0         35.0  \n4             1         35.0  "
     },
     "execution_count": 50,
     "metadata": {},
     "output_type": "execute_result"
    }
   ],
   "source": [
    "df_modelo3_predict = df_modelo3\n",
    "df_modelo3_predict['Age_Predict'] = np.where(df_modelo3['age'] > 0, df_modelo3['age'] , regressao_idade.predict(x_predict_age))\n",
    "df_modelo3.head()"
   ]
  },
  {
   "cell_type": "code",
   "execution_count": 51,
   "metadata": {},
   "outputs": [
    {
     "data": {
      "image/png": "[encoded data removed]",
      "image/svg+xml": "<?xml version=\"1.0\" encoding=\"utf-8\" standalone=\"no\"?>\r\n<!DOCTYPE svg PUBLIC \"-//W3C//DTD SVG 1.1//EN\"\r\n  \"http://www.w3.org/Graphics/SVG/1.1/DTD/svg11.dtd\">\r\n<!-- Created with matplotlib (https://matplotlib.org/) -->\r\n<svg height=\"311.146375pt\" version=\"1.1\" viewBox=\"0 0 407.148125 311.146375\" width=\"407.148125pt\" xmlns=\"http://www.w3.org/2000/svg\" xmlns:xlink=\"http://www.w3.org/1999/xlink\">\r\n <defs>\r\n  <style type=\"text/css\">\r\n*{stroke-linecap:butt;stroke-linejoin:round;white-space:pre;}\r\n  </style>\r\n </defs>\r\n <g id=\"figure_1\">\r\n  <g id=\"patch_1\">\r\n   <path d=\"M 0 311.146375 \r\nL 407.148125 311.146375 \r\nL 407.148125 0 \r\nL 0 0 \r\nz\r\n\" style=\"fill:#ffffff;\"/>\r\n  </g>\r\n  <g id=\"axes_1\">\r\n   <g id=\"patch_2\">\r\n    <path d=\"M 42.828125 273.312 \r\nL 399.948125 273.312 \r\nL 399.948125 7.2 \r\nL 42.828125 7.2 \r\nz\r\n\" style=\"fill:#ffffff;\"/>\r\n   </g>\r\n   <g id=\"patch_3\">\r\n    <path clip-path=\"url(#p4e3af9aeb8)\" d=\"M 96.947469 273.312 \r\nL 113.539557 273.312 \r\nL 113.539557 172.172864 \r\nL 96.947469 172.172864 \r\nz\r\n\" style=\"fill:#1f77b4;opacity:0.4;\"/>\r\n   </g>\r\n   <g id=\"patch_4\">\r\n    <path clip-path=\"url(#p4e3af9aeb8)\" d=\"M 113.539557 273.312 \r\nL 130.131644 273.312 \r\nL 130.131644 98.797413 \r\nL 113.539557 98.797413 \r\nz\r\n\" style=\"fill:#1f77b4;opacity:0.4;\"/>\r\n   </g>\r\n   <g id=\"patch_5\">\r\n    <path clip-path=\"url(#p4e3af9aeb8)\" d=\"M 130.131644 273.312 \r\nL 146.723732 273.312 \r\nL 146.723732 53.185646 \r\nL 130.131644 53.185646 \r\nz\r\n\" style=\"fill:#1f77b4;opacity:0.4;\"/>\r\n   </g>\r\n   <g id=\"patch_6\">\r\n    <path clip-path=\"url(#p4e3af9aeb8)\" d=\"M 146.723732 273.312 \r\nL 163.315819 273.312 \r\nL 163.315819 35.337563 \r\nL 146.723732 35.337563 \r\nz\r\n\" style=\"fill:#1f77b4;opacity:0.4;\"/>\r\n   </g>\r\n   <g id=\"patch_7\">\r\n    <path clip-path=\"url(#p4e3af9aeb8)\" d=\"M 163.315819 273.312 \r\nL 179.907906 273.312 \r\nL 179.907906 23.438841 \r\nL 163.315819 23.438841 \r\nz\r\n\" style=\"fill:#1f77b4;opacity:0.4;\"/>\r\n   </g>\r\n   <g id=\"patch_8\">\r\n    <path clip-path=\"url(#p4e3af9aeb8)\" d=\"M 179.907906 273.312 \r\nL 196.499994 273.312 \r\nL 196.499994 21.455721 \r\nL 179.907906 21.455721 \r\nz\r\n\" style=\"fill:#1f77b4;opacity:0.4;\"/>\r\n   </g>\r\n   <g id=\"patch_9\">\r\n    <path clip-path=\"url(#p4e3af9aeb8)\" d=\"M 196.499994 273.312 \r\nL 213.092081 273.312 \r\nL 213.092081 114.662375 \r\nL 196.499994 114.662375 \r\nz\r\n\" style=\"fill:#1f77b4;opacity:0.4;\"/>\r\n   </g>\r\n   <g id=\"patch_10\">\r\n    <path clip-path=\"url(#p4e3af9aeb8)\" d=\"M 213.092081 273.312 \r\nL 229.684169 273.312 \r\nL 229.684169 158.291022 \r\nL 213.092081 158.291022 \r\nz\r\n\" style=\"fill:#1f77b4;opacity:0.4;\"/>\r\n   </g>\r\n   <g id=\"patch_11\">\r\n    <path clip-path=\"url(#p4e3af9aeb8)\" d=\"M 229.684169 273.312 \r\nL 246.276256 273.312 \r\nL 246.276256 176.139105 \r\nL 229.684169 176.139105 \r\nz\r\n\" style=\"fill:#1f77b4;opacity:0.4;\"/>\r\n   </g>\r\n   <g id=\"patch_12\">\r\n    <path clip-path=\"url(#p4e3af9aeb8)\" d=\"M 246.276256 273.312 \r\nL 262.868344 273.312 \r\nL 262.868344 213.818391 \r\nL 246.276256 213.818391 \r\nz\r\n\" style=\"fill:#1f77b4;opacity:0.4;\"/>\r\n   </g>\r\n   <g id=\"patch_13\">\r\n    <path clip-path=\"url(#p4e3af9aeb8)\" d=\"M 262.868344 273.312 \r\nL 279.460431 273.312 \r\nL 279.460431 229.683353 \r\nL 262.868344 229.683353 \r\nz\r\n\" style=\"fill:#1f77b4;opacity:0.4;\"/>\r\n   </g>\r\n   <g id=\"patch_14\">\r\n    <path clip-path=\"url(#p4e3af9aeb8)\" d=\"M 279.460431 273.312 \r\nL 296.052518 273.312 \r\nL 296.052518 241.582075 \r\nL 279.460431 241.582075 \r\nz\r\n\" style=\"fill:#1f77b4;opacity:0.4;\"/>\r\n   </g>\r\n   <g id=\"patch_15\">\r\n    <path clip-path=\"url(#p4e3af9aeb8)\" d=\"M 296.052518 273.312 \r\nL 312.644606 273.312 \r\nL 312.644606 265.379519 \r\nL 296.052518 265.379519 \r\nz\r\n\" style=\"fill:#1f77b4;opacity:0.4;\"/>\r\n   </g>\r\n   <g id=\"patch_16\">\r\n    <path clip-path=\"url(#p4e3af9aeb8)\" d=\"M 312.644606 273.312 \r\nL 329.236693 273.312 \r\nL 329.236693 261.413278 \r\nL 312.644606 261.413278 \r\nz\r\n\" style=\"fill:#1f77b4;opacity:0.4;\"/>\r\n   </g>\r\n   <g id=\"patch_17\">\r\n    <path clip-path=\"url(#p4e3af9aeb8)\" d=\"M 329.236693 273.312 \r\nL 345.828781 273.312 \r\nL 345.828781 271.32888 \r\nL 329.236693 271.32888 \r\nz\r\n\" style=\"fill:#1f77b4;opacity:0.4;\"/>\r\n   </g>\r\n   <g id=\"matplotlib.axis_1\">\r\n    <g id=\"xtick_1\">\r\n     <g id=\"line2d_1\">\r\n      <defs>\r\n       <path d=\"M 0 0 \r\nL 0 3.5 \r\n\" id=\"m6720fb7050\" style=\"stroke:#000000;stroke-width:0.8;\"/>\r\n      </defs>\r\n      <g>\r\n       <use style=\"stroke:#000000;stroke-width:0.8;\" x=\"95.633946\" xlink:href=\"#m6720fb7050\" y=\"273.312\"/>\r\n      </g>\r\n     </g>\r\n     <g id=\"text_1\">\r\n      <!-- 0 -->\r\n      <defs>\r\n       <path d=\"M 31.78125 66.40625 \r\nQ 24.171875 66.40625 20.328125 58.90625 \r\nQ 16.5 51.421875 16.5 36.375 \r\nQ 16.5 21.390625 20.328125 13.890625 \r\nQ 24.171875 6.390625 31.78125 6.390625 \r\nQ 39.453125 6.390625 43.28125 13.890625 \r\nQ 47.125 21.390625 47.125 36.375 \r\nQ 47.125 51.421875 43.28125 58.90625 \r\nQ 39.453125 66.40625 31.78125 66.40625 \r\nz\r\nM 31.78125 74.21875 \r\nQ 44.046875 74.21875 50.515625 64.515625 \r\nQ 56.984375 54.828125 56.984375 36.375 \r\nQ 56.984375 17.96875 50.515625 8.265625 \r\nQ 44.046875 -1.421875 31.78125 -1.421875 \r\nQ 19.53125 -1.421875 13.0625 8.265625 \r\nQ 6.59375 17.96875 6.59375 36.375 \r\nQ 6.59375 54.828125 13.0625 64.515625 \r\nQ 19.53125 74.21875 31.78125 74.21875 \r\nz\r\n\" id=\"DejaVuSans-48\"/>\r\n      </defs>\r\n      <g transform=\"translate(92.452696 287.910437)scale(0.1 -0.1)\">\r\n       <use xlink:href=\"#DejaVuSans-48\"/>\r\n      </g>\r\n     </g>\r\n    </g>\r\n    <g id=\"xtick_2\">\r\n     <g id=\"line2d_2\">\r\n      <g>\r\n       <use style=\"stroke:#000000;stroke-width:0.8;\" x=\"158.182655\" xlink:href=\"#m6720fb7050\" y=\"273.312\"/>\r\n      </g>\r\n     </g>\r\n     <g id=\"text_2\">\r\n      <!-- 20 -->\r\n      <defs>\r\n       <path d=\"M 19.1875 8.296875 \r\nL 53.609375 8.296875 \r\nL 53.609375 0 \r\nL 7.328125 0 \r\nL 7.328125 8.296875 \r\nQ 12.9375 14.109375 22.625 23.890625 \r\nQ 32.328125 33.6875 34.8125 36.53125 \r\nQ 39.546875 41.84375 41.421875 45.53125 \r\nQ 43.3125 49.21875 43.3125 52.78125 \r\nQ 43.3125 58.59375 39.234375 62.25 \r\nQ 35.15625 65.921875 28.609375 65.921875 \r\nQ 23.96875 65.921875 18.8125 64.3125 \r\nQ 13.671875 62.703125 7.8125 59.421875 \r\nL 7.8125 69.390625 \r\nQ 13.765625 71.78125 18.9375 73 \r\nQ 24.125 74.21875 28.421875 74.21875 \r\nQ 39.75 74.21875 46.484375 68.546875 \r\nQ 53.21875 62.890625 53.21875 53.421875 \r\nQ 53.21875 48.921875 51.53125 44.890625 \r\nQ 49.859375 40.875 45.40625 35.40625 \r\nQ 44.1875 33.984375 37.640625 27.21875 \r\nQ 31.109375 20.453125 19.1875 8.296875 \r\nz\r\n\" id=\"DejaVuSans-50\"/>\r\n      </defs>\r\n      <g transform=\"translate(151.820155 287.910437)scale(0.1 -0.1)\">\r\n       <use xlink:href=\"#DejaVuSans-50\"/>\r\n       <use x=\"63.623047\" xlink:href=\"#DejaVuSans-48\"/>\r\n      </g>\r\n     </g>\r\n    </g>\r\n    <g id=\"xtick_3\">\r\n     <g id=\"line2d_3\">\r\n      <g>\r\n       <use style=\"stroke:#000000;stroke-width:0.8;\" x=\"220.731364\" xlink:href=\"#m6720fb7050\" y=\"273.312\"/>\r\n      </g>\r\n     </g>\r\n     <g id=\"text_3\">\r\n      <!-- 40 -->\r\n      <defs>\r\n       <path d=\"M 37.796875 64.3125 \r\nL 12.890625 25.390625 \r\nL 37.796875 25.390625 \r\nz\r\nM 35.203125 72.90625 \r\nL 47.609375 72.90625 \r\nL 47.609375 25.390625 \r\nL 58.015625 25.390625 \r\nL 58.015625 17.1875 \r\nL 47.609375 17.1875 \r\nL 47.609375 0 \r\nL 37.796875 0 \r\nL 37.796875 17.1875 \r\nL 4.890625 17.1875 \r\nL 4.890625 26.703125 \r\nz\r\n\" id=\"DejaVuSans-52\"/>\r\n      </defs>\r\n      <g transform=\"translate(214.368864 287.910437)scale(0.1 -0.1)\">\r\n       <use xlink:href=\"#DejaVuSans-52\"/>\r\n       <use x=\"63.623047\" xlink:href=\"#DejaVuSans-48\"/>\r\n      </g>\r\n     </g>\r\n    </g>\r\n    <g id=\"xtick_4\">\r\n     <g id=\"line2d_4\">\r\n      <g>\r\n       <use style=\"stroke:#000000;stroke-width:0.8;\" x=\"283.280072\" xlink:href=\"#m6720fb7050\" y=\"273.312\"/>\r\n      </g>\r\n     </g>\r\n     <g id=\"text_4\">\r\n      <!-- 60 -->\r\n      <defs>\r\n       <path d=\"M 33.015625 40.375 \r\nQ 26.375 40.375 22.484375 35.828125 \r\nQ 18.609375 31.296875 18.609375 23.390625 \r\nQ 18.609375 15.53125 22.484375 10.953125 \r\nQ 26.375 6.390625 33.015625 6.390625 \r\nQ 39.65625 6.390625 43.53125 10.953125 \r\nQ 47.40625 15.53125 47.40625 23.390625 \r\nQ 47.40625 31.296875 43.53125 35.828125 \r\nQ 39.65625 40.375 33.015625 40.375 \r\nz\r\nM 52.59375 71.296875 \r\nL 52.59375 62.3125 \r\nQ 48.875 64.0625 45.09375 64.984375 \r\nQ 41.3125 65.921875 37.59375 65.921875 \r\nQ 27.828125 65.921875 22.671875 59.328125 \r\nQ 17.53125 52.734375 16.796875 39.40625 \r\nQ 19.671875 43.65625 24.015625 45.921875 \r\nQ 28.375 48.1875 33.59375 48.1875 \r\nQ 44.578125 48.1875 50.953125 41.515625 \r\nQ 57.328125 34.859375 57.328125 23.390625 \r\nQ 57.328125 12.15625 50.6875 5.359375 \r\nQ 44.046875 -1.421875 33.015625 -1.421875 \r\nQ 20.359375 -1.421875 13.671875 8.265625 \r\nQ 6.984375 17.96875 6.984375 36.375 \r\nQ 6.984375 53.65625 15.1875 63.9375 \r\nQ 23.390625 74.21875 37.203125 74.21875 \r\nQ 40.921875 74.21875 44.703125 73.484375 \r\nQ 48.484375 72.75 52.59375 71.296875 \r\nz\r\n\" id=\"DejaVuSans-54\"/>\r\n      </defs>\r\n      <g transform=\"translate(276.917572 287.910437)scale(0.1 -0.1)\">\r\n       <use xlink:href=\"#DejaVuSans-54\"/>\r\n       <use x=\"63.623047\" xlink:href=\"#DejaVuSans-48\"/>\r\n      </g>\r\n     </g>\r\n    </g>\r\n    <g id=\"xtick_5\">\r\n     <g id=\"line2d_5\">\r\n      <g>\r\n       <use style=\"stroke:#000000;stroke-width:0.8;\" x=\"345.828781\" xlink:href=\"#m6720fb7050\" y=\"273.312\"/>\r\n      </g>\r\n     </g>\r\n     <g id=\"text_5\">\r\n      <!-- 80 -->\r\n      <defs>\r\n       <path d=\"M 31.78125 34.625 \r\nQ 24.75 34.625 20.71875 30.859375 \r\nQ 16.703125 27.09375 16.703125 20.515625 \r\nQ 16.703125 13.921875 20.71875 10.15625 \r\nQ 24.75 6.390625 31.78125 6.390625 \r\nQ 38.8125 6.390625 42.859375 10.171875 \r\nQ 46.921875 13.96875 46.921875 20.515625 \r\nQ 46.921875 27.09375 42.890625 30.859375 \r\nQ 38.875 34.625 31.78125 34.625 \r\nz\r\nM 21.921875 38.8125 \r\nQ 15.578125 40.375 12.03125 44.71875 \r\nQ 8.5 49.078125 8.5 55.328125 \r\nQ 8.5 64.0625 14.71875 69.140625 \r\nQ 20.953125 74.21875 31.78125 74.21875 \r\nQ 42.671875 74.21875 48.875 69.140625 \r\nQ 55.078125 64.0625 55.078125 55.328125 \r\nQ 55.078125 49.078125 51.53125 44.71875 \r\nQ 48 40.375 41.703125 38.8125 \r\nQ 48.828125 37.15625 52.796875 32.3125 \r\nQ 56.78125 27.484375 56.78125 20.515625 \r\nQ 56.78125 9.90625 50.3125 4.234375 \r\nQ 43.84375 -1.421875 31.78125 -1.421875 \r\nQ 19.734375 -1.421875 13.25 4.234375 \r\nQ 6.78125 9.90625 6.78125 20.515625 \r\nQ 6.78125 27.484375 10.78125 32.3125 \r\nQ 14.796875 37.15625 21.921875 38.8125 \r\nz\r\nM 18.3125 54.390625 \r\nQ 18.3125 48.734375 21.84375 45.5625 \r\nQ 25.390625 42.390625 31.78125 42.390625 \r\nQ 38.140625 42.390625 41.71875 45.5625 \r\nQ 45.3125 48.734375 45.3125 54.390625 \r\nQ 45.3125 60.0625 41.71875 63.234375 \r\nQ 38.140625 66.40625 31.78125 66.40625 \r\nQ 25.390625 66.40625 21.84375 63.234375 \r\nQ 18.3125 60.0625 18.3125 54.390625 \r\nz\r\n\" id=\"DejaVuSans-56\"/>\r\n      </defs>\r\n      <g transform=\"translate(339.466281 287.910437)scale(0.1 -0.1)\">\r\n       <use xlink:href=\"#DejaVuSans-56\"/>\r\n       <use x=\"63.623047\" xlink:href=\"#DejaVuSans-48\"/>\r\n      </g>\r\n     </g>\r\n    </g>\r\n    <g id=\"text_6\">\r\n     <!-- Age_Predict -->\r\n     <defs>\r\n      <path d=\"M 34.1875 63.1875 \r\nL 20.796875 26.90625 \r\nL 47.609375 26.90625 \r\nz\r\nM 28.609375 72.90625 \r\nL 39.796875 72.90625 \r\nL 67.578125 0 \r\nL 57.328125 0 \r\nL 50.6875 18.703125 \r\nL 17.828125 18.703125 \r\nL 11.1875 0 \r\nL 0.78125 0 \r\nz\r\n\" id=\"DejaVuSans-65\"/>\r\n      <path d=\"M 45.40625 27.984375 \r\nQ 45.40625 37.75 41.375 43.109375 \r\nQ 37.359375 48.484375 30.078125 48.484375 \r\nQ 22.859375 48.484375 18.828125 43.109375 \r\nQ 14.796875 37.75 14.796875 27.984375 \r\nQ 14.796875 18.265625 18.828125 12.890625 \r\nQ 22.859375 7.515625 30.078125 7.515625 \r\nQ 37.359375 7.515625 41.375 12.890625 \r\nQ 45.40625 18.265625 45.40625 27.984375 \r\nz\r\nM 54.390625 6.78125 \r\nQ 54.390625 -7.171875 48.1875 -13.984375 \r\nQ 42 -20.796875 29.203125 -20.796875 \r\nQ 24.46875 -20.796875 20.265625 -20.09375 \r\nQ 16.0625 -19.390625 12.109375 -17.921875 \r\nL 12.109375 -9.1875 \r\nQ 16.0625 -11.328125 19.921875 -12.34375 \r\nQ 23.78125 -13.375 27.78125 -13.375 \r\nQ 36.625 -13.375 41.015625 -8.765625 \r\nQ 45.40625 -4.15625 45.40625 5.171875 \r\nL 45.40625 9.625 \r\nQ 42.625 4.78125 38.28125 2.390625 \r\nQ 33.9375 0 27.875 0 \r\nQ 17.828125 0 11.671875 7.65625 \r\nQ 5.515625 15.328125 5.515625 27.984375 \r\nQ 5.515625 40.671875 11.671875 48.328125 \r\nQ 17.828125 56 27.875 56 \r\nQ 33.9375 56 38.28125 53.609375 \r\nQ 42.625 51.21875 45.40625 46.390625 \r\nL 45.40625 54.6875 \r\nL 54.390625 54.6875 \r\nz\r\n\" id=\"DejaVuSans-103\"/>\r\n      <path d=\"M 56.203125 29.59375 \r\nL 56.203125 25.203125 \r\nL 14.890625 25.203125 \r\nQ 15.484375 15.921875 20.484375 11.0625 \r\nQ 25.484375 6.203125 34.421875 6.203125 \r\nQ 39.59375 6.203125 44.453125 7.46875 \r\nQ 49.3125 8.734375 54.109375 11.28125 \r\nL 54.109375 2.78125 \r\nQ 49.265625 0.734375 44.1875 -0.34375 \r\nQ 39.109375 -1.421875 33.890625 -1.421875 \r\nQ 20.796875 -1.421875 13.15625 6.1875 \r\nQ 5.515625 13.8125 5.515625 26.8125 \r\nQ 5.515625 40.234375 12.765625 48.109375 \r\nQ 20.015625 56 32.328125 56 \r\nQ 43.359375 56 49.78125 48.890625 \r\nQ 56.203125 41.796875 56.203125 29.59375 \r\nz\r\nM 47.21875 32.234375 \r\nQ 47.125 39.59375 43.09375 43.984375 \r\nQ 39.0625 48.390625 32.421875 48.390625 \r\nQ 24.90625 48.390625 20.390625 44.140625 \r\nQ 15.875 39.890625 15.1875 32.171875 \r\nz\r\n\" id=\"DejaVuSans-101\"/>\r\n      <path d=\"M 50.984375 -16.609375 \r\nL 50.984375 -23.578125 \r\nL -0.984375 -23.578125 \r\nL -0.984375 -16.609375 \r\nz\r\n\" id=\"DejaVuSans-95\"/>\r\n      <path d=\"M 19.671875 64.796875 \r\nL 19.671875 37.40625 \r\nL 32.078125 37.40625 \r\nQ 38.96875 37.40625 42.71875 40.96875 \r\nQ 46.484375 44.53125 46.484375 51.125 \r\nQ 46.484375 57.671875 42.71875 61.234375 \r\nQ 38.96875 64.796875 32.078125 64.796875 \r\nz\r\nM 9.8125 72.90625 \r\nL 32.078125 72.90625 \r\nQ 44.34375 72.90625 50.609375 67.359375 \r\nQ 56.890625 61.8125 56.890625 51.125 \r\nQ 56.890625 40.328125 50.609375 34.8125 \r\nQ 44.34375 29.296875 32.078125 29.296875 \r\nL 19.671875 29.296875 \r\nL 19.671875 0 \r\nL 9.8125 0 \r\nz\r\n\" id=\"DejaVuSans-80\"/>\r\n      <path d=\"M 41.109375 46.296875 \r\nQ 39.59375 47.171875 37.8125 47.578125 \r\nQ 36.03125 48 33.890625 48 \r\nQ 26.265625 48 22.1875 43.046875 \r\nQ 18.109375 38.09375 18.109375 28.8125 \r\nL 18.109375 0 \r\nL 9.078125 0 \r\nL 9.078125 54.6875 \r\nL 18.109375 54.6875 \r\nL 18.109375 46.1875 \r\nQ 20.953125 51.171875 25.484375 53.578125 \r\nQ 30.03125 56 36.53125 56 \r\nQ 37.453125 56 38.578125 55.875 \r\nQ 39.703125 55.765625 41.0625 55.515625 \r\nz\r\n\" id=\"DejaVuSans-114\"/>\r\n      <path d=\"M 45.40625 46.390625 \r\nL 45.40625 75.984375 \r\nL 54.390625 75.984375 \r\nL 54.390625 0 \r\nL 45.40625 0 \r\nL 45.40625 8.203125 \r\nQ 42.578125 3.328125 38.25 0.953125 \r\nQ 33.9375 -1.421875 27.875 -1.421875 \r\nQ 17.96875 -1.421875 11.734375 6.484375 \r\nQ 5.515625 14.40625 5.515625 27.296875 \r\nQ 5.515625 40.1875 11.734375 48.09375 \r\nQ 17.96875 56 27.875 56 \r\nQ 33.9375 56 38.25 53.625 \r\nQ 42.578125 51.265625 45.40625 46.390625 \r\nz\r\nM 14.796875 27.296875 \r\nQ 14.796875 17.390625 18.875 11.75 \r\nQ 22.953125 6.109375 30.078125 6.109375 \r\nQ 37.203125 6.109375 41.296875 11.75 \r\nQ 45.40625 17.390625 45.40625 27.296875 \r\nQ 45.40625 37.203125 41.296875 42.84375 \r\nQ 37.203125 48.484375 30.078125 48.484375 \r\nQ 22.953125 48.484375 18.875 42.84375 \r\nQ 14.796875 37.203125 14.796875 27.296875 \r\nz\r\n\" id=\"DejaVuSans-100\"/>\r\n      <path d=\"M 9.421875 54.6875 \r\nL 18.40625 54.6875 \r\nL 18.40625 0 \r\nL 9.421875 0 \r\nz\r\nM 9.421875 75.984375 \r\nL 18.40625 75.984375 \r\nL 18.40625 64.59375 \r\nL 9.421875 64.59375 \r\nz\r\n\" id=\"DejaVuSans-105\"/>\r\n      <path d=\"M 48.78125 52.59375 \r\nL 48.78125 44.1875 \r\nQ 44.96875 46.296875 41.140625 47.34375 \r\nQ 37.3125 48.390625 33.40625 48.390625 \r\nQ 24.65625 48.390625 19.8125 42.84375 \r\nQ 14.984375 37.3125 14.984375 27.296875 \r\nQ 14.984375 17.28125 19.8125 11.734375 \r\nQ 24.65625 6.203125 33.40625 6.203125 \r\nQ 37.3125 6.203125 41.140625 7.25 \r\nQ 44.96875 8.296875 48.78125 10.40625 \r\nL 48.78125 2.09375 \r\nQ 45.015625 0.34375 40.984375 -0.53125 \r\nQ 36.96875 -1.421875 32.421875 -1.421875 \r\nQ 20.0625 -1.421875 12.78125 6.34375 \r\nQ 5.515625 14.109375 5.515625 27.296875 \r\nQ 5.515625 40.671875 12.859375 48.328125 \r\nQ 20.21875 56 33.015625 56 \r\nQ 37.15625 56 41.109375 55.140625 \r\nQ 45.0625 54.296875 48.78125 52.59375 \r\nz\r\n\" id=\"DejaVuSans-99\"/>\r\n      <path d=\"M 18.3125 70.21875 \r\nL 18.3125 54.6875 \r\nL 36.8125 54.6875 \r\nL 36.8125 47.703125 \r\nL 18.3125 47.703125 \r\nL 18.3125 18.015625 \r\nQ 18.3125 11.328125 20.140625 9.421875 \r\nQ 21.96875 7.515625 27.59375 7.515625 \r\nL 36.8125 7.515625 \r\nL 36.8125 0 \r\nL 27.59375 0 \r\nQ 17.1875 0 13.234375 3.875 \r\nQ 9.28125 7.765625 9.28125 18.015625 \r\nL 9.28125 47.703125 \r\nL 2.6875 47.703125 \r\nL 2.6875 54.6875 \r\nL 9.28125 54.6875 \r\nL 9.28125 70.21875 \r\nz\r\n\" id=\"DejaVuSans-116\"/>\r\n     </defs>\r\n     <g transform=\"translate(191.799844 301.588562)scale(0.1 -0.1)\">\r\n      <use xlink:href=\"#DejaVuSans-65\"/>\r\n      <use x=\"68.408203\" xlink:href=\"#DejaVuSans-103\"/>\r\n      <use x=\"131.884766\" xlink:href=\"#DejaVuSans-101\"/>\r\n      <use x=\"193.408203\" xlink:href=\"#DejaVuSans-95\"/>\r\n      <use x=\"243.408203\" xlink:href=\"#DejaVuSans-80\"/>\r\n      <use x=\"303.695312\" xlink:href=\"#DejaVuSans-114\"/>\r\n      <use x=\"344.777344\" xlink:href=\"#DejaVuSans-101\"/>\r\n      <use x=\"406.300781\" xlink:href=\"#DejaVuSans-100\"/>\r\n      <use x=\"469.777344\" xlink:href=\"#DejaVuSans-105\"/>\r\n      <use x=\"497.560547\" xlink:href=\"#DejaVuSans-99\"/>\r\n      <use x=\"552.541016\" xlink:href=\"#DejaVuSans-116\"/>\r\n     </g>\r\n    </g>\r\n   </g>\r\n   <g id=\"matplotlib.axis_2\">\r\n    <g id=\"ytick_1\">\r\n     <g id=\"line2d_6\">\r\n      <defs>\r\n       <path d=\"M 0 0 \r\nL -3.5 0 \r\n\" id=\"mcccc39d7e3\" style=\"stroke:#000000;stroke-width:0.8;\"/>\r\n      </defs>\r\n      <g>\r\n       <use style=\"stroke:#000000;stroke-width:0.8;\" x=\"42.828125\" xlink:href=\"#mcccc39d7e3\" y=\"273.312\"/>\r\n      </g>\r\n     </g>\r\n     <g id=\"text_7\">\r\n      <!-- 0.000 -->\r\n      <defs>\r\n       <path d=\"M 10.6875 12.40625 \r\nL 21 12.40625 \r\nL 21 0 \r\nL 10.6875 0 \r\nz\r\n\" id=\"DejaVuSans-46\"/>\r\n      </defs>\r\n      <g transform=\"translate(7.2 277.111219)scale(0.1 -0.1)\">\r\n       <use xlink:href=\"#DejaVuSans-48\"/>\r\n       <use x=\"63.623047\" xlink:href=\"#DejaVuSans-46\"/>\r\n       <use x=\"95.410156\" xlink:href=\"#DejaVuSans-48\"/>\r\n       <use x=\"159.033203\" xlink:href=\"#DejaVuSans-48\"/>\r\n       <use x=\"222.65625\" xlink:href=\"#DejaVuSans-48\"/>\r\n      </g>\r\n     </g>\r\n    </g>\r\n    <g id=\"ytick_2\">\r\n     <g id=\"line2d_7\">\r\n      <g>\r\n       <use style=\"stroke:#000000;stroke-width:0.8;\" x=\"42.828125\" xlink:href=\"#mcccc39d7e3\" y=\"226.545647\"/>\r\n      </g>\r\n     </g>\r\n     <g id=\"text_8\">\r\n      <!-- 0.005 -->\r\n      <defs>\r\n       <path d=\"M 10.796875 72.90625 \r\nL 49.515625 72.90625 \r\nL 49.515625 64.59375 \r\nL 19.828125 64.59375 \r\nL 19.828125 46.734375 \r\nQ 21.96875 47.46875 24.109375 47.828125 \r\nQ 26.265625 48.1875 28.421875 48.1875 \r\nQ 40.625 48.1875 47.75 41.5 \r\nQ 54.890625 34.8125 54.890625 23.390625 \r\nQ 54.890625 11.625 47.5625 5.09375 \r\nQ 40.234375 -1.421875 26.90625 -1.421875 \r\nQ 22.3125 -1.421875 17.546875 -0.640625 \r\nQ 12.796875 0.140625 7.71875 1.703125 \r\nL 7.71875 11.625 \r\nQ 12.109375 9.234375 16.796875 8.0625 \r\nQ 21.484375 6.890625 26.703125 6.890625 \r\nQ 35.15625 6.890625 40.078125 11.328125 \r\nQ 45.015625 15.765625 45.015625 23.390625 \r\nQ 45.015625 31 40.078125 35.4375 \r\nQ 35.15625 39.890625 26.703125 39.890625 \r\nQ 22.75 39.890625 18.8125 39.015625 \r\nQ 14.890625 38.140625 10.796875 36.28125 \r\nz\r\n\" id=\"DejaVuSans-53\"/>\r\n      </defs>\r\n      <g transform=\"translate(7.2 230.344866)scale(0.1 -0.1)\">\r\n       <use xlink:href=\"#DejaVuSans-48\"/>\r\n       <use x=\"63.623047\" xlink:href=\"#DejaVuSans-46\"/>\r\n       <use x=\"95.410156\" xlink:href=\"#DejaVuSans-48\"/>\r\n       <use x=\"159.033203\" xlink:href=\"#DejaVuSans-48\"/>\r\n       <use x=\"222.65625\" xlink:href=\"#DejaVuSans-53\"/>\r\n      </g>\r\n     </g>\r\n    </g>\r\n    <g id=\"ytick_3\">\r\n     <g id=\"line2d_8\">\r\n      <g>\r\n       <use style=\"stroke:#000000;stroke-width:0.8;\" x=\"42.828125\" xlink:href=\"#mcccc39d7e3\" y=\"179.779294\"/>\r\n      </g>\r\n     </g>\r\n     <g id=\"text_9\">\r\n      <!-- 0.010 -->\r\n      <defs>\r\n       <path d=\"M 12.40625 8.296875 \r\nL 28.515625 8.296875 \r\nL 28.515625 63.921875 \r\nL 10.984375 60.40625 \r\nL 10.984375 69.390625 \r\nL 28.421875 72.90625 \r\nL 38.28125 72.90625 \r\nL 38.28125 8.296875 \r\nL 54.390625 8.296875 \r\nL 54.390625 0 \r\nL 12.40625 0 \r\nz\r\n\" id=\"DejaVuSans-49\"/>\r\n      </defs>\r\n      <g transform=\"translate(7.2 183.578513)scale(0.1 -0.1)\">\r\n       <use xlink:href=\"#DejaVuSans-48\"/>\r\n       <use x=\"63.623047\" xlink:href=\"#DejaVuSans-46\"/>\r\n       <use x=\"95.410156\" xlink:href=\"#DejaVuSans-48\"/>\r\n       <use x=\"159.033203\" xlink:href=\"#DejaVuSans-49\"/>\r\n       <use x=\"222.65625\" xlink:href=\"#DejaVuSans-48\"/>\r\n      </g>\r\n     </g>\r\n    </g>\r\n    <g id=\"ytick_4\">\r\n     <g id=\"line2d_9\">\r\n      <g>\r\n       <use style=\"stroke:#000000;stroke-width:0.8;\" x=\"42.828125\" xlink:href=\"#mcccc39d7e3\" y=\"133.012941\"/>\r\n      </g>\r\n     </g>\r\n     <g id=\"text_10\">\r\n      <!-- 0.015 -->\r\n      <g transform=\"translate(7.2 136.81216)scale(0.1 -0.1)\">\r\n       <use xlink:href=\"#DejaVuSans-48\"/>\r\n       <use x=\"63.623047\" xlink:href=\"#DejaVuSans-46\"/>\r\n       <use x=\"95.410156\" xlink:href=\"#DejaVuSans-48\"/>\r\n       <use x=\"159.033203\" xlink:href=\"#DejaVuSans-49\"/>\r\n       <use x=\"222.65625\" xlink:href=\"#DejaVuSans-53\"/>\r\n      </g>\r\n     </g>\r\n    </g>\r\n    <g id=\"ytick_5\">\r\n     <g id=\"line2d_10\">\r\n      <g>\r\n       <use style=\"stroke:#000000;stroke-width:0.8;\" x=\"42.828125\" xlink:href=\"#mcccc39d7e3\" y=\"86.246588\"/>\r\n      </g>\r\n     </g>\r\n     <g id=\"text_11\">\r\n      <!-- 0.020 -->\r\n      <g transform=\"translate(7.2 90.045807)scale(0.1 -0.1)\">\r\n       <use xlink:href=\"#DejaVuSans-48\"/>\r\n       <use x=\"63.623047\" xlink:href=\"#DejaVuSans-46\"/>\r\n       <use x=\"95.410156\" xlink:href=\"#DejaVuSans-48\"/>\r\n       <use x=\"159.033203\" xlink:href=\"#DejaVuSans-50\"/>\r\n       <use x=\"222.65625\" xlink:href=\"#DejaVuSans-48\"/>\r\n      </g>\r\n     </g>\r\n    </g>\r\n    <g id=\"ytick_6\">\r\n     <g id=\"line2d_11\">\r\n      <g>\r\n       <use style=\"stroke:#000000;stroke-width:0.8;\" x=\"42.828125\" xlink:href=\"#mcccc39d7e3\" y=\"39.480235\"/>\r\n      </g>\r\n     </g>\r\n     <g id=\"text_12\">\r\n      <!-- 0.025 -->\r\n      <g transform=\"translate(7.2 43.279454)scale(0.1 -0.1)\">\r\n       <use xlink:href=\"#DejaVuSans-48\"/>\r\n       <use x=\"63.623047\" xlink:href=\"#DejaVuSans-46\"/>\r\n       <use x=\"95.410156\" xlink:href=\"#DejaVuSans-48\"/>\r\n       <use x=\"159.033203\" xlink:href=\"#DejaVuSans-50\"/>\r\n       <use x=\"222.65625\" xlink:href=\"#DejaVuSans-53\"/>\r\n      </g>\r\n     </g>\r\n    </g>\r\n   </g>\r\n   <g id=\"line2d_12\">\r\n    <path clip-path=\"url(#p4e3af9aeb8)\" d=\"M 59.060852 273.110538 \r\nL 61.617187 272.94395 \r\nL 64.173522 272.653274 \r\nL 66.729857 272.170985 \r\nL 69.286192 271.405392 \r\nL 71.842527 270.240521 \r\nL 74.398862 268.540809 \r\nL 76.955197 266.161962 \r\nL 79.511532 262.968057 \r\nL 82.067867 258.852924 \r\nL 84.624202 253.761484 \r\nL 87.180537 247.704933 \r\nL 89.736872 240.763366 \r\nL 92.293207 233.071488 \r\nL 94.849542 224.787478 \r\nL 99.962212 206.9414 \r\nL 102.518547 197.451524 \r\nL 105.074882 187.487615 \r\nL 107.631217 176.903095 \r\nL 110.187552 165.560476 \r\nL 112.743887 153.406559 \r\nL 117.856557 127.2363 \r\nL 122.969227 101.231928 \r\nL 125.525562 89.635812 \r\nL 128.081897 79.601594 \r\nL 130.638232 71.361098 \r\nL 133.194567 64.888908 \r\nL 135.750902 59.912811 \r\nL 138.307237 55.980826 \r\nL 143.419907 49.186664 \r\nL 145.976242 45.498623 \r\nL 148.532577 41.363108 \r\nL 156.201582 27.858188 \r\nL 158.757917 24.138552 \r\nL 161.314252 21.425126 \r\nL 163.870587 19.96571 \r\nL 166.426922 19.872 \r\nL 168.983257 21.119759 \r\nL 171.539592 23.575086 \r\nL 174.095927 27.037436 \r\nL 176.652262 31.287638 \r\nL 179.208597 36.129653 \r\nL 181.764932 41.417841 \r\nL 184.321267 47.066252 \r\nL 186.877602 53.041521 \r\nL 189.433937 59.344744 \r\nL 191.990272 65.989418 \r\nL 194.546607 72.981774 \r\nL 199.659277 87.925827 \r\nL 207.328282 111.770649 \r\nL 212.440952 127.475688 \r\nL 214.997287 134.951535 \r\nL 217.553622 142.054091 \r\nL 220.109957 148.714036 \r\nL 222.666293 154.88477 \r\nL 225.222628 160.544784 \r\nL 227.778963 165.698683 \r\nL 230.335298 170.376949 \r\nL 232.891633 174.634406 \r\nL 235.447968 178.547025 \r\nL 240.560638 185.713349 \r\nL 248.229643 196.229407 \r\nL 253.342313 203.769858 \r\nL 263.567653 219.330237 \r\nL 266.123988 222.913215 \r\nL 268.680323 226.252593 \r\nL 271.236658 229.326639 \r\nL 273.792993 232.141088 \r\nL 276.349328 234.7257 \r\nL 281.461998 239.40084 \r\nL 291.687338 248.089159 \r\nL 296.800008 252.336617 \r\nL 301.912678 256.241465 \r\nL 304.469013 257.973629 \r\nL 307.025348 259.5322 \r\nL 309.581683 260.919172 \r\nL 314.694353 263.263993 \r\nL 319.807023 265.242974 \r\nL 324.919693 267.030982 \r\nL 330.032363 268.62563 \r\nL 335.145033 269.923386 \r\nL 340.257703 270.871071 \r\nL 345.370373 271.529656 \r\nL 353.039378 272.224543 \r\nL 363.264718 272.884769 \r\nL 370.933723 273.159446 \r\nL 378.602728 273.250625 \r\nL 383.715398 273.199462 \r\nL 383.715398 273.199462 \r\n\" style=\"fill:none;stroke:#1f77b4;stroke-linecap:square;stroke-width:1.5;\"/>\r\n   </g>\r\n   <g id=\"patch_18\">\r\n    <path d=\"M 42.828125 273.312 \r\nL 42.828125 7.2 \r\n\" style=\"fill:none;stroke:#000000;stroke-linecap:square;stroke-linejoin:miter;stroke-width:0.8;\"/>\r\n   </g>\r\n   <g id=\"patch_19\">\r\n    <path d=\"M 399.948125 273.312 \r\nL 399.948125 7.2 \r\n\" style=\"fill:none;stroke:#000000;stroke-linecap:square;stroke-linejoin:miter;stroke-width:0.8;\"/>\r\n   </g>\r\n   <g id=\"patch_20\">\r\n    <path d=\"M 42.828125 273.312 \r\nL 399.948125 273.312 \r\n\" style=\"fill:none;stroke:#000000;stroke-linecap:square;stroke-linejoin:miter;stroke-width:0.8;\"/>\r\n   </g>\r\n   <g id=\"patch_21\">\r\n    <path d=\"M 42.828125 7.2 \r\nL 399.948125 7.2 \r\n\" style=\"fill:none;stroke:#000000;stroke-linecap:square;stroke-linejoin:miter;stroke-width:0.8;\"/>\r\n   </g>\r\n  </g>\r\n </g>\r\n <defs>\r\n  <clipPath id=\"p4e3af9aeb8\">\r\n   <rect height=\"266.112\" width=\"357.12\" x=\"42.828125\" y=\"7.2\"/>\r\n  </clipPath>\r\n </defs>\r\n</svg>\r\n",
      "text/plain": "<Figure size 640x480 with 1 Axes>"
     },
     "metadata": {},
     "output_type": "display_data"
    }
   ],
   "source": [
    "plt.rcdefaults()\n",
    "\n",
    "ax = sns.distplot(df_modelo3_predict['Age_Predict'], bins = 15)\n",
    "\n",
    "plt.rcParams.update(params)"
   ]
  },
  {
   "cell_type": "code",
   "execution_count": 52,
   "metadata": {},
   "outputs": [
    {
     "name": "stdout",
     "output_type": "stream",
     "text": "<class 'pandas.core.frame.DataFrame'>\nInt64Index: 889 entries, 0 to 890\nData columns (total 14 columns):\nsurvived        889 non-null int64\nsibsp           889 non-null int64\nparch           889 non-null int64\nfe_isadulto     889 non-null int32\nsex_male        889 non-null uint8\nembarked_q      889 non-null uint8\nembarked_s      889 non-null uint8\nfe_fare_1_0     889 non-null uint8\nfe_fare_2_0     889 non-null uint8\nfe_fare_3_0     889 non-null uint8\npclass_2        889 non-null uint8\npclass_3        889 non-null uint8\nisalone_true    889 non-null uint8\nAge_Predict     889 non-null float64\ndtypes: float64(1), int32(1), int64(3), uint8(9)\nmemory usage: 46.0 KB\n"
    }
   ],
   "source": [
    "df_modelo3_predict.drop(columns='age', axis=1,inplace=True)\n",
    "df_modelo3.info()\n",
    "\n",
    "X3 = df_modelo3.iloc[:,1:]\n",
    "y3 = df_modelo2.iloc[:,0]"
   ]
  },
  {
   "cell_type": "code",
   "execution_count": 53,
   "metadata": {},
   "outputs": [
    {
     "name": "stdout",
     "output_type": "stream",
     "text": "Precisão: 0.7142857142857143 Acuracia: 0.8089887640449438 Recall: 0.8333333333333334\nPrevisto      Survived  Not_Survived  Total\nReal                                       \nSurvived           131            34    165\nNot_Survived        17            85    102\nTotal              148           119    267\n"
    }
   ],
   "source": [
    "RM3_balanceado = regressao_logistica(X3, y3, 1)"
   ]
  },
  {
   "cell_type": "code",
   "execution_count": 54,
   "metadata": {},
   "outputs": [
    {
     "name": "stdout",
     "output_type": "stream",
     "text": "Precisão: 0.7578947368421053 Acuracia: 0.8014981273408239 Recall: 0.7058823529411765\nPrevisto      Survived  Not_Survived  Total\nReal                                       \nSurvived           142            23    165\nNot_Survived        30            72    102\nTotal              172            95    267\n"
    }
   ],
   "source": [
    "RM3_nao_balanceado = regressao_logistica(X3, y3, 0)"
   ]
  },
  {
   "cell_type": "markdown",
   "metadata": {},
   "source": [
    "# Modelo 4 - TBD (por enquanto, igual modelo 2)"
   ]
  },
  {
   "cell_type": "code",
   "execution_count": 55,
   "metadata": {},
   "outputs": [],
   "source": [
    "df_modelo4 = df_modelo.drop(columns=['Age', 'FE_GroupAge_1.0','FE_GroupAge_2.0','FE_GroupAge_3.0' ], axis=1)\n",
    "df_modelo4.head()\n",
    "X4 = df_modelo2.iloc[:,1:]\n",
    "y4 = df_modelo2.iloc[:,0]"
   ]
  },
  {
   "cell_type": "code",
   "execution_count": 56,
   "metadata": {},
   "outputs": [
    {
     "name": "stdout",
     "output_type": "stream",
     "text": "Precisão: 0.7024793388429752 Acuracia: 0.8014981273408239 Recall: 0.8333333333333334\nPrevisto      Survived  Not_Survived  Total\nReal                                       \nSurvived           129            36    165\nNot_Survived        17            85    102\nTotal              146           121    267\n"
    }
   ],
   "source": [
    "RM4_balanceado = regressao_logistica(X4, y4, 1)"
   ]
  },
  {
   "cell_type": "code",
   "execution_count": 57,
   "metadata": {},
   "outputs": [
    {
     "name": "stdout",
     "output_type": "stream",
     "text": "Precisão: 0.7835051546391752 Acuracia: 0.8239700374531835 Recall: 0.7450980392156863\nPrevisto      Survived  Not_Survived  Total\nReal                                       \nSurvived           144            21    165\nNot_Survived        26            76    102\nTotal              170            97    267\n"
    }
   ],
   "source": [
    "RM4_nao_balanceado = regressao_logistica(X4, y4, 0)"
   ]
  },
  {
   "cell_type": "markdown",
   "metadata": {},
   "source": [
    "# Comparativo entre todos os modelos"
   ]
  },
  {
   "cell_type": "code",
   "execution_count": 58,
   "metadata": {},
   "outputs": [
    {
     "name": "stdout",
     "output_type": "stream",
     "text": "0.8239700374531835\n0.8164794007490637\n0.8014981273408239\n0.8239700374531835\n0.8089887640449438\n0.8014981273408239\n"
    }
   ],
   "source": [
    "#comparativo de precisão de todoas os modelos (vencedor até o momento: regressão do modelo 1 com oversampling)\n",
    "\n",
    "print(RM1_balanceado[1])\n",
    "print(RM1_nao_balanceado[1])\n",
    "print(RM2_balanceado[1])\n",
    "print(RM2_nao_balanceado[1])\n",
    "print(RM3_balanceado[1])\n",
    "print(RM3_nao_balanceado[1])"
   ]
  },
  {
   "cell_type": "markdown",
   "metadata": {},
   "source": [
    "# Modelo de Predição usando a base completa (sem separar treino e teste)"
   ]
  },
  {
   "cell_type": "code",
   "execution_count": 59,
   "metadata": {},
   "outputs": [],
   "source": [
    "def regressao_logistica_final(X, y, oversampling):\n",
    "  y = le.fit_transform(y)\n",
    "  y = np.ravel(y)\n",
    "  \n",
    "  if oversampling == 1:\n",
    "    sm = SMOTE(random_state=1234)\n",
    "    X, y = sm.fit_sample(X, y)\n",
    "  \n",
    "\n",
    "  logistic_regression = LogisticRegression(solver = 'sag', max_iter = 5000)\n",
    "  log = logistic_regression.fit(X,y)\n",
    "  \n",
    "  return log"
   ]
  },
  {
   "cell_type": "code",
   "execution_count": 60,
   "metadata": {},
   "outputs": [],
   "source": [
    "# fazendo a regressão definitiva usando o Modelo 1 com oversampling\n",
    "RM_definitivo = regressao_logistica_final(X1, y1, 1)"
   ]
  },
  {
   "cell_type": "markdown",
   "metadata": {},
   "source": [
    "# Fazendo os mesmo tratamentos com a base de produção (treino) do Keagle"
   ]
  },
  {
   "cell_type": "code",
   "execution_count": 75,
   "metadata": {},
   "outputs": [
    {
     "data": {
      "text/html": "<div>\n<style scoped>\n    .dataframe tbody tr th:only-of-type {\n        vertical-align: middle;\n    }\n\n    .dataframe tbody tr th {\n        vertical-align: top;\n    }\n\n    .dataframe thead th {\n        text-align: right;\n    }\n</style>\n<table border=\"1\" class=\"dataframe\">\n  <thead>\n    <tr style=\"text-align: right;\">\n      <th></th>\n      <th>PassengerId</th>\n      <th>Pclass</th>\n      <th>Name</th>\n      <th>Sex</th>\n      <th>Age</th>\n      <th>SibSp</th>\n      <th>Parch</th>\n      <th>Ticket</th>\n      <th>Fare</th>\n      <th>Cabin</th>\n      <th>Embarked</th>\n    </tr>\n  </thead>\n  <tbody>\n    <tr>\n      <th>0</th>\n      <td>892</td>\n      <td>3</td>\n      <td>Kelly, Mr. James</td>\n      <td>male</td>\n      <td>34.5</td>\n      <td>0</td>\n      <td>0</td>\n      <td>330911</td>\n      <td>7.8292</td>\n      <td>NaN</td>\n      <td>Q</td>\n    </tr>\n    <tr>\n      <th>1</th>\n      <td>893</td>\n      <td>3</td>\n      <td>Wilkes, Mrs. James (Ellen Needs)</td>\n      <td>female</td>\n      <td>47.0</td>\n      <td>1</td>\n      <td>0</td>\n      <td>363272</td>\n      <td>7.0000</td>\n      <td>NaN</td>\n      <td>S</td>\n    </tr>\n    <tr>\n      <th>2</th>\n      <td>894</td>\n      <td>2</td>\n      <td>Myles, Mr. Thomas Francis</td>\n      <td>male</td>\n      <td>62.0</td>\n      <td>0</td>\n      <td>0</td>\n      <td>240276</td>\n      <td>9.6875</td>\n      <td>NaN</td>\n      <td>Q</td>\n    </tr>\n    <tr>\n      <th>3</th>\n      <td>895</td>\n      <td>3</td>\n      <td>Wirz, Mr. Albert</td>\n      <td>male</td>\n      <td>27.0</td>\n      <td>0</td>\n      <td>0</td>\n      <td>315154</td>\n      <td>8.6625</td>\n      <td>NaN</td>\n      <td>S</td>\n    </tr>\n    <tr>\n      <th>4</th>\n      <td>896</td>\n      <td>3</td>\n      <td>Hirvonen, Mrs. Alexander (Helga E Lindqvist)</td>\n      <td>female</td>\n      <td>22.0</td>\n      <td>1</td>\n      <td>1</td>\n      <td>3101298</td>\n      <td>12.2875</td>\n      <td>NaN</td>\n      <td>S</td>\n    </tr>\n  </tbody>\n</table>\n</div>",
      "text/plain": "   PassengerId  Pclass                                          Name     Sex  \\\n0          892       3                              Kelly, Mr. James    male   \n1          893       3              Wilkes, Mrs. James (Ellen Needs)  female   \n2          894       2                     Myles, Mr. Thomas Francis    male   \n3          895       3                              Wirz, Mr. Albert    male   \n4          896       3  Hirvonen, Mrs. Alexander (Helga E Lindqvist)  female   \n\n    Age  SibSp  Parch   Ticket     Fare Cabin Embarked  \n0  34.5      0      0   330911   7.8292   NaN        Q  \n1  47.0      1      0   363272   7.0000   NaN        S  \n2  62.0      0      0   240276   9.6875   NaN        Q  \n3  27.0      0      0   315154   8.6625   NaN        S  \n4  22.0      1      1  3101298  12.2875   NaN        S  "
     },
     "execution_count": 75,
     "metadata": {},
     "output_type": "execute_result"
    }
   ],
   "source": [
    "df_producao = pd.read_csv(r'test.csv')\n",
    "df_producao.head() "
   ]
  },
  {
   "cell_type": "code",
   "execution_count": 76,
   "metadata": {},
   "outputs": [],
   "source": [
    "##Retira os dois passageiros que nao embarcaram \n",
    "df_producao = df_producao.loc[df_producao['Embarked'].isnull()==False]"
   ]
  },
  {
   "cell_type": "code",
   "execution_count": 77,
   "metadata": {},
   "outputs": [],
   "source": [
    "## Ajusta as idades NaN\n",
    "df_producao['FE_Age'] = np.where(df_producao['Age'].isnull(), 0,df_producao['Age'])\n",
    "\n",
    "##Determina as idades com valores ZERO\n",
    "## FE_AGE ESTA UTILIZANDO A MEDIANA NO CASO DAS IDADES NULAS \n",
    "##Class 1\n",
    "df_producao['FE_Age'] = np.where((df_producao['FE_Age']==0)&(df_producao['Sex']==\"female\")&(df_producao['Pclass']==1), 35, df_producao['FE_Age'])\n",
    "df_producao['FE_Age'] = np.where((df_producao['FE_Age']==0)&(df_producao['Sex']==\"male\")&(df_producao['Pclass']==1), 40 , df_producao['FE_Age'])\n",
    "\n",
    "##Class 2\n",
    "df_producao['FE_Age'] = np.where((df_producao['FE_Age']==0)&(df_producao['Sex']==\"female\")&(df_producao['Pclass']==2),28 , df_producao['FE_Age'])\n",
    "df_producao['FE_Age'] = np.where((df_producao['FE_Age']==0)&(df_producao['Sex']==\"male\")&(df_producao['Pclass']==2),30 , df_producao['FE_Age'])\n",
    "\n",
    "##Class 3\n",
    "df_producao['FE_Age'] = np.where((df_producao['FE_Age']==0)&(df_producao['Sex']==\"female\")&(df_producao['Pclass']==3),21.5 , df_producao['FE_Age'])\n",
    "df_producao['FE_Age'] = np.where((df_producao['FE_Age']==0)&(df_producao['Sex']==\"male\")&(df_producao['Pclass']==3),25 , df_producao['FE_Age'])\n",
    "\n",
    "## Cria agrupamento se o individui é adulto\n",
    "df_producao['FE_IsAdulto'] = np.where(df_producao['Age'] > 18, 1,0)\n"
   ]
  },
  {
   "cell_type": "code",
   "execution_count": 78,
   "metadata": {},
   "outputs": [],
   "source": [
    "##Group_Age 1\n",
    "df_producao.loc [df_producao['FE_Age'] <= 20 ,'FE_GroupAge'] =0\n",
    "##Group_Age 2\n",
    "df_producao.loc [(df_producao['FE_Age'] > 20) & (df_producao['FE_Age'] <=28) , 'FE_GroupAge']=1\n",
    "##Group_Age 3\n",
    "df_producao.loc [(df_producao['FE_Age'] > 28) & (df_producao['FE_Age'] <=38) , 'FE_GroupAge']=2\n",
    "##Group_Age 4\n",
    "df_producao.loc [df_producao['FE_Age'] > 38 ,'FE_GroupAge'] =3\n"
   ]
  },
  {
   "cell_type": "code",
   "execution_count": 79,
   "metadata": {},
   "outputs": [],
   "source": [
    "#Atribui valor a Fare = 0: Base Media de pagamento por classe.\n",
    "\n",
    "##Class 1\n",
    "df_producao['Fare'] = np.where((df_producao['Fare']==0)&(df_producao['Pclass']==1), 61.37, df_producao['Fare'])\n",
    "##Class 2\n",
    "df_producao['Fare'] = np.where((df_producao['Fare']==0)&(df_producao['Pclass']==2),15.02 , df_producao['Fare'])\n",
    "##Class 3\n",
    "df_producao['Fare'] = np.where((df_producao['Fare']==0)&(df_producao['Pclass']==3),8.05 , df_producao['Fare'])"
   ]
  },
  {
   "cell_type": "code",
   "execution_count": 80,
   "metadata": {},
   "outputs": [],
   "source": [
    "##Agrupamento do Fare\n",
    "df_producao.loc [df_producao['Fare'] <= 7.91 ,'FE_Fare'] =0\n",
    "df_producao.loc [(df_producao['Fare'] > 7.91) & (df_producao['Fare'] <=14.49) , 'FE_Fare']=1\n",
    "df_producao.loc [(df_producao['Fare'] > 14.49) & (df_producao['Fare'] <=31.27) , 'FE_Fare']=2\n",
    "df_producao.loc [df_producao['Fare'] > 31.27 ,'FE_Fare'] =3"
   ]
  },
  {
   "cell_type": "code",
   "execution_count": 81,
   "metadata": {},
   "outputs": [],
   "source": [
    "df_producao['FE_AreaCabin'] = df_producao[\"Cabin\"].str.slice(0,1)\n",
    "df_producao['FE_AreaCabin'] = np.where(df_producao['FE_AreaCabin'].isnull()==True, \"0\", df_producao['FE_AreaCabin'])"
   ]
  },
  {
   "cell_type": "code",
   "execution_count": 82,
   "metadata": {},
   "outputs": [],
   "source": [
    "df_producao['IsAlone'] = np.where((df_producao['Parch']==0)&(df_producao['SibSp']==0),True , False)"
   ]
  },
  {
   "cell_type": "markdown",
   "metadata": {},
   "source": [
    "# Criando a predição para a base de produção"
   ]
  },
  {
   "cell_type": "code",
   "execution_count": 83,
   "metadata": {},
   "outputs": [],
   "source": [
    "df_producao_predict = pd.concat([df_producao, pd.get_dummies(df_producao['Sex'].astype(object), prefix='Sex', drop_first=True)], axis=1)\n",
    "df_producao_predict = pd.concat([df_producao_predict, pd.get_dummies(df_producao_predict['Embarked'].astype(object), prefix='Embarked', drop_first=True)], axis=1)\n",
    "df_producao_predict = pd.concat([df_producao_predict, pd.get_dummies(df_producao_predict['FE_GroupAge'].astype(object), prefix='FE_GroupAge', drop_first=True)], axis=1)\n",
    "df_producao_predict = pd.concat([df_producao_predict, pd.get_dummies(df_producao_predict['FE_Fare'].astype(object), prefix='FE_Fare', drop_first=True)], axis=1)\n",
    "df_producao_predict = pd.concat([df_producao_predict, pd.get_dummies(df_producao_predict['Pclass'].astype(object), prefix='Pclass', drop_first=True)], axis=1)\n",
    "df_producao_predict = pd.concat([df_producao_predict, pd.get_dummies(df_producao_predict['IsAlone'].astype(object), prefix='IsAlone', drop_first=True)], axis=1)"
   ]
  },
  {
   "cell_type": "code",
   "execution_count": 90,
   "metadata": {},
   "outputs": [
    {
     "data": {
      "text/html": "<div>\n<style scoped>\n    .dataframe tbody tr th:only-of-type {\n        vertical-align: middle;\n    }\n\n    .dataframe tbody tr th {\n        vertical-align: top;\n    }\n\n    .dataframe thead th {\n        text-align: right;\n    }\n</style>\n<table border=\"1\" class=\"dataframe\">\n  <thead>\n    <tr style=\"text-align: right;\">\n      <th></th>\n      <th>PassengerId</th>\n      <th>SibSp</th>\n      <th>Parch</th>\n      <th>FE_IsAdulto</th>\n      <th>Sex_male</th>\n      <th>Embarked_Q</th>\n      <th>Embarked_S</th>\n      <th>FE_GroupAge_1.0</th>\n      <th>FE_GroupAge_2.0</th>\n      <th>FE_GroupAge_3.0</th>\n      <th>FE_Fare_1.0</th>\n      <th>FE_Fare_2.0</th>\n      <th>FE_Fare_3.0</th>\n      <th>Pclass_2</th>\n      <th>Pclass_3</th>\n      <th>IsAlone_True</th>\n    </tr>\n  </thead>\n  <tbody>\n    <tr>\n      <th>0</th>\n      <td>892</td>\n      <td>0</td>\n      <td>0</td>\n      <td>1</td>\n      <td>1</td>\n      <td>1</td>\n      <td>0</td>\n      <td>0</td>\n      <td>1</td>\n      <td>0</td>\n      <td>0</td>\n      <td>0</td>\n      <td>0</td>\n      <td>0</td>\n      <td>1</td>\n      <td>1</td>\n    </tr>\n    <tr>\n      <th>1</th>\n      <td>893</td>\n      <td>1</td>\n      <td>0</td>\n      <td>1</td>\n      <td>0</td>\n      <td>0</td>\n      <td>1</td>\n      <td>0</td>\n      <td>0</td>\n      <td>1</td>\n      <td>0</td>\n      <td>0</td>\n      <td>0</td>\n      <td>0</td>\n      <td>1</td>\n      <td>0</td>\n    </tr>\n    <tr>\n      <th>2</th>\n      <td>894</td>\n      <td>0</td>\n      <td>0</td>\n      <td>1</td>\n      <td>1</td>\n      <td>1</td>\n      <td>0</td>\n      <td>0</td>\n      <td>0</td>\n      <td>1</td>\n      <td>1</td>\n      <td>0</td>\n      <td>0</td>\n      <td>1</td>\n      <td>0</td>\n      <td>1</td>\n    </tr>\n    <tr>\n      <th>3</th>\n      <td>895</td>\n      <td>0</td>\n      <td>0</td>\n      <td>1</td>\n      <td>1</td>\n      <td>0</td>\n      <td>1</td>\n      <td>1</td>\n      <td>0</td>\n      <td>0</td>\n      <td>1</td>\n      <td>0</td>\n      <td>0</td>\n      <td>0</td>\n      <td>1</td>\n      <td>1</td>\n    </tr>\n    <tr>\n      <th>4</th>\n      <td>896</td>\n      <td>1</td>\n      <td>1</td>\n      <td>1</td>\n      <td>0</td>\n      <td>0</td>\n      <td>1</td>\n      <td>1</td>\n      <td>0</td>\n      <td>0</td>\n      <td>1</td>\n      <td>0</td>\n      <td>0</td>\n      <td>0</td>\n      <td>1</td>\n      <td>0</td>\n    </tr>\n  </tbody>\n</table>\n</div>",
      "text/plain": "   PassengerId  SibSp  Parch  FE_IsAdulto  Sex_male  Embarked_Q  Embarked_S  \\\n0          892      0      0            1         1           1           0   \n1          893      1      0            1         0           0           1   \n2          894      0      0            1         1           1           0   \n3          895      0      0            1         1           0           1   \n4          896      1      1            1         0           0           1   \n\n   FE_GroupAge_1.0  FE_GroupAge_2.0  FE_GroupAge_3.0  FE_Fare_1.0  \\\n0                0                1                0            0   \n1                0                0                1            0   \n2                0                0                1            1   \n3                1                0                0            1   \n4                1                0                0            1   \n\n   FE_Fare_2.0  FE_Fare_3.0  Pclass_2  Pclass_3  IsAlone_True  \n0            0            0         0         1             1  \n1            0            0         0         1             0  \n2            0            0         1         0             1  \n3            0            0         0         1             1  \n4            0            0         0         1             0  "
     },
     "execution_count": 90,
     "metadata": {},
     "output_type": "execute_result"
    }
   ],
   "source": [
    "df_producao_predict = df_producao_predict.drop(columns = ['Name','Sex','Ticket', 'Fare', 'Cabin', 'Embarked', 'FE_AreaCabin', 'FE_GroupAge', 'FE_Fare', \"Pclass\",'IsAlone', 'Age', 'FE_Age'],axis = 1)\n",
    "df_producao_predict.head()"
   ]
  },
  {
   "cell_type": "code",
   "execution_count": 91,
   "metadata": {},
   "outputs": [
    {
     "name": "stdout",
     "output_type": "stream",
     "text": "<class 'pandas.core.frame.DataFrame'>\nInt64Index: 418 entries, 0 to 417\nData columns (total 16 columns):\nPassengerId        418 non-null int64\nSibSp              418 non-null int64\nParch              418 non-null int64\nFE_IsAdulto        418 non-null int32\nSex_male           418 non-null uint8\nEmbarked_Q         418 non-null uint8\nEmbarked_S         418 non-null uint8\nFE_GroupAge_1.0    418 non-null uint8\nFE_GroupAge_2.0    418 non-null uint8\nFE_GroupAge_3.0    418 non-null uint8\nFE_Fare_1.0        418 non-null uint8\nFE_Fare_2.0        418 non-null uint8\nFE_Fare_3.0        418 non-null uint8\nPclass_2           418 non-null uint8\nPclass_3           418 non-null uint8\nIsAlone_True       418 non-null uint8\ndtypes: int32(1), int64(3), uint8(12)\nmemory usage: 19.6 KB\n"
    }
   ],
   "source": [
    "df_producao_predict.info()"
   ]
  },
  {
   "cell_type": "code",
   "execution_count": 92,
   "metadata": {},
   "outputs": [
    {
     "name": "stdout",
     "output_type": "stream",
     "text": "<class 'pandas.core.frame.DataFrame'>\nInt64Index: 889 entries, 0 to 890\nData columns (total 16 columns):\nSurvived           889 non-null int64\nSibSp              889 non-null int64\nParch              889 non-null int64\nFE_IsAdulto        889 non-null int32\nSex_male           889 non-null uint8\nEmbarked_Q         889 non-null uint8\nEmbarked_S         889 non-null uint8\nFE_GroupAge_1.0    889 non-null uint8\nFE_GroupAge_2.0    889 non-null uint8\nFE_GroupAge_3.0    889 non-null uint8\nFE_Fare_1.0        889 non-null uint8\nFE_Fare_2.0        889 non-null uint8\nFE_Fare_3.0        889 non-null uint8\nPclass_2           889 non-null uint8\nPclass_3           889 non-null uint8\nIsAlone_True       889 non-null uint8\ndtypes: int32(1), int64(3), uint8(12)\nmemory usage: 41.7 KB\n"
    }
   ],
   "source": [
    "df_modelo1.info()"
   ]
  },
  {
   "cell_type": "code",
   "execution_count": 93,
   "metadata": {},
   "outputs": [
    {
     "data": {
      "text/plain": "array([0, 0, 0, 0, 1, 0, 1, 0, 1, 0, 0, 0, 1, 0, 1, 1, 0, 0, 1, 1, 0, 0,\n       1, 1, 1, 0, 1, 0, 0, 0, 0, 0, 1, 1, 1, 0, 1, 1, 0, 0, 0, 0, 0, 1,\n       1, 0, 0, 0, 1, 1, 1, 0, 1, 1, 1, 0, 0, 0, 0, 1, 0, 0, 0, 1, 1, 1,\n       1, 0, 1, 1, 1, 0, 1, 1, 1, 1, 0, 1, 0, 1, 0, 0, 0, 0, 0, 0, 1, 1,\n       1, 0, 1, 0, 1, 0, 1, 0, 1, 0, 1, 0, 1, 0, 0, 0, 1, 0, 0, 0, 0, 0,\n       0, 1, 1, 1, 1, 0, 0, 1, 1, 1, 1, 0, 1, 0, 0, 1, 0, 1, 0, 0, 0, 0,\n       1, 0, 0, 0, 0, 0, 1, 0, 0, 1, 0, 0, 0, 0, 0, 0, 0, 0, 1, 0, 0, 1,\n       0, 0, 1, 1, 0, 1, 1, 0, 1, 0, 0, 1, 0, 0, 1, 1, 0, 0, 0, 0, 0, 1,\n       1, 0, 1, 1, 0, 1, 1, 0, 1, 0, 1, 0, 0, 0, 0, 0, 0, 0, 1, 0, 1, 1,\n       0, 1, 1, 0, 0, 1, 0, 1, 1, 0, 1, 0, 0, 0, 1, 1, 0, 0, 1, 0, 1, 0,\n       1, 0, 1, 0, 1, 1, 0, 1, 0, 0, 1, 1, 0, 0, 0, 0, 0, 0, 1, 1, 1, 1,\n       0, 0, 0, 0, 1, 0, 1, 1, 1, 0, 1, 0, 0, 0, 0, 0, 1, 0, 0, 0, 1, 1,\n       0, 0, 0, 0, 1, 0, 0, 0, 1, 1, 0, 1, 0, 0, 0, 0, 1, 0, 1, 1, 1, 0,\n       0, 1, 0, 0, 0, 1, 0, 0, 0, 0, 1, 0, 1, 0, 0, 1, 0, 0, 1, 1, 0, 0,\n       0, 0, 0, 0, 0, 1, 1, 1, 0, 0, 0, 0, 0, 0, 0, 1, 1, 0, 1, 0, 0, 0,\n       1, 0, 0, 1, 0, 1, 0, 0, 0, 0, 0, 0, 0, 1, 0, 1, 0, 1, 0, 1, 1, 0,\n       1, 0, 1, 0, 1, 0, 0, 1, 0, 1, 1, 0, 1, 0, 0, 1, 1, 0, 0, 1, 0, 0,\n       1, 1, 0, 0, 0, 0, 0, 0, 1, 1, 0, 1, 0, 0, 0, 0, 1, 1, 0, 0, 0, 1,\n       0, 1, 0, 0, 1, 0, 1, 1, 0, 0, 0, 0, 1, 1, 1, 1, 1, 0, 1, 0, 0, 0])"
     },
     "execution_count": 93,
     "metadata": {},
     "output_type": "execute_result"
    }
   ],
   "source": [
    "PassengerId = df_producao_predict['PassengerId']\n",
    "x_producao_predict = df_producao_predict.iloc[:,1:]\n",
    "Predito = RM_definitivo.predict(x_producao_predict)\n",
    "Predito"
   ]
  },
  {
   "cell_type": "markdown",
   "metadata": {},
   "source": [
    "# Exportando a base em csv"
   ]
  },
  {
   "cell_type": "code",
   "execution_count": 94,
   "metadata": {},
   "outputs": [],
   "source": [
    "# Define função para gerar o arquivo para exportar\n",
    "def ExportaArquivo(PassengerId , Predito):\n",
    "    np.ravel(PassengerId)\n",
    "    np.ravel(Predito)\n",
    "    PassengerId_Series = pd.Series(PassengerId)\n",
    "    Predito_Series = pd.Series(Predito)\n",
    "    result = pd.DataFrame({ 'PassengerId' : PassengerId_Series, 'Survived' : Predito_Series })\n",
    "    result.to_csv(r'submeter.csv',index=False)"
   ]
  },
  {
   "cell_type": "code",
   "execution_count": 95,
   "metadata": {},
   "outputs": [],
   "source": [
    "ExportaArquivo(PassengerId,Predito)"
   ]
  },
  {
   "cell_type": "code",
   "execution_count": null,
   "metadata": {},
   "outputs": [],
   "source": []
  }
 ],
 "metadata": {
  "colab": {
   "collapsed_sections": [
    "QP1SqYq1OUkH",
    "ZxsXn6dKSiv8"
   ],
   "name": "Desafio2.ipynb",
   "provenance": [],
   "toc_visible": true
  },
  "kernelspec": {
   "display_name": "Python 3",
   "language": "python",
   "name": "python3"
  },
  "language_info": {
   "codemirror_mode": {
    "name": "ipython",
    "version": 3
   },
   "file_extension": ".py",
   "mimetype": "text/x-python",
   "name": "python",
   "nbconvert_exporter": "python",
   "pygments_lexer": "ipython3",
   "version": "3.7.4"
  }
 },
 "nbformat": 4,
 "nbformat_minor": 1
}